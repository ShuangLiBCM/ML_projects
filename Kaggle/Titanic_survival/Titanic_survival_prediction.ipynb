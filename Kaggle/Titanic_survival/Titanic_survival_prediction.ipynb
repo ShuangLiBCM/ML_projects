{
 "cells": [
  {
   "cell_type": "code",
   "execution_count": 1,
   "metadata": {
    "collapsed": false,
    "deletable": true,
    "editable": true
   },
   "outputs": [],
   "source": [
    "import numpy as np # linear algebra\n",
    "import pandas as pd # data processing, CSV file I/O (e.g. pd.read_csv)\n",
    "import sklearn\n",
    "\n",
    "import matplotlib.pyplot as plt\n",
    "% matplotlib inline\n",
    "\n",
    "from collections import Counter\n",
    "from imblearn.over_sampling import SMOTE\n",
    "from imblearn.combine import SMOTEENN\n",
    "\n",
    "from sklearn.metrics import accuracy_score\n",
    "from sklearn.metrics import f1_score\n",
    "\n",
    "import warnings; warnings.simplefilter('ignore')\n",
    "from sklearn.model_selection import GridSearchCV\n",
    "\n",
    "from xgboost import XGBClassifier\n",
    "import xgboost as xgb\n",
    "from xgboost import plot_importance\n",
    "\n",
    "from sklearn import cross_validation\n",
    "\n",
    "from sklearn import metrics\n",
    "# Any results you write to the current directory are saved as output."
   ]
  },
  {
   "cell_type": "code",
   "execution_count": 2,
   "metadata": {
    "collapsed": false,
    "deletable": true,
    "editable": true
   },
   "outputs": [
    {
     "name": "stdout",
     "output_type": "stream",
     "text": [
      "<class 'pandas.core.frame.DataFrame'>\n",
      "RangeIndex: 891 entries, 0 to 890\n",
      "Data columns (total 12 columns):\n",
      "PassengerId    891 non-null int64\n",
      "Survived       891 non-null int64\n",
      "Pclass         891 non-null int64\n",
      "Name           891 non-null object\n",
      "Sex            891 non-null object\n",
      "Age            714 non-null float64\n",
      "SibSp          891 non-null int64\n",
      "Parch          891 non-null int64\n",
      "Ticket         891 non-null object\n",
      "Fare           891 non-null float64\n",
      "Cabin          204 non-null object\n",
      "Embarked       889 non-null object\n",
      "dtypes: float64(2), int64(5), object(5)\n",
      "memory usage: 83.6+ KB\n"
     ]
    }
   ],
   "source": [
    "train_data = pd.read_csv('train.csv')\n",
    "train_data.info()"
   ]
  },
  {
   "cell_type": "code",
   "execution_count": 3,
   "metadata": {
    "collapsed": false,
    "deletable": true,
    "editable": true
   },
   "outputs": [
    {
     "data": {
      "text/plain": [
       "0    549\n",
       "1    342\n",
       "Name: Survived, dtype: int64"
      ]
     },
     "execution_count": 3,
     "metadata": {},
     "output_type": "execute_result"
    }
   ],
   "source": [
    "# Number of outcome classes\n",
    "train_data['Survived'].value_counts()"
   ]
  },
  {
   "cell_type": "code",
   "execution_count": 4,
   "metadata": {
    "collapsed": false,
    "deletable": true,
    "editable": true
   },
   "outputs": [
    {
     "name": "stdout",
     "output_type": "stream",
     "text": [
      "<class 'pandas.core.frame.DataFrame'>\n",
      "RangeIndex: 418 entries, 0 to 417\n",
      "Data columns (total 11 columns):\n",
      "PassengerId    418 non-null int64\n",
      "Pclass         418 non-null int64\n",
      "Name           418 non-null object\n",
      "Sex            418 non-null object\n",
      "Age            332 non-null float64\n",
      "SibSp          418 non-null int64\n",
      "Parch          418 non-null int64\n",
      "Ticket         418 non-null object\n",
      "Fare           417 non-null float64\n",
      "Cabin          91 non-null object\n",
      "Embarked       418 non-null object\n",
      "dtypes: float64(2), int64(4), object(5)\n",
      "memory usage: 36.0+ KB\n"
     ]
    }
   ],
   "source": [
    "test_data = pd.read_csv('test.csv')\n",
    "test_data.info()"
   ]
  },
  {
   "cell_type": "code",
   "execution_count": 5,
   "metadata": {
    "collapsed": false,
    "deletable": true,
    "editable": true
   },
   "outputs": [
    {
     "data": {
      "text/html": [
       "<div>\n",
       "<table border=\"1\" class=\"dataframe\">\n",
       "  <thead>\n",
       "    <tr style=\"text-align: right;\">\n",
       "      <th></th>\n",
       "      <th>Age</th>\n",
       "      <th>Embarked</th>\n",
       "      <th>Fare</th>\n",
       "      <th>Name</th>\n",
       "      <th>Parch</th>\n",
       "      <th>PassengerId</th>\n",
       "      <th>Pclass</th>\n",
       "      <th>Sex</th>\n",
       "      <th>SibSp</th>\n",
       "      <th>Survived</th>\n",
       "      <th>Ticket</th>\n",
       "    </tr>\n",
       "  </thead>\n",
       "  <tbody>\n",
       "    <tr>\n",
       "      <th>0</th>\n",
       "      <td>22.0</td>\n",
       "      <td>S</td>\n",
       "      <td>7.2500</td>\n",
       "      <td>Braund, Mr. Owen Harris</td>\n",
       "      <td>0</td>\n",
       "      <td>1</td>\n",
       "      <td>3</td>\n",
       "      <td>male</td>\n",
       "      <td>1</td>\n",
       "      <td>0.0</td>\n",
       "      <td>A/5 21171</td>\n",
       "    </tr>\n",
       "    <tr>\n",
       "      <th>1</th>\n",
       "      <td>38.0</td>\n",
       "      <td>C</td>\n",
       "      <td>71.2833</td>\n",
       "      <td>Cumings, Mrs. John Bradley (Florence Briggs Th...</td>\n",
       "      <td>0</td>\n",
       "      <td>2</td>\n",
       "      <td>1</td>\n",
       "      <td>female</td>\n",
       "      <td>1</td>\n",
       "      <td>1.0</td>\n",
       "      <td>PC 17599</td>\n",
       "    </tr>\n",
       "    <tr>\n",
       "      <th>2</th>\n",
       "      <td>26.0</td>\n",
       "      <td>S</td>\n",
       "      <td>7.9250</td>\n",
       "      <td>Heikkinen, Miss. Laina</td>\n",
       "      <td>0</td>\n",
       "      <td>3</td>\n",
       "      <td>3</td>\n",
       "      <td>female</td>\n",
       "      <td>0</td>\n",
       "      <td>1.0</td>\n",
       "      <td>STON/O2. 3101282</td>\n",
       "    </tr>\n",
       "    <tr>\n",
       "      <th>3</th>\n",
       "      <td>35.0</td>\n",
       "      <td>S</td>\n",
       "      <td>53.1000</td>\n",
       "      <td>Futrelle, Mrs. Jacques Heath (Lily May Peel)</td>\n",
       "      <td>0</td>\n",
       "      <td>4</td>\n",
       "      <td>1</td>\n",
       "      <td>female</td>\n",
       "      <td>1</td>\n",
       "      <td>1.0</td>\n",
       "      <td>113803</td>\n",
       "    </tr>\n",
       "    <tr>\n",
       "      <th>4</th>\n",
       "      <td>35.0</td>\n",
       "      <td>S</td>\n",
       "      <td>8.0500</td>\n",
       "      <td>Allen, Mr. William Henry</td>\n",
       "      <td>0</td>\n",
       "      <td>5</td>\n",
       "      <td>3</td>\n",
       "      <td>male</td>\n",
       "      <td>0</td>\n",
       "      <td>0.0</td>\n",
       "      <td>373450</td>\n",
       "    </tr>\n",
       "  </tbody>\n",
       "</table>\n",
       "</div>"
      ],
      "text/plain": [
       "    Age Embarked     Fare                                               Name  \\\n",
       "0  22.0        S   7.2500                            Braund, Mr. Owen Harris   \n",
       "1  38.0        C  71.2833  Cumings, Mrs. John Bradley (Florence Briggs Th...   \n",
       "2  26.0        S   7.9250                             Heikkinen, Miss. Laina   \n",
       "3  35.0        S  53.1000       Futrelle, Mrs. Jacques Heath (Lily May Peel)   \n",
       "4  35.0        S   8.0500                           Allen, Mr. William Henry   \n",
       "\n",
       "   Parch  PassengerId  Pclass     Sex  SibSp  Survived            Ticket  \n",
       "0      0            1       3    male      1       0.0         A/5 21171  \n",
       "1      0            2       1  female      1       1.0          PC 17599  \n",
       "2      0            3       3  female      0       1.0  STON/O2. 3101282  \n",
       "3      0            4       1  female      1       1.0            113803  \n",
       "4      0            5       3    male      0       0.0            373450  "
      ]
     },
     "execution_count": 5,
     "metadata": {},
     "output_type": "execute_result"
    }
   ],
   "source": [
    "data = pd.concat([train_data, test_data]).reset_index(drop=True)\n",
    "data_rd1 = data.copy()\n",
    "data_rd1.drop(labels='Cabin', axis=1, inplace=True)\n",
    "data_rd1.head()"
   ]
  },
  {
   "cell_type": "code",
   "execution_count": 6,
   "metadata": {
    "collapsed": true,
    "deletable": true,
    "editable": true
   },
   "outputs": [],
   "source": [
    "# Create function for extracting information from Name\n",
    "import re\n",
    "import string\n",
    "def name_parsing(text):\n",
    "    # Remove bracket content\n",
    "    title = []\n",
    "    middle_name = []\n",
    "    last_name = []\n",
    "    \n",
    "    title_bank = ['Miss', 'Mr', 'Mrs', 'Dr', 'Master', 'Major', 'Rev', 'Capt', 'Lady',\n",
    "       'Mme', 'Ms', 'Col', 'Mlle']\n",
    "    \n",
    "    for i in range(len(text)):\n",
    "        # Remove the content in bracket\n",
    "        text.iloc[i] = re.sub(\"[\\(\\[].*?[\\)\\]]\", \"\",text.iloc[i])\n",
    "        # Remove punctuation\n",
    "        translation = text.iloc[i].maketrans(\"\",\"\", string.punctuation)\n",
    "        # Split\n",
    "        # ext_trans = text[i].translate(translation)\n",
    "        text_split = text.iloc[i].split()\n",
    "        lastname_flag = 0\n",
    "        title_flag = 0\n",
    "        for j in range(len(text_split)):\n",
    "            if (',' in text_split[j]) & (lastname_flag == 0):\n",
    "                last_name.append(text_split[j].translate(translation))\n",
    "                last_name_flag = 1\n",
    "            \n",
    "            if ('.' in text_split[j]) & (title_flag == 0):\n",
    "                title.append(text_split[j].translate(translation))                \n",
    "                title_flag = 1                \n",
    "    \n",
    "        if last_name_flag == 0:\n",
    "            last_name.append(np.nan)\n",
    "        \n",
    "        if title_flag == 0:\n",
    "            title.append(np.nan)\n",
    "            \n",
    "        # first_name.append(text_split[-2].translate(translation))\n",
    "        middle_name.append(text_split[-1].translate(translation))\n",
    "        \n",
    "    return pd.Series(title), pd.Series(last_name), pd.Series(middle_name)"
   ]
  },
  {
   "cell_type": "code",
   "execution_count": 7,
   "metadata": {
    "collapsed": false,
    "deletable": true,
    "editable": true
   },
   "outputs": [],
   "source": [
    "title, last, middle = name_parsing(data_rd1['Name'])"
   ]
  },
  {
   "cell_type": "code",
   "execution_count": 8,
   "metadata": {
    "collapsed": true,
    "deletable": true,
    "editable": true
   },
   "outputs": [],
   "source": [
    "name_type = title.unique()\n",
    "name_map = {}\n",
    "\n",
    "for i in range(len(name_type)):\n",
    "    name_map[name_type[i]] = i\n",
    "\n",
    "title_name_num = title.map(name_map)\n",
    "data_rd1['title_name'] = list(title)"
   ]
  },
  {
   "cell_type": "code",
   "execution_count": 9,
   "metadata": {
    "collapsed": true,
    "deletable": true,
    "editable": true
   },
   "outputs": [],
   "source": [
    "data_male = data_rd1[data_rd1['Sex']=='male']\n",
    "data_male['title_name'].unique()\n",
    "\n",
    "title_male_type = data_male['title_name'].unique()\n",
    "\n",
    "for i in range(len(title_male_type)):\n",
    "    male_master_median = data_male[data_male['title_name']==title_male_type[i]]['Age'].median()\n",
    "    data_rd1.loc[(data_rd1['Sex']=='male')&(data_rd1['title_name']==title_male_type[i]), 'Age'] = data_rd1.loc[(data_rd1['Sex']=='male')&(data_rd1['title_name']==title_male_type[i]), 'Age'].fillna(male_master_median)"
   ]
  },
  {
   "cell_type": "code",
   "execution_count": 10,
   "metadata": {
    "collapsed": true,
    "deletable": true,
    "editable": true
   },
   "outputs": [],
   "source": [
    "female_age_median = data_rd1[data_rd1['Sex']=='female']['Age'].median()\n",
    "data_rd1.loc[data_rd1['Sex']=='female', 'Age'] = data_rd1.loc[data_rd1['Sex']=='female', 'Age'].fillna(female_age_median)"
   ]
  },
  {
   "cell_type": "code",
   "execution_count": 11,
   "metadata": {
    "collapsed": false,
    "deletable": true,
    "editable": true
   },
   "outputs": [
    {
     "data": {
      "text/plain": [
       "Mr          57.830405\n",
       "Miss        19.862490\n",
       "Mrs         15.049656\n",
       "Master       4.660046\n",
       "Rev          0.611154\n",
       "Dr           0.611154\n",
       "Col          0.305577\n",
       "Mlle         0.152788\n",
       "Major        0.152788\n",
       "Ms           0.152788\n",
       "Sir          0.076394\n",
       "Countess     0.076394\n",
       "Mme          0.076394\n",
       "Don          0.076394\n",
       "Dona         0.076394\n",
       "Jonkheer     0.076394\n",
       "Lady         0.076394\n",
       "Capt         0.076394\n",
       "Name: title_name, dtype: float64"
      ]
     },
     "execution_count": 11,
     "metadata": {},
     "output_type": "execute_result"
    }
   ],
   "source": [
    "# To many categorical values for titles, try combining them and apply one hot\n",
    "data_rd1['title_name'].value_counts()/np.sum(data_rd1['title_name'].value_counts())*100"
   ]
  },
  {
   "cell_type": "code",
   "execution_count": 12,
   "metadata": {
    "collapsed": true,
    "deletable": true,
    "editable": true
   },
   "outputs": [],
   "source": [
    "# Combine the features that have small than 5%\n",
    "keep_title = ['Mr', 'Miss', 'Mrs', 'Master']\n",
    "\n",
    "data_rd1.ix[~data_rd1['title_name'].isin(keep_title), 'title_name'] = np.nan"
   ]
  },
  {
   "cell_type": "code",
   "execution_count": 13,
   "metadata": {
    "collapsed": false,
    "deletable": true,
    "editable": true
   },
   "outputs": [
    {
     "data": {
      "text/plain": [
       "Mr        59.372549\n",
       "Miss      20.392157\n",
       "Mrs       15.450980\n",
       "Master     4.784314\n",
       "Name: title_name, dtype: float64"
      ]
     },
     "execution_count": 13,
     "metadata": {},
     "output_type": "execute_result"
    }
   ],
   "source": [
    "data_rd1['title_name'].value_counts()/np.sum(data_rd1['title_name'].value_counts())*100"
   ]
  },
  {
   "cell_type": "code",
   "execution_count": 14,
   "metadata": {
    "collapsed": true,
    "deletable": true,
    "editable": true
   },
   "outputs": [],
   "source": [
    "# Use one hot encoding to encode the titie and drop one column \n",
    "one_hot_title =pd.get_dummies(data_rd1['title_name'])"
   ]
  },
  {
   "cell_type": "code",
   "execution_count": 15,
   "metadata": {
    "collapsed": true,
    "deletable": true,
    "editable": true
   },
   "outputs": [],
   "source": [
    "data_rd1=data_rd1.join(one_hot_title, how='outer')"
   ]
  },
  {
   "cell_type": "code",
   "execution_count": 16,
   "metadata": {
    "collapsed": true,
    "deletable": true,
    "editable": true
   },
   "outputs": [],
   "source": [
    "data_rd1.drop('title_name', axis=1, inplace=True)"
   ]
  },
  {
   "cell_type": "code",
   "execution_count": 17,
   "metadata": {
    "collapsed": true,
    "deletable": true,
    "editable": true
   },
   "outputs": [],
   "source": [
    "data_rd1.drop('Name', axis=1, inplace=True)"
   ]
  },
  {
   "cell_type": "code",
   "execution_count": 18,
   "metadata": {
    "collapsed": true,
    "deletable": true,
    "editable": true
   },
   "outputs": [],
   "source": [
    "# Use mapping function to convert Sex into binary digits\n",
    "data_rd1['Sex'] = data_rd1['Sex'].map({'female':1, 'male':0})"
   ]
  },
  {
   "cell_type": "code",
   "execution_count": 19,
   "metadata": {
    "collapsed": true,
    "deletable": true,
    "editable": true
   },
   "outputs": [],
   "source": [
    "# Extract number information from ticket\n",
    "ticket_ori = data_rd1['Ticket']\n",
    "\n",
    "ticket_num = []\n",
    "for tk in range(len(ticket_ori)):\n",
    "    if len(re.findall(r'\\d+', ticket_ori.iloc[tk])) ==0 :\n",
    "        ticket_num.append(np.nan)\n",
    "    else:\n",
    "        ticket_num.append(np.int(re.findall(r'\\d+', ticket_ori.iloc[tk])[-1]))\n",
    "        \n",
    "data_rd1['ticket_num'] = ticket_num"
   ]
  },
  {
   "cell_type": "code",
   "execution_count": 20,
   "metadata": {
    "collapsed": false,
    "deletable": true,
    "editable": true
   },
   "outputs": [
    {
     "data": {
      "text/plain": [
       "<matplotlib.axes._subplots.AxesSubplot at 0x7f0d8dcaee48>"
      ]
     },
     "execution_count": 20,
     "metadata": {},
     "output_type": "execute_result"
    },
    {
     "data": {
      "image/png": "[encoded data removed]",
      "text/plain": [
       "<matplotlib.figure.Figure at 0x7f0d8dcb9908>"
      ]
     },
     "metadata": {},
     "output_type": "display_data"
    }
   ],
   "source": [
    "# The abolute number of ticket is not critical, bin in and convert to one hot\n",
    "data_rd1['ticket_num'].hist(bins=50)"
   ]
  },
  {
   "cell_type": "code",
   "execution_count": 21,
   "metadata": {
    "collapsed": true,
    "deletable": true,
    "editable": true
   },
   "outputs": [],
   "source": [
    "# Set ticket number into 3 bins: < 100000, 10000~500000, > 500000\n",
    "data_rd1.ix[data_rd1['ticket_num']<100000,'ticket_num'] = 0\n",
    "data_rd1.ix[data_rd1['ticket_num']>500000,'ticket_num'] = 2\n",
    "data_rd1.ix[(data_rd1['ticket_num']>100000)&(data_rd1['ticket_num']<500000),'ticket_num'] = 1"
   ]
  },
  {
   "cell_type": "code",
   "execution_count": 22,
   "metadata": {
    "collapsed": true,
    "deletable": true,
    "editable": true
   },
   "outputs": [],
   "source": [
    "ticket_num_onehot = pd.get_dummies(data_rd1['ticket_num'])\n",
    "ticket_num_onehot = ticket_num_onehot.add_prefix('ticketnum')\n",
    "data_rd1 = data_rd1.join(ticket_num_onehot, how='outer')"
   ]
  },
  {
   "cell_type": "code",
   "execution_count": 23,
   "metadata": {
    "collapsed": true,
    "deletable": true,
    "editable": true
   },
   "outputs": [],
   "source": [
    "# Use mapping function to convert Sex into binary digits\n",
    "data_rd1['Group_size']= data_rd1['SibSp'] + data_rd1['Parch']\n",
    "data_rd1.drop('SibSp', axis=1, inplace=True)\n",
    "data_rd1.drop('Parch', axis=1, inplace=True)"
   ]
  },
  {
   "cell_type": "code",
   "execution_count": 24,
   "metadata": {
    "collapsed": true,
    "deletable": true,
    "editable": true
   },
   "outputs": [],
   "source": [
    "# data_rd1['Norm_fare'] = np.divide(data_rd1['Fare'],[np.max([data_rd1.iloc[i]['Group_size'],1]) for i in range(len(data_rd1))])\n",
    "# data_rd1.drop('Group_size', axis=1, inplace=True)\n",
    "# data_rd1.drop('Fare', axis=1, inplace=True)"
   ]
  },
  {
   "cell_type": "code",
   "execution_count": 25,
   "metadata": {
    "collapsed": true,
    "deletable": true,
    "editable": true
   },
   "outputs": [],
   "source": [
    "one_hot_embarked = pd.get_dummies(data_rd1['Embarked'])\n",
    "one_hot_embarked = one_hot_embarked.add_prefix('Embarked_')"
   ]
  },
  {
   "cell_type": "code",
   "execution_count": 26,
   "metadata": {
    "collapsed": true,
    "deletable": true,
    "editable": true
   },
   "outputs": [],
   "source": [
    "data_rd1 = data_rd1.join(one_hot_embarked, how='outer')\n",
    "data_rd1.drop('Embarked', axis=1, inplace=True)"
   ]
  },
  {
   "cell_type": "code",
   "execution_count": 27,
   "metadata": {
    "collapsed": true,
    "deletable": true,
    "editable": true
   },
   "outputs": [],
   "source": [
    "data_rd1.drop('Ticket', axis=1, inplace=True)"
   ]
  },
  {
   "cell_type": "code",
   "execution_count": 28,
   "metadata": {
    "collapsed": true,
    "deletable": true,
    "editable": true
   },
   "outputs": [],
   "source": [
    "data_rd1.drop('ticket_num', axis=1, inplace=True)"
   ]
  },
  {
   "cell_type": "code",
   "execution_count": 29,
   "metadata": {
    "collapsed": true,
    "deletable": true,
    "editable": true
   },
   "outputs": [],
   "source": [
    "drop_list = ['Embarked_S','Embarked_C','Embarked_Q']\n",
    "for i in range(len(drop_list)):\n",
    "    data_rd1.drop(drop_list[i], axis=1, inplace=True)"
   ]
  },
  {
   "cell_type": "code",
   "execution_count": 30,
   "metadata": {
    "collapsed": false,
    "deletable": true,
    "editable": true
   },
   "outputs": [
    {
     "name": "stdout",
     "output_type": "stream",
     "text": [
      "<class 'pandas.core.frame.DataFrame'>\n",
      "Int64Index: 1309 entries, 0 to 1308\n",
      "Data columns (total 14 columns):\n",
      "Age             1309 non-null float64\n",
      "Fare            1308 non-null float64\n",
      "PassengerId     1309 non-null int64\n",
      "Pclass          1309 non-null int64\n",
      "Sex             1309 non-null int64\n",
      "Survived        891 non-null float64\n",
      "Master          1309 non-null uint8\n",
      "Miss            1309 non-null uint8\n",
      "Mr              1309 non-null uint8\n",
      "Mrs             1309 non-null uint8\n",
      "ticketnum0.0    1309 non-null uint8\n",
      "ticketnum1.0    1309 non-null uint8\n",
      "ticketnum2.0    1309 non-null uint8\n",
      "Group_size      1309 non-null int64\n",
      "dtypes: float64(3), int64(4), uint8(7)\n",
      "memory usage: 90.8 KB\n"
     ]
    }
   ],
   "source": [
    "data_rd1.info()"
   ]
  },
  {
   "cell_type": "code",
   "execution_count": 31,
   "metadata": {
    "collapsed": true,
    "deletable": true,
    "editable": true
   },
   "outputs": [],
   "source": [
    "# Split into train and validation set\n",
    "#train_data1_part1 = data_rd1[(data_rd1['PassengerId']<892)&(data_rd1['Age']<15)].sample(frac=0.5, random_state=1).reset_index(drop=True)   # Shuffle the data\n",
    "#train_data1_part2 = data_rd1[(data_rd1['PassengerId']<892)&(data_rd1['Age']>15)].sample(frac=1, random_state=1).reset_index(drop=True)   # Shuffle the data\n",
    "#train_data1 = pd.concat([train_data1_part1, train_data1_part2])\n",
    "from sklearn.model_selection import train_test_split\n",
    "\n",
    "train_data = data_rd1[data_rd1['PassengerId']<892]\n",
    "X_train, X_vali,y_train,y_vali = train_test_split(train_data, train_data['Survived'], test_size=0.1, random_state=23, stratify=train_data['Survived'])"
   ]
  },
  {
   "cell_type": "code",
   "execution_count": 32,
   "metadata": {
    "collapsed": false
   },
   "outputs": [
    {
     "name": "stdout",
     "output_type": "stream",
     "text": [
      "[(0.0, 494), (1.0, 307)]\n"
     ]
    }
   ],
   "source": [
    "print(sorted(Counter(y_train).items()))"
   ]
  },
  {
   "cell_type": "code",
   "execution_count": 33,
   "metadata": {
    "collapsed": false,
    "deletable": true,
    "editable": true
   },
   "outputs": [],
   "source": [
    "from imblearn.combine import SMOTETomek\n",
    "\n",
    "smote = SMOTE(random_state=0, ratio=1)\n",
    "X_resampled, y_resampled = smote.fit_sample(X_train, y_train)"
   ]
  },
  {
   "cell_type": "code",
   "execution_count": 34,
   "metadata": {
    "collapsed": false
   },
   "outputs": [
    {
     "name": "stdout",
     "output_type": "stream",
     "text": [
      "[(0.0, 494), (1.0, 494)]\n"
     ]
    }
   ],
   "source": [
    "print(sorted(Counter(y_resampled).items()))"
   ]
  },
  {
   "cell_type": "code",
   "execution_count": 35,
   "metadata": {
    "collapsed": true
   },
   "outputs": [],
   "source": [
    "train_data1 = pd.DataFrame(X_resampled, columns=data_rd1.columns)\n",
    "vali_data1 = pd.DataFrame(X_vali, columns=data_rd1.columns)\n",
    "train_data1.drop('PassengerId', axis=1, inplace=True)\n",
    "vali_data1.drop('PassengerId', axis=1, inplace=True)\n",
    "train_target1 = train_data1['Survived']\n",
    "vali_target1 = vali_data1['Survived']\n",
    "train_data1.drop('Survived', axis=1, inplace=True)\n",
    "vali_data1.drop('Survived', axis=1, inplace=True)"
   ]
  },
  {
   "cell_type": "code",
   "execution_count": 36,
   "metadata": {
    "collapsed": true
   },
   "outputs": [],
   "source": [
    "# train_target1 = 1-train_target1\n",
    "# vali_target1 = 1-vali_target1"
   ]
  },
  {
   "cell_type": "markdown",
   "metadata": {},
   "source": [
    "### Perform hyperparameter search on XGB classifier "
   ]
  },
  {
   "cell_type": "code",
   "execution_count": 37,
   "metadata": {
    "collapsed": false
   },
   "outputs": [],
   "source": [
    "# XGB_clf = XGBClassifier()\n",
    "# XGB_clf.fit(train_data1, train_target1)\n",
    "\n",
    "# plot_importance(XGB_clf)\n",
    "# plt.show()\n",
    "\n",
    "\n",
    "# XGB_predict = XGB_clf.predict(train_data1)\n",
    "# print('XGB classifier training accuracy:{}'.format(f1_score(XGB_predict, train_target1)))"
   ]
  },
  {
   "cell_type": "code",
   "execution_count": 38,
   "metadata": {
    "collapsed": true
   },
   "outputs": [],
   "source": [
    "def modelfit(alg, dtrain, targets, performCV=True, printFeatureImportance=True, cv_folds=10):\n",
    "    \n",
    "    #Fit the algorithm on the data\n",
    "    alg.fit(dtrain, targets)\n",
    "        \n",
    "    #Predict training set:\n",
    "    dtrain_predictions = alg.predict(dtrain)\n",
    "    dtrain_predprob = alg.predict_proba(dtrain)[:,1]\n",
    "    \n",
    "    #Perform cross-validation:\n",
    "    if performCV:\n",
    "        cv_score = cross_validation.cross_val_score(alg, dtrain, targets, cv=cv_folds, scoring='accuracy')\n",
    "    \n",
    "    #Print model report:\n",
    "    print (\"\\nModel Report\")\n",
    "    print (\"Accuracy : %.4g\" % metrics.accuracy_score(targets.values, dtrain_predictions))\n",
    "    print (\"AUC Score (Train): %f\" % metrics.roc_auc_score(targets, dtrain_predprob))\n",
    "    \n",
    "    if performCV:\n",
    "        print (\"CV Score : Mean - %.7g | Std - %.7g | Min - %.7g | Max - %.7g\" % (np.mean(cv_score),np.std(cv_score),np.min(cv_score),np.max(cv_score)))\n",
    "        \n",
    "    #Print Feature Importance:\n",
    "    if printFeatureImportance:\n",
    "        plot_importance(alg)\n",
    "        plt.show()"
   ]
  },
  {
   "cell_type": "code",
   "execution_count": 67,
   "metadata": {
    "collapsed": false
   },
   "outputs": [
    {
     "data": {
      "text/plain": [
       "([mean: 0.81352, std: 0.08260, params: {'min_child_weight': 1, 'n_estimators': 10, 'max_depth': 1},\n",
       "  mean: 0.82153, std: 0.08082, params: {'min_child_weight': 1, 'n_estimators': 20, 'max_depth': 1},\n",
       "  mean: 0.82354, std: 0.07806, params: {'min_child_weight': 1, 'n_estimators': 30, 'max_depth': 1},\n",
       "  mean: 0.83161, std: 0.08164, params: {'min_child_weight': 1, 'n_estimators': 40, 'max_depth': 1},\n",
       "  mean: 0.83710, std: 0.08214, params: {'min_child_weight': 1, 'n_estimators': 50, 'max_depth': 1},\n",
       "  mean: 0.81352, std: 0.08260, params: {'min_child_weight': 3, 'n_estimators': 10, 'max_depth': 1},\n",
       "  mean: 0.82153, std: 0.08082, params: {'min_child_weight': 3, 'n_estimators': 20, 'max_depth': 1},\n",
       "  mean: 0.82354, std: 0.07806, params: {'min_child_weight': 3, 'n_estimators': 30, 'max_depth': 1},\n",
       "  mean: 0.83161, std: 0.08164, params: {'min_child_weight': 3, 'n_estimators': 40, 'max_depth': 1},\n",
       "  mean: 0.83710, std: 0.08214, params: {'min_child_weight': 3, 'n_estimators': 50, 'max_depth': 1},\n",
       "  mean: 0.85069, std: 0.07068, params: {'min_child_weight': 1, 'n_estimators': 10, 'max_depth': 3},\n",
       "  mean: 0.85341, std: 0.06940, params: {'min_child_weight': 1, 'n_estimators': 20, 'max_depth': 3},\n",
       "  mean: 0.85492, std: 0.07082, params: {'min_child_weight': 1, 'n_estimators': 30, 'max_depth': 3},\n",
       "  mean: 0.85445, std: 0.07132, params: {'min_child_weight': 1, 'n_estimators': 40, 'max_depth': 3},\n",
       "  mean: 0.85028, std: 0.07217, params: {'min_child_weight': 1, 'n_estimators': 50, 'max_depth': 3},\n",
       "  mean: 0.84924, std: 0.07257, params: {'min_child_weight': 3, 'n_estimators': 10, 'max_depth': 3},\n",
       "  mean: 0.85273, std: 0.07058, params: {'min_child_weight': 3, 'n_estimators': 20, 'max_depth': 3},\n",
       "  mean: 0.84801, std: 0.07152, params: {'min_child_weight': 3, 'n_estimators': 30, 'max_depth': 3},\n",
       "  mean: 0.85335, std: 0.07461, params: {'min_child_weight': 3, 'n_estimators': 40, 'max_depth': 3},\n",
       "  mean: 0.85052, std: 0.07860, params: {'min_child_weight': 3, 'n_estimators': 50, 'max_depth': 3}],\n",
       " {'max_depth': 3, 'min_child_weight': 1, 'n_estimators': 30},\n",
       " 0.85491770918605248)"
      ]
     },
     "execution_count": 67,
     "metadata": {},
     "output_type": "execute_result"
    }
   ],
   "source": [
    "param_test1 = {\n",
    " 'n_estimators':range(10,60,10),\n",
    " 'max_depth':range(1,5,2),\n",
    " 'min_child_weight':range(1,5,2)\n",
    "}\n",
    "\n",
    "estimator1 = XGBClassifier( learning_rate =0.1, n_estimators=90, max_depth=7,\n",
    " min_child_weight=3, gamma=0, subsample=0.8, colsample_bytree=0.8,\n",
    " objective= 'binary:logistic', nthread=4, scale_pos_weight=1, seed=27)\n",
    "\n",
    "gsearch1 = GridSearchCV(estimator1, param_grid = param_test1, scoring='f1', iid=False, cv=10)\n",
    "gsearch1.fit(train_data1, train_target1)\n",
    "gsearch1.grid_scores_, gsearch1.best_params_, gsearch1.best_score_"
   ]
  },
  {
   "cell_type": "code",
   "execution_count": 69,
   "metadata": {
    "collapsed": false
   },
   "outputs": [
    {
     "data": {
      "text/plain": [
       "([mean: 0.83938, std: 0.07711, params: {'n_estimators': 20, 'max_depth': 2},\n",
       "  mean: 0.83938, std: 0.07711, params: {'n_estimators': 21, 'max_depth': 2},\n",
       "  mean: 0.84110, std: 0.07610, params: {'n_estimators': 22, 'max_depth': 2},\n",
       "  mean: 0.84019, std: 0.07622, params: {'n_estimators': 23, 'max_depth': 2},\n",
       "  mean: 0.84194, std: 0.07526, params: {'n_estimators': 24, 'max_depth': 2},\n",
       "  mean: 0.84110, std: 0.07610, params: {'n_estimators': 25, 'max_depth': 2},\n",
       "  mean: 0.84096, std: 0.07724, params: {'n_estimators': 26, 'max_depth': 2},\n",
       "  mean: 0.84096, std: 0.07724, params: {'n_estimators': 27, 'max_depth': 2},\n",
       "  mean: 0.84096, std: 0.07724, params: {'n_estimators': 28, 'max_depth': 2},\n",
       "  mean: 0.84096, std: 0.07724, params: {'n_estimators': 29, 'max_depth': 2},\n",
       "  mean: 0.84229, std: 0.07595, params: {'n_estimators': 30, 'max_depth': 2},\n",
       "  mean: 0.84313, std: 0.07509, params: {'n_estimators': 31, 'max_depth': 2},\n",
       "  mean: 0.84313, std: 0.07509, params: {'n_estimators': 32, 'max_depth': 2},\n",
       "  mean: 0.84313, std: 0.07509, params: {'n_estimators': 33, 'max_depth': 2},\n",
       "  mean: 0.84579, std: 0.07215, params: {'n_estimators': 34, 'max_depth': 2},\n",
       "  mean: 0.85341, std: 0.06940, params: {'n_estimators': 20, 'max_depth': 3},\n",
       "  mean: 0.85128, std: 0.07201, params: {'n_estimators': 21, 'max_depth': 3},\n",
       "  mean: 0.85196, std: 0.07148, params: {'n_estimators': 22, 'max_depth': 3},\n",
       "  mean: 0.85201, std: 0.07038, params: {'n_estimators': 23, 'max_depth': 3},\n",
       "  mean: 0.85355, std: 0.07135, params: {'n_estimators': 24, 'max_depth': 3},\n",
       "  mean: 0.85589, std: 0.07104, params: {'n_estimators': 25, 'max_depth': 3},\n",
       "  mean: 0.85482, std: 0.07012, params: {'n_estimators': 26, 'max_depth': 3},\n",
       "  mean: 0.85304, std: 0.07226, params: {'n_estimators': 27, 'max_depth': 3},\n",
       "  mean: 0.85304, std: 0.07226, params: {'n_estimators': 28, 'max_depth': 3},\n",
       "  mean: 0.85569, std: 0.06958, params: {'n_estimators': 29, 'max_depth': 3},\n",
       "  mean: 0.85492, std: 0.07082, params: {'n_estimators': 30, 'max_depth': 3},\n",
       "  mean: 0.85522, std: 0.07042, params: {'n_estimators': 31, 'max_depth': 3},\n",
       "  mean: 0.85485, std: 0.07293, params: {'n_estimators': 32, 'max_depth': 3},\n",
       "  mean: 0.85456, std: 0.07332, params: {'n_estimators': 33, 'max_depth': 3},\n",
       "  mean: 0.85536, std: 0.07229, params: {'n_estimators': 34, 'max_depth': 3}],\n",
       " {'max_depth': 3, 'n_estimators': 25},\n",
       " 0.85588547099222789)"
      ]
     },
     "execution_count": 69,
     "metadata": {},
     "output_type": "execute_result"
    }
   ],
   "source": [
    "param_test1 = {\n",
    " 'n_estimators':range(20,35,1),\n",
    " 'max_depth':range(2,4,1),\n",
    " #'min_child_weight':range(4,6,1)\n",
    "}\n",
    "estimator1 = XGBClassifier( learning_rate =0.1, n_estimators=90, max_depth=7,\n",
    " min_child_weight=1, gamma=0, subsample=0.8, colsample_bytree=0.8,\n",
    " objective= 'binary:logistic', nthread=4, scale_pos_weight=1, seed=27)\n",
    "\n",
    "gsearch1 = GridSearchCV(estimator1, param_grid = param_test1, scoring='f1', iid=False, cv=10)\n",
    "gsearch1.fit(train_data1, train_target1)\n",
    "gsearch1.grid_scores_, gsearch1.best_params_, gsearch1.best_score_"
   ]
  },
  {
   "cell_type": "code",
   "execution_count": 70,
   "metadata": {
    "collapsed": false
   },
   "outputs": [
    {
     "data": {
      "text/plain": [
       "([mean: 0.85589, std: 0.07104, params: {'gamma': 0.0},\n",
       "  mean: 0.85589, std: 0.07104, params: {'gamma': 0.1},\n",
       "  mean: 0.85589, std: 0.07104, params: {'gamma': 0.2},\n",
       "  mean: 0.85589, std: 0.07104, params: {'gamma': 0.3},\n",
       "  mean: 0.85482, std: 0.07012, params: {'gamma': 0.4}],\n",
       " {'gamma': 0.0},\n",
       " 0.85588547099222789)"
      ]
     },
     "execution_count": 70,
     "metadata": {},
     "output_type": "execute_result"
    }
   ],
   "source": [
    "param_test1 = {\n",
    "  'gamma':[i/10.0 for i in range(0,5)]\n",
    "}\n",
    "estimator1 = XGBClassifier(learning_rate =0.1, n_estimators=25, max_depth=3,\n",
    " min_child_weight=1, gamma=0, subsample=0.8, colsample_bytree=0.8,\n",
    " objective= 'binary:logistic', nthread=4, scale_pos_weight=1, seed=27)\n",
    "\n",
    "gsearch1 = GridSearchCV(estimator1, param_grid = param_test1, scoring='f1', iid=False, cv=10)\n",
    "gsearch1.fit(train_data1, train_target1)\n",
    "gsearch1.grid_scores_, gsearch1.best_params_, gsearch1.best_score_"
   ]
  },
  {
   "cell_type": "code",
   "execution_count": 71,
   "metadata": {
    "collapsed": false
   },
   "outputs": [
    {
     "data": {
      "text/plain": [
       "([mean: 0.83923, std: 0.06362, params: {'subsample': 0.2, 'colsample_bytree': 0.4},\n",
       "  mean: 0.84967, std: 0.06639, params: {'subsample': 0.3, 'colsample_bytree': 0.4},\n",
       "  mean: 0.85129, std: 0.06604, params: {'subsample': 0.4, 'colsample_bytree': 0.4},\n",
       "  mean: 0.85181, std: 0.06809, params: {'subsample': 0.5, 'colsample_bytree': 0.4},\n",
       "  mean: 0.85104, std: 0.06806, params: {'subsample': 0.6, 'colsample_bytree': 0.4},\n",
       "  mean: 0.85048, std: 0.06623, params: {'subsample': 0.7, 'colsample_bytree': 0.4},\n",
       "  mean: 0.84986, std: 0.06799, params: {'subsample': 0.8, 'colsample_bytree': 0.4},\n",
       "  mean: 0.85338, std: 0.06771, params: {'subsample': 0.9, 'colsample_bytree': 0.4},\n",
       "  mean: 0.83776, std: 0.07510, params: {'subsample': 0.2, 'colsample_bytree': 0.5},\n",
       "  mean: 0.84294, std: 0.07308, params: {'subsample': 0.3, 'colsample_bytree': 0.5},\n",
       "  mean: 0.84397, std: 0.07405, params: {'subsample': 0.4, 'colsample_bytree': 0.5},\n",
       "  mean: 0.84750, std: 0.07219, params: {'subsample': 0.5, 'colsample_bytree': 0.5},\n",
       "  mean: 0.85206, std: 0.06509, params: {'subsample': 0.6, 'colsample_bytree': 0.5},\n",
       "  mean: 0.84985, std: 0.06650, params: {'subsample': 0.7, 'colsample_bytree': 0.5},\n",
       "  mean: 0.85278, std: 0.06790, params: {'subsample': 0.8, 'colsample_bytree': 0.5},\n",
       "  mean: 0.85433, std: 0.06770, params: {'subsample': 0.9, 'colsample_bytree': 0.5},\n",
       "  mean: 0.83572, std: 0.07194, params: {'subsample': 0.2, 'colsample_bytree': 0.6},\n",
       "  mean: 0.84724, std: 0.07032, params: {'subsample': 0.3, 'colsample_bytree': 0.6},\n",
       "  mean: 0.84578, std: 0.07578, params: {'subsample': 0.4, 'colsample_bytree': 0.6},\n",
       "  mean: 0.84654, std: 0.07495, params: {'subsample': 0.5, 'colsample_bytree': 0.6},\n",
       "  mean: 0.85194, std: 0.06661, params: {'subsample': 0.6, 'colsample_bytree': 0.6},\n",
       "  mean: 0.85410, std: 0.06917, params: {'subsample': 0.7, 'colsample_bytree': 0.6},\n",
       "  mean: 0.85489, std: 0.07016, params: {'subsample': 0.8, 'colsample_bytree': 0.6},\n",
       "  mean: 0.85186, std: 0.07370, params: {'subsample': 0.9, 'colsample_bytree': 0.6},\n",
       "  mean: 0.83610, std: 0.06987, params: {'subsample': 0.2, 'colsample_bytree': 0.7},\n",
       "  mean: 0.84369, std: 0.07052, params: {'subsample': 0.3, 'colsample_bytree': 0.7},\n",
       "  mean: 0.84644, std: 0.06842, params: {'subsample': 0.4, 'colsample_bytree': 0.7},\n",
       "  mean: 0.84925, std: 0.06943, params: {'subsample': 0.5, 'colsample_bytree': 0.7},\n",
       "  mean: 0.84619, std: 0.06928, params: {'subsample': 0.6, 'colsample_bytree': 0.7},\n",
       "  mean: 0.85158, std: 0.06741, params: {'subsample': 0.7, 'colsample_bytree': 0.7},\n",
       "  mean: 0.85406, std: 0.06746, params: {'subsample': 0.8, 'colsample_bytree': 0.7},\n",
       "  mean: 0.85394, std: 0.06879, params: {'subsample': 0.9, 'colsample_bytree': 0.7},\n",
       "  mean: 0.83502, std: 0.06975, params: {'subsample': 0.2, 'colsample_bytree': 0.8},\n",
       "  mean: 0.84024, std: 0.07577, params: {'subsample': 0.3, 'colsample_bytree': 0.8},\n",
       "  mean: 0.84528, std: 0.07049, params: {'subsample': 0.4, 'colsample_bytree': 0.8},\n",
       "  mean: 0.84445, std: 0.07444, params: {'subsample': 0.5, 'colsample_bytree': 0.8},\n",
       "  mean: 0.84986, std: 0.06549, params: {'subsample': 0.6, 'colsample_bytree': 0.8},\n",
       "  mean: 0.85193, std: 0.06620, params: {'subsample': 0.7, 'colsample_bytree': 0.8},\n",
       "  mean: 0.85589, std: 0.07104, params: {'subsample': 0.8, 'colsample_bytree': 0.8},\n",
       "  mean: 0.85245, std: 0.07506, params: {'subsample': 0.9, 'colsample_bytree': 0.8},\n",
       "  mean: 0.83740, std: 0.06675, params: {'subsample': 0.2, 'colsample_bytree': 0.9},\n",
       "  mean: 0.84498, std: 0.07167, params: {'subsample': 0.3, 'colsample_bytree': 0.9},\n",
       "  mean: 0.83616, std: 0.07986, params: {'subsample': 0.4, 'colsample_bytree': 0.9},\n",
       "  mean: 0.83926, std: 0.07508, params: {'subsample': 0.5, 'colsample_bytree': 0.9},\n",
       "  mean: 0.83989, std: 0.07913, params: {'subsample': 0.6, 'colsample_bytree': 0.9},\n",
       "  mean: 0.84991, std: 0.07328, params: {'subsample': 0.7, 'colsample_bytree': 0.9},\n",
       "  mean: 0.85260, std: 0.07265, params: {'subsample': 0.8, 'colsample_bytree': 0.9},\n",
       "  mean: 0.85074, std: 0.07600, params: {'subsample': 0.9, 'colsample_bytree': 0.9}],\n",
       " {'colsample_bytree': 0.8, 'subsample': 0.8},\n",
       " 0.85588547099222789)"
      ]
     },
     "execution_count": 71,
     "metadata": {},
     "output_type": "execute_result"
    }
   ],
   "source": [
    "param_test1 = {\n",
    " 'subsample':[i/10.0 for i in range(2,10)],\n",
    " 'colsample_bytree':[i/10.0 for i in range(4,10)]\n",
    "}\n",
    "estimator1 = XGBClassifier(learning_rate =0.1, n_estimators=25, max_depth=3,\n",
    " min_child_weight=1, gamma=0, subsample=0.8, colsample_bytree=0.8,\n",
    " objective= 'binary:logistic', nthread=4, scale_pos_weight=1, seed=27)\n",
    "\n",
    "gsearch1 = GridSearchCV(estimator1, param_grid = param_test1, scoring='f1', iid=False, cv=10)\n",
    "gsearch1.fit(train_data1, train_target1)\n",
    "gsearch1.grid_scores_, gsearch1.best_params_, gsearch1.best_score_"
   ]
  },
  {
   "cell_type": "code",
   "execution_count": 76,
   "metadata": {
    "collapsed": false
   },
   "outputs": [
    {
     "data": {
      "text/plain": [
       "([mean: 0.85194, std: 0.06661, params: {'subsample': 0.6, 'colsample_bytree': 0.6},\n",
       "  mean: 0.84902, std: 0.06784, params: {'subsample': 0.65, 'colsample_bytree': 0.6},\n",
       "  mean: 0.85410, std: 0.06917, params: {'subsample': 0.7, 'colsample_bytree': 0.6},\n",
       "  mean: 0.85602, std: 0.06716, params: {'subsample': 0.75, 'colsample_bytree': 0.6},\n",
       "  mean: 0.85489, std: 0.07016, params: {'subsample': 0.8, 'colsample_bytree': 0.6},\n",
       "  mean: 0.85523, std: 0.06995, params: {'subsample': 0.85, 'colsample_bytree': 0.6},\n",
       "  mean: 0.85194, std: 0.06661, params: {'subsample': 0.6, 'colsample_bytree': 0.65},\n",
       "  mean: 0.84902, std: 0.06784, params: {'subsample': 0.65, 'colsample_bytree': 0.65},\n",
       "  mean: 0.85410, std: 0.06917, params: {'subsample': 0.7, 'colsample_bytree': 0.65},\n",
       "  mean: 0.85602, std: 0.06716, params: {'subsample': 0.75, 'colsample_bytree': 0.65},\n",
       "  mean: 0.85489, std: 0.07016, params: {'subsample': 0.8, 'colsample_bytree': 0.65},\n",
       "  mean: 0.85523, std: 0.06995, params: {'subsample': 0.85, 'colsample_bytree': 0.65},\n",
       "  mean: 0.84619, std: 0.06928, params: {'subsample': 0.6, 'colsample_bytree': 0.7},\n",
       "  mean: 0.84879, std: 0.06614, params: {'subsample': 0.65, 'colsample_bytree': 0.7},\n",
       "  mean: 0.85158, std: 0.06741, params: {'subsample': 0.7, 'colsample_bytree': 0.7},\n",
       "  mean: 0.85636, std: 0.06559, params: {'subsample': 0.75, 'colsample_bytree': 0.7},\n",
       "  mean: 0.85406, std: 0.06746, params: {'subsample': 0.8, 'colsample_bytree': 0.7},\n",
       "  mean: 0.85530, std: 0.06973, params: {'subsample': 0.85, 'colsample_bytree': 0.7},\n",
       "  mean: 0.84986, std: 0.06549, params: {'subsample': 0.6, 'colsample_bytree': 0.75},\n",
       "  mean: 0.85246, std: 0.06842, params: {'subsample': 0.65, 'colsample_bytree': 0.75},\n",
       "  mean: 0.85193, std: 0.06620, params: {'subsample': 0.7, 'colsample_bytree': 0.75},\n",
       "  mean: 0.85139, std: 0.06987, params: {'subsample': 0.75, 'colsample_bytree': 0.75},\n",
       "  mean: 0.85589, std: 0.07104, params: {'subsample': 0.8, 'colsample_bytree': 0.75},\n",
       "  mean: 0.85136, std: 0.07410, params: {'subsample': 0.85, 'colsample_bytree': 0.75},\n",
       "  mean: 0.84986, std: 0.06549, params: {'subsample': 0.6, 'colsample_bytree': 0.8},\n",
       "  mean: 0.85246, std: 0.06842, params: {'subsample': 0.65, 'colsample_bytree': 0.8},\n",
       "  mean: 0.85193, std: 0.06620, params: {'subsample': 0.7, 'colsample_bytree': 0.8},\n",
       "  mean: 0.85139, std: 0.06987, params: {'subsample': 0.75, 'colsample_bytree': 0.8},\n",
       "  mean: 0.85589, std: 0.07104, params: {'subsample': 0.8, 'colsample_bytree': 0.8},\n",
       "  mean: 0.85136, std: 0.07410, params: {'subsample': 0.85, 'colsample_bytree': 0.8},\n",
       "  mean: 0.83989, std: 0.07913, params: {'subsample': 0.6, 'colsample_bytree': 0.85},\n",
       "  mean: 0.84549, std: 0.07412, params: {'subsample': 0.65, 'colsample_bytree': 0.85},\n",
       "  mean: 0.84991, std: 0.07328, params: {'subsample': 0.7, 'colsample_bytree': 0.85},\n",
       "  mean: 0.85308, std: 0.07230, params: {'subsample': 0.75, 'colsample_bytree': 0.85},\n",
       "  mean: 0.85260, std: 0.07265, params: {'subsample': 0.8, 'colsample_bytree': 0.85},\n",
       "  mean: 0.85115, std: 0.07642, params: {'subsample': 0.85, 'colsample_bytree': 0.85}],\n",
       " {'colsample_bytree': 0.7, 'subsample': 0.75},\n",
       " 0.8563579037212149)"
      ]
     },
     "execution_count": 76,
     "metadata": {},
     "output_type": "execute_result"
    }
   ],
   "source": [
    "param_test1 = {\n",
    "  'subsample':[i/100.0 for i in range(60,90,5)],\n",
    " 'colsample_bytree':[i/100.0 for i in range(60,90,5)]\n",
    "}\n",
    "estimator1 = XGBClassifier(learning_rate =0.1, n_estimators=25, max_depth=3,\n",
    " min_child_weight=1, gamma=0, subsample=0.8, colsample_bytree=0.8,\n",
    " objective= 'binary:logistic', nthread=4, scale_pos_weight=1, seed=27)\n",
    "\n",
    "gsearch1 = GridSearchCV(estimator1, param_grid = param_test1, scoring='f1', iid=False, cv=10)\n",
    "gsearch1.fit(train_data1, train_target1)\n",
    "gsearch1.grid_scores_, gsearch1.best_params_, gsearch1.best_score_"
   ]
  },
  {
   "cell_type": "code",
   "execution_count": 78,
   "metadata": {
    "collapsed": false
   },
   "outputs": [
    {
     "data": {
      "text/plain": [
       "([mean: 0.85636, std: 0.06559, params: {'reg_alpha': 0},\n",
       "  mean: 0.85636, std: 0.06559, params: {'reg_alpha': 1e-05},\n",
       "  mean: 0.85636, std: 0.06559, params: {'reg_alpha': 0.01},\n",
       "  mean: 0.85395, std: 0.06590, params: {'reg_alpha': 0.1},\n",
       "  mean: 0.84884, std: 0.07255, params: {'reg_alpha': 1},\n",
       "  mean: 0.82894, std: 0.07418, params: {'reg_alpha': 100}],\n",
       " {'reg_alpha': 0},\n",
       " 0.8563579037212149)"
      ]
     },
     "execution_count": 78,
     "metadata": {},
     "output_type": "execute_result"
    }
   ],
   "source": [
    "param_test1 = {\n",
    "   'reg_alpha':[0, 1e-5, 1e-2, 0.1, 1, 100]\n",
    "}\n",
    "estimator1 = XGBClassifier(learning_rate =0.1, n_estimators=25, max_depth=3,\n",
    " min_child_weight=1, gamma=0, subsample=0.75, colsample_bytree=0.7,\n",
    " objective= 'binary:logistic', nthread=4, scale_pos_weight=1, seed=27)\n",
    "\n",
    "gsearch1 = GridSearchCV(estimator1, param_grid = param_test1, scoring='f1', iid=False, cv=10)\n",
    "gsearch1.fit(train_data1, train_target1)\n",
    "gsearch1.grid_scores_, gsearch1.best_params_, gsearch1.best_score_"
   ]
  },
  {
   "cell_type": "code",
   "execution_count": 310,
   "metadata": {
    "collapsed": false
   },
   "outputs": [],
   "source": [
    "# Sampling method: SMOTE, Metric: Accuracy\n",
    "xgb_clf1 = XGBClassifier(learning_rate =0.1, n_estimators=87, max_depth=7,\n",
    " min_child_weight=3, gamma=0, subsample=0.4, colsample_bytree=0.7,reg_alpha = 0.1,\n",
    " objective= 'binary:logistic', nthread=4, scale_pos_weight=1, seed=27)"
   ]
  },
  {
   "cell_type": "code",
   "execution_count": 46,
   "metadata": {
    "collapsed": true
   },
   "outputs": [],
   "source": [
    "# Sampling method: SMOTE, Metric: Recall\n",
    "\n",
    "xgb_clf2= XGBClassifier( learning_rate =0.1, n_estimators=122, max_depth=3,\n",
    " min_child_weight=1, gamma=0, subsample=0.8, colsample_bytree=0.8,reg_alpha = 0,\n",
    " objective= 'binary:logistic', nthread=4, scale_pos_weight=1, seed=27)"
   ]
  },
  {
   "cell_type": "code",
   "execution_count": 47,
   "metadata": {
    "collapsed": true
   },
   "outputs": [],
   "source": [
    "# Combined Sampling + accuracy\n",
    "xgb_clf3= XGBClassifier( learning_rate =0.1, n_estimators=124, max_depth=9,\n",
    " min_child_weight=1, gamma=0, subsample=0.8, colsample_bytree=0.75,\n",
    " objective= 'binary:logistic', nthread=4, scale_pos_weight=1, seed=27)"
   ]
  },
  {
   "cell_type": "code",
   "execution_count": 113,
   "metadata": {
    "collapsed": true
   },
   "outputs": [],
   "source": [
    "# STOME Sampling + Precision\n",
    "xgb_clf4 = XGBClassifier( learning_rate =0.01, n_estimators=143, max_depth=3,\n",
    " min_child_weight=5, gamma=0, subsample=0.6, colsample_bytree=0.75,\n",
    " objective= 'binary:logistic', nthread=4, scale_pos_weight=1, seed=27)"
   ]
  },
  {
   "cell_type": "code",
   "execution_count": 49,
   "metadata": {
    "collapsed": true
   },
   "outputs": [],
   "source": [
    "# Combine Sampling, ratio = 0.8 + accuracy\n",
    "xgb_clf5 = XGBClassifier( learning_rate =0.1, n_estimators=120, max_depth=5,\n",
    " min_child_weight=5, gamma=0, subsample=0.75, colsample_bytree=0.8,reg_alpha = 0.1,\n",
    " objective= 'binary:logistic', nthread=4, scale_pos_weight=1, seed=27)"
   ]
  },
  {
   "cell_type": "code",
   "execution_count": 50,
   "metadata": {
    "collapsed": true
   },
   "outputs": [],
   "source": [
    "# STOME Sampling, inverse lable, recall\n",
    "xgb_clf6 = XGBClassifier( learning_rate =0.1, n_estimators=130, max_depth=5,\n",
    " min_child_weight=5, gamma=0, subsample=0.3, colsample_bytree=0.85,\n",
    " objective= 'binary:logistic', nthread=4, scale_pos_weight=1, seed=27)"
   ]
  },
  {
   "cell_type": "code",
   "execution_count": 118,
   "metadata": {
    "collapsed": true
   },
   "outputs": [],
   "source": [
    "# STOME Sampling, inverse lable, recall\n",
    "xgb_clf7 = XGBClassifier(learning_rate =0.1, n_estimators=120, max_depth=5,\n",
    " min_child_weight=5, gamma=0, subsample=0.8, colsample_bytree=0.8,\n",
    " objective= 'binary:logistic', nthread=4, scale_pos_weight=1, seed=27)"
   ]
  },
  {
   "cell_type": "code",
   "execution_count": 79,
   "metadata": {
    "collapsed": true
   },
   "outputs": [],
   "source": [
    "# STOME Sampling, non-inverse lable, f1\n",
    "xgb_clf8 = XGBClassifier(learning_rate =0.1, n_estimators=25, max_depth=3,\n",
    " min_child_weight=1, gamma=0, subsample=0.75, colsample_bytree=0.7,\n",
    " objective= 'binary:logistic', nthread=4, scale_pos_weight=1, seed=27)"
   ]
  },
  {
   "cell_type": "code",
   "execution_count": 85,
   "metadata": {
    "collapsed": false
   },
   "outputs": [
    {
     "name": "stdout",
     "output_type": "stream",
     "text": [
      "\n",
      "Model Report\n",
      "Accuracy : 0.9018\n",
      "AUC Score (Train): 0.957010\n",
      "CV Score : Mean - 0.8567347 | Std - 0.06993786 | Min - 0.76 | Max - 0.9591837\n"
     ]
    },
    {
     "data": {
      "image/png": "[encoded data removed]",
      "text/plain": [
       "<matplotlib.figure.Figure at 0x7f0d8a27c668>"
      ]
     },
     "metadata": {},
     "output_type": "display_data"
    }
   ],
   "source": [
    "modelfit(xgb_clf1, train_data1, train_target1)"
   ]
  },
  {
   "cell_type": "code",
   "execution_count": 311,
   "metadata": {
    "collapsed": false
   },
   "outputs": [
    {
     "data": {
      "text/plain": [
       "0.90182186234817818"
      ]
     },
     "execution_count": 311,
     "metadata": {},
     "output_type": "execute_result"
    }
   ],
   "source": [
    "from sklearn.metrics import confusion_matrix\n",
    "xgb_clf1.fit(train_data1, train_target1)\n",
    "xgb_predict = xgb_clf1.predict(train_data1)\n",
    "accuracy_score(train_target1, xgb_predict)\n",
    "# confusion_matrix(train_target1, xgb_predict)"
   ]
  },
  {
   "cell_type": "code",
   "execution_count": 159,
   "metadata": {
    "collapsed": false
   },
   "outputs": [
    {
     "data": {
      "text/plain": [
       "array([[54,  1],\n",
       "       [10, 25]])"
      ]
     },
     "execution_count": 159,
     "metadata": {},
     "output_type": "execute_result"
    }
   ],
   "source": [
    "xgb_predict_vali = xgb_clf1.predict(vali_data1)\n",
    "accuracy_score(vali_target1, xgb_predict_vali)\n",
    "confusion_matrix(vali_target1, xgb_predict_vali)"
   ]
  },
  {
   "cell_type": "code",
   "execution_count": 124,
   "metadata": {
    "collapsed": true
   },
   "outputs": [],
   "source": [
    "train_data_final = data_rd1[data_rd1['PassengerId']<892]\n",
    "train_target_final = train_data_final['Survived']\n",
    "train_data_final.drop('Survived', axis=1, inplace=True)\n",
    "train_data_final.drop('PassengerId', axis=1, inplace=True)"
   ]
  },
  {
   "cell_type": "code",
   "execution_count": 312,
   "metadata": {
    "collapsed": true
   },
   "outputs": [],
   "source": [
    "test_data = data_rd1[data_rd1['PassengerId']>891]\n",
    "test_data.drop('PassengerId', axis=1, inplace=True)\n",
    "test_data.drop('Survived', axis=1 ,inplace=True)"
   ]
  },
  {
   "cell_type": "code",
   "execution_count": 313,
   "metadata": {
    "collapsed": false
   },
   "outputs": [],
   "source": [
    "test_predict = xgb_clf1.predict(test_data)"
   ]
  },
  {
   "cell_type": "code",
   "execution_count": 301,
   "metadata": {
    "collapsed": false
   },
   "outputs": [],
   "source": [
    "train_data_sub = pd.concat([train_data_final['Age'], train_data_final['Fare'],  train_data_final['Group_size'],  train_data_final['Sex'], train_data_final['Pclass']], axis=1)\n",
    "test_data_sub = pd.concat([test_data['Age'], test_data['Fare'],  test_data['Group_size'],  test_data['Sex'],test_data['Pclass']], axis=1) "
   ]
  },
  {
   "cell_type": "code",
   "execution_count": 209,
   "metadata": {
    "collapsed": false
   },
   "outputs": [
    {
     "data": {
      "text/html": [
       "<div>\n",
       "<table border=\"1\" class=\"dataframe\">\n",
       "  <thead>\n",
       "    <tr style=\"text-align: right;\">\n",
       "      <th></th>\n",
       "      <th>Age</th>\n",
       "      <th>Fare</th>\n",
       "      <th>Group_size</th>\n",
       "      <th>Sex</th>\n",
       "      <th>Pclass</th>\n",
       "    </tr>\n",
       "  </thead>\n",
       "  <tbody>\n",
       "    <tr>\n",
       "      <th>0</th>\n",
       "      <td>22.0</td>\n",
       "      <td>7.2500</td>\n",
       "      <td>1</td>\n",
       "      <td>0</td>\n",
       "      <td>3</td>\n",
       "    </tr>\n",
       "    <tr>\n",
       "      <th>1</th>\n",
       "      <td>38.0</td>\n",
       "      <td>71.2833</td>\n",
       "      <td>1</td>\n",
       "      <td>1</td>\n",
       "      <td>1</td>\n",
       "    </tr>\n",
       "    <tr>\n",
       "      <th>2</th>\n",
       "      <td>26.0</td>\n",
       "      <td>7.9250</td>\n",
       "      <td>0</td>\n",
       "      <td>1</td>\n",
       "      <td>3</td>\n",
       "    </tr>\n",
       "    <tr>\n",
       "      <th>3</th>\n",
       "      <td>35.0</td>\n",
       "      <td>53.1000</td>\n",
       "      <td>1</td>\n",
       "      <td>1</td>\n",
       "      <td>1</td>\n",
       "    </tr>\n",
       "    <tr>\n",
       "      <th>4</th>\n",
       "      <td>35.0</td>\n",
       "      <td>8.0500</td>\n",
       "      <td>0</td>\n",
       "      <td>0</td>\n",
       "      <td>3</td>\n",
       "    </tr>\n",
       "  </tbody>\n",
       "</table>\n",
       "</div>"
      ],
      "text/plain": [
       "    Age     Fare  Group_size  Sex  Pclass\n",
       "0  22.0   7.2500           1    0       3\n",
       "1  38.0  71.2833           1    1       1\n",
       "2  26.0   7.9250           0    1       3\n",
       "3  35.0  53.1000           1    1       1\n",
       "4  35.0   8.0500           0    0       3"
      ]
     },
     "execution_count": 209,
     "metadata": {},
     "output_type": "execute_result"
    }
   ],
   "source": [
    "train_data_sub.head()"
   ]
  },
  {
   "cell_type": "code",
   "execution_count": 306,
   "metadata": {
    "collapsed": false
   },
   "outputs": [],
   "source": [
    "test_data_fare_mean = test_data['Fare'].mean()\n",
    "test_data_sub['Fare'] = test_data_sub['Fare'].fillna(test_data_fare_mean)"
   ]
  },
  {
   "cell_type": "code",
   "execution_count": 308,
   "metadata": {
    "collapsed": false
   },
   "outputs": [
    {
     "name": "stdout",
     "output_type": "stream",
     "text": [
      "<class 'pandas.core.frame.DataFrame'>\n",
      "Int64Index: 418 entries, 891 to 1308\n",
      "Data columns (total 5 columns):\n",
      "Age           418 non-null float64\n",
      "Fare          418 non-null float64\n",
      "Group_size    418 non-null int64\n",
      "Sex           418 non-null int64\n",
      "Pclass        418 non-null int64\n",
      "dtypes: float64(2), int64(3)\n",
      "memory usage: 19.6 KB\n"
     ]
    }
   ],
   "source": [
    "test_data_sub.info()"
   ]
  },
  {
   "cell_type": "code",
   "execution_count": 298,
   "metadata": {
    "collapsed": false
   },
   "outputs": [
    {
     "data": {
      "text/plain": [
       "MLPClassifier(activation='tanh', alpha=0.0005, batch_size='auto', beta_1=0.9,\n",
       "       beta_2=0.999, early_stopping=False, epsilon=1e-08,\n",
       "       hidden_layer_sizes=(50, 10), learning_rate='constant',\n",
       "       learning_rate_init=0.001, max_iter=200, momentum=0.9,\n",
       "       nesterovs_momentum=True, power_t=0.5, random_state=0, shuffle=True,\n",
       "       solver='adam', tol=0.0001, validation_fraction=0.1, verbose=False,\n",
       "       warm_start=False)"
      ]
     },
     "execution_count": 298,
     "metadata": {},
     "output_type": "execute_result"
    }
   ],
   "source": [
    "# Combine with multilayer perceptron\n",
    "\n",
    "from sklearn.neural_network import MLPClassifier\n",
    "MLP_clf = MLPClassifier(hidden_layer_sizes=(50, 10), random_state=0, activation='tanh', alpha=0.0005)\n",
    "MLP_clf.fit(train_data_sub, train_target_final)"
   ]
  },
  {
   "cell_type": "code",
   "execution_count": 299,
   "metadata": {
    "collapsed": false
   },
   "outputs": [
    {
     "data": {
      "text/plain": [
       "0.8125701459034792"
      ]
     },
     "execution_count": 299,
     "metadata": {},
     "output_type": "execute_result"
    }
   ],
   "source": [
    "MLP_predict = MLP_clf.predict(train_data_sub)\n",
    "accuracy_score(MLP_predict, train_target_final)"
   ]
  },
  {
   "cell_type": "code",
   "execution_count": 309,
   "metadata": {
    "collapsed": true
   },
   "outputs": [],
   "source": [
    "MLP_predict_test = MLP_clf.predict(test_data_sub)"
   ]
  },
  {
   "cell_type": "code",
   "execution_count": 332,
   "metadata": {
    "collapsed": false
   },
   "outputs": [],
   "source": [
    "final_predict = np.concatenate((MLP_predict_test.reshape(-1,1), test_predict.reshape(-1,1)), axis=1)"
   ]
  },
  {
   "cell_type": "code",
   "execution_count": 333,
   "metadata": {
    "collapsed": false
   },
   "outputs": [
    {
     "data": {
      "text/plain": [
       "(418, 2)"
      ]
     },
     "execution_count": 333,
     "metadata": {},
     "output_type": "execute_result"
    }
   ],
   "source": [
    "final_predict.shape"
   ]
  },
  {
   "cell_type": "code",
   "execution_count": 336,
   "metadata": {
    "collapsed": false
   },
   "outputs": [
    {
     "data": {
      "text/plain": [
       "[0.0,\n",
       " 0.0,\n",
       " 0.0,\n",
       " 0.0,\n",
       " 1.0,\n",
       " 0.0,\n",
       " 1.0,\n",
       " 0.0,\n",
       " 1.0,\n",
       " 0.0,\n",
       " 0.0,\n",
       " 0.0,\n",
       " 1.0,\n",
       " 0.0,\n",
       " 1.0,\n",
       " 1.0,\n",
       " 0.0,\n",
       " 0.0,\n",
       " 1.0,\n",
       " 1.0,\n",
       " 0.0,\n",
       " 1.0,\n",
       " 1.0,\n",
       " 1.0,\n",
       " 1.0,\n",
       " 0.0,\n",
       " 1.0,\n",
       " 0.0,\n",
       " 0.0,\n",
       " 0.0,\n",
       " 0.0,\n",
       " 0.0,\n",
       " 1.0,\n",
       " 0.0,\n",
       " 0.0,\n",
       " 0.0,\n",
       " 1.0,\n",
       " 1.0,\n",
       " 0.0,\n",
       " 0.0,\n",
       " 0.0,\n",
       " 1.0,\n",
       " 0.0,\n",
       " 1.0,\n",
       " 1.0,\n",
       " 0.0,\n",
       " 0.0,\n",
       " 0.0,\n",
       " 1.0,\n",
       " 1.0,\n",
       " 1.0,\n",
       " 0.0,\n",
       " 1.0,\n",
       " 1.0,\n",
       " 0.0,\n",
       " 0.0,\n",
       " 0.0,\n",
       " 0.0,\n",
       " 0.0,\n",
       " 1.0,\n",
       " 0.0,\n",
       " 0.0,\n",
       " 0.0,\n",
       " 1.0,\n",
       " 1.0,\n",
       " 1.0,\n",
       " 1.0,\n",
       " 0.0,\n",
       " 1.0,\n",
       " 1.0,\n",
       " 1.0,\n",
       " 0.0,\n",
       " 1.0,\n",
       " 0.0,\n",
       " 1.0,\n",
       " 1.0,\n",
       " 0.0,\n",
       " 1.0,\n",
       " 0.0,\n",
       " 1.0,\n",
       " 1.0,\n",
       " 0.0,\n",
       " 0.0,\n",
       " 0.0,\n",
       " 0.0,\n",
       " 0.0,\n",
       " 1.0,\n",
       " 1.0,\n",
       " 1.0,\n",
       " 1.0,\n",
       " 1.0,\n",
       " 0.0,\n",
       " 1.0,\n",
       " 0.0,\n",
       " 0.0,\n",
       " 0.0,\n",
       " 1.0,\n",
       " 0.0,\n",
       " 1.0,\n",
       " 0.0,\n",
       " 1.0,\n",
       " 0.0,\n",
       " 0.0,\n",
       " 0.0,\n",
       " 1.0,\n",
       " 0.0,\n",
       " 0.0,\n",
       " 0.0,\n",
       " 0.0,\n",
       " 0.0,\n",
       " 0.0,\n",
       " 1.0,\n",
       " 1.0,\n",
       " 1.0,\n",
       " 1.0,\n",
       " 0.0,\n",
       " 0.0,\n",
       " 1.0,\n",
       " 1.0,\n",
       " 1.0,\n",
       " 1.0,\n",
       " 0.0,\n",
       " 1.0,\n",
       " 0.0,\n",
       " 0.0,\n",
       " 1.0,\n",
       " 0.0,\n",
       " 1.0,\n",
       " 0.0,\n",
       " 0.0,\n",
       " 0.0,\n",
       " 0.0,\n",
       " 0.0,\n",
       " 0.0,\n",
       " 0.0,\n",
       " 0.0,\n",
       " 0.0,\n",
       " 0.0,\n",
       " 1.0,\n",
       " 0.0,\n",
       " 0.0,\n",
       " 1.0,\n",
       " 0.0,\n",
       " 0.0,\n",
       " 1.0,\n",
       " 0.0,\n",
       " 1.0,\n",
       " 0.0,\n",
       " 1.0,\n",
       " 0.0,\n",
       " 1.0,\n",
       " 0.0,\n",
       " 0.0,\n",
       " 1.0,\n",
       " 0.0,\n",
       " 0.0,\n",
       " 1.0,\n",
       " 1.0,\n",
       " 0.0,\n",
       " 1.0,\n",
       " 1.0,\n",
       " 1.0,\n",
       " 1.0,\n",
       " 0.0,\n",
       " 0.0,\n",
       " 1.0,\n",
       " 0.0,\n",
       " 0.0,\n",
       " 1.0,\n",
       " 1.0,\n",
       " 0.0,\n",
       " 0.0,\n",
       " 0.0,\n",
       " 0.0,\n",
       " 0.0,\n",
       " 1.0,\n",
       " 1.0,\n",
       " 0.0,\n",
       " 1.0,\n",
       " 1.0,\n",
       " 0.0,\n",
       " 0.0,\n",
       " 1.0,\n",
       " 0.0,\n",
       " 1.0,\n",
       " 0.0,\n",
       " 1.0,\n",
       " 0.0,\n",
       " 0.0,\n",
       " 0.0,\n",
       " 0.0,\n",
       " 0.0,\n",
       " 1.0,\n",
       " 0.0,\n",
       " 1.0,\n",
       " 0.0,\n",
       " 1.0,\n",
       " 1.0,\n",
       " 0.0,\n",
       " 1.0,\n",
       " 1.0,\n",
       " 1.0,\n",
       " 1.0,\n",
       " 1.0,\n",
       " 0.0,\n",
       " 0.0,\n",
       " 1.0,\n",
       " 0.0,\n",
       " 1.0,\n",
       " 0.0,\n",
       " 0.0,\n",
       " 0.0,\n",
       " 1.0,\n",
       " 1.0,\n",
       " 0.0,\n",
       " 0.0,\n",
       " 1.0,\n",
       " 0.0,\n",
       " 1.0,\n",
       " 0.0,\n",
       " 1.0,\n",
       " 0.0,\n",
       " 1.0,\n",
       " 0.0,\n",
       " 1.0,\n",
       " 1.0,\n",
       " 0.0,\n",
       " 1.0,\n",
       " 0.0,\n",
       " 0.0,\n",
       " 1.0,\n",
       " 1.0,\n",
       " 0.0,\n",
       " 0.0,\n",
       " 0.0,\n",
       " 0.0,\n",
       " 1.0,\n",
       " 0.0,\n",
       " 1.0,\n",
       " 1.0,\n",
       " 1.0,\n",
       " 1.0,\n",
       " 0.0,\n",
       " 0.0,\n",
       " 1.0,\n",
       " 1.0,\n",
       " 1.0,\n",
       " 0.0,\n",
       " 1.0,\n",
       " 1.0,\n",
       " 1.0,\n",
       " 0.0,\n",
       " 1.0,\n",
       " 0.0,\n",
       " 0.0,\n",
       " 0.0,\n",
       " 0.0,\n",
       " 0.0,\n",
       " 1.0,\n",
       " 0.0,\n",
       " 0.0,\n",
       " 0.0,\n",
       " 1.0,\n",
       " 1.0,\n",
       " 0.0,\n",
       " 0.0,\n",
       " 0.0,\n",
       " 0.0,\n",
       " 1.0,\n",
       " 0.0,\n",
       " 1.0,\n",
       " 0.0,\n",
       " 1.0,\n",
       " 1.0,\n",
       " 0.0,\n",
       " 1.0,\n",
       " 0.0,\n",
       " 0.0,\n",
       " 0.0,\n",
       " 0.0,\n",
       " 1.0,\n",
       " 1.0,\n",
       " 1.0,\n",
       " 1.0,\n",
       " 1.0,\n",
       " 0.0,\n",
       " 0.0,\n",
       " 1.0,\n",
       " 0.0,\n",
       " 0.0,\n",
       " 1.0,\n",
       " 1.0,\n",
       " 0.0,\n",
       " 1.0,\n",
       " 0.0,\n",
       " 0.0,\n",
       " 1.0,\n",
       " 0.0,\n",
       " 1.0,\n",
       " 0.0,\n",
       " 0.0,\n",
       " 0.0,\n",
       " 0.0,\n",
       " 0.0,\n",
       " 1.0,\n",
       " 1.0,\n",
       " 0.0,\n",
       " 1.0,\n",
       " 0.0,\n",
       " 1.0,\n",
       " 0.0,\n",
       " 0.0,\n",
       " 0.0,\n",
       " 1.0,\n",
       " 1.0,\n",
       " 1.0,\n",
       " 1.0,\n",
       " 0.0,\n",
       " 0.0,\n",
       " 0.0,\n",
       " 0.0,\n",
       " 0.0,\n",
       " 0.0,\n",
       " 1.0,\n",
       " 1.0,\n",
       " 0.0,\n",
       " 1.0,\n",
       " 1.0,\n",
       " 0.0,\n",
       " 0.0,\n",
       " 1.0,\n",
       " 1.0,\n",
       " 0.0,\n",
       " 1.0,\n",
       " 0.0,\n",
       " 0.0,\n",
       " 0.0,\n",
       " 0.0,\n",
       " 1.0,\n",
       " 1.0,\n",
       " 0.0,\n",
       " 0.0,\n",
       " 0.0,\n",
       " 1.0,\n",
       " 1.0,\n",
       " 1.0,\n",
       " 0.0,\n",
       " 1.0,\n",
       " 0.0,\n",
       " 1.0,\n",
       " 1.0,\n",
       " 0.0,\n",
       " 1.0,\n",
       " 0.0,\n",
       " 1.0,\n",
       " 0.0,\n",
       " 1.0,\n",
       " 0.0,\n",
       " 0.0,\n",
       " 1.0,\n",
       " 0.0,\n",
       " 1.0,\n",
       " 1.0,\n",
       " 0.0,\n",
       " 1.0,\n",
       " 0.0,\n",
       " 0.0,\n",
       " 1.0,\n",
       " 1.0,\n",
       " 0.0,\n",
       " 0.0,\n",
       " 1.0,\n",
       " 0.0,\n",
       " 0.0,\n",
       " 1.0,\n",
       " 1.0,\n",
       " 1.0,\n",
       " 0.0,\n",
       " 0.0,\n",
       " 0.0,\n",
       " 0.0,\n",
       " 0.0,\n",
       " 1.0,\n",
       " 1.0,\n",
       " 0.0,\n",
       " 1.0,\n",
       " 0.0,\n",
       " 0.0,\n",
       " 0.0,\n",
       " 0.0,\n",
       " 1.0,\n",
       " 1.0,\n",
       " 1.0,\n",
       " 0.0,\n",
       " 0.0,\n",
       " 1.0,\n",
       " 0.0,\n",
       " 1.0,\n",
       " 0.0,\n",
       " 0.0,\n",
       " 1.0,\n",
       " 0.0,\n",
       " 1.0,\n",
       " 1.0,\n",
       " 0.0,\n",
       " 0.0,\n",
       " 0.0,\n",
       " 0.0,\n",
       " 1.0,\n",
       " 1.0,\n",
       " 1.0,\n",
       " 1.0,\n",
       " 1.0,\n",
       " 0.0,\n",
       " 1.0,\n",
       " 0.0,\n",
       " 0.0,\n",
       " 1.0]"
      ]
     },
     "execution_count": 336,
     "metadata": {},
     "output_type": "execute_result"
    }
   ],
   "source": [
    "list(np.max(final_predict, axis=1))"
   ]
  },
  {
   "cell_type": "code",
   "execution_count": 316,
   "metadata": {
    "collapsed": false
   },
   "outputs": [
    {
     "data": {
      "text/plain": [
       "array([ 0.,  0.,  0.,  0.,  1.,  0.,  1.,  0.,  1.,  0.,  0.,  0.,  1.,\n",
       "        0.,  1.,  1.,  0.,  0.,  1.,  0.,  0.,  0.,  1.,  1.,  1.,  0.,\n",
       "        1.,  0.,  0.,  0.,  0.,  0.,  1.,  0.,  0.,  0.,  1.,  1.,  0.,\n",
       "        0.,  0.,  0.,  0.,  1.,  1.,  0.,  0.,  0.,  1.,  1.,  1.,  0.,\n",
       "        1.,  1.,  0.,  0.,  0.,  0.,  0.,  1.,  0.,  0.,  0.,  1.,  1.,\n",
       "        1.,  1.,  0.,  0.,  1.,  1.,  0.,  1.,  0.,  1.,  1.,  0.,  1.,\n",
       "        0.,  1.,  0.,  0.,  0.,  0.,  0.,  0.,  1.,  1.,  1.,  1.,  1.,\n",
       "        0.,  1.,  0.,  0.,  0.,  1.,  0.,  1.,  0.,  1.,  0.,  0.,  0.,\n",
       "        1.,  0.,  0.,  0.,  0.,  0.,  0.,  1.,  1.,  1.,  1.,  0.,  0.,\n",
       "        1.,  1.,  1.,  1.,  0.,  1.,  0.,  0.,  1.,  0.,  1.,  0.,  0.,\n",
       "        0.,  0.,  0.,  0.,  0.,  0.,  0.,  0.,  1.,  0.,  0.,  1.,  0.,\n",
       "        0.,  0.,  0.,  1.,  0.,  0.,  0.,  1.,  0.,  0.,  1.,  0.,  0.,\n",
       "        1.,  1.,  0.,  1.,  1.,  0.,  1.,  0.,  0.,  1.,  0.,  0.,  1.,\n",
       "        1.,  0.,  0.,  0.,  0.,  0.,  1.,  1.,  0.,  1.,  1.,  0.,  0.,\n",
       "        1.,  0.,  1.,  0.,  1.,  0.,  0.,  0.,  0.,  0.,  0.,  0.,  0.,\n",
       "        0.,  1.,  1.,  0.,  1.,  1.,  1.,  0.,  1.,  0.,  0.,  1.,  0.,\n",
       "        1.,  0.,  0.,  0.,  1.,  1.,  0.,  0.,  1.,  0.,  1.,  0.,  1.,\n",
       "        0.,  1.,  0.,  1.,  1.,  0.,  1.,  0.,  0.,  1.,  1.,  0.,  0.,\n",
       "        0.,  0.,  1.,  0.,  1.,  1.,  1.,  1.,  0.,  0.,  0.,  1.,  1.,\n",
       "        0.,  1.,  1.,  1.,  0.,  1.,  0.,  0.,  0.,  0.,  0.,  1.,  0.,\n",
       "        0.,  0.,  1.,  1.,  0.,  0.,  0.,  0.,  1.,  0.,  1.,  0.,  1.,\n",
       "        1.,  0.,  1.,  0.,  0.,  0.,  0.,  1.,  1.,  1.,  1.,  1.,  0.,\n",
       "        0.,  1.,  0.,  0.,  1.,  1.,  0.,  0.,  0.,  0.,  1.,  0.,  1.,\n",
       "        0.,  0.,  0.,  0.,  0.,  1.,  1.,  0.,  1.,  0.,  1.,  0.,  0.,\n",
       "        0.,  1.,  1.,  1.,  1.,  0.,  0.,  0.,  0.,  0.,  0.,  0.,  1.,\n",
       "        0.,  1.,  1.,  0.,  0.,  1.,  0.,  0.,  1.,  0.,  0.,  0.,  0.,\n",
       "        1.,  1.,  0.,  0.,  0.,  1.,  1.,  1.,  0.,  1.,  0.,  1.,  1.,\n",
       "        0.,  1.,  0.,  1.,  0.,  1.,  0.,  0.,  1.,  0.,  1.,  1.,  0.,\n",
       "        1.,  0.,  0.,  1.,  1.,  0.,  0.,  1.,  0.,  0.,  1.,  1.,  1.,\n",
       "        0.,  0.,  0.,  0.,  0.,  1.,  1.,  0.,  1.,  0.,  0.,  0.,  0.,\n",
       "        1.,  1.,  0.,  0.,  0.,  1.,  0.,  1.,  0.,  0.,  1.,  0.,  1.,\n",
       "        1.,  0.,  0.,  0.,  0.,  1.,  1.,  1.,  1.,  1.,  0.,  1.,  0.,\n",
       "        0.,  1.])"
      ]
     },
     "execution_count": 316,
     "metadata": {},
     "output_type": "execute_result"
    }
   ],
   "source": [
    "MLP_predict_test"
   ]
  },
  {
   "cell_type": "code",
   "execution_count": null,
   "metadata": {
    "collapsed": true
   },
   "outputs": [],
   "source": []
  }
 ],
 "metadata": {
  "kernelspec": {
   "display_name": "Python 3",
   "language": "python",
   "name": "python3"
  },
  "language_info": {
   "codemirror_mode": {
    "name": "ipython",
    "version": 3
   },
   "file_extension": ".py",
   "mimetype": "text/x-python",
   "name": "python",
   "nbconvert_exporter": "python",
   "pygments_lexer": "ipython3",
   "version": "3.5.2"
  }
 },
 "nbformat": 4,
 "nbformat_minor": 2
}
