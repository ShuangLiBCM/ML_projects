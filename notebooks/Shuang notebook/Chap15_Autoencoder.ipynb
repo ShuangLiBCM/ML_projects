{
 "cells": [
  {
   "cell_type": "code",
   "execution_count": 34,
   "metadata": {
    "collapsed": true
   },
   "outputs": [],
   "source": [
    "import tensorflow as tf\n",
    "from tensorflow.contrib.layers import fully_connected\n",
    "import matplotlib.pyplot as plt\n",
    "\n",
    "% matplotlib inline"
   ]
  },
  {
   "cell_type": "code",
   "execution_count": 21,
   "metadata": {
    "collapsed": false
   },
   "outputs": [],
   "source": [
    "n_inputs = 784\n",
    "n_hidden1 = 300\n",
    "n_hidden2 = 150\n",
    "n_hidden3 = n_hidden1\n",
    "n_outputs = n_inputs\n",
    "\n",
    "learning_rate = 0.01\n",
    "l2_reg = 0.001\n",
    "\n",
    "X=tf.placeholder(tf.float32, shape=(None, n_inputs))\n",
    "\n",
    "with tf.contrib.framework.arg_scope(\n",
    "    [fully_connected],\n",
    "    activation_fn=tf.nn.elu,\n",
    "    weights_initializer = tf.contrib.layers.variance_scaling_initializer(),\n",
    "    weights_regularizer = tf.contrib.layers.l2_regularizer(l2_reg)):\n",
    "    hidden1=fully_connected(X, n_hidden1)\n",
    "    hidden2=fully_connected(hidden1, n_hidden2)\n",
    "    hidden3=fully_connected(hidden2, n_hidden3)\n",
    "    outputs=fully_connected(hidden3, n_outputs, activation_fn=None)\n",
    "\n",
    "reconstruction_loss = tf.reduce_mean(tf.square(outputs-X))\n",
    "reg_losses = tf.get_collection(tf.GraphKeys.REGULARIZATION_LOSSES)\n",
    "\n",
    "loss = tf.add_n([reconstruction_loss]+reg_losses)\n",
    "\n",
    "optimizer = tf.train.AdamOptimizer(learning_rate=learning_rate)\n",
    "training = optimizer.minimize(loss)\n",
    "\n",
    "init = tf.global_variables_initializer()"
   ]
  },
  {
   "cell_type": "code",
   "execution_count": 22,
   "metadata": {
    "collapsed": false
   },
   "outputs": [
    {
     "name": "stdout",
     "output_type": "stream",
     "text": [
      "Extracting /tmp/data/train-images-idx3-ubyte.gz\n",
      "Extracting /tmp/data/train-labels-idx1-ubyte.gz\n",
      "Extracting /tmp/data/t10k-images-idx3-ubyte.gz\n",
      "Extracting /tmp/data/t10k-labels-idx1-ubyte.gz\n"
     ]
    }
   ],
   "source": [
    "from tensorflow.examples.tutorials.mnist import input_data\n",
    "\n",
    "mnist = input_data.read_data_sets('/tmp/data')\n",
    "X_train = mnist.train.images\n",
    "X_test = mnist.test.images"
   ]
  },
  {
   "cell_type": "code",
   "execution_count": 23,
   "metadata": {
    "collapsed": false
   },
   "outputs": [
    {
     "name": "stdout",
     "output_type": "stream",
     "text": [
      "recon_loss_bef:0.7856044769287109 recon_loss_aft:0.03739762306213379\n"
     ]
    }
   ],
   "source": [
    "n_epoch=5\n",
    "batch_size=100\n",
    "\n",
    "with tf.Session() as sess:\n",
    "    init.run()\n",
    "    recon_test_bef = sess.run(reconstruction_loss, feed_dict={X:X_test})\n",
    "    for epoch in range(n_epoch):\n",
    "        for interation in range(mnist.train.num_examples//batch_size):\n",
    "            X_batch, y_batch = mnist.train.next_batch(batch_size)\n",
    "            training.run(feed_dict={X:X_batch})\n",
    "    recon_test_aft = sess.run(reconstruction_loss, feed_dict={X:X_test})\n",
    "    \n",
    "print('recon_loss_bef:{}'.format(recon_test_bef), 'recon_loss_aft:{}'.format(recon_test_aft))"
   ]
  },
  {
   "cell_type": "code",
   "execution_count": 29,
   "metadata": {
    "collapsed": false
   },
   "outputs": [],
   "source": [
    "# Implementing tying weights\n",
    "n_inputs = 784\n",
    "n_hidden1 = 300\n",
    "n_hidden2 = 150\n",
    "\n",
    "activation =tf.nn.elu\n",
    "regularizer = tf.contrib.layers.l2_regularizer(l2_reg)\n",
    "initializer = tf.contrib.layers.variance_scaling_initializer()\n",
    "\n",
    "X = tf.placeholder(tf.float32,shape=[None, n_inputs])\n",
    "\n",
    "weights1_init = initializer([n_inputs, n_hidden1])\n",
    "weights2_init = initializer([n_hidden1, n_hidden2])\n",
    "\n",
    "\n",
    "weights1 = tf.Variable(weights1_init, dtype=tf.float32, name='weights1')\n",
    "weights2 = tf.Variable(weights2_init, dtype=tf.float32, name='weights2')\n",
    "weights3 = tf.transpose(weights2, name='weights3')\n",
    "weights4 = tf.transpose(weights1, name='weights4')\n",
    "\n",
    "biases1 = tf.Variable(tf.zeros(n_hidden1), name='biases1')\n",
    "biases2 = tf.Variable(tf.zeros(n_hidden2), name='biases2')\n",
    "biases3 = tf.Variable(tf.zeros(n_hidden3), name='biases3')\n",
    "biases4 = tf.Variable(tf.zeros(n_outputs), name='biases4')\n",
    "\n",
    "hidden1 = activation(tf.matmul(X, weights1) + biases1)\n",
    "hidden2 = activation(tf.matmul(hidden1, weights2) + biases2)\n",
    "hidden3 = activation(tf.matmul(hidden2, weights3) + biases3)\n",
    "outputs = tf.matmul(hidden3, weights4) + biases4\n",
    "\n",
    "recon_loss = tf.reduce_sum(tf.square(outputs-X))\n",
    "reg_loss = regularizer(weights1) + regularizer(weights2)\n",
    "loss = recon_loss + reg_loss\n",
    "\n",
    "optimizer = tf.train.AdamOptimizer()\n",
    "train_op = optimizer.minimize(loss)\n",
    "\n",
    "init = tf.global_variables_initializer()"
   ]
  },
  {
   "cell_type": "code",
   "execution_count": 58,
   "metadata": {
    "collapsed": false
   },
   "outputs": [],
   "source": [
    "X_test = mnist.test.images[0]\n",
    "\n",
    "with tf.Session() as sess:\n",
    "    init.run()\n",
    "    \n",
    "    for epoch in range(n_epoch):\n",
    "        for interation in range(mnist.train.num_examples//batch_size):\n",
    "            X_train, y_train = mnist.train.next_batch(batch_size)\n",
    "            train_op.run(feed_dict={X:X_train})\n",
    "    recon_test = outputs.eval(feed_dict={X:X_test.reshape(-1, 784)})\n",
    "    weights1_plot = weights1.eval()"
   ]
  },
  {
   "cell_type": "code",
   "execution_count": 59,
   "metadata": {
    "collapsed": false
   },
   "outputs": [
    {
     "data": {
      "text/plain": [
       "<matplotlib.image.AxesImage at 0x7f1dfae5c0f0>"
      ]
     },
     "execution_count": 59,
     "metadata": {},
     "output_type": "execute_result"
    },
    {
     "data": {
      "image/png": "[encoded data removed]",
      "text/plain": [
       "<matplotlib.figure.Figure at 0x7f1dfa861828>"
      ]
     },
     "metadata": {},
     "output_type": "display_data"
    }
   ],
   "source": [
    "fig, axes = plt.subplots(1,2)\n",
    "axes[1].imshow(recon_test.reshape(28,28),cmap='Greys', interpolation='nearest')\n",
    "axes[0].imshow(X_test.reshape(28,28),cmap='Greys', interpolation='nearest')"
   ]
  },
  {
   "cell_type": "code",
   "execution_count": 81,
   "metadata": {
    "collapsed": false
   },
   "outputs": [
    {
     "data": {
      "image/png": "[encoded data removed]",
      "text/plain": [
       "<matplotlib.figure.Figure at 0x7f1dfb2815f8>"
      ]
     },
     "metadata": {},
     "output_type": "display_data"
    }
   ],
   "source": [
    "# Visualize features that learned by the first hidden layer\n",
    "fig, axes = plt.subplots(1,6)\n",
    "\n",
    "k = 0\n",
    "    \n",
    "for i in range(n_hidden1):\n",
    "    if i%50 == 0:\n",
    "        axes[k].imshow(weights1_plot[:,i].reshape(28,28), cmap='Greys', interpolation='nearest')\n",
    "        k = k +1"
   ]
  },
  {
   "cell_type": "code",
   "execution_count": null,
   "metadata": {
    "collapsed": true
   },
   "outputs": [],
   "source": []
  }
 ],
 "metadata": {
  "kernelspec": {
   "display_name": "Python 3",
   "language": "python",
   "name": "python3"
  },
  "language_info": {
   "codemirror_mode": {
    "name": "ipython",
    "version": 3
   },
   "file_extension": ".py",
   "mimetype": "text/x-python",
   "name": "python",
   "nbconvert_exporter": "python",
   "pygments_lexer": "ipython3",
   "version": "3.5.2"
  }
 },
 "nbformat": 4,
 "nbformat_minor": 2
}
