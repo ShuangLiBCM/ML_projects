{
 "cells": [
  {
   "cell_type": "code",
   "execution_count": 1,
   "metadata": {
    "collapsed": false
   },
   "outputs": [],
   "source": [
    "from sklearn import datasets\n",
    "import numpy as np\n",
    "import matplotlib.pyplot as plt\n",
    "%matplotlib inline"
   ]
  },
  {
   "cell_type": "code",
   "execution_count": 2,
   "metadata": {
    "collapsed": true
   },
   "outputs": [],
   "source": [
    "iris = datasets.load_iris()"
   ]
  },
  {
   "cell_type": "code",
   "execution_count": 3,
   "metadata": {
    "collapsed": false
   },
   "outputs": [
    {
     "data": {
      "text/plain": [
       "['target_names', 'DESCR', 'feature_names', 'target', 'data']"
      ]
     },
     "execution_count": 3,
     "metadata": {},
     "output_type": "execute_result"
    }
   ],
   "source": [
    "list(iris.keys())"
   ]
  },
  {
   "cell_type": "code",
   "execution_count": 14,
   "metadata": {
    "collapsed": false
   },
   "outputs": [],
   "source": [
    "X = iris[\"data\"][:,3:]   # petal width"
   ]
  },
  {
   "cell_type": "code",
   "execution_count": 26,
   "metadata": {
    "collapsed": false
   },
   "outputs": [],
   "source": [
    "y = (iris[\"target\"] == 2).astype(int)   # 1 if Iris-Virginica, else 0"
   ]
  },
  {
   "cell_type": "code",
   "execution_count": 29,
   "metadata": {
    "collapsed": false
   },
   "outputs": [
    {
     "data": {
      "text/plain": [
       "LogisticRegression(C=1.0, class_weight=None, dual=False, fit_intercept=True,\n",
       "          intercept_scaling=1, max_iter=100, multi_class='ovr', n_jobs=1,\n",
       "          penalty='l2', random_state=None, solver='liblinear', tol=0.0001,\n",
       "          verbose=0, warm_start=False)"
      ]
     },
     "execution_count": 29,
     "metadata": {},
     "output_type": "execute_result"
    }
   ],
   "source": [
    "from sklearn.linear_model import LogisticRegression\n",
    "\n",
    "log_reg = LogisticRegression()\n",
    "log_reg.fit(X,y)"
   ]
  },
  {
   "cell_type": "code",
   "execution_count": 46,
   "metadata": {
    "collapsed": false
   },
   "outputs": [
    {
     "data": {
      "text/plain": [
       "<matplotlib.legend.Legend at 0x7fbb5e42f2e8>"
      ]
     },
     "execution_count": 46,
     "metadata": {},
     "output_type": "execute_result"
    },
    {
     "data": {
      "image/png": "[encoded data removed]",
      "text/plain": [
       "<matplotlib.figure.Figure at 0x7fbb5e46b278>"
      ]
     },
     "metadata": {},
     "output_type": "display_data"
    }
   ],
   "source": [
    "X_new = np.linspace(0,3,1000).reshape(-1,1)\n",
    "y_prob = log_reg.predict_proba(X_new)\n",
    "plt.plot(X_new, y_prob[:,1], \"g-\", label=\"Iris-Virginica\")\n",
    "plt.plot(X_new, y_prob[:,0], \"b-\", label=\"Iris-nonVirginica\")\n",
    "plt.legend()"
   ]
  },
  {
   "cell_type": "markdown",
   "metadata": {},
   "source": [
    "### Exercise: implement batch gradient descent with early stopping for softmax regression \n",
    "without using Scikit-Learn"
   ]
  },
  {
   "cell_type": "code",
   "execution_count": 2,
   "metadata": {
    "collapsed": true
   },
   "outputs": [],
   "source": [
    "# Load the data\n",
    "iris = datasets.load_iris()"
   ]
  },
  {
   "cell_type": "code",
   "execution_count": 179,
   "metadata": {
    "collapsed": false
   },
   "outputs": [
    {
     "name": "stdout",
     "output_type": "stream",
     "text": [
      "(150, 2) (150,)\n"
     ]
    }
   ],
   "source": [
    "X = iris.data[:,(2,3)]    # Use only patel width and length\n",
    "y = iris.target\n",
    "print(X.shape, y.shape)"
   ]
  },
  {
   "cell_type": "code",
   "execution_count": 4,
   "metadata": {
    "collapsed": false
   },
   "outputs": [],
   "source": [
    "# Pad X with ones for learning the bias term\n",
    "X_pad = np.c_[(np.ones(X.shape[0]), X)]"
   ]
  },
  {
   "cell_type": "code",
   "execution_count": 5,
   "metadata": {
    "collapsed": false
   },
   "outputs": [],
   "source": [
    "# Modify y into one-hot coding so that we could perform multiclass classficiation with soft-max indicating the probabitliy\n",
    "def one_hot(y):\n",
    "    \n",
    "    y_one_hot = np.zeros((len(y), np.unique(y).shape[0]))\n",
    "\n",
    "    y_one_hot[np.arange(len(y)), y]= 1\n",
    "    \n",
    "    return y_one_hot"
   ]
  },
  {
   "cell_type": "code",
   "execution_count": 116,
   "metadata": {
    "collapsed": false
   },
   "outputs": [],
   "source": [
    "# Split the data into training, valdation and testing\n",
    "np.random.seed(606)\n",
    "rand_idx = np.random.permutation(y.shape[0])\n",
    "\n",
    "train_idx = rand_idx[:int(rand_idx.shape[0] * 0.6)]\n",
    "test_idx = rand_idx[int(rand_idx.shape[0] * 0.6):int(rand_idx.shape[0] * 0.8)]\n",
    "vali_idx = rand_idx[int(rand_idx.shape[0] * 0.8):]\n",
    "\n",
    "X_train = X_pad[train_idx, :]\n",
    "y_train = y[train_idx]\n",
    "y_train_hot = one_hot(y_train)\n",
    "X_vali = X_pad[vali_idx, :]\n",
    "y_vali = y[vali_idx]\n",
    "y_vali_hot = one_hot(y_vali)\n",
    "X_test = X_pad[test_idx, :] \n",
    "y_test = y[test_idx]\n",
    "y_test_hot = one_hot(y_test)"
   ]
  },
  {
   "cell_type": "code",
   "execution_count": 117,
   "metadata": {
    "collapsed": false
   },
   "outputs": [
    {
     "data": {
      "text/plain": [
       "(90, 3)"
      ]
     },
     "execution_count": 117,
     "metadata": {},
     "output_type": "execute_result"
    }
   ],
   "source": [
    "y_train_hot.shape"
   ]
  },
  {
   "cell_type": "code",
   "execution_count": 118,
   "metadata": {
    "collapsed": false
   },
   "outputs": [],
   "source": [
    "# Define key functions\n",
    "def softmax(y):\n",
    "    exps = np.exp(y)\n",
    "    exp_sums = np.sum(exps, axis=1).reshape(-1,1).dot(np.ones((1,3)))\n",
    "    \n",
    "    return exps/exp_sums\n",
    "\n",
    "def cross_entropy_loss(y_pred, y_target):\n",
    "    # Get the log of y_pred\n",
    "    log_y_pred = np.log(y_pred)\n",
    "    # Get the loss \n",
    "    loss = -np.sum(log_y_pred * y_target, axis=1)\n",
    "    # Get the cost\n",
    "    cost = np.mean(loss, axis=0)\n",
    "    return cost\n",
    "\n",
    "def cost_l2(theta):\n",
    "    l2_cost = 1/2*np.sum(np.square(theta[1:, :]))\n",
    "    return l2_cost\n",
    "\n",
    "def gradient(y_pred, y_target, X):\n",
    "    m = X.shape[0]\n",
    "    error = y_pred - y_target\n",
    "    grad = X.T.dot(error)/m\n",
    "    return grad\n",
    "\n",
    "# Test making predictions with validation set and evaluate the accuracy\n",
    "def accuracy(X_vali, theta, y_vali):\n",
    "    y_pred = softmax(X_vali.dot(theta))\n",
    "    vali_idx = np.argmax(y_pred, axis=1)\n",
    "    acc_per = np.mean(np.equal(vali_idx, y_vali))\n",
    "    return acc_per"
   ]
  },
  {
   "cell_type": "code",
   "execution_count": 119,
   "metadata": {
    "collapsed": true
   },
   "outputs": [],
   "source": [
    "theta = np.random.randn(n_input, n_output)"
   ]
  },
  {
   "cell_type": "code",
   "execution_count": 120,
   "metadata": {
    "collapsed": false
   },
   "outputs": [
    {
     "data": {
      "text/plain": [
       "0.33333333333333331"
      ]
     },
     "execution_count": 120,
     "metadata": {},
     "output_type": "execute_result"
    }
   ],
   "source": [
    "accuracy(X_test, theta, y_test)"
   ]
  },
  {
   "cell_type": "code",
   "execution_count": 127,
   "metadata": {
    "collapsed": false
   },
   "outputs": [
    {
     "name": "stdout",
     "output_type": "stream",
     "text": [
      "0 0.358919862403\n",
      "1000 0.218335255516\n",
      "2000 0.178610433702\n",
      "3000 0.156646911213\n",
      "4000 0.141760702447\n",
      "5000 0.130657773315\n"
     ]
    }
   ],
   "source": [
    "# Impletment batch gradient descent\n",
    "lr = 0.1\n",
    "iteration = 5001\n",
    "n_input = X_train.shape[1]\n",
    "n_output = y_train_hot.shape[1]\n",
    "alpha = 0.1\n",
    "\n",
    "for i in range(iteration):\n",
    "    y_pred = softmax(X_train.dot(theta))\n",
    "    cost = cross_entropy_loss(y_pred, y_train_hot)\n",
    "    grad = gradient(y_pred, y_train_hot, X_train)\n",
    "    if i % 1000 == 0:\n",
    "        print(i, cost)\n",
    "    theta = theta - lr * grad"
   ]
  },
  {
   "cell_type": "code",
   "execution_count": 128,
   "metadata": {
    "collapsed": false
   },
   "outputs": [
    {
     "data": {
      "text/plain": [
       "0.90000000000000002"
      ]
     },
     "execution_count": 128,
     "metadata": {},
     "output_type": "execute_result"
    }
   ],
   "source": [
    "accuracy(X_vali, theta, y_vali)"
   ]
  },
  {
   "cell_type": "code",
   "execution_count": 129,
   "metadata": {
    "collapsed": true
   },
   "outputs": [],
   "source": [
    "theta = np.random.randn(n_input, n_output)"
   ]
  },
  {
   "cell_type": "code",
   "execution_count": 130,
   "metadata": {
    "collapsed": false
   },
   "outputs": [
    {
     "name": "stdout",
     "output_type": "stream",
     "text": [
      "0 1.84996554469\n",
      "1000 0.503117019236\n",
      "2000 0.492678271055\n",
      "3000 0.490948681371\n",
      "4000 0.490606455696\n",
      "5000 0.490534619353\n"
     ]
    }
   ],
   "source": [
    "# Impletment batch gradient descent with l2 regularization\n",
    "lr = 0.1\n",
    "iteration = 5001\n",
    "n_input = X_train.shape[1]\n",
    "n_output = y_train_hot.shape[1]\n",
    "alpha = 0.1\n",
    "\n",
    "for i in range(iteration):\n",
    "    y_pred = softmax(X_train.dot(theta))\n",
    "    cost = cross_entropy_loss(y_pred, y_train_hot) + alpha*cost_l2(theta)\n",
    "    grad = gradient(y_pred, y_train_hot, X_train) + np.r_[np.zeros((1, n_output)), alpha*theta[1:,:]]\n",
    "    if i % 1000 == 0:\n",
    "        print(i, cost)\n",
    "    theta = theta - lr * grad"
   ]
  },
  {
   "cell_type": "code",
   "execution_count": 131,
   "metadata": {
    "collapsed": false
   },
   "outputs": [
    {
     "data": {
      "text/plain": [
       "array([[ 4.36710871,  0.34702931, -4.48154018],\n",
       "       [-1.08519154,  0.17992806,  0.90526348],\n",
       "       [-0.42160514, -0.19999242,  0.62159756]])"
      ]
     },
     "execution_count": 131,
     "metadata": {},
     "output_type": "execute_result"
    }
   ],
   "source": [
    "theta"
   ]
  },
  {
   "cell_type": "code",
   "execution_count": 132,
   "metadata": {
    "collapsed": false
   },
   "outputs": [
    {
     "data": {
      "text/plain": [
       "0.96666666666666667"
      ]
     },
     "execution_count": 132,
     "metadata": {},
     "output_type": "execute_result"
    }
   ],
   "source": [
    "accuracy(X_vali, theta, y_vali)"
   ]
  },
  {
   "cell_type": "code",
   "execution_count": 151,
   "metadata": {
    "collapsed": false
   },
   "outputs": [
    {
     "name": "stdout",
     "output_type": "stream",
     "text": [
      "0 3.80831332117\n",
      "5000 0.490534776457\n",
      "10000 0.490514878994\n",
      "15000 0.49051486902\n",
      "20000 0.490514869014\n",
      "25000 0.490514869014\n",
      "30000 0.490514869014\n",
      "35000 0.490514869014\n",
      "Early stopping!\n"
     ]
    }
   ],
   "source": [
    "# Track the development of cost and validation error\n",
    "# Impletment batch gradient descent with l2 regularization\n",
    "theta = np.random.randn(n_input, n_output)\n",
    "lr = 0.1\n",
    "iteration = 50001\n",
    "n_input = X_train.shape[1]\n",
    "n_output = y_train_hot.shape[1]\n",
    "alpha = 0.1\n",
    "best_loss = np.infty\n",
    "\n",
    "for i in range(iteration):\n",
    "    y_pred = softmax(X_train.dot(theta))\n",
    "    cost = cross_entropy_loss(y_pred, y_train_hot) + alpha*cost_l2(theta)\n",
    "    grad = gradient(y_pred, y_train_hot, X_train) + np.r_[np.zeros((1, n_output)), alpha*theta[1:,:]]\n",
    "    theta = theta - lr * grad\n",
    "    \n",
    "    # Calculate the validation loss \n",
    "    y_pred_vali = softmax(X_vali.dot(theta))\n",
    "    vali_loss = cross_entropy_loss(y_pred_vali, y_vali_hot)\n",
    "    if i % 5000 == 0:\n",
    "        print(i, cost)\n",
    "    \n",
    "    if vali_loss < best_loss:\n",
    "        best_loss = vali_loss\n",
    "    else:\n",
    "        print('Early stopping!')\n",
    "        break"
   ]
  },
  {
   "cell_type": "code",
   "execution_count": 152,
   "metadata": {
    "collapsed": false
   },
   "outputs": [
    {
     "data": {
      "text/plain": [
       "0.96666666666666667"
      ]
     },
     "execution_count": 152,
     "metadata": {},
     "output_type": "execute_result"
    }
   ],
   "source": [
    "accuracy(X_vali, theta, y_vali)"
   ]
  },
  {
   "cell_type": "code",
   "execution_count": 159,
   "metadata": {
    "collapsed": false
   },
   "outputs": [
    {
     "name": "stdout",
     "output_type": "stream",
     "text": [
      "[1.0, 6.9000000000000004, 0.10000000000000001, 2.5]\n"
     ]
    }
   ],
   "source": [
    "# Plot the final results\n",
    "# Get the range of the two features:\n",
    "x0_min = np.min(X[:,0])\n",
    "x0_max = np.max(X[:,0])\n",
    "x1_min = np.min(X[:,1])\n",
    "x1_max = np.max(X[:,1])\n",
    "print([x0_min, x0_max, x1_min, x1_max])"
   ]
  },
  {
   "cell_type": "code",
   "execution_count": 157,
   "metadata": {
    "collapsed": false
   },
   "outputs": [
    {
     "data": {
      "text/plain": [
       "6.9000000000000004"
      ]
     },
     "execution_count": 157,
     "metadata": {},
     "output_type": "execute_result"
    }
   ],
   "source": [
    "np.max(X[:,0])"
   ]
  },
  {
   "cell_type": "code",
   "execution_count": 160,
   "metadata": {
    "collapsed": true
   },
   "outputs": [],
   "source": [
    "x0, x1 = np.meshgrid(np.linspace(x0_min,x0_max, 1000), np.linspace(x1_min, x1_max, 500))\n",
    "X_mesh = np.c_[x0.ravel(), x1.ravel()]"
   ]
  },
  {
   "cell_type": "code",
   "execution_count": 188,
   "metadata": {
    "collapsed": false
   },
   "outputs": [],
   "source": [
    "# Pad X with bias\n",
    "X_mesh_pad = np.c_[np.ones(X.shape[0]).reshape(-1, 1), X]\n",
    "prob_mesh = softmax(X_pad.dot(theta))\n",
    "pred_mesh = np.argmax(prob_mesh, axis=1)\n",
    "\n",
    "zz1 = prob_mesh[:,1].reshape(x0.shape)\n",
    "zz = pred_mesh.reshape(x0.shape)"
   ]
  },
  {
   "cell_type": "code",
   "execution_count": 199,
   "metadata": {
    "collapsed": false
   },
   "outputs": [
    {
     "data": {
      "text/plain": [
       "<a list of 10 text.Text objects>"
      ]
     },
     "execution_count": 199,
     "metadata": {},
     "output_type": "execute_result"
    },
    {
     "data": {
      "image/png": "[encoded data removed]",
      "text/plain": [
       "<matplotlib.figure.Figure at 0x7f511c1b6a90>"
      ]
     },
     "metadata": {},
     "output_type": "display_data"
    }
   ],
   "source": [
    "# Plot the orignal data \n",
    "plt.figure(figsize = [10,4])\n",
    "plt.plot(X[y==0,0], X[y==0,1], 'g^', label='group1')\n",
    "plt.plot(X[y==1,0], X[y==1,1], 'bs', label='group2')\n",
    "plt.plot(X[y==2,0], X[y==2,1], 'yo',label='group3')\n",
    "\n",
    "from matplotlib.colors import ListedColormap\n",
    "custom_cmap = ListedColormap(['#fafab0','#9898ff','#a0faa0'])\n",
    "\n",
    "plt.contourf(x0, x1, zz, cmap=custom_cmap, linewidth=5)\n",
    "contour = plt.contour(x0, x1, zz1, cmap=plt.cm.brg)\n",
    "plt.clabel(contour, inline=1, fontsize=12)"
   ]
  },
  {
   "cell_type": "code",
   "execution_count": 203,
   "metadata": {
    "collapsed": false
   },
   "outputs": [
    {
     "data": {
      "text/plain": [
       "1.0"
      ]
     },
     "execution_count": 203,
     "metadata": {},
     "output_type": "execute_result"
    }
   ],
   "source": [
    "accuracy(X_test, theta, y_test)"
   ]
  },
  {
   "cell_type": "code",
   "execution_count": null,
   "metadata": {
    "collapsed": true
   },
   "outputs": [],
   "source": []
  }
 ],
 "metadata": {
  "kernelspec": {
   "display_name": "Python 3",
   "language": "python",
   "name": "python3"
  },
  "language_info": {
   "codemirror_mode": {
    "name": "ipython",
    "version": 3
   },
   "file_extension": ".py",
   "mimetype": "text/x-python",
   "name": "python",
   "nbconvert_exporter": "python",
   "pygments_lexer": "ipython3",
   "version": "3.5.2"
  }
 },
 "nbformat": 4,
 "nbformat_minor": 2
}
