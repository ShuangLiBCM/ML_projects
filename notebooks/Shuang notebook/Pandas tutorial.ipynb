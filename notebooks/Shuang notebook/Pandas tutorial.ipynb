{
 "cells": [
  {
   "cell_type": "markdown",
   "metadata": {},
   "source": [
    "The purpose of Pandas is to enable easy visualization and processing of data that is stored in panda data frame. "
   ]
  },
  {
   "cell_type": "markdown",
   "metadata": {},
   "source": [
    "Therefore, the first step will be : load data. "
   ]
  },
  {
   "cell_type": "code",
   "execution_count": 151,
   "metadata": {
    "collapsed": true
   },
   "outputs": [],
   "source": [
    "import numpy as np\n",
    "import pandas as pd"
   ]
  },
  {
   "cell_type": "code",
   "execution_count": 152,
   "metadata": {
    "collapsed": false
   },
   "outputs": [
    {
     "name": "stdout",
     "output_type": "stream",
     "text": [
      "Chapter 3 Classification_MNIST.ipynb  Pandas tutorial.ipynb  \u001b[0m\u001b[01;32mign.csv\u001b[0m*\r\n",
      "Chapter2 Housing.ipynb                \u001b[01;34mdatasets\u001b[0m/              \u001b[01;32mthanksgiving.csv\u001b[0m*\r\n"
     ]
    }
   ],
   "source": [
    "ls"
   ]
  },
  {
   "cell_type": "code",
   "execution_count": 155,
   "metadata": {
    "collapsed": true
   },
   "outputs": [],
   "source": [
    "ign = pd.read_csv('ign.csv')"
   ]
  },
  {
   "cell_type": "markdown",
   "metadata": {},
   "source": [
    "Next, we will need to be able to explore the data.To obtain a general view, including how many columns, whether there is missing data, what are the data types. "
   ]
  },
  {
   "cell_type": "code",
   "execution_count": 156,
   "metadata": {
    "collapsed": false
   },
   "outputs": [
    {
     "data": {
      "text/html": [
       "<div>\n",
       "<table border=\"1\" class=\"dataframe\">\n",
       "  <thead>\n",
       "    <tr style=\"text-align: right;\">\n",
       "      <th></th>\n",
       "      <th>Unnamed: 0</th>\n",
       "      <th>score_phrase</th>\n",
       "      <th>title</th>\n",
       "      <th>url</th>\n",
       "      <th>platform</th>\n",
       "      <th>score</th>\n",
       "      <th>genre</th>\n",
       "      <th>editors_choice</th>\n",
       "      <th>release_year</th>\n",
       "      <th>release_month</th>\n",
       "      <th>release_day</th>\n",
       "    </tr>\n",
       "  </thead>\n",
       "  <tbody>\n",
       "    <tr>\n",
       "      <th>0</th>\n",
       "      <td>0</td>\n",
       "      <td>Amazing</td>\n",
       "      <td>LittleBigPlanet PS Vita</td>\n",
       "      <td>/games/littlebigplanet-vita/vita-98907</td>\n",
       "      <td>PlayStation Vita</td>\n",
       "      <td>9.0</td>\n",
       "      <td>Platformer</td>\n",
       "      <td>Y</td>\n",
       "      <td>2012</td>\n",
       "      <td>9</td>\n",
       "      <td>12</td>\n",
       "    </tr>\n",
       "    <tr>\n",
       "      <th>1</th>\n",
       "      <td>1</td>\n",
       "      <td>Amazing</td>\n",
       "      <td>LittleBigPlanet PS Vita -- Marvel Super Hero E...</td>\n",
       "      <td>/games/littlebigplanet-ps-vita-marvel-super-he...</td>\n",
       "      <td>PlayStation Vita</td>\n",
       "      <td>9.0</td>\n",
       "      <td>Platformer</td>\n",
       "      <td>Y</td>\n",
       "      <td>2012</td>\n",
       "      <td>9</td>\n",
       "      <td>12</td>\n",
       "    </tr>\n",
       "    <tr>\n",
       "      <th>2</th>\n",
       "      <td>2</td>\n",
       "      <td>Great</td>\n",
       "      <td>Splice: Tree of Life</td>\n",
       "      <td>/games/splice/ipad-141070</td>\n",
       "      <td>iPad</td>\n",
       "      <td>8.5</td>\n",
       "      <td>Puzzle</td>\n",
       "      <td>N</td>\n",
       "      <td>2012</td>\n",
       "      <td>9</td>\n",
       "      <td>12</td>\n",
       "    </tr>\n",
       "    <tr>\n",
       "      <th>3</th>\n",
       "      <td>3</td>\n",
       "      <td>Great</td>\n",
       "      <td>NHL 13</td>\n",
       "      <td>/games/nhl-13/xbox-360-128182</td>\n",
       "      <td>Xbox 360</td>\n",
       "      <td>8.5</td>\n",
       "      <td>Sports</td>\n",
       "      <td>N</td>\n",
       "      <td>2012</td>\n",
       "      <td>9</td>\n",
       "      <td>11</td>\n",
       "    </tr>\n",
       "    <tr>\n",
       "      <th>4</th>\n",
       "      <td>4</td>\n",
       "      <td>Great</td>\n",
       "      <td>NHL 13</td>\n",
       "      <td>/games/nhl-13/ps3-128181</td>\n",
       "      <td>PlayStation 3</td>\n",
       "      <td>8.5</td>\n",
       "      <td>Sports</td>\n",
       "      <td>N</td>\n",
       "      <td>2012</td>\n",
       "      <td>9</td>\n",
       "      <td>11</td>\n",
       "    </tr>\n",
       "  </tbody>\n",
       "</table>\n",
       "</div>"
      ],
      "text/plain": [
       "   Unnamed: 0 score_phrase                                              title  \\\n",
       "0           0      Amazing                            LittleBigPlanet PS Vita   \n",
       "1           1      Amazing  LittleBigPlanet PS Vita -- Marvel Super Hero E...   \n",
       "2           2        Great                               Splice: Tree of Life   \n",
       "3           3        Great                                             NHL 13   \n",
       "4           4        Great                                             NHL 13   \n",
       "\n",
       "                                                 url          platform  score  \\\n",
       "0             /games/littlebigplanet-vita/vita-98907  PlayStation Vita    9.0   \n",
       "1  /games/littlebigplanet-ps-vita-marvel-super-he...  PlayStation Vita    9.0   \n",
       "2                          /games/splice/ipad-141070              iPad    8.5   \n",
       "3                      /games/nhl-13/xbox-360-128182          Xbox 360    8.5   \n",
       "4                           /games/nhl-13/ps3-128181     PlayStation 3    8.5   \n",
       "\n",
       "        genre editors_choice  release_year  release_month  release_day  \n",
       "0  Platformer              Y          2012              9           12  \n",
       "1  Platformer              Y          2012              9           12  \n",
       "2      Puzzle              N          2012              9           12  \n",
       "3      Sports              N          2012              9           11  \n",
       "4      Sports              N          2012              9           11  "
      ]
     },
     "execution_count": 156,
     "metadata": {},
     "output_type": "execute_result"
    }
   ],
   "source": [
    "ign.head()"
   ]
  },
  {
   "cell_type": "code",
   "execution_count": 157,
   "metadata": {
    "collapsed": false
   },
   "outputs": [
    {
     "name": "stdout",
     "output_type": "stream",
     "text": [
      "<class 'pandas.core.frame.DataFrame'>\n",
      "RangeIndex: 18625 entries, 0 to 18624\n",
      "Data columns (total 11 columns):\n",
      "Unnamed: 0        18625 non-null int64\n",
      "score_phrase      18625 non-null object\n",
      "title             18625 non-null object\n",
      "url               18625 non-null object\n",
      "platform          18625 non-null object\n",
      "score             18625 non-null float64\n",
      "genre             18589 non-null object\n",
      "editors_choice    18625 non-null object\n",
      "release_year      18625 non-null int64\n",
      "release_month     18625 non-null int64\n",
      "release_day       18625 non-null int64\n",
      "dtypes: float64(1), int64(4), object(6)\n",
      "memory usage: 1.6+ MB\n"
     ]
    }
   ],
   "source": [
    "ign.info()"
   ]
  },
  {
   "cell_type": "markdown",
   "metadata": {},
   "source": [
    "To be able to get access to different rows and/or columns, we will normally use .iloc or .loc. .iloc will retrieve the data based solely on the indexing, while .loc enable us to retrieve from labels."
   ]
  },
  {
   "cell_type": "code",
   "execution_count": 158,
   "metadata": {
    "collapsed": false
   },
   "outputs": [
    {
     "data": {
      "text/plain": [
       "1    LittleBigPlanet PS Vita -- Marvel Super Hero E...\n",
       "2                                 Splice: Tree of Life\n",
       "3                                               NHL 13\n",
       "4                                               NHL 13\n",
       "5                            Total War Battles: Shogun\n",
       "Name: title, dtype: object"
      ]
     },
     "execution_count": 158,
     "metadata": {},
     "output_type": "execute_result"
    }
   ],
   "source": [
    "ign.loc[1:5, \"title\"]"
   ]
  },
  {
   "cell_type": "markdown",
   "metadata": {},
   "source": [
    "We need to be able to obtain the summary statistics."
   ]
  },
  {
   "cell_type": "code",
   "execution_count": 159,
   "metadata": {
    "collapsed": false
   },
   "outputs": [
    {
     "data": {
      "text/html": [
       "<div>\n",
       "<table border=\"1\" class=\"dataframe\">\n",
       "  <thead>\n",
       "    <tr style=\"text-align: right;\">\n",
       "      <th></th>\n",
       "      <th>Unnamed: 0</th>\n",
       "      <th>score_phrase</th>\n",
       "      <th>title</th>\n",
       "      <th>url</th>\n",
       "      <th>platform</th>\n",
       "      <th>score</th>\n",
       "      <th>genre</th>\n",
       "      <th>editors_choice</th>\n",
       "      <th>release_year</th>\n",
       "      <th>release_month</th>\n",
       "      <th>release_day</th>\n",
       "    </tr>\n",
       "  </thead>\n",
       "  <tbody>\n",
       "    <tr>\n",
       "      <th>1</th>\n",
       "      <td>1</td>\n",
       "      <td>Amazing</td>\n",
       "      <td>LittleBigPlanet PS Vita -- Marvel Super Hero E...</td>\n",
       "      <td>/games/littlebigplanet-ps-vita-marvel-super-he...</td>\n",
       "      <td>PlayStation Vita</td>\n",
       "      <td>9.0</td>\n",
       "      <td>Platformer</td>\n",
       "      <td>Y</td>\n",
       "      <td>2012</td>\n",
       "      <td>9</td>\n",
       "      <td>12</td>\n",
       "    </tr>\n",
       "    <tr>\n",
       "      <th>2</th>\n",
       "      <td>2</td>\n",
       "      <td>Great</td>\n",
       "      <td>Splice: Tree of Life</td>\n",
       "      <td>/games/splice/ipad-141070</td>\n",
       "      <td>iPad</td>\n",
       "      <td>8.5</td>\n",
       "      <td>Puzzle</td>\n",
       "      <td>N</td>\n",
       "      <td>2012</td>\n",
       "      <td>9</td>\n",
       "      <td>12</td>\n",
       "    </tr>\n",
       "    <tr>\n",
       "      <th>3</th>\n",
       "      <td>3</td>\n",
       "      <td>Great</td>\n",
       "      <td>NHL 13</td>\n",
       "      <td>/games/nhl-13/xbox-360-128182</td>\n",
       "      <td>Xbox 360</td>\n",
       "      <td>8.5</td>\n",
       "      <td>Sports</td>\n",
       "      <td>N</td>\n",
       "      <td>2012</td>\n",
       "      <td>9</td>\n",
       "      <td>11</td>\n",
       "    </tr>\n",
       "    <tr>\n",
       "      <th>4</th>\n",
       "      <td>4</td>\n",
       "      <td>Great</td>\n",
       "      <td>NHL 13</td>\n",
       "      <td>/games/nhl-13/ps3-128181</td>\n",
       "      <td>PlayStation 3</td>\n",
       "      <td>8.5</td>\n",
       "      <td>Sports</td>\n",
       "      <td>N</td>\n",
       "      <td>2012</td>\n",
       "      <td>9</td>\n",
       "      <td>11</td>\n",
       "    </tr>\n",
       "  </tbody>\n",
       "</table>\n",
       "</div>"
      ],
      "text/plain": [
       "   Unnamed: 0 score_phrase                                              title  \\\n",
       "1           1      Amazing  LittleBigPlanet PS Vita -- Marvel Super Hero E...   \n",
       "2           2        Great                               Splice: Tree of Life   \n",
       "3           3        Great                                             NHL 13   \n",
       "4           4        Great                                             NHL 13   \n",
       "\n",
       "                                                 url          platform  score  \\\n",
       "1  /games/littlebigplanet-ps-vita-marvel-super-he...  PlayStation Vita    9.0   \n",
       "2                          /games/splice/ipad-141070              iPad    8.5   \n",
       "3                      /games/nhl-13/xbox-360-128182          Xbox 360    8.5   \n",
       "4                           /games/nhl-13/ps3-128181     PlayStation 3    8.5   \n",
       "\n",
       "        genre editors_choice  release_year  release_month  release_day  \n",
       "1  Platformer              Y          2012              9           12  \n",
       "2      Puzzle              N          2012              9           12  \n",
       "3      Sports              N          2012              9           11  \n",
       "4      Sports              N          2012              9           11  "
      ]
     },
     "execution_count": 159,
     "metadata": {},
     "output_type": "execute_result"
    }
   ],
   "source": [
    "ign.iloc[1:5]"
   ]
  },
  {
   "cell_type": "markdown",
   "metadata": {},
   "source": [
    "When we use .loc to retrieve a column, we obtained a pandas series."
   ]
  },
  {
   "cell_type": "code",
   "execution_count": 160,
   "metadata": {
    "collapsed": false
   },
   "outputs": [],
   "source": [
    "ign_title = ign.loc[:,\"title\"]"
   ]
  },
  {
   "cell_type": "code",
   "execution_count": 161,
   "metadata": {
    "collapsed": false
   },
   "outputs": [
    {
     "data": {
      "text/plain": [
       "pandas.core.series.Series"
      ]
     },
     "execution_count": 161,
     "metadata": {},
     "output_type": "execute_result"
    }
   ],
   "source": [
    "type(ign_title)"
   ]
  },
  {
   "cell_type": "code",
   "execution_count": 162,
   "metadata": {
    "collapsed": true
   },
   "outputs": [],
   "source": [
    "s1 = pd.Series([1, 2, 'test1', 'test2'])"
   ]
  },
  {
   "cell_type": "code",
   "execution_count": 163,
   "metadata": {
    "collapsed": false
   },
   "outputs": [],
   "source": [
    "s2 = pd.Series([2,3,4])"
   ]
  },
  {
   "cell_type": "markdown",
   "metadata": {},
   "source": [
    "By combining two series into the dataframe class, we will be able to create a pandas data frame"
   ]
  },
  {
   "cell_type": "code",
   "execution_count": 164,
   "metadata": {
    "collapsed": false
   },
   "outputs": [
    {
     "data": {
      "text/html": [
       "<div>\n",
       "<table border=\"1\" class=\"dataframe\">\n",
       "  <thead>\n",
       "    <tr style=\"text-align: right;\">\n",
       "      <th></th>\n",
       "      <th>0</th>\n",
       "      <th>1</th>\n",
       "      <th>2</th>\n",
       "      <th>3</th>\n",
       "    </tr>\n",
       "  </thead>\n",
       "  <tbody>\n",
       "    <tr>\n",
       "      <th>0</th>\n",
       "      <td>1.0</td>\n",
       "      <td>2.0</td>\n",
       "      <td>test1</td>\n",
       "      <td>test2</td>\n",
       "    </tr>\n",
       "    <tr>\n",
       "      <th>1</th>\n",
       "      <td>2.0</td>\n",
       "      <td>3.0</td>\n",
       "      <td>4</td>\n",
       "      <td>NaN</td>\n",
       "    </tr>\n",
       "  </tbody>\n",
       "</table>\n",
       "</div>"
      ],
      "text/plain": [
       "     0    1      2      3\n",
       "0  1.0  2.0  test1  test2\n",
       "1  2.0  3.0      4    NaN"
      ]
     },
     "execution_count": 164,
     "metadata": {},
     "output_type": "execute_result"
    }
   ],
   "source": [
    "pd.DataFrame([s1, s2])"
   ]
  },
  {
   "cell_type": "markdown",
   "metadata": {},
   "source": [
    "By passing different datatypes into pandas DataFrame, we will be able to create different data frame. We could also specify labels for some cases"
   ]
  },
  {
   "cell_type": "code",
   "execution_count": 165,
   "metadata": {
    "collapsed": false
   },
   "outputs": [
    {
     "data": {
      "text/html": [
       "<div>\n",
       "<table border=\"1\" class=\"dataframe\">\n",
       "  <thead>\n",
       "    <tr style=\"text-align: right;\">\n",
       "      <th></th>\n",
       "      <th>column1</th>\n",
       "      <th>column2</th>\n",
       "      <th>column3</th>\n",
       "      <th>column4</th>\n",
       "    </tr>\n",
       "  </thead>\n",
       "  <tbody>\n",
       "    <tr>\n",
       "      <th>row1</th>\n",
       "      <td>1</td>\n",
       "      <td>2</td>\n",
       "      <td>test1</td>\n",
       "      <td>test2</td>\n",
       "    </tr>\n",
       "    <tr>\n",
       "      <th>row2</th>\n",
       "      <td>2</td>\n",
       "      <td>3</td>\n",
       "      <td>4</td>\n",
       "      <td>None</td>\n",
       "    </tr>\n",
       "  </tbody>\n",
       "</table>\n",
       "</div>"
      ],
      "text/plain": [
       "      column1  column2 column3 column4\n",
       "row1        1        2   test1   test2\n",
       "row2        2        3       4    None"
      ]
     },
     "execution_count": 165,
     "metadata": {},
     "output_type": "execute_result"
    }
   ],
   "source": [
    "pd.DataFrame(\n",
    "    [\n",
    "        [1,2,\"test1\", \"test2\"],\n",
    "        [2,3,4]\n",
    "    ], \n",
    "    index = [\"row1\", \"row2\"],\n",
    "    columns = [\"column1\", \"column2\",  \"column3\", \"column4\"]\n",
    "        )"
   ]
  },
  {
   "cell_type": "code",
   "execution_count": 166,
   "metadata": {
    "collapsed": false
   },
   "outputs": [
    {
     "data": {
      "text/html": [
       "<div>\n",
       "<table border=\"1\" class=\"dataframe\">\n",
       "  <thead>\n",
       "    <tr style=\"text-align: right;\">\n",
       "      <th></th>\n",
       "      <th>column1</th>\n",
       "      <th>column2</th>\n",
       "    </tr>\n",
       "  </thead>\n",
       "  <tbody>\n",
       "    <tr>\n",
       "      <th>0</th>\n",
       "      <td>1</td>\n",
       "      <td>2</td>\n",
       "    </tr>\n",
       "    <tr>\n",
       "      <th>1</th>\n",
       "      <td>2</td>\n",
       "      <td>3</td>\n",
       "    </tr>\n",
       "    <tr>\n",
       "      <th>2</th>\n",
       "      <td>test1</td>\n",
       "      <td>4</td>\n",
       "    </tr>\n",
       "    <tr>\n",
       "      <th>3</th>\n",
       "      <td>test2</td>\n",
       "      <td>5</td>\n",
       "    </tr>\n",
       "  </tbody>\n",
       "</table>\n",
       "</div>"
      ],
      "text/plain": [
       "  column1  column2\n",
       "0       1        2\n",
       "1       2        3\n",
       "2   test1        4\n",
       "3   test2        5"
      ]
     },
     "execution_count": 166,
     "metadata": {},
     "output_type": "execute_result"
    }
   ],
   "source": [
    "pd.DataFrame({\n",
    "    \"column1\": [1,2,\"test1\", \"test2\"],\n",
    "    \"column2\": [2,3,4,5]\n",
    "}\n",
    ")"
   ]
  },
  {
   "cell_type": "code",
   "execution_count": 167,
   "metadata": {
    "collapsed": false
   },
   "outputs": [
    {
     "data": {
      "text/plain": [
       "0        1\n",
       "1        2\n",
       "2    test1\n",
       "3    test2\n",
       "dtype: object"
      ]
     },
     "execution_count": 167,
     "metadata": {},
     "output_type": "execute_result"
    }
   ],
   "source": [
    "s1.head()"
   ]
  },
  {
   "cell_type": "code",
   "execution_count": 168,
   "metadata": {
    "collapsed": false
   },
   "outputs": [
    {
     "data": {
      "text/html": [
       "<div>\n",
       "<table border=\"1\" class=\"dataframe\">\n",
       "  <thead>\n",
       "    <tr style=\"text-align: right;\">\n",
       "      <th></th>\n",
       "      <th>Unnamed: 0</th>\n",
       "      <th>score</th>\n",
       "      <th>release_year</th>\n",
       "      <th>release_month</th>\n",
       "      <th>release_day</th>\n",
       "    </tr>\n",
       "  </thead>\n",
       "  <tbody>\n",
       "    <tr>\n",
       "      <th>Unnamed: 0</th>\n",
       "      <td>1.000000</td>\n",
       "      <td>0.035579</td>\n",
       "      <td>0.893394</td>\n",
       "      <td>-0.096676</td>\n",
       "      <td>0.010068</td>\n",
       "    </tr>\n",
       "    <tr>\n",
       "      <th>score</th>\n",
       "      <td>0.035579</td>\n",
       "      <td>1.000000</td>\n",
       "      <td>0.062716</td>\n",
       "      <td>0.007632</td>\n",
       "      <td>0.020079</td>\n",
       "    </tr>\n",
       "    <tr>\n",
       "      <th>release_year</th>\n",
       "      <td>0.893394</td>\n",
       "      <td>0.062716</td>\n",
       "      <td>1.000000</td>\n",
       "      <td>-0.115515</td>\n",
       "      <td>0.016867</td>\n",
       "    </tr>\n",
       "    <tr>\n",
       "      <th>release_month</th>\n",
       "      <td>-0.096676</td>\n",
       "      <td>0.007632</td>\n",
       "      <td>-0.115515</td>\n",
       "      <td>1.000000</td>\n",
       "      <td>-0.067964</td>\n",
       "    </tr>\n",
       "    <tr>\n",
       "      <th>release_day</th>\n",
       "      <td>0.010068</td>\n",
       "      <td>0.020079</td>\n",
       "      <td>0.016867</td>\n",
       "      <td>-0.067964</td>\n",
       "      <td>1.000000</td>\n",
       "    </tr>\n",
       "  </tbody>\n",
       "</table>\n",
       "</div>"
      ],
      "text/plain": [
       "               Unnamed: 0     score  release_year  release_month  release_day\n",
       "Unnamed: 0       1.000000  0.035579      0.893394      -0.096676     0.010068\n",
       "score            0.035579  1.000000      0.062716       0.007632     0.020079\n",
       "release_year     0.893394  0.062716      1.000000      -0.115515     0.016867\n",
       "release_month   -0.096676  0.007632     -0.115515       1.000000    -0.067964\n",
       "release_day      0.010068  0.020079      0.016867      -0.067964     1.000000"
      ]
     },
     "execution_count": 168,
     "metadata": {},
     "output_type": "execute_result"
    }
   ],
   "source": [
    "ign.corr()"
   ]
  },
  {
   "cell_type": "code",
   "execution_count": 169,
   "metadata": {
    "collapsed": false
   },
   "outputs": [
    {
     "data": {
      "text/plain": [
       "Unnamed: 0       9312.000000\n",
       "score               6.950459\n",
       "release_year     2006.515329\n",
       "release_month       7.138470\n",
       "release_day        15.603866\n",
       "dtype: float64"
      ]
     },
     "execution_count": 169,
     "metadata": {},
     "output_type": "execute_result"
    }
   ],
   "source": [
    "ign.mean()"
   ]
  },
  {
   "cell_type": "code",
   "execution_count": 170,
   "metadata": {
    "collapsed": true
   },
   "outputs": [],
   "source": [
    "ign_year_filter = ign[ign[\"release_year\"] > 2006]"
   ]
  },
  {
   "cell_type": "code",
   "execution_count": 171,
   "metadata": {
    "collapsed": false
   },
   "outputs": [
    {
     "name": "stdout",
     "output_type": "stream",
     "text": [
      "<class 'pandas.core.frame.DataFrame'>\n",
      "Int64Index: 10225 entries, 0 to 18624\n",
      "Data columns (total 11 columns):\n",
      "Unnamed: 0        10225 non-null int64\n",
      "score_phrase      10225 non-null object\n",
      "title             10225 non-null object\n",
      "url               10225 non-null object\n",
      "platform          10225 non-null object\n",
      "score             10225 non-null float64\n",
      "genre             10189 non-null object\n",
      "editors_choice    10225 non-null object\n",
      "release_year      10225 non-null int64\n",
      "release_month     10225 non-null int64\n",
      "release_day       10225 non-null int64\n",
      "dtypes: float64(1), int64(4), object(6)\n",
      "memory usage: 958.6+ KB\n"
     ]
    }
   ],
   "source": [
    "ign_year_filter.info()"
   ]
  },
  {
   "cell_type": "code",
   "execution_count": 172,
   "metadata": {
    "collapsed": false
   },
   "outputs": [],
   "source": [
    "ign_double_filter = ign[(ign[\"release_year\"] > 2006) & (ign[\"release_month\"] <7)]"
   ]
  },
  {
   "cell_type": "code",
   "execution_count": 173,
   "metadata": {
    "collapsed": false
   },
   "outputs": [
    {
     "name": "stdout",
     "output_type": "stream",
     "text": [
      "<class 'pandas.core.frame.DataFrame'>\n",
      "Int64Index: 4704 entries, 307 to 18624\n",
      "Data columns (total 11 columns):\n",
      "Unnamed: 0        4704 non-null int64\n",
      "score_phrase      4704 non-null object\n",
      "title             4704 non-null object\n",
      "url               4704 non-null object\n",
      "platform          4704 non-null object\n",
      "score             4704 non-null float64\n",
      "genre             4687 non-null object\n",
      "editors_choice    4704 non-null object\n",
      "release_year      4704 non-null int64\n",
      "release_month     4704 non-null int64\n",
      "release_day       4704 non-null int64\n",
      "dtypes: float64(1), int64(4), object(6)\n",
      "memory usage: 441.0+ KB\n"
     ]
    }
   ],
   "source": [
    "ign_double_filter.info()"
   ]
  },
  {
   "cell_type": "code",
   "execution_count": 174,
   "metadata": {
    "collapsed": false
   },
   "outputs": [
    {
     "data": {
      "text/plain": [
       "array(['PlayStation Vita', 'iPad', 'Xbox 360', 'PlayStation 3',\n",
       "       'Macintosh', 'PC', 'iPhone', 'Nintendo DS', 'Nintendo 3DS',\n",
       "       'Android', 'Wii', 'PlayStation 4', 'Wii U', 'Linux',\n",
       "       'PlayStation Portable', 'PlayStation', 'Nintendo 64', 'Saturn',\n",
       "       'Lynx', 'Game Boy', 'Game Boy Color', 'NeoGeo Pocket Color',\n",
       "       'Game.Com', 'Dreamcast', 'Dreamcast VMU', 'WonderSwan', 'Arcade',\n",
       "       'Nintendo 64DD', 'PlayStation 2', 'WonderSwan Color',\n",
       "       'Game Boy Advance', 'Xbox', 'GameCube', 'DVD / HD Video Game',\n",
       "       'Wireless', 'Pocket PC', 'N-Gage', 'NES', 'iPod', 'Genesis',\n",
       "       'TurboGrafx-16', 'Super NES', 'NeoGeo', 'Master System',\n",
       "       'Atari 5200', 'TurboGrafx-CD', 'Atari 2600', 'Sega 32X', 'Vectrex',\n",
       "       'Commodore 64/128', 'Sega CD', 'Nintendo DSi', 'Windows Phone',\n",
       "       'Web Games', 'Xbox One', 'Windows Surface', 'Ouya',\n",
       "       'New Nintendo 3DS', 'SteamOS'], dtype=object)"
      ]
     },
     "execution_count": 174,
     "metadata": {},
     "output_type": "execute_result"
    }
   ],
   "source": [
    "ign[\"platform\"].unique()"
   ]
  },
  {
   "cell_type": "code",
   "execution_count": 175,
   "metadata": {
    "collapsed": false
   },
   "outputs": [
    {
     "data": {
      "text/plain": [
       "PC                      3370\n",
       "PlayStation 2           1686\n",
       "Xbox 360                1631\n",
       "Wii                     1366\n",
       "PlayStation 3           1356\n",
       "Nintendo DS             1045\n",
       "PlayStation              952\n",
       "Wireless                 910\n",
       "iPhone                   842\n",
       "Xbox                     821\n",
       "PlayStation Portable     633\n",
       "Game Boy Advance         623\n",
       "GameCube                 509\n",
       "Game Boy Color           356\n",
       "Nintendo 64              302\n",
       "Dreamcast                286\n",
       "PlayStation 4            277\n",
       "Nintendo DSi             254\n",
       "Nintendo 3DS             225\n",
       "Xbox One                 208\n",
       "PlayStation Vita         155\n",
       "Wii U                    114\n",
       "iPad                      99\n",
       "Lynx                      82\n",
       "Macintosh                 81\n",
       "Genesis                   58\n",
       "NES                       49\n",
       "TurboGrafx-16             40\n",
       "Android                   39\n",
       "Super NES                 33\n",
       "NeoGeo Pocket Color       31\n",
       "N-Gage                    30\n",
       "Game Boy                  22\n",
       "iPod                      17\n",
       "Sega 32X                  16\n",
       "Windows Phone             14\n",
       "Master System             13\n",
       "Arcade                    11\n",
       "Linux                     10\n",
       "NeoGeo                    10\n",
       "Nintendo 64DD              7\n",
       "Commodore 64/128           6\n",
       "Saturn                     6\n",
       "Atari 2600                 5\n",
       "WonderSwan                 4\n",
       "TurboGrafx-CD              3\n",
       "Game.Com                   3\n",
       "Atari 5200                 2\n",
       "New Nintendo 3DS           2\n",
       "Vectrex                    2\n",
       "Dreamcast VMU              1\n",
       "SteamOS                    1\n",
       "Ouya                       1\n",
       "Pocket PC                  1\n",
       "Web Games                  1\n",
       "Sega CD                    1\n",
       "Windows Surface            1\n",
       "WonderSwan Color           1\n",
       "DVD / HD Video Game        1\n",
       "Name: platform, dtype: int64"
      ]
     },
     "execution_count": 175,
     "metadata": {},
     "output_type": "execute_result"
    }
   ],
   "source": [
    "ign[\"platform\"].value_counts()"
   ]
  },
  {
   "cell_type": "code",
   "execution_count": 176,
   "metadata": {
    "collapsed": false
   },
   "outputs": [],
   "source": [
    "PC = ign[ign[\"platform\"]==\"PC\"]\n",
    "ipad = ign[ign[\"platform\"]==\"iPad\"]"
   ]
  },
  {
   "cell_type": "code",
   "execution_count": 177,
   "metadata": {
    "collapsed": false
   },
   "outputs": [
    {
     "name": "stdout",
     "output_type": "stream",
     "text": [
      "<class 'pandas.core.frame.DataFrame'>\n",
      "Int64Index: 3370 entries, 7 to 18624\n",
      "Data columns (total 11 columns):\n",
      "Unnamed: 0        3370 non-null int64\n",
      "score_phrase      3370 non-null object\n",
      "title             3370 non-null object\n",
      "url               3370 non-null object\n",
      "platform          3370 non-null object\n",
      "score             3370 non-null float64\n",
      "genre             3367 non-null object\n",
      "editors_choice    3370 non-null object\n",
      "release_year      3370 non-null int64\n",
      "release_month     3370 non-null int64\n",
      "release_day       3370 non-null int64\n",
      "dtypes: float64(1), int64(4), object(6)\n",
      "memory usage: 315.9+ KB\n"
     ]
    }
   ],
   "source": [
    "PC.info()"
   ]
  },
  {
   "cell_type": "code",
   "execution_count": 178,
   "metadata": {
    "collapsed": false
   },
   "outputs": [
    {
     "name": "stdout",
     "output_type": "stream",
     "text": [
      "<class 'pandas.core.frame.DataFrame'>\n",
      "Int64Index: 99 entries, 2 to 18338\n",
      "Data columns (total 11 columns):\n",
      "Unnamed: 0        99 non-null int64\n",
      "score_phrase      99 non-null object\n",
      "title             99 non-null object\n",
      "url               99 non-null object\n",
      "platform          99 non-null object\n",
      "score             99 non-null float64\n",
      "genre             99 non-null object\n",
      "editors_choice    99 non-null object\n",
      "release_year      99 non-null int64\n",
      "release_month     99 non-null int64\n",
      "release_day       99 non-null int64\n",
      "dtypes: float64(1), int64(4), object(6)\n",
      "memory usage: 9.3+ KB\n"
     ]
    }
   ],
   "source": [
    "ipad.info()"
   ]
  },
  {
   "cell_type": "code",
   "execution_count": 179,
   "metadata": {
    "collapsed": true
   },
   "outputs": [],
   "source": [
    "% matplotlib inline"
   ]
  },
  {
   "cell_type": "code",
   "execution_count": 180,
   "metadata": {
    "collapsed": false
   },
   "outputs": [
    {
     "data": {
      "text/plain": [
       "<matplotlib.axes._subplots.AxesSubplot at 0x7f9b5fb48d68>"
      ]
     },
     "execution_count": 180,
     "metadata": {},
     "output_type": "execute_result"
    },
    {
     "data": {
      "image/png": "[encoded data removed]",
      "text/plain": [
       "<matplotlib.figure.Figure at 0x7f9b63dce278>"
      ]
     },
     "metadata": {},
     "output_type": "display_data"
    }
   ],
   "source": [
    "PC[\"score\"].plot(kind = \"hist\")"
   ]
  },
  {
   "cell_type": "code",
   "execution_count": 181,
   "metadata": {
    "collapsed": false
   },
   "outputs": [],
   "source": [
    "thx_g = pd.read_csv('thanksgiving.csv', encoding=\"Latin-1\")"
   ]
  },
  {
   "cell_type": "code",
   "execution_count": 182,
   "metadata": {
    "collapsed": false
   },
   "outputs": [
    {
     "data": {
      "text/html": [
       "<div>\n",
       "<table border=\"1\" class=\"dataframe\">\n",
       "  <thead>\n",
       "    <tr style=\"text-align: right;\">\n",
       "      <th></th>\n",
       "      <th>RespondentID</th>\n",
       "      <th>Do you celebrate Thanksgiving?</th>\n",
       "      <th>What is typically the main dish at your Thanksgiving dinner?</th>\n",
       "      <th>What is typically the main dish at your Thanksgiving dinner? - Other (please specify)</th>\n",
       "      <th>How is the main dish typically cooked?</th>\n",
       "      <th>How is the main dish typically cooked? - Other (please specify)</th>\n",
       "      <th>What kind of stuffing/dressing do you typically have?</th>\n",
       "      <th>What kind of stuffing/dressing do you typically have? - Other (please specify)</th>\n",
       "      <th>What type of cranberry saucedo you typically have?</th>\n",
       "      <th>What type of cranberry saucedo you typically have? - Other (please specify)</th>\n",
       "      <th>...</th>\n",
       "      <th>Have you ever tried to meet up with hometown friends on Thanksgiving night?</th>\n",
       "      <th>Have you ever attended a \"Friendsgiving?\"</th>\n",
       "      <th>Will you shop any Black Friday sales on Thanksgiving Day?</th>\n",
       "      <th>Do you work in retail?</th>\n",
       "      <th>Will you employer make you work on Black Friday?</th>\n",
       "      <th>How would you describe where you live?</th>\n",
       "      <th>Age</th>\n",
       "      <th>What is your gender?</th>\n",
       "      <th>How much total combined money did all members of your HOUSEHOLD earn last year?</th>\n",
       "      <th>US Region</th>\n",
       "    </tr>\n",
       "  </thead>\n",
       "  <tbody>\n",
       "    <tr>\n",
       "      <th>0</th>\n",
       "      <td>4337954960</td>\n",
       "      <td>Yes</td>\n",
       "      <td>Turkey</td>\n",
       "      <td>NaN</td>\n",
       "      <td>Baked</td>\n",
       "      <td>NaN</td>\n",
       "      <td>Bread-based</td>\n",
       "      <td>NaN</td>\n",
       "      <td>None</td>\n",
       "      <td>NaN</td>\n",
       "      <td>...</td>\n",
       "      <td>Yes</td>\n",
       "      <td>No</td>\n",
       "      <td>No</td>\n",
       "      <td>No</td>\n",
       "      <td>NaN</td>\n",
       "      <td>Suburban</td>\n",
       "      <td>18 - 29</td>\n",
       "      <td>Male</td>\n",
       "      <td>$75,000 to $99,999</td>\n",
       "      <td>Middle Atlantic</td>\n",
       "    </tr>\n",
       "    <tr>\n",
       "      <th>1</th>\n",
       "      <td>4337951949</td>\n",
       "      <td>Yes</td>\n",
       "      <td>Turkey</td>\n",
       "      <td>NaN</td>\n",
       "      <td>Baked</td>\n",
       "      <td>NaN</td>\n",
       "      <td>Bread-based</td>\n",
       "      <td>NaN</td>\n",
       "      <td>Other (please specify)</td>\n",
       "      <td>Homemade cranberry gelatin ring</td>\n",
       "      <td>...</td>\n",
       "      <td>No</td>\n",
       "      <td>No</td>\n",
       "      <td>Yes</td>\n",
       "      <td>No</td>\n",
       "      <td>NaN</td>\n",
       "      <td>Rural</td>\n",
       "      <td>18 - 29</td>\n",
       "      <td>Female</td>\n",
       "      <td>$50,000 to $74,999</td>\n",
       "      <td>East South Central</td>\n",
       "    </tr>\n",
       "    <tr>\n",
       "      <th>2</th>\n",
       "      <td>4337935621</td>\n",
       "      <td>Yes</td>\n",
       "      <td>Turkey</td>\n",
       "      <td>NaN</td>\n",
       "      <td>Roasted</td>\n",
       "      <td>NaN</td>\n",
       "      <td>Rice-based</td>\n",
       "      <td>NaN</td>\n",
       "      <td>Homemade</td>\n",
       "      <td>NaN</td>\n",
       "      <td>...</td>\n",
       "      <td>Yes</td>\n",
       "      <td>Yes</td>\n",
       "      <td>Yes</td>\n",
       "      <td>No</td>\n",
       "      <td>NaN</td>\n",
       "      <td>Suburban</td>\n",
       "      <td>18 - 29</td>\n",
       "      <td>Male</td>\n",
       "      <td>$0 to $9,999</td>\n",
       "      <td>Mountain</td>\n",
       "    </tr>\n",
       "    <tr>\n",
       "      <th>3</th>\n",
       "      <td>4337933040</td>\n",
       "      <td>Yes</td>\n",
       "      <td>Turkey</td>\n",
       "      <td>NaN</td>\n",
       "      <td>Baked</td>\n",
       "      <td>NaN</td>\n",
       "      <td>Bread-based</td>\n",
       "      <td>NaN</td>\n",
       "      <td>Homemade</td>\n",
       "      <td>NaN</td>\n",
       "      <td>...</td>\n",
       "      <td>Yes</td>\n",
       "      <td>No</td>\n",
       "      <td>No</td>\n",
       "      <td>No</td>\n",
       "      <td>NaN</td>\n",
       "      <td>Urban</td>\n",
       "      <td>30 - 44</td>\n",
       "      <td>Male</td>\n",
       "      <td>$200,000 and up</td>\n",
       "      <td>Pacific</td>\n",
       "    </tr>\n",
       "    <tr>\n",
       "      <th>4</th>\n",
       "      <td>4337931983</td>\n",
       "      <td>Yes</td>\n",
       "      <td>Tofurkey</td>\n",
       "      <td>NaN</td>\n",
       "      <td>Baked</td>\n",
       "      <td>NaN</td>\n",
       "      <td>Bread-based</td>\n",
       "      <td>NaN</td>\n",
       "      <td>Canned</td>\n",
       "      <td>NaN</td>\n",
       "      <td>...</td>\n",
       "      <td>Yes</td>\n",
       "      <td>No</td>\n",
       "      <td>No</td>\n",
       "      <td>No</td>\n",
       "      <td>NaN</td>\n",
       "      <td>Urban</td>\n",
       "      <td>30 - 44</td>\n",
       "      <td>Male</td>\n",
       "      <td>$100,000 to $124,999</td>\n",
       "      <td>Pacific</td>\n",
       "    </tr>\n",
       "  </tbody>\n",
       "</table>\n",
       "<p>5 rows × 65 columns</p>\n",
       "</div>"
      ],
      "text/plain": [
       "   RespondentID Do you celebrate Thanksgiving?  \\\n",
       "0    4337954960                            Yes   \n",
       "1    4337951949                            Yes   \n",
       "2    4337935621                            Yes   \n",
       "3    4337933040                            Yes   \n",
       "4    4337931983                            Yes   \n",
       "\n",
       "  What is typically the main dish at your Thanksgiving dinner?  \\\n",
       "0                                             Turkey             \n",
       "1                                             Turkey             \n",
       "2                                             Turkey             \n",
       "3                                             Turkey             \n",
       "4                                           Tofurkey             \n",
       "\n",
       "  What is typically the main dish at your Thanksgiving dinner? - Other (please specify)  \\\n",
       "0                                                NaN                                      \n",
       "1                                                NaN                                      \n",
       "2                                                NaN                                      \n",
       "3                                                NaN                                      \n",
       "4                                                NaN                                      \n",
       "\n",
       "  How is the main dish typically cooked?  \\\n",
       "0                                  Baked   \n",
       "1                                  Baked   \n",
       "2                                Roasted   \n",
       "3                                  Baked   \n",
       "4                                  Baked   \n",
       "\n",
       "  How is the main dish typically cooked? - Other (please specify)  \\\n",
       "0                                                NaN                \n",
       "1                                                NaN                \n",
       "2                                                NaN                \n",
       "3                                                NaN                \n",
       "4                                                NaN                \n",
       "\n",
       "  What kind of stuffing/dressing do you typically have?  \\\n",
       "0                                        Bread-based      \n",
       "1                                        Bread-based      \n",
       "2                                         Rice-based      \n",
       "3                                        Bread-based      \n",
       "4                                        Bread-based      \n",
       "\n",
       "  What kind of stuffing/dressing do you typically have? - Other (please specify)  \\\n",
       "0                                                NaN                               \n",
       "1                                                NaN                               \n",
       "2                                                NaN                               \n",
       "3                                                NaN                               \n",
       "4                                                NaN                               \n",
       "\n",
       "  What type of cranberry saucedo you typically have?  \\\n",
       "0                                               None   \n",
       "1                             Other (please specify)   \n",
       "2                                           Homemade   \n",
       "3                                           Homemade   \n",
       "4                                             Canned   \n",
       "\n",
       "  What type of cranberry saucedo you typically have? - Other (please specify)  \\\n",
       "0                                                NaN                            \n",
       "1                    Homemade cranberry gelatin ring                            \n",
       "2                                                NaN                            \n",
       "3                                                NaN                            \n",
       "4                                                NaN                            \n",
       "\n",
       "          ...          \\\n",
       "0         ...           \n",
       "1         ...           \n",
       "2         ...           \n",
       "3         ...           \n",
       "4         ...           \n",
       "\n",
       "  Have you ever tried to meet up with hometown friends on Thanksgiving night?  \\\n",
       "0                                                Yes                            \n",
       "1                                                 No                            \n",
       "2                                                Yes                            \n",
       "3                                                Yes                            \n",
       "4                                                Yes                            \n",
       "\n",
       "  Have you ever attended a \"Friendsgiving?\"  \\\n",
       "0                                        No   \n",
       "1                                        No   \n",
       "2                                       Yes   \n",
       "3                                        No   \n",
       "4                                        No   \n",
       "\n",
       "  Will you shop any Black Friday sales on Thanksgiving Day?  \\\n",
       "0                                                 No          \n",
       "1                                                Yes          \n",
       "2                                                Yes          \n",
       "3                                                 No          \n",
       "4                                                 No          \n",
       "\n",
       "  Do you work in retail? Will you employer make you work on Black Friday?  \\\n",
       "0                     No                                              NaN   \n",
       "1                     No                                              NaN   \n",
       "2                     No                                              NaN   \n",
       "3                     No                                              NaN   \n",
       "4                     No                                              NaN   \n",
       "\n",
       "  How would you describe where you live?      Age What is your gender?  \\\n",
       "0                               Suburban  18 - 29                 Male   \n",
       "1                                  Rural  18 - 29               Female   \n",
       "2                               Suburban  18 - 29                 Male   \n",
       "3                                  Urban  30 - 44                 Male   \n",
       "4                                  Urban  30 - 44                 Male   \n",
       "\n",
       "  How much total combined money did all members of your HOUSEHOLD earn last year?  \\\n",
       "0                                 $75,000 to $99,999                                \n",
       "1                                 $50,000 to $74,999                                \n",
       "2                                       $0 to $9,999                                \n",
       "3                                    $200,000 and up                                \n",
       "4                               $100,000 to $124,999                                \n",
       "\n",
       "            US Region  \n",
       "0     Middle Atlantic  \n",
       "1  East South Central  \n",
       "2            Mountain  \n",
       "3             Pacific  \n",
       "4             Pacific  \n",
       "\n",
       "[5 rows x 65 columns]"
      ]
     },
     "execution_count": 182,
     "metadata": {},
     "output_type": "execute_result"
    }
   ],
   "source": [
    "thx_g.head()"
   ]
  },
  {
   "cell_type": "code",
   "execution_count": 183,
   "metadata": {
    "collapsed": false
   },
   "outputs": [
    {
     "name": "stdout",
     "output_type": "stream",
     "text": [
      "<class 'pandas.core.frame.DataFrame'>\n",
      "RangeIndex: 1058 entries, 0 to 1057\n",
      "Data columns (total 65 columns):\n",
      "RespondentID                                                                                                                                    1058 non-null int64\n",
      "Do you celebrate Thanksgiving?                                                                                                                  1058 non-null object\n",
      "What is typically the main dish at your Thanksgiving dinner?                                                                                    974 non-null object\n",
      "What is typically the main dish at your Thanksgiving dinner? - Other (please specify)                                                           35 non-null object\n",
      "How is the main dish typically cooked?                                                                                                          974 non-null object\n",
      "How is the main dish typically cooked? - Other (please specify)                                                                                 51 non-null object\n",
      "What kind of stuffing/dressing do you typically have?                                                                                           974 non-null object\n",
      "What kind of stuffing/dressing do you typically have? - Other (please specify)                                                                  36 non-null object\n",
      "What type of cranberry saucedo you typically have?                                                                                              974 non-null object\n",
      "What type of cranberry saucedo you typically have? - Other (please specify)                                                                     25 non-null object\n",
      "Do you typically have gravy?                                                                                                                    974 non-null object\n",
      "Which of these side dishes aretypically served at your Thanksgiving dinner? Please select all that apply. - Brussel sprouts                     155 non-null object\n",
      "Which of these side dishes aretypically served at your Thanksgiving dinner? Please select all that apply. - Carrots                             242 non-null object\n",
      "Which of these side dishes aretypically served at your Thanksgiving dinner? Please select all that apply. - Cauliflower                         88 non-null object\n",
      "Which of these side dishes aretypically served at your Thanksgiving dinner? Please select all that apply. - Corn                                464 non-null object\n",
      "Which of these side dishes aretypically served at your Thanksgiving dinner? Please select all that apply. - Cornbread                           235 non-null object\n",
      "Which of these side dishes aretypically served at your Thanksgiving dinner? Please select all that apply. - Fruit salad                         215 non-null object\n",
      "Which of these side dishes aretypically served at your Thanksgiving dinner? Please select all that apply. - Green beans/green bean casserole    686 non-null object\n",
      "Which of these side dishes aretypically served at your Thanksgiving dinner? Please select all that apply. - Macaroni and cheese                 206 non-null object\n",
      "Which of these side dishes aretypically served at your Thanksgiving dinner? Please select all that apply. - Mashed potatoes                     817 non-null object\n",
      "Which of these side dishes aretypically served at your Thanksgiving dinner? Please select all that apply. - Rolls/biscuits                      766 non-null object\n",
      "Which of these side dishes aretypically served at your Thanksgiving dinner? Please select all that apply. - Squash                              171 non-null object\n",
      "Which of these side dishes aretypically served at your Thanksgiving dinner? Please select all that apply. - Vegetable salad                     209 non-null object\n",
      "Which of these side dishes aretypically served at your Thanksgiving dinner? Please select all that apply. - Yams/sweet potato casserole         631 non-null object\n",
      "Which of these side dishes aretypically served at your Thanksgiving dinner? Please select all that apply. - Other (please specify)              111 non-null object\n",
      "Which of these side dishes aretypically served at your Thanksgiving dinner? Please select all that apply. - Other (please specify).1            111 non-null object\n",
      "Which type of pie is typically served at your Thanksgiving dinner? Please select all that apply. - Apple                                        514 non-null object\n",
      "Which type of pie is typically served at your Thanksgiving dinner? Please select all that apply. - Buttermilk                                   35 non-null object\n",
      "Which type of pie is typically served at your Thanksgiving dinner? Please select all that apply. - Cherry                                       113 non-null object\n",
      "Which type of pie is typically served at your Thanksgiving dinner? Please select all that apply. - Chocolate                                    133 non-null object\n",
      "Which type of pie is typically served at your Thanksgiving dinner? Please select all that apply. - Coconut cream                                36 non-null object\n",
      "Which type of pie is typically served at your Thanksgiving dinner? Please select all that apply. - Key lime                                     39 non-null object\n",
      "Which type of pie is typically served at your Thanksgiving dinner? Please select all that apply. - Peach                                        34 non-null object\n",
      "Which type of pie is typically served at your Thanksgiving dinner? Please select all that apply. - Pecan                                        342 non-null object\n",
      "Which type of pie is typically served at your Thanksgiving dinner? Please select all that apply. - Pumpkin                                      729 non-null object\n",
      "Which type of pie is typically served at your Thanksgiving dinner? Please select all that apply. - Sweet Potato                                 152 non-null object\n",
      "Which type of pie is typically served at your Thanksgiving dinner? Please select all that apply. - None                                         40 non-null object\n",
      "Which type of pie is typically served at your Thanksgiving dinner? Please select all that apply. - Other (please specify)                       71 non-null object\n",
      "Which type of pie is typically served at your Thanksgiving dinner? Please select all that apply. - Other (please specify).1                     71 non-null object\n",
      "Which of these desserts do you typically have at Thanksgiving dinner? Please select all that apply.   - Apple cobbler                           110 non-null object\n",
      "Which of these desserts do you typically have at Thanksgiving dinner? Please select all that apply.   - Blondies                                16 non-null object\n",
      "Which of these desserts do you typically have at Thanksgiving dinner? Please select all that apply.   - Brownies                                128 non-null object\n",
      "Which of these desserts do you typically have at Thanksgiving dinner? Please select all that apply.   - Carrot cake                             72 non-null object\n",
      "Which of these desserts do you typically have at Thanksgiving dinner? Please select all that apply.   - Cheesecake                              191 non-null object\n",
      "Which of these desserts do you typically have at Thanksgiving dinner? Please select all that apply.   - Cookies                                 204 non-null object\n",
      "Which of these desserts do you typically have at Thanksgiving dinner? Please select all that apply.   - Fudge                                   43 non-null object\n",
      "Which of these desserts do you typically have at Thanksgiving dinner? Please select all that apply.   - Ice cream                               266 non-null object\n",
      "Which of these desserts do you typically have at Thanksgiving dinner? Please select all that apply.   - Peach cobbler                           103 non-null object\n",
      "Which of these desserts do you typically have at Thanksgiving dinner? Please select all that apply.   - None                                    295 non-null object\n",
      "Which of these desserts do you typically have at Thanksgiving dinner? Please select all that apply.   - Other (please specify)                  134 non-null object\n",
      "Which of these desserts do you typically have at Thanksgiving dinner? Please select all that apply.   - Other (please specify).1                134 non-null object\n",
      "Do you typically pray before or after the Thanksgiving meal?                                                                                    959 non-null object\n",
      "How far will you travel for Thanksgiving?                                                                                                       951 non-null object\n",
      "Will you watch any of the following programs on Thanksgiving? Please select all that apply. - Macy's Parade                                     502 non-null object\n",
      "What's the age cutoff at your \"kids' table\" at Thanksgiving?                                                                                    951 non-null object\n",
      "Have you ever tried to meet up with hometown friends on Thanksgiving night?                                                                     951 non-null object\n",
      "Have you ever attended a \"Friendsgiving?\"                                                                                                       951 non-null object\n",
      "Will you shop any Black Friday sales on Thanksgiving Day?                                                                                       951 non-null object\n",
      "Do you work in retail?                                                                                                                          951 non-null object\n",
      "Will you employer make you work on Black Friday?                                                                                                70 non-null object\n",
      "How would you describe where you live?                                                                                                          948 non-null object\n",
      "Age                                                                                                                                             1025 non-null object\n",
      "What is your gender?                                                                                                                            1025 non-null object\n",
      "How much total combined money did all members of your HOUSEHOLD earn last year?                                                                 1025 non-null object\n",
      "US Region                                                                                                                                       999 non-null object\n",
      "dtypes: int64(1), object(64)\n",
      "memory usage: 537.3+ KB\n"
     ]
    }
   ],
   "source": [
    "thx_g.info()"
   ]
  },
  {
   "cell_type": "code",
   "execution_count": 184,
   "metadata": {
    "collapsed": false
   },
   "outputs": [
    {
     "data": {
      "text/plain": [
       "(1058, 65)"
      ]
     },
     "execution_count": 184,
     "metadata": {},
     "output_type": "execute_result"
    }
   ],
   "source": [
    "thx_g.shape"
   ]
  },
  {
   "cell_type": "code",
   "execution_count": 185,
   "metadata": {
    "collapsed": false
   },
   "outputs": [],
   "source": [
    "gender_info = thx_g[\"What is your gender?\"]"
   ]
  },
  {
   "cell_type": "code",
   "execution_count": 186,
   "metadata": {
    "collapsed": false
   },
   "outputs": [
    {
     "data": {
      "text/plain": [
       "Female    544\n",
       "Male      481\n",
       "NaN        33\n",
       "Name: What is your gender?, dtype: int64"
      ]
     },
     "execution_count": 186,
     "metadata": {},
     "output_type": "execute_result"
    }
   ],
   "source": [
    "gender_info.value_counts(dropna=False)"
   ]
  },
  {
   "cell_type": "markdown",
   "metadata": {},
   "source": [
    "define a funciton, transform the  male into 0, female into 1, nan into nan"
   ]
  },
  {
   "cell_type": "code",
   "execution_count": 207,
   "metadata": {
    "collapsed": false
   },
   "outputs": [],
   "source": [
    "import math\n",
    "def gender_code(gender_str):\n",
    "    if isinstance(gender_str, float):\n",
    "        if math.isnan(gender_str):\n",
    "            return gender_str\n",
    "    return gender_str == \"Female\""
   ]
  },
  {
   "cell_type": "code",
   "execution_count": 208,
   "metadata": {
    "collapsed": false
   },
   "outputs": [
    {
     "data": {
      "text/plain": [
       "True     544\n",
       "False    481\n",
       "NaN       33\n",
       "Name: What is your gender?, dtype: int64"
      ]
     },
     "execution_count": 208,
     "metadata": {},
     "output_type": "execute_result"
    }
   ],
   "source": [
    "gender_info_trans = gender_info.apply(gender_code)\n",
    "gender_info_trans.value_counts(dropna=False)"
   ]
  },
  {
   "cell_type": "code",
   "execution_count": 212,
   "metadata": {
    "collapsed": false
   },
   "outputs": [
    {
     "data": {
      "text/plain": [
       "pandas.core.series.Series"
      ]
     },
     "execution_count": 212,
     "metadata": {},
     "output_type": "execute_result"
    }
   ],
   "source": [
    "type(gender_info_trans)"
   ]
  },
  {
   "cell_type": "code",
   "execution_count": null,
   "metadata": {
    "collapsed": true
   },
   "outputs": [],
   "source": []
  }
 ],
 "metadata": {
  "kernelspec": {
   "display_name": "Python 3",
   "language": "python",
   "name": "python3"
  },
  "language_info": {
   "codemirror_mode": {
    "name": "ipython",
    "version": 3
   },
   "file_extension": ".py",
   "mimetype": "text/x-python",
   "name": "python",
   "nbconvert_exporter": "python",
   "pygments_lexer": "ipython3",
   "version": "3.5.2"
  }
 },
 "nbformat": 4,
 "nbformat_minor": 2
}
