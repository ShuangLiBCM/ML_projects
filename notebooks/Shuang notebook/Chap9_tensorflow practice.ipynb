{
 "cells": [
  {
   "cell_type": "code",
   "execution_count": 1,
   "metadata": {
    "collapsed": true,
    "deletable": true,
    "editable": true
   },
   "outputs": [],
   "source": [
    "from sklearn.datasets import fetch_california_housing\n",
    "import tensorflow as tf\n",
    "from sklearn.preprocessing import StandardScaler\n",
    "import numpy as np"
   ]
  },
  {
   "cell_type": "code",
   "execution_count": 2,
   "metadata": {
    "collapsed": false,
    "deletable": true,
    "editable": true
   },
   "outputs": [
    {
     "name": "stdout",
     "output_type": "stream",
     "text": [
      "1.0.0-rc0\n"
     ]
    }
   ],
   "source": [
    "print(tf.__version__)"
   ]
  },
  {
   "cell_type": "code",
   "execution_count": 3,
   "metadata": {
    "collapsed": false,
    "deletable": true,
    "editable": true
   },
   "outputs": [],
   "source": [
    "# Try using the basic tensorflow operation to perform linear regression on Californic Housing Data\n",
    "\n",
    "housing = fetch_california_housing()"
   ]
  },
  {
   "cell_type": "code",
   "execution_count": 4,
   "metadata": {
    "collapsed": false
   },
   "outputs": [],
   "source": [
    "m, n = housing.data.shape\n",
    "scaler = StandardScaler()\n",
    "scaler.fit(housing.data)\n",
    "scaled_housing_data = scaler.transform(housing.data)\n",
    "scaled_housing_data_plus_bias = np.c_[np.ones((m, 1)), scaled_housing_data]"
   ]
  },
  {
   "cell_type": "code",
   "execution_count": 23,
   "metadata": {
    "collapsed": false
   },
   "outputs": [
    {
     "name": "stdout",
     "output_type": "stream",
     "text": [
      "Epoch 0 MES= 2.75443\n",
      "Epoch 100 MES= 0.632222\n",
      "Epoch 200 MES= 0.57278\n",
      "Epoch 300 MES= 0.558501\n",
      "Epoch 400 MES= 0.549069\n",
      "Epoch 500 MES= 0.542288\n",
      "Epoch 600 MES= 0.537379\n",
      "Epoch 700 MES= 0.533822\n",
      "Epoch 800 MES= 0.531243\n",
      "Epoch 900 MES= 0.529371\n"
     ]
    }
   ],
   "source": [
    "# Convert numpy matrices into tensors\n",
    "tf.reset_default_graph()\n",
    "\n",
    "n_epochs = 1000\n",
    "learning_rate = 0.01\n",
    "\n",
    "X = tf.constant(scaled_housing_data_plus_bias, dtype=tf.float32, name='X')\n",
    "y = tf.constant(housing.target, shape=(m,1), dtype=tf.float32, name='y')\n",
    "\n",
    "theta = tf.Variable(tf.random_uniform([n+1,1], -1.0, 1.0,seed=42), name='theta')\n",
    "y_pred = tf.matmul(X, theta, name='predictions')\n",
    "error = y_pred - y\n",
    "mse = tf.reduce_mean(tf.square(error), name='mse')\n",
    "gradients = 2/m*tf.matmul(tf.transpose(X), error)\n",
    "training_op = tf.assign(theta, theta - learning_rate * gradients)\n",
    "\n",
    "init = tf.global_variables_initializer()\n",
    "\n",
    "with tf.Session() as sess:\n",
    "    sess.run(init)\n",
    "    \n",
    "    for epoch in range(n_epochs):\n",
    "        if epoch % 100 == 0:\n",
    "            print(\"Epoch\", epoch, \"MES=\", mse.eval())\n",
    "        sess.run(training_op)\n",
    "        \n",
    "    best_theta = theta.eval()"
   ]
  },
  {
   "cell_type": "code",
   "execution_count": 27,
   "metadata": {
    "collapsed": false
   },
   "outputs": [
    {
     "name": "stdout",
     "output_type": "stream",
     "text": [
      "# of epoch 0 mse 2.75443\n",
      "# of epoch 100 mse 0.632222\n",
      "# of epoch 200 mse 0.57278\n",
      "# of epoch 300 mse 0.558501\n",
      "# of epoch 400 mse 0.549069\n",
      "# of epoch 500 mse 0.542288\n",
      "# of epoch 600 mse 0.537379\n",
      "# of epoch 700 mse 0.533822\n",
      "# of epoch 800 mse 0.531243\n",
      "# of epoch 900 mse 0.529371\n"
     ]
    }
   ],
   "source": [
    "# Next, let's replace the optimizer with embeded autodifferentiation\n",
    "tf.reset_default_graph()\n",
    "\n",
    "# Convert numpy matrices into tensors\n",
    "n_epochs = 1000\n",
    "learning_rate = 0.01\n",
    "\n",
    "X = tf.constant(scaled_housing_data_plus_bias, dtype=tf.float32, name='X')\n",
    "y = tf.constant(housing.target, shape=(m,1), dtype=tf.float32, name='y')\n",
    "\n",
    "theta = tf.Variable(tf.random_uniform([n+1,1], -1.0, 1.0, seed=42), name='theta')\n",
    "y_pred = tf.matmul(X, theta, name='predictions')\n",
    "error = y_pred - y\n",
    "mse = tf.reduce_mean(tf.square(error), name='mse')\n",
    "optimizer = tf.train.GradientDescentOptimizer(learning_rate=learning_rate)\n",
    "training_op = optimizer.minimize(mse)\n",
    "\n",
    "init= tf.global_variables_initializer()\n",
    "\n",
    "with tf.Session() as sess:\n",
    "    sess.run(init)\n",
    "    for epoch in range(n_epochs):\n",
    "        if epoch % 100 == 0:\n",
    "            print(\"# of epoch\", epoch, \"mse\", mse.eval())\n",
    "        sess.run(training_op)\n",
    "    \n",
    "    best_theta = theta.eval()"
   ]
  },
  {
   "cell_type": "code",
   "execution_count": 77,
   "metadata": {
    "collapsed": false
   },
   "outputs": [],
   "source": [
    "# Try mini-batch gradient descent\n",
    "# Instead of feeding in X, y as constant, we need to feed them in as placeholder with specific shape\n",
    "tf.reset_default_graph()\n",
    "n_epochs = 10\n",
    "learning_rate = 0.001\n",
    "\n",
    "batch_size = 100\n",
    "n_batches = int(np.ceil(m/batch_size))\n",
    "\n",
    "X = tf.placeholder(tf.float32, shape=(None,n+1), name='X')\n",
    "y = tf.placeholder(tf.float32, shape=(None,1), name='y')\n",
    "\n",
    "theta = tf.Variable(tf.random_uniform([n+1,1], -1.0, 1.0, seed=42), name='theta')\n",
    "y_pred = tf.matmul(X, theta, name='predictions')\n",
    "error = y_pred - y\n",
    "mse = tf.reduce_mean(tf.square(error), name='mse')\n",
    "optimizer = tf.train.MomentumOptimizer(learning_rate=learning_rate, momentum=0.9)\n",
    "training_op = optimizer.minimize(mse)\n",
    "\n",
    "def batch_fetch(epoch, batch_index, batch_size):\n",
    "    # Input epoch number, batch_idex\n",
    "    # determine the random shuffling by epoch number\n",
    "    np.random.seed(epoch * n_batches + batch_index)          # not shown in the book\n",
    "    indices = np.random.randint(m, size=batch_size)          # not shown\n",
    "    X_batch = scaled_housing_data_plus_bias[indices]   # not shown\n",
    "    y_batch = housing.target.reshape(-1, 1)[indices]   # not shown\n",
    "    return X_batch, y_batch\n",
    "\n",
    "init = tf.global_variables_initializer()\n",
    "\n",
    "with tf.Session() as sess:\n",
    "    sess.run(init)\n",
    "    \n",
    "    for epoch in range(n_epochs):\n",
    "        for batch_index in range(n_batches):\n",
    "            X_batch, y_batch = batch_fetch(epoch, batch_index, batch_size)\n",
    "            sess.run(training_op, feed_dict={X:X_batch,y:y_batch})\n",
    "    \n",
    "    best_theta = theta.eval()"
   ]
  },
  {
   "cell_type": "code",
   "execution_count": 78,
   "metadata": {
    "collapsed": false
   },
   "outputs": [
    {
     "data": {
      "text/plain": [
       "array([[ 2.06703067],\n",
       "       [ 0.82357562],\n",
       "       [ 0.11846008],\n",
       "       [-0.23221512],\n",
       "       [ 0.30244407],\n",
       "       [ 0.00438231],\n",
       "       [-0.03862762],\n",
       "       [-0.91111773],\n",
       "       [-0.88494778]], dtype=float32)"
      ]
     },
     "execution_count": 78,
     "metadata": {},
     "output_type": "execute_result"
    }
   ],
   "source": [
    "best_theta"
   ]
  },
  {
   "cell_type": "markdown",
   "metadata": {},
   "source": [
    "## Visualizing the Graph and Training Curves Using TensorBoard"
   ]
  },
  {
   "cell_type": "code",
   "execution_count": 99,
   "metadata": {
    "collapsed": false
   },
   "outputs": [],
   "source": [
    "# Creat specific log directory for storing the training stats\n",
    "# A good way to avoid overlapping is to name with time information\n",
    "\n",
    "from datetime import datetime\n",
    "\n",
    "now = datetime.utcnow().strftime(\"%Y%m%d%H%M%S\")\n",
    "root_logdir = \"tf_logs\"\n",
    "logdir = \"{}/run-{}/\".format(root_logdir, now)"
   ]
  },
  {
   "cell_type": "code",
   "execution_count": 100,
   "metadata": {
    "collapsed": false
   },
   "outputs": [],
   "source": [
    "# We need to add function to evaluate the summary file\n",
    "# We also need to convert summary file into log file with File writer\n",
    "# Let's rewrite the training with Adam for california housing data\n",
    "m, n = housing.data.shape\n",
    "tf.reset_default_graph()\n",
    "\n",
    "n_epochs = 10\n",
    "learning_rate = 0.001\n",
    "batch_size = 100\n",
    "batch_num = int(np.ceil(m/batch_size))\n",
    "\n",
    "X = tf.placeholder(dtype=tf.float32, shape=[None, n+1], name='X')\n",
    "y = tf.placeholder(dtype=tf.float32, shape=[None, 1], name='y')\n",
    "\n",
    "theta = tf.Variable(tf.random_uniform([n+1, 1], -0.1, 0.1, seed=42), name='theta')\n",
    "y_pred = tf.matmul(X, theta, name='predictions')\n",
    "error = y_pred - y\n",
    "mse = tf.reduce_sum(tf.square(error), name='mse')\n",
    "optimizer = tf.train.AdamOptimizer(learning_rate=learning_rate)\n",
    "training_op = optimizer.minimize(mse)\n",
    "\n",
    "mse_summary = tf.summary.scalar('MSE', mse)\n",
    "file_writer = tf.summary.FileWriter(logdir, tf.get_default_graph())\n",
    "\n",
    "init = tf.global_variables_initializer()\n",
    "\n",
    "with tf.Session() as sess:\n",
    "    sess.run(init)\n",
    "    \n",
    "    for epoch in range(n_epochs):\n",
    "        for batch_index in range(batch_num):\n",
    "            np.random.seed(epoch * batch_size + batch_index)\n",
    "            rand_idx = np.random.randint(m, size=batch_size)\n",
    "            X_batch = scaled_housing_data_plus_bias[rand_idx]\n",
    "            y_batch = housing.target.reshape(-1, 1)[rand_idx]\n",
    "            \n",
    "            if batch_index % 10 == 0:\n",
    "                summary_str = mse_summary.eval(feed_dict={X:X_batch, y:y_batch})\n",
    "                step = epoch * batch_num + batch_index\n",
    "                file_writer.add_summary(summary_str, step)\n",
    "                \n",
    "            sess.run(training_op, feed_dict={X:X_batch, y:y_batch})\n",
    "    \n",
    "    best_theta = theta.eval()\n",
    "    \n",
    "file_writer.close()"
   ]
  },
  {
   "cell_type": "code",
   "execution_count": 102,
   "metadata": {
    "collapsed": false
   },
   "outputs": [],
   "source": []
  },
  {
   "cell_type": "code",
   "execution_count": 105,
   "metadata": {
    "collapsed": false
   },
   "outputs": [
    {
     "ename": "NameError",
     "evalue": "name 'source' is not defined",
     "output_type": "error",
     "traceback": [
      "\u001b[0;31m---------------------------------------------------------------------------\u001b[0m",
      "\u001b[0;31mNameError\u001b[0m                                 Traceback (most recent call last)",
      "\u001b[0;32m<ipython-input-105-a50fbf9fe847>\u001b[0m in \u001b[0;36m<module>\u001b[0;34m()\u001b[0m\n\u001b[0;32m----> 1\u001b[0;31m \u001b[0msource\u001b[0m\u001b[0;34m\u001b[0m\u001b[0m\n\u001b[0m",
      "\u001b[0;31mNameError\u001b[0m: name 'source' is not defined"
     ]
    }
   ],
   "source": []
  },
  {
   "cell_type": "code",
   "execution_count": null,
   "metadata": {
    "collapsed": true
   },
   "outputs": [],
   "source": []
  }
 ],
 "metadata": {
  "kernelspec": {
   "display_name": "Python 3",
   "language": "python",
   "name": "python3"
  },
  "language_info": {
   "codemirror_mode": {
    "name": "ipython",
    "version": 3
   },
   "file_extension": ".py",
   "mimetype": "text/x-python",
   "name": "python",
   "nbconvert_exporter": "python",
   "pygments_lexer": "ipython3",
   "version": "3.5.2"
  }
 },
 "nbformat": 4,
 "nbformat_minor": 2
}
