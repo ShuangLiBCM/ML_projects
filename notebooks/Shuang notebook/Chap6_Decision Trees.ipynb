{
 "cells": [
  {
   "cell_type": "markdown",
   "metadata": {},
   "source": [
    "### Excercises"
   ]
  },
  {
   "cell_type": "markdown",
   "metadata": {},
   "source": [
    "7. Train and fine tune a decision tree for the moons dataset"
   ]
  },
  {
   "cell_type": "code",
   "execution_count": 52,
   "metadata": {
    "collapsed": true
   },
   "outputs": [],
   "source": [
    "import numpy as np\n",
    "from sklearn.datasets import make_moons\n",
    "from sklearn.tree import DecisionTreeClassifier"
   ]
  },
  {
   "cell_type": "code",
   "execution_count": 29,
   "metadata": {
    "collapsed": false
   },
   "outputs": [],
   "source": [
    "X, y = make_moons(n_samples=10000, noise=0.4, random_state=42)"
   ]
  },
  {
   "cell_type": "code",
   "execution_count": 32,
   "metadata": {
    "collapsed": false
   },
   "outputs": [],
   "source": [
    "from sklearn.model_selection import train_test_split\n",
    "X_train, X_test, y_train, y_test = train_test_split(X, y, test_size=0.2)"
   ]
  },
  {
   "cell_type": "code",
   "execution_count": 39,
   "metadata": {
    "collapsed": false
   },
   "outputs": [
    {
     "name": "stdout",
     "output_type": "stream",
     "text": [
      "Fitting 3 folds for each of 294 candidates, totalling 882 fits\n"
     ]
    },
    {
     "name": "stderr",
     "output_type": "stream",
     "text": [
      "[Parallel(n_jobs=-1)]: Done 882 out of 882 | elapsed:    4.4s finished\n"
     ]
    },
    {
     "data": {
      "text/plain": [
       "GridSearchCV(cv=None, error_score='raise',\n",
       "       estimator=DecisionTreeClassifier(class_weight=None, criterion='gini', max_depth=None,\n",
       "            max_features=None, max_leaf_nodes=None,\n",
       "            min_impurity_split=1e-07, min_samples_leaf=1,\n",
       "            min_samples_split=2, min_weight_fraction_leaf=0.0,\n",
       "            presort=False, random_state=None, splitter='best'),\n",
       "       fit_params={}, iid=True, n_jobs=-1,\n",
       "       param_grid={'min_samples_split': [2, 3, 4], 'max_leaf_nodes': [2, 3, 4, 5, 6, 7, 8, 9, 10, 11, 12, 13, 14, 15, 16, 17, 18, 19, 20, 21, 22, 23, 24, 25, 26, 27, 28, 29, 30, 31, 32, 33, 34, 35, 36, 37, 38, 39, 40, 41, 42, 43, 44, 45, 46, 47, 48, 49, 50, 51, 52, 53, 54, 55, 56, 57, 58, 59, 60, 61, 62, 63, 64, 65, 66, 67, 68, 69, 70, 71, 72, 73, 74, 75, 76, 77, 78, 79, 80, 81, 82, 83, 84, 85, 86, 87, 88, 89, 90, 91, 92, 93, 94, 95, 96, 97, 98, 99]},\n",
       "       pre_dispatch='2*n_jobs', refit=True, return_train_score=True,\n",
       "       scoring=None, verbose=1)"
      ]
     },
     "execution_count": 39,
     "metadata": {},
     "output_type": "execute_result"
    }
   ],
   "source": [
    "from sklearn.model_selection import GridSearchCV\n",
    "\n",
    "params = {'max_leaf_nodes': list(range(2, 100)), 'min_samples_split': [2, 3, 4]}\n",
    "grid_search_cv = GridSearchCV(DecisionTreeClassifier(), params, n_jobs=-1, verbose=1)\n",
    "\n",
    "grid_search_cv.fit(X_train, y_train)"
   ]
  },
  {
   "cell_type": "code",
   "execution_count": 45,
   "metadata": {
    "collapsed": false
   },
   "outputs": [
    {
     "data": {
      "text/plain": [
       "DecisionTreeClassifier(class_weight=None, criterion='gini', max_depth=None,\n",
       "            max_features=None, max_leaf_nodes=17, min_impurity_split=1e-07,\n",
       "            min_samples_leaf=1, min_samples_split=2,\n",
       "            min_weight_fraction_leaf=0.0, presort=False, random_state=None,\n",
       "            splitter='best')"
      ]
     },
     "execution_count": 45,
     "metadata": {},
     "output_type": "execute_result"
    }
   ],
   "source": [
    "grid_search_cv.best_estimator_"
   ]
  },
  {
   "cell_type": "code",
   "execution_count": 46,
   "metadata": {
    "collapsed": false
   },
   "outputs": [
    {
     "data": {
      "text/plain": [
       "0.85799999999999998"
      ]
     },
     "execution_count": 46,
     "metadata": {},
     "output_type": "execute_result"
    }
   ],
   "source": [
    "from sklearn.metrics import accuracy_score\n",
    "\n",
    "y_pred = grid_search_cv.predict(X_test)\n",
    "accuracy_score(y_test, y_pred)"
   ]
  },
  {
   "cell_type": "markdown",
   "metadata": {},
   "source": [
    "### Excercise 9"
   ]
  },
  {
   "cell_type": "code",
   "execution_count": 53,
   "metadata": {
    "collapsed": true
   },
   "outputs": [],
   "source": [
    "from sklearn.model_selection import ShuffleSplit\n",
    "\n",
    "n_trees = 1000\n",
    "n_instances = 100\n",
    "\n",
    "mini_sets = []\n",
    "\n",
    "rs = ShuffleSplit(n_splits=n_trees, test_size=len(X_train) - n_instances, random_state=42)\n",
    "for mini_train_index, mini_test_index in rs.split(X_train):\n",
    "    X_mini_train = X_train[mini_train_index]\n",
    "    y_mini_train = y_train[mini_train_index]\n",
    "    mini_sets.append((X_mini_train, y_mini_train))"
   ]
  },
  {
   "cell_type": "code",
   "execution_count": 58,
   "metadata": {
    "collapsed": false
   },
   "outputs": [
    {
     "data": {
      "text/plain": [
       "array([[  2.52134988e-01,   1.09513166e+00],\n",
       "       [ -4.65996886e-02,   8.72574199e-01],\n",
       "       [  3.23725010e-01,   9.26055250e-01],\n",
       "       [  2.21523291e+00,   1.89489740e-01],\n",
       "       [  7.18269092e-01,  -1.97029103e-01],\n",
       "       [  1.54038616e+00,  -2.18569574e-01],\n",
       "       [ -7.26585541e-01,   3.06492687e-01],\n",
       "       [  9.77834186e-01,  -3.29684533e-01],\n",
       "       [  2.40007402e+00,   3.22401132e-01],\n",
       "       [  4.50408301e-01,   1.05147216e+00],\n",
       "       [  3.06596807e-01,  -2.14915618e-01],\n",
       "       [  1.90514846e+00,  -5.70497965e-01],\n",
       "       [ -3.09420654e-01,   1.21542853e+00],\n",
       "       [  6.19951774e-01,   1.66956335e-01],\n",
       "       [ -1.02503562e+00,  -1.05143938e-01],\n",
       "       [  1.35514397e+00,   1.43946202e-02],\n",
       "       [  1.07530458e+00,   4.76557041e-01],\n",
       "       [  1.33224746e+00,   3.44016247e-01],\n",
       "       [ -5.18565991e-01,   2.01857127e-01],\n",
       "       [ -9.21068546e-01,  -2.11521264e-01],\n",
       "       [  1.41121615e+00,  -5.46882972e-01],\n",
       "       [ -6.36746899e-01,   5.09260192e-01],\n",
       "       [  6.56617768e-01,  -8.32925825e-01],\n",
       "       [  8.80425279e-01,  -9.62216507e-01],\n",
       "       [  6.99458878e-01,  -8.73448098e-01],\n",
       "       [  4.45202962e-01,  -8.24359882e-02],\n",
       "       [  6.66394983e-01,  -2.46320082e-01],\n",
       "       [  9.49510750e-01,   4.89829275e-02],\n",
       "       [  4.19824843e-01,   3.71297871e-01],\n",
       "       [  1.19088718e+00,   1.11844631e-01],\n",
       "       [  1.33169625e+00,   1.10427160e+00],\n",
       "       [  1.14736127e+00,  -1.43533329e-01],\n",
       "       [  5.71650201e-02,  -3.98422788e-01],\n",
       "       [ -1.10802731e+00,   1.00420099e+00],\n",
       "       [  6.75457977e-01,  -2.80816681e-01],\n",
       "       [ -9.65084779e-02,  -5.83056701e-01],\n",
       "       [ -1.72180875e-01,   2.94338019e-01],\n",
       "       [  1.12595658e+00,  -4.03385737e-01],\n",
       "       [ -5.12584775e-01,   8.08491388e-01],\n",
       "       [ -7.44413542e-01,   2.00046489e-01],\n",
       "       [  1.45229595e+00,   5.19543484e-01],\n",
       "       [  7.00814683e-01,  -1.73329119e-01],\n",
       "       [  2.35307764e-01,   1.37852148e-01],\n",
       "       [ -2.21425259e-01,   3.80808807e-01],\n",
       "       [  1.36388169e+00,  -4.02720456e-01],\n",
       "       [ -2.87695058e-02,   5.41174510e-01],\n",
       "       [ -1.09516285e-01,   6.71580161e-01],\n",
       "       [ -8.06214949e-01,   1.77755542e+00],\n",
       "       [  1.23690519e+00,   7.91130034e-01],\n",
       "       [ -6.82602502e-01,   8.11269362e-01],\n",
       "       [ -1.16631166e-01,  -5.72521570e-01],\n",
       "       [  2.83777666e-01,   2.97865955e-01],\n",
       "       [  1.98305112e+00,  -6.21170338e-01],\n",
       "       [ -1.13775195e+00,   3.12689428e-01],\n",
       "       [  5.90348271e-01,   8.70399254e-01],\n",
       "       [  2.12947732e+00,   1.02555645e-01],\n",
       "       [  3.13886002e-01,   5.28713233e-01],\n",
       "       [ -4.03094409e-01,   1.45607076e+00],\n",
       "       [  1.79088684e+00,  -7.55435487e-02],\n",
       "       [ -1.38144870e+00,  -1.69596567e-01],\n",
       "       [ -7.60389439e-01,   7.28658510e-01],\n",
       "       [ -2.24542296e-01,   3.02040247e-01],\n",
       "       [  2.32541496e+00,  -4.87144029e-02],\n",
       "       [ -5.58960791e-02,   1.07145554e+00],\n",
       "       [  9.02432287e-02,  -3.42542533e-02],\n",
       "       [  1.69873409e+00,  -2.47284408e-01],\n",
       "       [  1.51029831e+00,  -6.07742595e-01],\n",
       "       [  1.25228130e+00,   1.68994756e-01],\n",
       "       [  3.91733449e-01,  -1.68056311e-01],\n",
       "       [ -4.62856804e-01,   7.46643651e-01],\n",
       "       [  1.79289852e+00,   8.80594228e-01],\n",
       "       [  1.40214586e+00,  -1.75526755e-01],\n",
       "       [  3.76122350e-01,   7.44175141e-01],\n",
       "       [  4.03525804e-01,  -2.36030483e-02],\n",
       "       [  7.97708204e-01,   3.39548537e-01],\n",
       "       [  9.14099240e-01,   5.92098175e-01],\n",
       "       [  1.59611265e+00,   5.06962397e-01],\n",
       "       [  1.38698111e+00,   2.33712433e-01],\n",
       "       [  1.75445828e+00,  -4.11788653e-01],\n",
       "       [ -6.70352231e-01,   7.45013428e-01],\n",
       "       [ -1.20045049e-01,  -3.86026937e-01],\n",
       "       [  1.24805333e+00,   5.57909330e-02],\n",
       "       [  3.68772428e-02,   4.89793490e-01],\n",
       "       [  5.56889584e-01,  -3.52685044e-01],\n",
       "       [  1.06504283e+00,  -1.90542620e-01],\n",
       "       [ -1.19466015e-01,   9.79812090e-01],\n",
       "       [ -7.23522554e-02,  -7.67413844e-04],\n",
       "       [ -6.51398498e-01,   1.29200771e+00],\n",
       "       [  1.62953382e+00,  -9.29867867e-01],\n",
       "       [  1.64357224e+00,   6.39350408e-01],\n",
       "       [ -8.32539455e-01,   9.84077506e-01],\n",
       "       [  1.62999934e+00,   3.64722718e-01],\n",
       "       [ -6.56363507e-01,  -2.84251066e-01],\n",
       "       [ -1.36806187e-01,   1.34203662e+00],\n",
       "       [  1.10715181e+00,   1.32433476e+00],\n",
       "       [ -2.12250653e-01,   2.38854616e-01],\n",
       "       [  1.09035438e+00,  -8.59403648e-02],\n",
       "       [ -3.16931945e-01,   1.10259289e+00],\n",
       "       [ -6.08508401e-01,   7.11666051e-01],\n",
       "       [ -6.04980146e-01,   1.27374676e+00]])"
      ]
     },
     "execution_count": 58,
     "metadata": {},
     "output_type": "execute_result"
    }
   ],
   "source": [
    "mini_sets[0][0]"
   ]
  },
  {
   "cell_type": "code",
   "execution_count": 49,
   "metadata": {
    "collapsed": false
   },
   "outputs": [
    {
     "data": {
      "text/plain": [
       "0.79965799999999987"
      ]
     },
     "execution_count": 49,
     "metadata": {},
     "output_type": "execute_result"
    }
   ],
   "source": [
    "from sklearn.base import clone\n",
    "\n",
    "forest = [clone(grid_search_cv.best_estimator_) for _ in range(n_trees)]\n",
    "\n",
    "accuracy_scores = []\n",
    "\n",
    "for tree, (X_mini_train, y_mini_train) in zip(forest, mini_sets):\n",
    "    tree.fit(X_mini_train, y_mini_train)\n",
    "    \n",
    "    y_pred = tree.predict(X_test)\n",
    "    accuracy_scores.append(accuracy_score(y_test, y_pred))\n",
    "\n",
    "np.mean(accuracy_scores)"
   ]
  },
  {
   "cell_type": "code",
   "execution_count": null,
   "metadata": {
    "collapsed": true
   },
   "outputs": [],
   "source": []
  }
 ],
 "metadata": {
  "kernelspec": {
   "display_name": "Python 3",
   "language": "python",
   "name": "python3"
  },
  "language_info": {
   "codemirror_mode": {
    "name": "ipython",
    "version": 3
   },
   "file_extension": ".py",
   "mimetype": "text/x-python",
   "name": "python",
   "nbconvert_exporter": "python",
   "pygments_lexer": "ipython3",
   "version": "3.5.2"
  }
 },
 "nbformat": 4,
 "nbformat_minor": 2
}
