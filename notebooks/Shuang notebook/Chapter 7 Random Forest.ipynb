{
 "cells": [
  {
   "cell_type": "markdown",
   "metadata": {},
   "source": [
    "### Excercise 8"
   ]
  },
  {
   "cell_type": "code",
   "execution_count": 8,
   "metadata": {
    "collapsed": false
   },
   "outputs": [],
   "source": [
    "import numpy as np\n",
    "import sklearn as sk\n",
    "import matplotlib.pyplot as plt\n",
    "\n",
    "% matplotlib inline"
   ]
  },
  {
   "cell_type": "code",
   "execution_count": 9,
   "metadata": {
    "collapsed": false
   },
   "outputs": [],
   "source": [
    "# Load MNIST dataset\n",
    "from sklearn.datasets import fetch_mldata\n",
    "mnist = fetch_mldata('MNIST original')\n",
    "\n",
    "# Downsample the image\n",
    "X_high_reso = mnist.data.reshape(70000, 28, 28)\n",
    "idx = np.arange(0, 28, 2)\n",
    "X = np.zeros((70000, 14, 14))\n",
    "for i in range(70000):\n",
    "    for j in range(len(idx)):\n",
    "        X[i,j,:] = X_high_reso[i, idx[j], idx]\n",
    "\n",
    "X = X.reshape(70000, -1)\n",
    "y = mnist.target\n",
    "# y = y.reshape(y.shape[0], -1)"
   ]
  },
  {
   "cell_type": "code",
   "execution_count": 10,
   "metadata": {
    "collapsed": false
   },
   "outputs": [],
   "source": [
    "# Split into training, validation and testing set\n",
    "np.random.seed(23)\n",
    "datasize = y.shape[0]\n",
    "shuffle_idx = np.random.permutation(datasize)\n",
    "ratio = np.array([0.7, 0.2, 0.1])\n",
    "train_idx = shuffle_idx[np.arange(0, int(datasize * 0.7))]\n",
    "vali_idx = shuffle_idx[np.arange(int(datasize * 0.7), int(datasize * 0.9))]\n",
    "test_idx= shuffle_idx[np.arange(int(datasize * 0.9),datasize)]\n",
    "X_train = X[train_idx, :]\n",
    "y_train = y[train_idx]\n",
    "X_vali = X[vali_idx, :]\n",
    "y_vali = y[vali_idx]\n",
    "X_test = X[test_idx, :]\n",
    "y_test = y[test_idx]"
   ]
  },
  {
   "cell_type": "code",
   "execution_count": 11,
   "metadata": {
    "collapsed": false
   },
   "outputs": [],
   "source": [
    "# Perform pre-precessing\n",
    "from sklearn.preprocessing import StandardScaler\n",
    "\n",
    "scaler = StandardScaler()\n",
    "X_train_scale = scaler.fit_transform(X_train.astype(np.float32))\n",
    "X_vali_scale = scaler.transform(X_vali.astype(np.float32))"
   ]
  },
  {
   "cell_type": "code",
   "execution_count": 12,
   "metadata": {
    "collapsed": false
   },
   "outputs": [
    {
     "name": "stdout",
     "output_type": "stream",
     "text": [
      "logistic regression:0.8841428571428571\n"
     ]
    }
   ],
   "source": [
    "# Train with logistic regression\n",
    "from sklearn.linear_model import SGDClassifier\n",
    "from sklearn.metrics import accuracy_score\n",
    "SGD_clf = SGDClassifier(loss='log', random_state=23)\n",
    "SGD_clf.fit(X_train_scale, y_train)\n",
    "SGD_pred_vali= SGD_clf.predict(X_vali_scale)\n",
    "SGD_accu = accuracy_score(SGD_pred_vali, y_vali)\n",
    "print(\"logistic regression:{accu}\".format(accu=SGD_accu))"
   ]
  },
  {
   "cell_type": "code",
   "execution_count": 13,
   "metadata": {
    "collapsed": false
   },
   "outputs": [
    {
     "name": "stdout",
     "output_type": "stream",
     "text": [
      "SVM(C = 1): 0.8888571428571429\n"
     ]
    }
   ],
   "source": [
    "# Train with SVM\n",
    "from sklearn.svm import LinearSVC\n",
    "from sklearn.svm import SVC\n",
    "\n",
    "# Set the hardness parameter\n",
    "C = 1\n",
    "m = X_train_scale.shape[1]\n",
    "SVC_cl = SVC(kernel='linear', C=C)       # Bad for large dataset\n",
    "linear_svc_cl = LinearSVC(loss=\"hinge\", C=C)     # Good for large dataset, no kernel option\n",
    "SGD_svm_cl = SGDClassifier(alpha = 1/(m*C))    # Good for large dataset, no kernel option\n",
    "\n",
    "# SVC_cl.fit(X_train_scale, y_train)\n",
    "# linear_svc_cl.fit(X_train_scale, y_train)\n",
    "SGD_svm_cl.fit(X_train_scale, y_train)\n",
    "y_pred = SGD_svm_cl.predict(X_vali_scale)\n",
    "svm_accu = accuracy_score(y_pred, y_vali)\n",
    "print(\"SVM(C = 1): {accu}\".format(accu=svm_accu))"
   ]
  },
  {
   "cell_type": "code",
   "execution_count": 19,
   "metadata": {
    "collapsed": false
   },
   "outputs": [
    {
     "name": "stdout",
     "output_type": "stream",
     "text": [
      "Fitting 3 folds for each of 5 candidates, totalling 15 fits\n",
      "[CV] alpha=0.00258532754695 ..........................................\n",
      "[CV] ........................... alpha=0.00258532754695, total=   0.8s\n",
      "[CV] alpha=0.00258532754695 ..........................................\n"
     ]
    },
    {
     "name": "stderr",
     "output_type": "stream",
     "text": [
      "[Parallel(n_jobs=1)]: Done   1 out of   1 | elapsed:    0.9s remaining:    0.0s\n"
     ]
    },
    {
     "name": "stdout",
     "output_type": "stream",
     "text": [
      "[CV] ........................... alpha=0.00258532754695, total=   0.8s\n",
      "[CV] alpha=0.00258532754695 ..........................................\n",
      "[CV] ........................... alpha=0.00258532754695, total=   0.8s\n",
      "[CV] alpha=0.00224661144025 ..........................................\n",
      "[CV] ........................... alpha=0.00224661144025, total=   0.9s\n",
      "[CV] alpha=0.00224661144025 ..........................................\n",
      "[CV] ........................... alpha=0.00224661144025, total=   0.9s\n",
      "[CV] alpha=0.00224661144025 ..........................................\n",
      "[CV] ........................... alpha=0.00224661144025, total=   1.2s\n",
      "[CV] alpha=0.00103161936164 ..........................................\n",
      "[CV] ........................... alpha=0.00103161936164, total=   1.4s\n",
      "[CV] alpha=0.00103161936164 ..........................................\n",
      "[CV] ........................... alpha=0.00103161936164, total=   1.0s\n",
      "[CV] alpha=0.00103161936164 ..........................................\n",
      "[CV] ........................... alpha=0.00103161936164, total=   0.9s\n",
      "[CV] alpha=0.000969176204433 .........................................\n",
      "[CV] .......................... alpha=0.000969176204433, total=   0.9s\n",
      "[CV] alpha=0.000969176204433 .........................................\n",
      "[CV] .......................... alpha=0.000969176204433, total=   1.0s\n",
      "[CV] alpha=0.000969176204433 .........................................\n",
      "[CV] .......................... alpha=0.000969176204433, total=   0.8s\n",
      "[CV] alpha=0.00282827323013 ..........................................\n",
      "[CV] ........................... alpha=0.00282827323013, total=   0.8s\n",
      "[CV] alpha=0.00282827323013 ..........................................\n",
      "[CV] ........................... alpha=0.00282827323013, total=   0.8s\n",
      "[CV] alpha=0.00282827323013 ..........................................\n",
      "[CV] ........................... alpha=0.00282827323013, total=   1.3s\n"
     ]
    },
    {
     "name": "stderr",
     "output_type": "stream",
     "text": [
      "[Parallel(n_jobs=1)]: Done  15 out of  15 | elapsed:   15.1s finished\n"
     ]
    },
    {
     "data": {
      "text/plain": [
       "RandomizedSearchCV(cv=None, error_score='raise',\n",
       "          estimator=SGDClassifier(alpha=0.00510204081632653, average=False, class_weight=None,\n",
       "       epsilon=0.1, eta0=0.0, fit_intercept=True, l1_ratio=0.15,\n",
       "       learning_rate='optimal', loss='hinge', n_iter=5, n_jobs=1,\n",
       "       penalty='l2', power_t=0.5, random_state=None, shuffle=True,\n",
       "       verbose=0, warm_start=False),\n",
       "          fit_params={}, iid=True, n_iter=5, n_jobs=1,\n",
       "          param_distributions={'alpha': <scipy.stats._distn_infrastructure.rv_frozen object at 0x7f215a7d8780>},\n",
       "          pre_dispatch='2*n_jobs', random_state=None, refit=True,\n",
       "          return_train_score=True, scoring=None, verbose=2)"
      ]
     },
     "execution_count": 19,
     "metadata": {},
     "output_type": "execute_result"
    }
   ],
   "source": [
    "# Perform random search over hardness of the parameter\n",
    "from sklearn.model_selection import RandomizedSearchCV\n",
    "from scipy.stats import uniform\n",
    "\n",
    "SGD_svm_cl = SGDClassifier(alpha = 1/(m*C))    # Good for large dataset, no kernel option\n",
    "param_distributions = {\"alpha\": uniform(1/(m*10),1/m)}\n",
    "rnd_search_cv = RandomizedSearchCV(SGD_svm_cl, param_distributions, n_iter=5, verbose=2)\n",
    "rnd_search_cv.fit(X_train_scale, y_train)"
   ]
  },
  {
   "cell_type": "code",
   "execution_count": 20,
   "metadata": {
    "collapsed": false
   },
   "outputs": [],
   "source": [
    "alpha_best = rnd_search_cv.best_estimator_.alpha"
   ]
  },
  {
   "cell_type": "code",
   "execution_count": 21,
   "metadata": {
    "collapsed": false
   },
   "outputs": [
    {
     "data": {
      "text/plain": [
       "0.89907142857142852"
      ]
     },
     "execution_count": 21,
     "metadata": {},
     "output_type": "execute_result"
    }
   ],
   "source": [
    "SGD_svm_cl = SGDClassifier(alpha=alpha_best)\n",
    "SGD_svm_cl.fit(X_train_scale, y_train)\n",
    "y_pred = SGD_svm_cl.predict(X_vali_scale)\n",
    "accuracy_score(y_pred, y_vali)"
   ]
  },
  {
   "cell_type": "code",
   "execution_count": 26,
   "metadata": {
    "collapsed": false
   },
   "outputs": [
    {
     "data": {
      "text/plain": [
       "0.78249999999999997"
      ]
     },
     "execution_count": 26,
     "metadata": {},
     "output_type": "execute_result"
    }
   ],
   "source": [
    "# Train with random forest\n",
    "from sklearn.ensemble import RandomForestClassifier\n",
    "\n",
    "rnd_clf = RandomForestClassifier(n_estimators=2, n_jobs=-1)\n",
    "rnd_clf.fit(X_train, y_train)\n",
    "y_pred = rnd_clf.predict(X_vali)\n",
    "accuracy_score(y_pred, y_vali)"
   ]
  },
  {
   "cell_type": "code",
   "execution_count": 17,
   "metadata": {
    "collapsed": false
   },
   "outputs": [
    {
     "data": {
      "text/plain": [
       "0.9663571428571428"
      ]
     },
     "execution_count": 17,
     "metadata": {},
     "output_type": "execute_result"
    }
   ],
   "source": [
    "# Train with extra-forest\n",
    "from sklearn.ensemble import ExtraTreesClassifier\n",
    "\n",
    "extra_clf = ExtraTreesClassifier(n_estimators=500, n_jobs=-1)\n",
    "extra_clf.fit(X_train, y_train)\n",
    "y_pred = extra_clf.predict(X_vali)\n",
    "accuracy_score(y_pred, y_vali)"
   ]
  },
  {
   "cell_type": "code",
   "execution_count": 27,
   "metadata": {
    "collapsed": false
   },
   "outputs": [
    {
     "data": {
      "text/plain": [
       "0.90064285714285719"
      ]
     },
     "execution_count": 27,
     "metadata": {},
     "output_type": "execute_result"
    }
   ],
   "source": [
    "# Combine the above mentioned classfier into an essemble that out performs all of them in validation set\n",
    "# Use voting classifier\n",
    "from sklearn.ensemble import VotingClassifier\n",
    "\n",
    "SGD_clf = SGDClassifier(loss='log', random_state=23)\n",
    "SGD_svm_clf = SGDClassifier(alpha=alpha_best)\n",
    "rnd_clf = RandomForestClassifier(n_estimators=2)\n",
    "extra_clf = ExtraTreesClassifier(n_estimators=2, n_jobs=-1)\n",
    "\n",
    "votting_clf = VotingClassifier([('lg_clf', SGD_clf), ('SVM', SGD_svm_clf), ('rf2', rnd_clf),  ('extra',extra_clf)], voting='hard')\n",
    "\n",
    "votting_clf.fit(X_train_scale, y_train)\n",
    "y_pred = votting_clf.predict(X_vali_scale)\n",
    "accuracy_score(y_pred, y_vali)"
   ]
  },
  {
   "cell_type": "markdown",
   "metadata": {
    "collapsed": true
   },
   "source": [
    "### Excercise 9"
   ]
  },
  {
   "cell_type": "code",
   "execution_count": 13,
   "metadata": {
    "collapsed": true
   },
   "outputs": [],
   "source": [
    "# Run individual classifier shown above to make predictions on validation sets "
   ]
  },
  {
   "cell_type": "code",
   "execution_count": 14,
   "metadata": {
    "collapsed": true
   },
   "outputs": [],
   "source": [
    "# Create new training set with the result predictions"
   ]
  },
  {
   "cell_type": "code",
   "execution_count": 15,
   "metadata": {
    "collapsed": true
   },
   "outputs": [],
   "source": [
    "# Train the blender"
   ]
  },
  {
   "cell_type": "code",
   "execution_count": 16,
   "metadata": {
    "collapsed": true
   },
   "outputs": [],
   "source": [
    "# Check performance on test set"
   ]
  }
 ],
 "metadata": {
  "kernelspec": {
   "display_name": "Python 3",
   "language": "python",
   "name": "python3"
  },
  "language_info": {
   "codemirror_mode": {
    "name": "ipython",
    "version": 3
   },
   "file_extension": ".py",
   "mimetype": "text/x-python",
   "name": "python",
   "nbconvert_exporter": "python",
   "pygments_lexer": "ipython3",
   "version": "3.5.2"
  }
 },
 "nbformat": 4,
 "nbformat_minor": 2
}
