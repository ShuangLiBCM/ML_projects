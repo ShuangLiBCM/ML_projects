{
 "cells": [
  {
   "cell_type": "markdown",
   "metadata": {},
   "source": [
    "PART 1\n",
    "Graphics: Looking at Data\n",
    "\n",
    "1. A single variable: shape and distribution\n",
    "\n",
    "* Use dot plots and jitter plots to have a first impression of the data\n",
    "* Use histogram to become quantitative\n",
    "    * Limination of historgram: \n",
    "        * loss the exact data infor by replacing it with the box center\n",
    "        * Non-smooth\n",
    "        * Not unique, depending on startle location and box width\n",
    "        * Is not sensitive to outlier\n",
    "* Kernel density estimation: Place a kernel function at each location of the and add them up\n",
    "    * Common kernel functions: Guassian kernels\n",
    "    * The final KDE could be writtern as: $D_{h}(x; {x_{i}})= \\Sigma_{1}^{n} \\frac{1}{h} K(\\frac{x - x_{i}}{h})$\n",
    "    , where h is width of the kernel function\n",
    "    * Given the dataset and kernel width, a KDE is unique, it also solved the smoothness issue\n",
    "* Cumulative density function\n",
    "    * cdf has several advantages:\n",
    "        * Smooth\n",
    "        * Unique\n",
    "    * Making use of cdf to compare distribut\n",
    "        * Whether a certain data follows Gaussian distribution\n",
    "            * Take the inverse of the cdf with the normal distirbution, and plot against the value\n",
    "            * Check whether result follows a straight line"
   ]
  },
  {
   "cell_type": "markdown",
   "metadata": {},
   "source": [
    "Numpy"
   ]
  },
  {
   "cell_type": "code",
   "execution_count": 1,
   "metadata": {
    "collapsed": true
   },
   "outputs": [],
   "source": [
    "import numpy as np"
   ]
  },
  {
   "cell_type": "code",
   "execution_count": 20,
   "metadata": {
    "collapsed": false
   },
   "outputs": [
    {
     "name": "stdout",
     "output_type": "stream",
     "text": [
      "[ 1  2  3  4  5  6  7  8  9 10]\n",
      "[1 2 3 4 5 6 7 8 9]\n"
     ]
    }
   ],
   "source": [
    "a = np.linspace(1,10,10,  dtype=int)   # Linspace includes the last unit\n",
    "print(a)\n",
    "b = np.arange(1,10,1)     # arange does not contain the last unit\n",
    "print(b)"
   ]
  },
  {
   "cell_type": "markdown",
   "metadata": {},
   "source": []
  },
  {
   "cell_type": "code",
   "execution_count": null,
   "metadata": {
    "collapsed": true
   },
   "outputs": [],
   "source": []
  }
 ],
 "metadata": {
  "kernelspec": {
   "display_name": "Python 3",
   "language": "python",
   "name": "python3"
  },
  "language_info": {
   "codemirror_mode": {
    "name": "ipython",
    "version": 3
   },
   "file_extension": ".py",
   "mimetype": "text/x-python",
   "name": "python",
   "nbconvert_exporter": "python",
   "pygments_lexer": "ipython3",
   "version": "3.5.2"
  }
 },
 "nbformat": 4,
 "nbformat_minor": 2
}
