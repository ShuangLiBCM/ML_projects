{
 "cells": [
  {
   "cell_type": "code",
   "execution_count": 52,
   "metadata": {
    "collapsed": true
   },
   "outputs": [],
   "source": [
    "import numpy as np\n",
    "import pandas as pd\n",
    "import matplotlib.pyplot as plt\n",
    "% matplotlib inline"
   ]
  },
  {
   "cell_type": "markdown",
   "metadata": {},
   "source": [
    "The idea behind random forest regression is ensemble learning. The basic idea is as follows:\n",
    "1. From all the sample data, pick K data points\n",
    "2. Train a decision tree model on the K data points\n",
    "3. Choose the number of NTree and repeat the above steps NTREE-1 times\n",
    "4. Make prediction with each decision tree, average the result y values"
   ]
  },
  {
   "cell_type": "code",
   "execution_count": 53,
   "metadata": {
    "collapsed": false
   },
   "outputs": [],
   "source": [
    "data = pd.read_csv('Position_Salaries.csv')"
   ]
  },
  {
   "cell_type": "code",
   "execution_count": 54,
   "metadata": {
    "collapsed": true
   },
   "outputs": [],
   "source": [
    "X = data.iloc[:, 1:2].values\n",
    "y = data.iloc[:, -1:].values"
   ]
  },
  {
   "cell_type": "code",
   "execution_count": 55,
   "metadata": {
    "collapsed": false
   },
   "outputs": [
    {
     "name": "stderr",
     "output_type": "stream",
     "text": [
      "/usr/local/lib/python3.5/dist-packages/ipykernel/__main__.py:7: DataConversionWarning: A column-vector y was passed when a 1d array was expected. Please change the shape of y to (n_samples,), for example using ravel().\n",
      "/usr/local/lib/python3.5/dist-packages/ipykernel/__main__.py:8: DataConversionWarning: A column-vector y was passed when a 1d array was expected. Please change the shape of y to (n_samples,), for example using ravel().\n"
     ]
    },
    {
     "data": {
      "text/plain": [
       "RandomForestRegressor(bootstrap=True, criterion='mse', max_depth=None,\n",
       "           max_features='auto', max_leaf_nodes=None,\n",
       "           min_impurity_decrease=0.0, min_impurity_split=None,\n",
       "           min_samples_leaf=1, min_samples_split=2,\n",
       "           min_weight_fraction_leaf=0.0, n_estimators=300, n_jobs=1,\n",
       "           oob_score=False, random_state=0, verbose=0, warm_start=False)"
      ]
     },
     "execution_count": 55,
     "metadata": {},
     "output_type": "execute_result"
    }
   ],
   "source": [
    "from sklearn.ensemble import RandomForestRegressor\n",
    "\n",
    "regressor1 = RandomForestRegressor(n_estimators=10, random_state=0)\n",
    "regressor2 = RandomForestRegressor(n_estimators=300, random_state=0)\n",
    "\n",
    "\n",
    "regressor1.fit(X,y)\n",
    "regressor2.fit(X,y)"
   ]
  },
  {
   "cell_type": "code",
   "execution_count": 56,
   "metadata": {
    "collapsed": false
   },
   "outputs": [
    {
     "data": {
      "text/plain": [
       "<matplotlib.legend.Legend at 0x7f518663a9b0>"
      ]
     },
     "execution_count": 56,
     "metadata": {},
     "output_type": "execute_result"
    },
    {
     "data": {
      "image/png": "[encoded data removed]",
      "text/plain": [
       "<matplotlib.figure.Figure at 0x7f5186896978>"
      ]
     },
     "metadata": {},
     "output_type": "display_data"
    }
   ],
   "source": [
    "X_grid = np.arange(np.min(X), np.max(X), 0.1).reshape(-1,1)\n",
    "plt.plot(X, y, '.', label='original_data')\n",
    "plt.plot(X_grid, regressor1.predict(X_grid), label='n_tree = 10')\n",
    "plt.plot(X_grid, regressor2.predict(X_grid), label='n_tree = 300')\n",
    "plt.legend()"
   ]
  },
  {
   "cell_type": "code",
   "execution_count": 57,
   "metadata": {
    "collapsed": false
   },
   "outputs": [
    {
     "data": {
      "text/plain": [
       "array([ 167000.])"
      ]
     },
     "execution_count": 57,
     "metadata": {},
     "output_type": "execute_result"
    }
   ],
   "source": [
    "regressor1.predict(6.5)"
   ]
  },
  {
   "cell_type": "code",
   "execution_count": 58,
   "metadata": {
    "collapsed": false
   },
   "outputs": [
    {
     "data": {
      "text/plain": [
       "array([ 160333.33333333])"
      ]
     },
     "execution_count": 58,
     "metadata": {},
     "output_type": "execute_result"
    }
   ],
   "source": [
    "regressor2.predict(6.5)"
   ]
  },
  {
   "cell_type": "code",
   "execution_count": 67,
   "metadata": {
    "collapsed": false
   },
   "outputs": [
    {
     "name": "stdout",
     "output_type": "stream",
     "text": [
      "Ajusted R2 for nTree = 10: 0.9671593589318424\n"
     ]
    }
   ],
   "source": [
    "# Define function to calcuate adjusted R squares\n",
    "n = len(y)\n",
    "p = 1\n",
    "ss_tot = (n - 1) * y.var()\n",
    "ss_res = np.sum(np.square(regressor1.predict(X).reshape(-1,1) - y))\n",
    "R2 = 1 - ss_res/ss_tot\n",
    "adj_R2 = 1 - (1 - R2) * (n - 1) / (n - p + 1)\n",
    "print('Ajusted R2 for nTree = 10: {}'.format(R2))"
   ]
  },
  {
   "cell_type": "code",
   "execution_count": 68,
   "metadata": {
    "collapsed": false
   },
   "outputs": [
    {
     "name": "stdout",
     "output_type": "stream",
     "text": [
      "Ajusted R2 for nTree = 300: 0.9476460074776821\n"
     ]
    }
   ],
   "source": [
    "# Define function to calcuate adjusted R squares\n",
    "n = len(y)\n",
    "p = 1\n",
    "ss_tot = (n - 1) * y.var()\n",
    "ss_res = np.sum(np.square(regressor2.predict(X).reshape(-1,1) - y))\n",
    "R2 = 1 - ss_res/ss_tot\n",
    "adj_R2 = 1 - (1 - R2) * (n - 1) / (n - p + 1)\n",
    "print('Ajusted R2 for nTree = 300: {}'.format(R2))"
   ]
  }
 ],
 "metadata": {
  "kernelspec": {
   "display_name": "Python 3",
   "language": "python",
   "name": "python3"
  },
  "language_info": {
   "codemirror_mode": {
    "name": "ipython",
    "version": 3
   },
   "file_extension": ".py",
   "mimetype": "text/x-python",
   "name": "python",
   "nbconvert_exporter": "python",
   "pygments_lexer": "ipython3",
   "version": "3.5.2"
  }
 },
 "nbformat": 4,
 "nbformat_minor": 2
}
