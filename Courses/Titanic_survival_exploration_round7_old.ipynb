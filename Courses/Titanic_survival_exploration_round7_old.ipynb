{
 "cells": [
  {
   "cell_type": "code",
   "execution_count": 1,
   "metadata": {
    "_cell_guid": "44e72480-f2c6-4765-9e9a-2ea3bacab9e2",
    "_uuid": "b9a3dfde221b65d10fd87735c756698ba17ef7d0",
    "collapsed": true,
    "deletable": true,
    "editable": true
   },
   "outputs": [],
   "source": [
    "import numpy as np # linear algebra\n",
    "import pandas as pd # data processing, CSV file I/O (e.g. pd.read_csv)\n",
    "import sklearn\n",
    "\n",
    "import matplotlib.pyplot as plt\n",
    "% matplotlib inline\n",
    "\n",
    "from collections import Counter\n",
    "from imblearn.over_sampling import SMOTE\n",
    "\n",
    "from sklearn.metrics import accuracy_score\n",
    "from sklearn.metrics import f1_score\n",
    "\n",
    "import warnings; warnings.simplefilter('ignore')\n",
    "from sklearn.model_selection import GridSearchCV\n",
    "\n",
    "from xgboost import XGBClassifier\n",
    "import xgboost as xgb\n",
    "from xgboost import plot_importance\n",
    "\n",
    "from sklearn import cross_validation\n",
    "import seaborn as sns\n",
    "\n",
    "# Any results you write to the current directory are saved as output."
   ]
  },
  {
   "cell_type": "code",
   "execution_count": 2,
   "metadata": {
    "_cell_guid": "a368cd2f-3ecf-4c60-8c7c-330c7539e5c2",
    "_uuid": "351bcf8d962ab954db9027144d6e26beff9dbaf4",
    "collapsed": false,
    "deletable": true,
    "editable": true
   },
   "outputs": [
    {
     "data": {
      "text/html": [
       "<div>\n",
       "<table border=\"1\" class=\"dataframe\">\n",
       "  <thead>\n",
       "    <tr style=\"text-align: right;\">\n",
       "      <th></th>\n",
       "      <th>PassengerId</th>\n",
       "      <th>Survived</th>\n",
       "      <th>Pclass</th>\n",
       "      <th>Name</th>\n",
       "      <th>Sex</th>\n",
       "      <th>Age</th>\n",
       "      <th>SibSp</th>\n",
       "      <th>Parch</th>\n",
       "      <th>Ticket</th>\n",
       "      <th>Fare</th>\n",
       "      <th>Cabin</th>\n",
       "      <th>Embarked</th>\n",
       "    </tr>\n",
       "  </thead>\n",
       "  <tbody>\n",
       "    <tr>\n",
       "      <th>0</th>\n",
       "      <td>1</td>\n",
       "      <td>0</td>\n",
       "      <td>3</td>\n",
       "      <td>Braund, Mr. Owen Harris</td>\n",
       "      <td>male</td>\n",
       "      <td>22.0</td>\n",
       "      <td>1</td>\n",
       "      <td>0</td>\n",
       "      <td>A/5 21171</td>\n",
       "      <td>7.2500</td>\n",
       "      <td>NaN</td>\n",
       "      <td>S</td>\n",
       "    </tr>\n",
       "    <tr>\n",
       "      <th>1</th>\n",
       "      <td>2</td>\n",
       "      <td>1</td>\n",
       "      <td>1</td>\n",
       "      <td>Cumings, Mrs. John Bradley (Florence Briggs Th...</td>\n",
       "      <td>female</td>\n",
       "      <td>38.0</td>\n",
       "      <td>1</td>\n",
       "      <td>0</td>\n",
       "      <td>PC 17599</td>\n",
       "      <td>71.2833</td>\n",
       "      <td>C85</td>\n",
       "      <td>C</td>\n",
       "    </tr>\n",
       "    <tr>\n",
       "      <th>2</th>\n",
       "      <td>3</td>\n",
       "      <td>1</td>\n",
       "      <td>3</td>\n",
       "      <td>Heikkinen, Miss. Laina</td>\n",
       "      <td>female</td>\n",
       "      <td>26.0</td>\n",
       "      <td>0</td>\n",
       "      <td>0</td>\n",
       "      <td>STON/O2. 3101282</td>\n",
       "      <td>7.9250</td>\n",
       "      <td>NaN</td>\n",
       "      <td>S</td>\n",
       "    </tr>\n",
       "    <tr>\n",
       "      <th>3</th>\n",
       "      <td>4</td>\n",
       "      <td>1</td>\n",
       "      <td>1</td>\n",
       "      <td>Futrelle, Mrs. Jacques Heath (Lily May Peel)</td>\n",
       "      <td>female</td>\n",
       "      <td>35.0</td>\n",
       "      <td>1</td>\n",
       "      <td>0</td>\n",
       "      <td>113803</td>\n",
       "      <td>53.1000</td>\n",
       "      <td>C123</td>\n",
       "      <td>S</td>\n",
       "    </tr>\n",
       "    <tr>\n",
       "      <th>4</th>\n",
       "      <td>5</td>\n",
       "      <td>0</td>\n",
       "      <td>3</td>\n",
       "      <td>Allen, Mr. William Henry</td>\n",
       "      <td>male</td>\n",
       "      <td>35.0</td>\n",
       "      <td>0</td>\n",
       "      <td>0</td>\n",
       "      <td>373450</td>\n",
       "      <td>8.0500</td>\n",
       "      <td>NaN</td>\n",
       "      <td>S</td>\n",
       "    </tr>\n",
       "  </tbody>\n",
       "</table>\n",
       "</div>"
      ],
      "text/plain": [
       "   PassengerId  Survived  Pclass  \\\n",
       "0            1         0       3   \n",
       "1            2         1       1   \n",
       "2            3         1       3   \n",
       "3            4         1       1   \n",
       "4            5         0       3   \n",
       "\n",
       "                                                Name     Sex   Age  SibSp  \\\n",
       "0                            Braund, Mr. Owen Harris    male  22.0      1   \n",
       "1  Cumings, Mrs. John Bradley (Florence Briggs Th...  female  38.0      1   \n",
       "2                             Heikkinen, Miss. Laina  female  26.0      0   \n",
       "3       Futrelle, Mrs. Jacques Heath (Lily May Peel)  female  35.0      1   \n",
       "4                           Allen, Mr. William Henry    male  35.0      0   \n",
       "\n",
       "   Parch            Ticket     Fare Cabin Embarked  \n",
       "0      0         A/5 21171   7.2500   NaN        S  \n",
       "1      0          PC 17599  71.2833   C85        C  \n",
       "2      0  STON/O2. 3101282   7.9250   NaN        S  \n",
       "3      0            113803  53.1000  C123        S  \n",
       "4      0            373450   8.0500   NaN        S  "
      ]
     },
     "execution_count": 2,
     "metadata": {},
     "output_type": "execute_result"
    }
   ],
   "source": [
    "train_data = pd.read_csv('train.csv')\n",
    "pd.options.display.max_rows = 999\n",
    "train_data.head()"
   ]
  },
  {
   "cell_type": "code",
   "execution_count": 3,
   "metadata": {
    "_cell_guid": "b275f32f-20f8-43be-9661-c93461caba08",
    "_uuid": "a2b6212ec724ff7277871e5b168e8943c30f925e",
    "collapsed": false,
    "deletable": true,
    "editable": true
   },
   "outputs": [
    {
     "data": {
      "text/plain": [
       "0    549\n",
       "1    342\n",
       "Name: Survived, dtype: int64"
      ]
     },
     "execution_count": 3,
     "metadata": {},
     "output_type": "execute_result"
    }
   ],
   "source": [
    "# Number of outcome classes\n",
    "train_data['Survived'].value_counts()"
   ]
  },
  {
   "cell_type": "markdown",
   "metadata": {
    "_cell_guid": "9ea87f4f-b029-46ac-a979-8f0ebcadc774",
    "_uuid": "8ad281f9b7d516664f3f98fe2d9724933bc1c4d5",
    "deletable": true,
    "editable": true
   },
   "source": [
    "From the number of classess and their proportion, we can see that it is a binary classification problem with imbalanced category. Therefore, we need to consider using f1-score as the evalution metric"
   ]
  },
  {
   "cell_type": "code",
   "execution_count": 4,
   "metadata": {
    "_cell_guid": "d9192b6f-2fbd-4be3-a57a-44818b001bdc",
    "_uuid": "0e9672fed1b80e5ccd7b7226e707565f869d94a9",
    "collapsed": false,
    "deletable": true,
    "editable": true,
    "scrolled": true
   },
   "outputs": [
    {
     "name": "stdout",
     "output_type": "stream",
     "text": [
      "<class 'pandas.core.frame.DataFrame'>\n",
      "RangeIndex: 891 entries, 0 to 890\n",
      "Data columns (total 12 columns):\n",
      "PassengerId    891 non-null int64\n",
      "Survived       891 non-null int64\n",
      "Pclass         891 non-null int64\n",
      "Name           891 non-null object\n",
      "Sex            891 non-null object\n",
      "Age            714 non-null float64\n",
      "SibSp          891 non-null int64\n",
      "Parch          891 non-null int64\n",
      "Ticket         891 non-null object\n",
      "Fare           891 non-null float64\n",
      "Cabin          204 non-null object\n",
      "Embarked       889 non-null object\n",
      "dtypes: float64(2), int64(5), object(5)\n",
      "memory usage: 83.6+ KB\n"
     ]
    }
   ],
   "source": [
    "train_data.info()"
   ]
  },
  {
   "cell_type": "code",
   "execution_count": 5,
   "metadata": {
    "_cell_guid": "d7754f66-5e4a-485c-8b0f-647a0309fdb6",
    "_uuid": "144097a5357d912641152607ecf6bd943586fb45",
    "collapsed": false,
    "deletable": true,
    "editable": true
   },
   "outputs": [
    {
     "data": {
      "text/html": [
       "<div>\n",
       "<table border=\"1\" class=\"dataframe\">\n",
       "  <thead>\n",
       "    <tr style=\"text-align: right;\">\n",
       "      <th></th>\n",
       "      <th>PassengerId</th>\n",
       "      <th>Pclass</th>\n",
       "      <th>Name</th>\n",
       "      <th>Sex</th>\n",
       "      <th>Age</th>\n",
       "      <th>SibSp</th>\n",
       "      <th>Parch</th>\n",
       "      <th>Ticket</th>\n",
       "      <th>Fare</th>\n",
       "      <th>Cabin</th>\n",
       "      <th>Embarked</th>\n",
       "    </tr>\n",
       "  </thead>\n",
       "  <tbody>\n",
       "    <tr>\n",
       "      <th>0</th>\n",
       "      <td>892</td>\n",
       "      <td>3</td>\n",
       "      <td>Kelly, Mr. James</td>\n",
       "      <td>male</td>\n",
       "      <td>34.5</td>\n",
       "      <td>0</td>\n",
       "      <td>0</td>\n",
       "      <td>330911</td>\n",
       "      <td>7.8292</td>\n",
       "      <td>NaN</td>\n",
       "      <td>Q</td>\n",
       "    </tr>\n",
       "    <tr>\n",
       "      <th>1</th>\n",
       "      <td>893</td>\n",
       "      <td>3</td>\n",
       "      <td>Wilkes, Mrs. James (Ellen Needs)</td>\n",
       "      <td>female</td>\n",
       "      <td>47.0</td>\n",
       "      <td>1</td>\n",
       "      <td>0</td>\n",
       "      <td>363272</td>\n",
       "      <td>7.0000</td>\n",
       "      <td>NaN</td>\n",
       "      <td>S</td>\n",
       "    </tr>\n",
       "    <tr>\n",
       "      <th>2</th>\n",
       "      <td>894</td>\n",
       "      <td>2</td>\n",
       "      <td>Myles, Mr. Thomas Francis</td>\n",
       "      <td>male</td>\n",
       "      <td>62.0</td>\n",
       "      <td>0</td>\n",
       "      <td>0</td>\n",
       "      <td>240276</td>\n",
       "      <td>9.6875</td>\n",
       "      <td>NaN</td>\n",
       "      <td>Q</td>\n",
       "    </tr>\n",
       "    <tr>\n",
       "      <th>3</th>\n",
       "      <td>895</td>\n",
       "      <td>3</td>\n",
       "      <td>Wirz, Mr. Albert</td>\n",
       "      <td>male</td>\n",
       "      <td>27.0</td>\n",
       "      <td>0</td>\n",
       "      <td>0</td>\n",
       "      <td>315154</td>\n",
       "      <td>8.6625</td>\n",
       "      <td>NaN</td>\n",
       "      <td>S</td>\n",
       "    </tr>\n",
       "    <tr>\n",
       "      <th>4</th>\n",
       "      <td>896</td>\n",
       "      <td>3</td>\n",
       "      <td>Hirvonen, Mrs. Alexander (Helga E Lindqvist)</td>\n",
       "      <td>female</td>\n",
       "      <td>22.0</td>\n",
       "      <td>1</td>\n",
       "      <td>1</td>\n",
       "      <td>3101298</td>\n",
       "      <td>12.2875</td>\n",
       "      <td>NaN</td>\n",
       "      <td>S</td>\n",
       "    </tr>\n",
       "  </tbody>\n",
       "</table>\n",
       "</div>"
      ],
      "text/plain": [
       "   PassengerId  Pclass                                          Name     Sex  \\\n",
       "0          892       3                              Kelly, Mr. James    male   \n",
       "1          893       3              Wilkes, Mrs. James (Ellen Needs)  female   \n",
       "2          894       2                     Myles, Mr. Thomas Francis    male   \n",
       "3          895       3                              Wirz, Mr. Albert    male   \n",
       "4          896       3  Hirvonen, Mrs. Alexander (Helga E Lindqvist)  female   \n",
       "\n",
       "    Age  SibSp  Parch   Ticket     Fare Cabin Embarked  \n",
       "0  34.5      0      0   330911   7.8292   NaN        Q  \n",
       "1  47.0      1      0   363272   7.0000   NaN        S  \n",
       "2  62.0      0      0   240276   9.6875   NaN        Q  \n",
       "3  27.0      0      0   315154   8.6625   NaN        S  \n",
       "4  22.0      1      1  3101298  12.2875   NaN        S  "
      ]
     },
     "execution_count": 5,
     "metadata": {},
     "output_type": "execute_result"
    }
   ],
   "source": [
    "test_data = pd.read_csv('test.csv')\n",
    "test_data.head()"
   ]
  },
  {
   "cell_type": "code",
   "execution_count": 6,
   "metadata": {
    "_cell_guid": "c07cbc56-dc1f-4899-a4aa-10eee986f21c",
    "_uuid": "e5166cdd8dc15630e894f7b66db5c3cb733665e3",
    "collapsed": false,
    "deletable": true,
    "editable": true
   },
   "outputs": [
    {
     "name": "stdout",
     "output_type": "stream",
     "text": [
      "<class 'pandas.core.frame.DataFrame'>\n",
      "RangeIndex: 418 entries, 0 to 417\n",
      "Data columns (total 11 columns):\n",
      "PassengerId    418 non-null int64\n",
      "Pclass         418 non-null int64\n",
      "Name           418 non-null object\n",
      "Sex            418 non-null object\n",
      "Age            332 non-null float64\n",
      "SibSp          418 non-null int64\n",
      "Parch          418 non-null int64\n",
      "Ticket         418 non-null object\n",
      "Fare           417 non-null float64\n",
      "Cabin          91 non-null object\n",
      "Embarked       418 non-null object\n",
      "dtypes: float64(2), int64(4), object(5)\n",
      "memory usage: 36.0+ KB\n"
     ]
    }
   ],
   "source": [
    "test_data.info()"
   ]
  },
  {
   "cell_type": "code",
   "execution_count": 7,
   "metadata": {
    "_cell_guid": "4ad69e5d-3ee8-4b0f-b545-7500eb598f9d",
    "_uuid": "4a503ff87f665874ea6a551dc066b4d2332adf62",
    "collapsed": true,
    "deletable": true,
    "editable": true
   },
   "outputs": [],
   "source": [
    "# Combine training and testing data together\n",
    "data = pd.concat([train_data, test_data]).reset_index(drop=True)"
   ]
  },
  {
   "cell_type": "code",
   "execution_count": 61,
   "metadata": {
    "_cell_guid": "3145da28-78b1-4e2c-ae63-b55781b6c831",
    "_uuid": "3aede260506d232c7007a811314a91089559d2f0",
    "collapsed": true,
    "deletable": true,
    "editable": true
   },
   "outputs": [],
   "source": [
    "# Make a copy oof original data for testing the preprocessing algorithm\n",
    "data_rd1 = data.copy()"
   ]
  },
  {
   "cell_type": "markdown",
   "metadata": {
    "_cell_guid": "a3acfaff-6d21-44bc-9a33-7024d73caab4",
    "_uuid": "0360ae40ca40b12e07c473a6cb3c8c714087ba04",
    "deletable": true,
    "editable": true
   },
   "source": [
    "Given that test data has lots of NaN values in cabin. We will drop this feature."
   ]
  },
  {
   "cell_type": "code",
   "execution_count": 1745,
   "metadata": {
    "_cell_guid": "1272c7c1-18cc-4a32-993b-31ea9f161fbb",
    "_uuid": "03d4adeefea7739aa2eaba8696cf650db02f27c4",
    "collapsed": false,
    "deletable": true,
    "editable": true
   },
   "outputs": [
    {
     "data": {
      "text/html": [
       "<div>\n",
       "<table border=\"1\" class=\"dataframe\">\n",
       "  <thead>\n",
       "    <tr style=\"text-align: right;\">\n",
       "      <th></th>\n",
       "      <th>Age</th>\n",
       "      <th>Embarked</th>\n",
       "      <th>Fare</th>\n",
       "      <th>Name</th>\n",
       "      <th>Parch</th>\n",
       "      <th>PassengerId</th>\n",
       "      <th>Pclass</th>\n",
       "      <th>Sex</th>\n",
       "      <th>SibSp</th>\n",
       "      <th>Survived</th>\n",
       "      <th>Ticket</th>\n",
       "    </tr>\n",
       "  </thead>\n",
       "  <tbody>\n",
       "    <tr>\n",
       "      <th>0</th>\n",
       "      <td>22.0</td>\n",
       "      <td>S</td>\n",
       "      <td>7.2500</td>\n",
       "      <td>Braund, Mr. Owen Harris</td>\n",
       "      <td>0</td>\n",
       "      <td>1</td>\n",
       "      <td>3</td>\n",
       "      <td>male</td>\n",
       "      <td>1</td>\n",
       "      <td>0.0</td>\n",
       "      <td>A/5 21171</td>\n",
       "    </tr>\n",
       "    <tr>\n",
       "      <th>1</th>\n",
       "      <td>38.0</td>\n",
       "      <td>C</td>\n",
       "      <td>71.2833</td>\n",
       "      <td>Cumings, Mrs. John Bradley (Florence Briggs Th...</td>\n",
       "      <td>0</td>\n",
       "      <td>2</td>\n",
       "      <td>1</td>\n",
       "      <td>female</td>\n",
       "      <td>1</td>\n",
       "      <td>1.0</td>\n",
       "      <td>PC 17599</td>\n",
       "    </tr>\n",
       "    <tr>\n",
       "      <th>2</th>\n",
       "      <td>26.0</td>\n",
       "      <td>S</td>\n",
       "      <td>7.9250</td>\n",
       "      <td>Heikkinen, Miss. Laina</td>\n",
       "      <td>0</td>\n",
       "      <td>3</td>\n",
       "      <td>3</td>\n",
       "      <td>female</td>\n",
       "      <td>0</td>\n",
       "      <td>1.0</td>\n",
       "      <td>STON/O2. 3101282</td>\n",
       "    </tr>\n",
       "    <tr>\n",
       "      <th>3</th>\n",
       "      <td>35.0</td>\n",
       "      <td>S</td>\n",
       "      <td>53.1000</td>\n",
       "      <td>Futrelle, Mrs. Jacques Heath (Lily May Peel)</td>\n",
       "      <td>0</td>\n",
       "      <td>4</td>\n",
       "      <td>1</td>\n",
       "      <td>female</td>\n",
       "      <td>1</td>\n",
       "      <td>1.0</td>\n",
       "      <td>113803</td>\n",
       "    </tr>\n",
       "    <tr>\n",
       "      <th>4</th>\n",
       "      <td>35.0</td>\n",
       "      <td>S</td>\n",
       "      <td>8.0500</td>\n",
       "      <td>Allen, Mr. William Henry</td>\n",
       "      <td>0</td>\n",
       "      <td>5</td>\n",
       "      <td>3</td>\n",
       "      <td>male</td>\n",
       "      <td>0</td>\n",
       "      <td>0.0</td>\n",
       "      <td>373450</td>\n",
       "    </tr>\n",
       "  </tbody>\n",
       "</table>\n",
       "</div>"
      ],
      "text/plain": [
       "    Age Embarked     Fare                                               Name  \\\n",
       "0  22.0        S   7.2500                            Braund, Mr. Owen Harris   \n",
       "1  38.0        C  71.2833  Cumings, Mrs. John Bradley (Florence Briggs Th...   \n",
       "2  26.0        S   7.9250                             Heikkinen, Miss. Laina   \n",
       "3  35.0        S  53.1000       Futrelle, Mrs. Jacques Heath (Lily May Peel)   \n",
       "4  35.0        S   8.0500                           Allen, Mr. William Henry   \n",
       "\n",
       "   Parch  PassengerId  Pclass     Sex  SibSp  Survived            Ticket  \n",
       "0      0            1       3    male      1       0.0         A/5 21171  \n",
       "1      0            2       1  female      1       1.0          PC 17599  \n",
       "2      0            3       3  female      0       1.0  STON/O2. 3101282  \n",
       "3      0            4       1  female      1       1.0            113803  \n",
       "4      0            5       3    male      0       0.0            373450  "
      ]
     },
     "execution_count": 1745,
     "metadata": {},
     "output_type": "execute_result"
    }
   ],
   "source": [
    "data_rd1.drop(labels='Cabin', axis=1, inplace=True)\n",
    "data_rd1.head()"
   ]
  },
  {
   "cell_type": "code",
   "execution_count": 9,
   "metadata": {
    "_cell_guid": "9dfcf792-8490-4d88-b956-bdac4ff49b01",
    "_uuid": "0c68e6b4d7d8f543095856b27eab5fa8bd5363f1",
    "collapsed": true,
    "deletable": true,
    "editable": true
   },
   "outputs": [],
   "source": [
    "# Create function for extracting information from Name\n",
    "import re\n",
    "import string\n",
    "def name_parsing(text):\n",
    "    # Remove bracket content\n",
    "    title = []\n",
    "    middle_name = []\n",
    "    last_name = []\n",
    "    \n",
    "    title_bank = ['Miss', 'Mr', 'Mrs', 'Dr', 'Master', 'Major', 'Rev', 'Capt', 'Lady',\n",
    "       'Mme', 'Ms', 'Col', 'Mlle']\n",
    "    \n",
    "    for i in range(len(text)):\n",
    "        # Remove the content in bracket\n",
    "        text.iloc[i] = re.sub(\"[\\(\\[].*?[\\)\\]]\", \"\", text.iloc[i])\n",
    "        # Remove punctuation\n",
    "        translation = text.iloc[i].maketrans(\"\",\"\", string.punctuation)\n",
    "        # Split\n",
    "        # ext_trans = text[i].translate(translation)\n",
    "        text_split = text.iloc[i].split()\n",
    "        lastname_flag = 0\n",
    "        title_flag = 0\n",
    "        for j in range(len(text_split)):\n",
    "            if (',' in text_split[j]) & (lastname_flag == 0):\n",
    "                last_name.append(text_split[j].translate(translation))\n",
    "                last_name_flag = 1\n",
    "            \n",
    "            if ('.' in text_split[j]) & (title_flag == 0):\n",
    "                title.append(text_split[j].translate(translation))                \n",
    "                title_flag = 1                \n",
    "    \n",
    "        if last_name_flag == 0:\n",
    "            last_name.append(np.nan)\n",
    "        \n",
    "        if title_flag == 0:\n",
    "            title.append(np.nan)\n",
    "            \n",
    "        # first_name.append(text_split[-2].translate(translation))\n",
    "        middle_name.append(text_split[-1].translate(translation))\n",
    "        \n",
    "    return pd.Series(title), pd.Series(last_name), pd.Series(middle_name)"
   ]
  },
  {
   "cell_type": "code",
   "execution_count": 10,
   "metadata": {
    "_cell_guid": "725652c9-f189-426b-8ea3-36484e28cecc",
    "_uuid": "32b808d48b181a0eca1045a643726001fa22739a",
    "collapsed": true,
    "deletable": true,
    "editable": true
   },
   "outputs": [],
   "source": [
    "title, last, middle = name_parsing(data_rd1['Name'])"
   ]
  },
  {
   "cell_type": "code",
   "execution_count": 62,
   "metadata": {
    "_cell_guid": "b30fdc64-8797-40d8-bb09-0a0fd6452157",
    "_uuid": "aa884b0d6fbf37f88d4c6507aebbd040b640b2cb",
    "collapsed": true,
    "deletable": true,
    "editable": true
   },
   "outputs": [],
   "source": [
    "name_type = title.unique()\n",
    "name_map = {}\n",
    "\n",
    "for i in range(len(name_type)):\n",
    "    name_map[name_type[i]] = i\n",
    "\n",
    "title_name_num = title.map(name_map)\n",
    "data_rd1['title_name'] = list(title)"
   ]
  },
  {
   "cell_type": "code",
   "execution_count": 63,
   "metadata": {
    "_cell_guid": "9d337534-81f6-488c-aecf-86492a6172b7",
    "_uuid": "7bb73b6aaa8464768970c893c27ec657885bab83",
    "collapsed": false,
    "deletable": true,
    "editable": true
   },
   "outputs": [
    {
     "data": {
      "text/html": [
       "<div>\n",
       "<table border=\"1\" class=\"dataframe\">\n",
       "  <thead>\n",
       "    <tr style=\"text-align: right;\">\n",
       "      <th></th>\n",
       "      <th>Age</th>\n",
       "      <th>Cabin</th>\n",
       "      <th>Embarked</th>\n",
       "      <th>Fare</th>\n",
       "      <th>Name</th>\n",
       "      <th>Parch</th>\n",
       "      <th>PassengerId</th>\n",
       "      <th>Pclass</th>\n",
       "      <th>Sex</th>\n",
       "      <th>SibSp</th>\n",
       "      <th>Survived</th>\n",
       "      <th>Ticket</th>\n",
       "      <th>title_name</th>\n",
       "    </tr>\n",
       "  </thead>\n",
       "  <tbody>\n",
       "    <tr>\n",
       "      <th>0</th>\n",
       "      <td>22.0</td>\n",
       "      <td>NaN</td>\n",
       "      <td>S</td>\n",
       "      <td>7.2500</td>\n",
       "      <td>Braund, Mr. Owen Harris</td>\n",
       "      <td>0</td>\n",
       "      <td>1</td>\n",
       "      <td>3</td>\n",
       "      <td>male</td>\n",
       "      <td>1</td>\n",
       "      <td>0.0</td>\n",
       "      <td>A/5 21171</td>\n",
       "      <td>Mr</td>\n",
       "    </tr>\n",
       "    <tr>\n",
       "      <th>1</th>\n",
       "      <td>38.0</td>\n",
       "      <td>C85</td>\n",
       "      <td>C</td>\n",
       "      <td>71.2833</td>\n",
       "      <td>Cumings, Mrs. John Bradley (Florence Briggs Th...</td>\n",
       "      <td>0</td>\n",
       "      <td>2</td>\n",
       "      <td>1</td>\n",
       "      <td>female</td>\n",
       "      <td>1</td>\n",
       "      <td>1.0</td>\n",
       "      <td>PC 17599</td>\n",
       "      <td>Mrs</td>\n",
       "    </tr>\n",
       "    <tr>\n",
       "      <th>2</th>\n",
       "      <td>26.0</td>\n",
       "      <td>NaN</td>\n",
       "      <td>S</td>\n",
       "      <td>7.9250</td>\n",
       "      <td>Heikkinen, Miss. Laina</td>\n",
       "      <td>0</td>\n",
       "      <td>3</td>\n",
       "      <td>3</td>\n",
       "      <td>female</td>\n",
       "      <td>0</td>\n",
       "      <td>1.0</td>\n",
       "      <td>STON/O2. 3101282</td>\n",
       "      <td>Miss</td>\n",
       "    </tr>\n",
       "    <tr>\n",
       "      <th>3</th>\n",
       "      <td>35.0</td>\n",
       "      <td>C123</td>\n",
       "      <td>S</td>\n",
       "      <td>53.1000</td>\n",
       "      <td>Futrelle, Mrs. Jacques Heath (Lily May Peel)</td>\n",
       "      <td>0</td>\n",
       "      <td>4</td>\n",
       "      <td>1</td>\n",
       "      <td>female</td>\n",
       "      <td>1</td>\n",
       "      <td>1.0</td>\n",
       "      <td>113803</td>\n",
       "      <td>Mrs</td>\n",
       "    </tr>\n",
       "    <tr>\n",
       "      <th>4</th>\n",
       "      <td>35.0</td>\n",
       "      <td>NaN</td>\n",
       "      <td>S</td>\n",
       "      <td>8.0500</td>\n",
       "      <td>Allen, Mr. William Henry</td>\n",
       "      <td>0</td>\n",
       "      <td>5</td>\n",
       "      <td>3</td>\n",
       "      <td>male</td>\n",
       "      <td>0</td>\n",
       "      <td>0.0</td>\n",
       "      <td>373450</td>\n",
       "      <td>Mr</td>\n",
       "    </tr>\n",
       "  </tbody>\n",
       "</table>\n",
       "</div>"
      ],
      "text/plain": [
       "    Age Cabin Embarked     Fare  \\\n",
       "0  22.0   NaN        S   7.2500   \n",
       "1  38.0   C85        C  71.2833   \n",
       "2  26.0   NaN        S   7.9250   \n",
       "3  35.0  C123        S  53.1000   \n",
       "4  35.0   NaN        S   8.0500   \n",
       "\n",
       "                                                Name  Parch  PassengerId  \\\n",
       "0                            Braund, Mr. Owen Harris      0            1   \n",
       "1  Cumings, Mrs. John Bradley (Florence Briggs Th...      0            2   \n",
       "2                             Heikkinen, Miss. Laina      0            3   \n",
       "3       Futrelle, Mrs. Jacques Heath (Lily May Peel)      0            4   \n",
       "4                           Allen, Mr. William Henry      0            5   \n",
       "\n",
       "   Pclass     Sex  SibSp  Survived            Ticket title_name  \n",
       "0       3    male      1       0.0         A/5 21171         Mr  \n",
       "1       1  female      1       1.0          PC 17599        Mrs  \n",
       "2       3  female      0       1.0  STON/O2. 3101282       Miss  \n",
       "3       1  female      1       1.0            113803        Mrs  \n",
       "4       3    male      0       0.0            373450         Mr  "
      ]
     },
     "execution_count": 63,
     "metadata": {},
     "output_type": "execute_result"
    }
   ],
   "source": [
    "data_rd1.head()"
   ]
  },
  {
   "cell_type": "code",
   "execution_count": 64,
   "metadata": {
    "_cell_guid": "99172811-6e1c-487c-872a-76157cf361c6",
    "_uuid": "5042e3121a77a43c92f3d6d535bf0b3c2c84a045",
    "collapsed": false,
    "deletable": true,
    "editable": true
   },
   "outputs": [
    {
     "data": {
      "text/plain": [
       "Mr          57.830405\n",
       "Miss        19.862490\n",
       "Mrs         15.049656\n",
       "Master       4.660046\n",
       "Rev          0.611154\n",
       "Dr           0.611154\n",
       "Col          0.305577\n",
       "Ms           0.152788\n",
       "Mlle         0.152788\n",
       "Major        0.152788\n",
       "Mme          0.076394\n",
       "Jonkheer     0.076394\n",
       "Lady         0.076394\n",
       "Dona         0.076394\n",
       "Sir          0.076394\n",
       "Countess     0.076394\n",
       "Don          0.076394\n",
       "Capt         0.076394\n",
       "Name: title_name, dtype: float64"
      ]
     },
     "execution_count": 64,
     "metadata": {},
     "output_type": "execute_result"
    }
   ],
   "source": [
    "# To many categorical values for titles, try combining them and apply one hot\n",
    "data_rd1['title_name'].value_counts()/np.sum(data_rd1['title_name'].value_counts())*100"
   ]
  },
  {
   "cell_type": "code",
   "execution_count": 65,
   "metadata": {
    "collapsed": true,
    "deletable": true,
    "editable": true
   },
   "outputs": [],
   "source": [
    "# Map title name to represent better the gender and ages\n",
    "title_map = {\"Capt\":       \"Officer\",\n",
    "            \"Col\":        \"Officer\",\n",
    "            \"Major\":      \"Officer\",\n",
    "            \"Jonkheer\":   \"Royalty\",\n",
    "            \"Don\":        \"Royalty\",\n",
    "            \"Sir\" :       \"Royalty\",\n",
    "            \"Dr\":         \"Officer\",\n",
    "            \"Rev\":        \"Officer\",\n",
    "            \"the Countess\":\"Royalty\",\n",
    "            \"Dona\":       \"Royalty\",\n",
    "            \"Mme\":        \"Mrs\",\n",
    "            \"Mlle\":       \"Miss\",\n",
    "            \"Ms\":         \"Mrs\",\n",
    "            \"Mr\" :        \"Mr\",\n",
    "            \"Mrs\" :       \"Mrs\",\n",
    "            \"Miss\" :      \"Miss\",\n",
    "            \"Master\" :    \"Master\",\n",
    "            \"Lady\" :      \"Royalty\"}"
   ]
  },
  {
   "cell_type": "code",
   "execution_count": 66,
   "metadata": {
    "collapsed": false,
    "deletable": true,
    "editable": true
   },
   "outputs": [
    {
     "data": {
      "text/plain": [
       "Mr         57.874618\n",
       "Miss       20.030581\n",
       "Mrs        15.290520\n",
       "Master      4.663609\n",
       "Officer     1.758410\n",
       "Royalty     0.382263\n",
       "Name: title_name, dtype: float64"
      ]
     },
     "execution_count": 66,
     "metadata": {},
     "output_type": "execute_result"
    }
   ],
   "source": [
    "data_rd1['title_name'] = data_rd1['title_name'].map(title_map)\n",
    "data_rd1['title_name'].value_counts()/np.sum(data_rd1['title_name'].value_counts())*100"
   ]
  },
  {
   "cell_type": "code",
   "execution_count": 68,
   "metadata": {
    "collapsed": false,
    "deletable": true,
    "editable": true
   },
   "outputs": [],
   "source": [
    "one_hot_title = pd.get_dummies(data_rd1['title_name'])\n",
    "data_rd1 = data_rd1.join(one_hot_title)\n",
    "data_rd1.drop(labels='title_name', axis=1, inplace=True)\n",
    "data_rd1.drop(labels='Name', axis=1, inplace=True)"
   ]
  },
  {
   "cell_type": "code",
   "execution_count": 72,
   "metadata": {
    "_cell_guid": "3f47750d-7a1b-426c-89d1-e6002f1bef3b",
    "_uuid": "a06556a2ded98803f81110e9243c6cec747a5106",
    "collapsed": false,
    "deletable": true,
    "editable": true
   },
   "outputs": [
    {
     "data": {
      "text/html": [
       "<div>\n",
       "<table border=\"1\" class=\"dataframe\">\n",
       "  <thead>\n",
       "    <tr style=\"text-align: right;\">\n",
       "      <th></th>\n",
       "      <th>Age</th>\n",
       "      <th>Cabin</th>\n",
       "      <th>Embarked</th>\n",
       "      <th>Fare</th>\n",
       "      <th>Parch</th>\n",
       "      <th>PassengerId</th>\n",
       "      <th>Pclass</th>\n",
       "      <th>Sex</th>\n",
       "      <th>SibSp</th>\n",
       "      <th>Survived</th>\n",
       "      <th>Ticket</th>\n",
       "      <th>Master</th>\n",
       "      <th>Miss</th>\n",
       "      <th>Mr</th>\n",
       "      <th>Mrs</th>\n",
       "      <th>Officer</th>\n",
       "      <th>Royalty</th>\n",
       "    </tr>\n",
       "  </thead>\n",
       "  <tbody>\n",
       "    <tr>\n",
       "      <th>0</th>\n",
       "      <td>22.0</td>\n",
       "      <td>NaN</td>\n",
       "      <td>S</td>\n",
       "      <td>7.2500</td>\n",
       "      <td>0</td>\n",
       "      <td>1</td>\n",
       "      <td>3</td>\n",
       "      <td>male</td>\n",
       "      <td>1</td>\n",
       "      <td>0.0</td>\n",
       "      <td>A/5 21171</td>\n",
       "      <td>0</td>\n",
       "      <td>0</td>\n",
       "      <td>1</td>\n",
       "      <td>0</td>\n",
       "      <td>0</td>\n",
       "      <td>0</td>\n",
       "    </tr>\n",
       "    <tr>\n",
       "      <th>1</th>\n",
       "      <td>38.0</td>\n",
       "      <td>C85</td>\n",
       "      <td>C</td>\n",
       "      <td>71.2833</td>\n",
       "      <td>0</td>\n",
       "      <td>2</td>\n",
       "      <td>1</td>\n",
       "      <td>female</td>\n",
       "      <td>1</td>\n",
       "      <td>1.0</td>\n",
       "      <td>PC 17599</td>\n",
       "      <td>0</td>\n",
       "      <td>0</td>\n",
       "      <td>0</td>\n",
       "      <td>1</td>\n",
       "      <td>0</td>\n",
       "      <td>0</td>\n",
       "    </tr>\n",
       "    <tr>\n",
       "      <th>2</th>\n",
       "      <td>26.0</td>\n",
       "      <td>NaN</td>\n",
       "      <td>S</td>\n",
       "      <td>7.9250</td>\n",
       "      <td>0</td>\n",
       "      <td>3</td>\n",
       "      <td>3</td>\n",
       "      <td>female</td>\n",
       "      <td>0</td>\n",
       "      <td>1.0</td>\n",
       "      <td>STON/O2. 3101282</td>\n",
       "      <td>0</td>\n",
       "      <td>1</td>\n",
       "      <td>0</td>\n",
       "      <td>0</td>\n",
       "      <td>0</td>\n",
       "      <td>0</td>\n",
       "    </tr>\n",
       "    <tr>\n",
       "      <th>3</th>\n",
       "      <td>35.0</td>\n",
       "      <td>C123</td>\n",
       "      <td>S</td>\n",
       "      <td>53.1000</td>\n",
       "      <td>0</td>\n",
       "      <td>4</td>\n",
       "      <td>1</td>\n",
       "      <td>female</td>\n",
       "      <td>1</td>\n",
       "      <td>1.0</td>\n",
       "      <td>113803</td>\n",
       "      <td>0</td>\n",
       "      <td>0</td>\n",
       "      <td>0</td>\n",
       "      <td>1</td>\n",
       "      <td>0</td>\n",
       "      <td>0</td>\n",
       "    </tr>\n",
       "    <tr>\n",
       "      <th>4</th>\n",
       "      <td>35.0</td>\n",
       "      <td>NaN</td>\n",
       "      <td>S</td>\n",
       "      <td>8.0500</td>\n",
       "      <td>0</td>\n",
       "      <td>5</td>\n",
       "      <td>3</td>\n",
       "      <td>male</td>\n",
       "      <td>0</td>\n",
       "      <td>0.0</td>\n",
       "      <td>373450</td>\n",
       "      <td>0</td>\n",
       "      <td>0</td>\n",
       "      <td>1</td>\n",
       "      <td>0</td>\n",
       "      <td>0</td>\n",
       "      <td>0</td>\n",
       "    </tr>\n",
       "  </tbody>\n",
       "</table>\n",
       "</div>"
      ],
      "text/plain": [
       "    Age Cabin Embarked     Fare  Parch  PassengerId  Pclass     Sex  SibSp  \\\n",
       "0  22.0   NaN        S   7.2500      0            1       3    male      1   \n",
       "1  38.0   C85        C  71.2833      0            2       1  female      1   \n",
       "2  26.0   NaN        S   7.9250      0            3       3  female      0   \n",
       "3  35.0  C123        S  53.1000      0            4       1  female      1   \n",
       "4  35.0   NaN        S   8.0500      0            5       3    male      0   \n",
       "\n",
       "   Survived            Ticket  Master  Miss  Mr  Mrs  Officer  Royalty  \n",
       "0       0.0         A/5 21171       0     0   1    0        0        0  \n",
       "1       1.0          PC 17599       0     0   0    1        0        0  \n",
       "2       1.0  STON/O2. 3101282       0     1   0    0        0        0  \n",
       "3       1.0            113803       0     0   0    1        0        0  \n",
       "4       0.0            373450       0     0   1    0        0        0  "
      ]
     },
     "execution_count": 72,
     "metadata": {},
     "output_type": "execute_result"
    }
   ],
   "source": [
    "data_rd1.head()"
   ]
  },
  {
   "cell_type": "code",
   "execution_count": 73,
   "metadata": {
    "_cell_guid": "490b2c91-c3f0-4b4f-be0d-bca81e30f594",
    "_uuid": "8341cbbd85de1def24bfa599156d00e3b8674ad2",
    "collapsed": true,
    "deletable": true,
    "editable": true
   },
   "outputs": [],
   "source": [
    "# Extract string and number information from ticket\n",
    "ticket_ori = data_rd1['Ticket']\n",
    "\n",
    "ticket_num1 = []\n",
    "ticket_num2 = []\n",
    "ticket_str = []\n",
    "for tk in range(len(ticket_ori)):\n",
    "    if len(re.findall(r'\\d+', ticket_ori.iloc[tk])) ==0:\n",
    "        ticket_num1.append(np.nan)\n",
    "        ticket_num2.append(np.nan)\n",
    "    else:\n",
    "        ticket_num_temp = re.findall(r'\\d+', ticket_ori.iloc[tk])\n",
    "        if len(ticket_num_temp)>1:\n",
    "            ticket_num1.append(np.int(ticket_num_temp[0]))\n",
    "            ticket_num2.append(np.int(ticket_num_temp[-1]))\n",
    "        else:\n",
    "            ticket_num1.append(0)\n",
    "            ticket_num2.append(np.int(ticket_num_temp[-1]))\n",
    "        \n",
    "    if len(re.findall(\"[a-zA-Z]+\", ticket_ori.iloc[tk]))==0:\n",
    "        ticket_str.append(np.nan)\n",
    "    else:\n",
    "        ticket_str.append(re.findall(\"[a-zA-Z]+\", ticket_ori.iloc[tk]))\n",
    "        "
   ]
  },
  {
   "cell_type": "code",
   "execution_count": 19,
   "metadata": {
    "_cell_guid": "e610092a-8d11-4bdf-addc-f9156e5ee931",
    "_uuid": "de947b9d6dc831f8f10820ab7d5b37ae8d9b383e",
    "collapsed": true,
    "deletable": true,
    "editable": true
   },
   "outputs": [],
   "source": [
    "# data_rd1=data_rd1.join(pd.Series(ticket_str, name='ticket_str'), how='outer')\n",
    "# data_rd1.drop(labels='ticket_str', axis=1, inplace=True)"
   ]
  },
  {
   "cell_type": "code",
   "execution_count": 74,
   "metadata": {
    "_cell_guid": "70b0947f-8cc0-4530-a069-4bc6134fd430",
    "_uuid": "4194c1ea5fcd56526b2f6148e7b0d1fac476935f",
    "collapsed": true,
    "deletable": true,
    "editable": true
   },
   "outputs": [],
   "source": [
    "data_rd1=data_rd1.join(pd.Series(ticket_num1, name='ticket_num1'), how='outer')\n",
    "data_rd1=data_rd1.join(pd.Series(ticket_num2, name='ticket_num2'), how='outer')\n",
    "data_rd1.drop(labels='Ticket', axis=1, inplace=True)"
   ]
  },
  {
   "cell_type": "code",
   "execution_count": 75,
   "metadata": {
    "_cell_guid": "8eec991a-8374-4317-a6c6-664bb292c42a",
    "_uuid": "8b51b9391a2604f1dcc92a148ee802a607593a9a",
    "collapsed": true,
    "deletable": true,
    "editable": true
   },
   "outputs": [],
   "source": [
    "# Use mapping function to convert Sex into binary digits\n",
    "data_rd1['Sex'] = data_rd1['Sex'].map({'female':1, 'male':0})"
   ]
  },
  {
   "cell_type": "code",
   "execution_count": 76,
   "metadata": {
    "_cell_guid": "faeb83e2-6acb-415c-9dd3-cc91882139d2",
    "_uuid": "7b9492fd05ea9b78c213a69b061b65699ee36fff",
    "collapsed": false,
    "deletable": true,
    "editable": true
   },
   "outputs": [
    {
     "data": {
      "text/html": [
       "<div>\n",
       "<table border=\"1\" class=\"dataframe\">\n",
       "  <thead>\n",
       "    <tr style=\"text-align: right;\">\n",
       "      <th></th>\n",
       "      <th>Age</th>\n",
       "      <th>Cabin</th>\n",
       "      <th>Embarked</th>\n",
       "      <th>Fare</th>\n",
       "      <th>Parch</th>\n",
       "      <th>PassengerId</th>\n",
       "      <th>Pclass</th>\n",
       "      <th>Sex</th>\n",
       "      <th>SibSp</th>\n",
       "      <th>Survived</th>\n",
       "      <th>Master</th>\n",
       "      <th>Miss</th>\n",
       "      <th>Mr</th>\n",
       "      <th>Mrs</th>\n",
       "      <th>Officer</th>\n",
       "      <th>Royalty</th>\n",
       "      <th>ticket_num1</th>\n",
       "      <th>ticket_num2</th>\n",
       "    </tr>\n",
       "  </thead>\n",
       "  <tbody>\n",
       "    <tr>\n",
       "      <th>0</th>\n",
       "      <td>22.0</td>\n",
       "      <td>NaN</td>\n",
       "      <td>S</td>\n",
       "      <td>7.2500</td>\n",
       "      <td>0</td>\n",
       "      <td>1</td>\n",
       "      <td>3</td>\n",
       "      <td>0</td>\n",
       "      <td>1</td>\n",
       "      <td>0.0</td>\n",
       "      <td>0</td>\n",
       "      <td>0</td>\n",
       "      <td>1</td>\n",
       "      <td>0</td>\n",
       "      <td>0</td>\n",
       "      <td>0</td>\n",
       "      <td>5.0</td>\n",
       "      <td>21171.0</td>\n",
       "    </tr>\n",
       "    <tr>\n",
       "      <th>1</th>\n",
       "      <td>38.0</td>\n",
       "      <td>C85</td>\n",
       "      <td>C</td>\n",
       "      <td>71.2833</td>\n",
       "      <td>0</td>\n",
       "      <td>2</td>\n",
       "      <td>1</td>\n",
       "      <td>1</td>\n",
       "      <td>1</td>\n",
       "      <td>1.0</td>\n",
       "      <td>0</td>\n",
       "      <td>0</td>\n",
       "      <td>0</td>\n",
       "      <td>1</td>\n",
       "      <td>0</td>\n",
       "      <td>0</td>\n",
       "      <td>0.0</td>\n",
       "      <td>17599.0</td>\n",
       "    </tr>\n",
       "    <tr>\n",
       "      <th>2</th>\n",
       "      <td>26.0</td>\n",
       "      <td>NaN</td>\n",
       "      <td>S</td>\n",
       "      <td>7.9250</td>\n",
       "      <td>0</td>\n",
       "      <td>3</td>\n",
       "      <td>3</td>\n",
       "      <td>1</td>\n",
       "      <td>0</td>\n",
       "      <td>1.0</td>\n",
       "      <td>0</td>\n",
       "      <td>1</td>\n",
       "      <td>0</td>\n",
       "      <td>0</td>\n",
       "      <td>0</td>\n",
       "      <td>0</td>\n",
       "      <td>2.0</td>\n",
       "      <td>3101282.0</td>\n",
       "    </tr>\n",
       "    <tr>\n",
       "      <th>3</th>\n",
       "      <td>35.0</td>\n",
       "      <td>C123</td>\n",
       "      <td>S</td>\n",
       "      <td>53.1000</td>\n",
       "      <td>0</td>\n",
       "      <td>4</td>\n",
       "      <td>1</td>\n",
       "      <td>1</td>\n",
       "      <td>1</td>\n",
       "      <td>1.0</td>\n",
       "      <td>0</td>\n",
       "      <td>0</td>\n",
       "      <td>0</td>\n",
       "      <td>1</td>\n",
       "      <td>0</td>\n",
       "      <td>0</td>\n",
       "      <td>0.0</td>\n",
       "      <td>113803.0</td>\n",
       "    </tr>\n",
       "    <tr>\n",
       "      <th>4</th>\n",
       "      <td>35.0</td>\n",
       "      <td>NaN</td>\n",
       "      <td>S</td>\n",
       "      <td>8.0500</td>\n",
       "      <td>0</td>\n",
       "      <td>5</td>\n",
       "      <td>3</td>\n",
       "      <td>0</td>\n",
       "      <td>0</td>\n",
       "      <td>0.0</td>\n",
       "      <td>0</td>\n",
       "      <td>0</td>\n",
       "      <td>1</td>\n",
       "      <td>0</td>\n",
       "      <td>0</td>\n",
       "      <td>0</td>\n",
       "      <td>0.0</td>\n",
       "      <td>373450.0</td>\n",
       "    </tr>\n",
       "  </tbody>\n",
       "</table>\n",
       "</div>"
      ],
      "text/plain": [
       "    Age Cabin Embarked     Fare  Parch  PassengerId  Pclass  Sex  SibSp  \\\n",
       "0  22.0   NaN        S   7.2500      0            1       3    0      1   \n",
       "1  38.0   C85        C  71.2833      0            2       1    1      1   \n",
       "2  26.0   NaN        S   7.9250      0            3       3    1      0   \n",
       "3  35.0  C123        S  53.1000      0            4       1    1      1   \n",
       "4  35.0   NaN        S   8.0500      0            5       3    0      0   \n",
       "\n",
       "   Survived  Master  Miss  Mr  Mrs  Officer  Royalty  ticket_num1  ticket_num2  \n",
       "0       0.0       0     0   1    0        0        0          5.0      21171.0  \n",
       "1       1.0       0     0   0    1        0        0          0.0      17599.0  \n",
       "2       1.0       0     1   0    0        0        0          2.0    3101282.0  \n",
       "3       1.0       0     0   0    1        0        0          0.0     113803.0  \n",
       "4       0.0       0     0   1    0        0        0          0.0     373450.0  "
      ]
     },
     "execution_count": 76,
     "metadata": {},
     "output_type": "execute_result"
    }
   ],
   "source": [
    "data_rd1.head()"
   ]
  },
  {
   "cell_type": "markdown",
   "metadata": {
    "_cell_guid": "420ff26f-20c8-48ef-8cae-8b7f1c668f7b",
    "_uuid": "0b4087c940c4a6d1cc86f099a481591022fb1833",
    "deletable": true,
    "editable": true
   },
   "source": [
    "After pre-processing the data into format that we could start analying, we need to look for the univariate and multivariate statistical properties. Our goal is mostly to accopmlist:\n",
    "1. Remove redundancy and collinearity, which will help feature selection\n",
    "2. Help filling nan values"
   ]
  },
  {
   "cell_type": "markdown",
   "metadata": {
    "_cell_guid": "89d0300a-bab4-44e9-8e74-23b2a151f841",
    "_uuid": "93b47eee126ba6236842abb40519f80a6c265f94",
    "deletable": true,
    "editable": true
   },
   "source": [
    "Before we start looking into the pattern, we should brain storm what might be the potential complication for each feature, and what factor might influence it and how we could observe and purify the data. We could devide the feature into the critical one, and uncertain one. From the experience, Fare, Age, and Sex are the ones we have to keep. Pclass currently is ambigious. We will use other information to facilite filling and purifying the three features. \n",
    "1. Fare: It should represent fare of a single person, that represent the social class. We need to look into whether the current entry represent fare of the single person, and not influenced by where they embark. It could be helped potentially from Parch, SibSp, ticket_num1, ticket_num2. We should look into the correlation with Pcalss after the processing\n",
    "2. Age: It should represent age of the passenger. However, we need to fill the nan value. It could be helped potentially from fare, Parch, SibSp, Master, Miss, Mr, Mrs"
   ]
  },
  {
   "cell_type": "code",
   "execution_count": 77,
   "metadata": {
    "collapsed": true,
    "deletable": true,
    "editable": true
   },
   "outputs": [],
   "source": [
    "data_rd2 = data_rd1.copy()"
   ]
  },
  {
   "cell_type": "code",
   "execution_count": 78,
   "metadata": {
    "_cell_guid": "68e454ff-5382-4d54-8805-52cd9d571254",
    "_uuid": "9e5ad0444f69adbad2a13611a02b29ff258ec14a",
    "collapsed": true,
    "deletable": true,
    "editable": true
   },
   "outputs": [],
   "source": [
    "# Create dataframe focusing on Fare\n",
    "df_fare = pd.concat([data_rd2['Fare'], data_rd2['ticket_num1'], data_rd2['ticket_num2'], data_rd2['Parch'], data_rd2['SibSp']], axis=1, keys=['Fare', 'ticket_num1', 'ticket_num2', 'Parch', 'SibSp'])"
   ]
  },
  {
   "cell_type": "code",
   "execution_count": 79,
   "metadata": {
    "_cell_guid": "9b056a73-93cd-4519-9e6f-ccd0c7042f30",
    "_uuid": "a2edf394561356df95590059847310809fa63e42",
    "collapsed": false,
    "deletable": true,
    "editable": true,
    "scrolled": false
   },
   "outputs": [
    {
     "data": {
      "text/html": [
       "<div>\n",
       "<table border=\"1\" class=\"dataframe\">\n",
       "  <thead>\n",
       "    <tr style=\"text-align: right;\">\n",
       "      <th></th>\n",
       "      <th>Fare</th>\n",
       "      <th>ticket_num1</th>\n",
       "      <th>ticket_num2</th>\n",
       "      <th>Parch</th>\n",
       "      <th>SibSp</th>\n",
       "    </tr>\n",
       "  </thead>\n",
       "  <tbody>\n",
       "    <tr>\n",
       "      <th>1077</th>\n",
       "      <td>21.00</td>\n",
       "      <td>0.0</td>\n",
       "      <td>2.0</td>\n",
       "      <td>1</td>\n",
       "      <td>0</td>\n",
       "    </tr>\n",
       "    <tr>\n",
       "      <th>1193</th>\n",
       "      <td>21.00</td>\n",
       "      <td>0.0</td>\n",
       "      <td>2.0</td>\n",
       "      <td>1</td>\n",
       "      <td>0</td>\n",
       "    </tr>\n",
       "    <tr>\n",
       "      <th>841</th>\n",
       "      <td>10.50</td>\n",
       "      <td>0.0</td>\n",
       "      <td>3.0</td>\n",
       "      <td>0</td>\n",
       "      <td>0</td>\n",
       "    </tr>\n",
       "    <tr>\n",
       "      <th>772</th>\n",
       "      <td>10.50</td>\n",
       "      <td>0.0</td>\n",
       "      <td>3.0</td>\n",
       "      <td>0</td>\n",
       "      <td>0</td>\n",
       "    </tr>\n",
       "    <tr>\n",
       "      <th>1061</th>\n",
       "      <td>7.55</td>\n",
       "      <td>0.0</td>\n",
       "      <td>251.0</td>\n",
       "      <td>0</td>\n",
       "      <td>0</td>\n",
       "    </tr>\n",
       "  </tbody>\n",
       "</table>\n",
       "</div>"
      ],
      "text/plain": [
       "       Fare  ticket_num1  ticket_num2  Parch  SibSp\n",
       "1077  21.00          0.0          2.0      1      0\n",
       "1193  21.00          0.0          2.0      1      0\n",
       "841   10.50          0.0          3.0      0      0\n",
       "772   10.50          0.0          3.0      0      0\n",
       "1061   7.55          0.0        251.0      0      0"
      ]
     },
     "execution_count": 79,
     "metadata": {},
     "output_type": "execute_result"
    }
   ],
   "source": [
    "df_fare.sort_values(by='ticket_num2').head()"
   ]
  },
  {
   "cell_type": "markdown",
   "metadata": {
    "deletable": true,
    "editable": true
   },
   "source": [
    "From the above results we can see that \n",
    "1. For majority of the cases where passengers share the ticket_num2, they share Fare. This indicates that Fare could be the total fare paid by passengers share the ticket_num2\n",
    "2. Patch and SibSp could not acurately represent the group number, but could be used in combinaiton with Age to indicate wheter he/she serves as parent, children of neither. \n",
    "#### Will comback to this in next round"
   ]
  },
  {
   "cell_type": "code",
   "execution_count": 80,
   "metadata": {
    "_cell_guid": "adc63c2f-0000-4e02-b534-49f281edf87e",
    "_uuid": "b1c99319a21a1f93e977ea4e85abb6c2e7c3eed5",
    "collapsed": false,
    "deletable": true,
    "editable": true
   },
   "outputs": [],
   "source": [
    "# Obtain the final fare for dividing the number of occurence\n",
    "value_occ = pd.Series(df_fare['ticket_num2'].value_counts())\n",
    "value_occ_single = []\n",
    "for i in range(len(df_fare)):\n",
    "    value_occ_tmp = df_fare.iloc[i]['ticket_num2']\n",
    "    if np.isnan(value_occ_tmp):\n",
    "        value_occ_single.append(1)\n",
    "    else:\n",
    "        # Confirm whether fare are shared across passengers with the same ticket number\n",
    "        fare_tmp = df_fare.loc[df_fare['ticket_num2'] == value_occ_tmp, 'Fare']\n",
    "        if len(fare_tmp.value_counts()) == 1:\n",
    "            value_occ_single.append(value_occ[value_occ_tmp])\n",
    "        else:\n",
    "            value_occ_single.append(1)"
   ]
  },
  {
   "cell_type": "code",
   "execution_count": 81,
   "metadata": {
    "_cell_guid": "38ec11d6-631a-482b-b8dc-834e0a609671",
    "_uuid": "7920ddac81526d8cc47d1842489dbf0e271d5abe",
    "collapsed": false,
    "deletable": true,
    "editable": true
   },
   "outputs": [],
   "source": [
    "df_fare = df_fare.join(pd.Series(value_occ_single, name='occurance'), how='outer')"
   ]
  },
  {
   "cell_type": "code",
   "execution_count": 82,
   "metadata": {
    "_cell_guid": "925b3120-6ada-4996-950a-f6cf84943b25",
    "_uuid": "1b78380e13f56e16199bed62a3b4d0d73c6963ba",
    "collapsed": false,
    "deletable": true,
    "editable": true
   },
   "outputs": [
    {
     "data": {
      "text/html": [
       "<div>\n",
       "<table border=\"1\" class=\"dataframe\">\n",
       "  <thead>\n",
       "    <tr style=\"text-align: right;\">\n",
       "      <th></th>\n",
       "      <th>Fare</th>\n",
       "      <th>ticket_num1</th>\n",
       "      <th>ticket_num2</th>\n",
       "      <th>Parch</th>\n",
       "      <th>SibSp</th>\n",
       "      <th>occurance</th>\n",
       "    </tr>\n",
       "  </thead>\n",
       "  <tbody>\n",
       "    <tr>\n",
       "      <th>1077</th>\n",
       "      <td>21.00</td>\n",
       "      <td>0.0</td>\n",
       "      <td>2.0</td>\n",
       "      <td>1</td>\n",
       "      <td>0</td>\n",
       "      <td>2</td>\n",
       "    </tr>\n",
       "    <tr>\n",
       "      <th>1193</th>\n",
       "      <td>21.00</td>\n",
       "      <td>0.0</td>\n",
       "      <td>2.0</td>\n",
       "      <td>1</td>\n",
       "      <td>0</td>\n",
       "      <td>2</td>\n",
       "    </tr>\n",
       "    <tr>\n",
       "      <th>841</th>\n",
       "      <td>10.50</td>\n",
       "      <td>0.0</td>\n",
       "      <td>3.0</td>\n",
       "      <td>0</td>\n",
       "      <td>0</td>\n",
       "      <td>2</td>\n",
       "    </tr>\n",
       "    <tr>\n",
       "      <th>772</th>\n",
       "      <td>10.50</td>\n",
       "      <td>0.0</td>\n",
       "      <td>3.0</td>\n",
       "      <td>0</td>\n",
       "      <td>0</td>\n",
       "      <td>2</td>\n",
       "    </tr>\n",
       "    <tr>\n",
       "      <th>1061</th>\n",
       "      <td>7.55</td>\n",
       "      <td>0.0</td>\n",
       "      <td>251.0</td>\n",
       "      <td>0</td>\n",
       "      <td>0</td>\n",
       "      <td>1</td>\n",
       "    </tr>\n",
       "  </tbody>\n",
       "</table>\n",
       "</div>"
      ],
      "text/plain": [
       "       Fare  ticket_num1  ticket_num2  Parch  SibSp  occurance\n",
       "1077  21.00          0.0          2.0      1      0          2\n",
       "1193  21.00          0.0          2.0      1      0          2\n",
       "841   10.50          0.0          3.0      0      0          2\n",
       "772   10.50          0.0          3.0      0      0          2\n",
       "1061   7.55          0.0        251.0      0      0          1"
      ]
     },
     "execution_count": 82,
     "metadata": {},
     "output_type": "execute_result"
    }
   ],
   "source": [
    "df_fare.sort_values(by='ticket_num2').head()"
   ]
  },
  {
   "cell_type": "code",
   "execution_count": 83,
   "metadata": {
    "collapsed": false,
    "deletable": true,
    "editable": true
   },
   "outputs": [
    {
     "name": "stdout",
     "output_type": "stream",
     "text": [
      "<class 'pandas.core.frame.DataFrame'>\n",
      "Int64Index: 1309 entries, 0 to 1308\n",
      "Data columns (total 6 columns):\n",
      "Fare           1308 non-null float64\n",
      "ticket_num1    1305 non-null float64\n",
      "ticket_num2    1305 non-null float64\n",
      "Parch          1309 non-null int64\n",
      "SibSp          1309 non-null int64\n",
      "occurance      1309 non-null int64\n",
      "dtypes: float64(3), int64(3)\n",
      "memory usage: 71.6 KB\n"
     ]
    }
   ],
   "source": [
    "df_fare.info()"
   ]
  },
  {
   "cell_type": "code",
   "execution_count": 84,
   "metadata": {
    "collapsed": false,
    "deletable": true,
    "editable": true
   },
   "outputs": [
    {
     "data": {
      "text/html": [
       "<div>\n",
       "<table border=\"1\" class=\"dataframe\">\n",
       "  <thead>\n",
       "    <tr style=\"text-align: right;\">\n",
       "      <th></th>\n",
       "      <th>Fare</th>\n",
       "      <th>ticket_num1</th>\n",
       "      <th>ticket_num2</th>\n",
       "      <th>Parch</th>\n",
       "      <th>SibSp</th>\n",
       "      <th>occurance</th>\n",
       "    </tr>\n",
       "  </thead>\n",
       "  <tbody>\n",
       "    <tr>\n",
       "      <th>1043</th>\n",
       "      <td>NaN</td>\n",
       "      <td>0.0</td>\n",
       "      <td>3701.0</td>\n",
       "      <td>0</td>\n",
       "      <td>0</td>\n",
       "      <td>1</td>\n",
       "    </tr>\n",
       "  </tbody>\n",
       "</table>\n",
       "</div>"
      ],
      "text/plain": [
       "      Fare  ticket_num1  ticket_num2  Parch  SibSp  occurance\n",
       "1043   NaN          0.0       3701.0      0      0          1"
      ]
     },
     "execution_count": 84,
     "metadata": {},
     "output_type": "execute_result"
    }
   ],
   "source": [
    "# Find the fill the nan values of fare before processing\n",
    "df_fare[np.isnan(df_fare['Fare'])]"
   ]
  },
  {
   "cell_type": "code",
   "execution_count": 85,
   "metadata": {
    "collapsed": false,
    "deletable": true,
    "editable": true
   },
   "outputs": [
    {
     "data": {
      "text/html": [
       "<div>\n",
       "<table border=\"1\" class=\"dataframe\">\n",
       "  <thead>\n",
       "    <tr style=\"text-align: right;\">\n",
       "      <th></th>\n",
       "      <th>Fare</th>\n",
       "      <th>ticket_num1</th>\n",
       "      <th>ticket_num2</th>\n",
       "      <th>Parch</th>\n",
       "      <th>SibSp</th>\n",
       "      <th>occurance</th>\n",
       "    </tr>\n",
       "  </thead>\n",
       "  <tbody>\n",
       "    <tr>\n",
       "      <th>1043</th>\n",
       "      <td>NaN</td>\n",
       "      <td>0.0</td>\n",
       "      <td>3701.0</td>\n",
       "      <td>0</td>\n",
       "      <td>0</td>\n",
       "      <td>1</td>\n",
       "    </tr>\n",
       "  </tbody>\n",
       "</table>\n",
       "</div>"
      ],
      "text/plain": [
       "      Fare  ticket_num1  ticket_num2  Parch  SibSp  occurance\n",
       "1043   NaN          0.0       3701.0      0      0          1"
      ]
     },
     "execution_count": 85,
     "metadata": {},
     "output_type": "execute_result"
    }
   ],
   "source": [
    "# Look to see if there is any enter with shared ticket_num2\n",
    "df_fare.loc[df_fare['ticket_num2'] == df_fare.iloc[1043]['ticket_num2']]"
   ]
  },
  {
   "cell_type": "code",
   "execution_count": 86,
   "metadata": {
    "collapsed": false,
    "deletable": true,
    "editable": true
   },
   "outputs": [
    {
     "data": {
      "text/plain": [
       "Age            60.5\n",
       "Cabin           NaN\n",
       "Embarked          S\n",
       "Fare            NaN\n",
       "Parch             0\n",
       "PassengerId    1044\n",
       "Pclass            3\n",
       "Sex               0\n",
       "SibSp             0\n",
       "Survived        NaN\n",
       "Master            0\n",
       "Miss              0\n",
       "Mr                1\n",
       "Mrs               0\n",
       "Officer           0\n",
       "Royalty           0\n",
       "ticket_num1       0\n",
       "ticket_num2    3701\n",
       "Name: 1043, dtype: object"
      ]
     },
     "execution_count": 86,
     "metadata": {},
     "output_type": "execute_result"
    }
   ],
   "source": [
    "# Look into the entry with more information in data_rd2\n",
    "data_rd2.iloc[1043]"
   ]
  },
  {
   "cell_type": "code",
   "execution_count": 87,
   "metadata": {
    "collapsed": false,
    "deletable": true,
    "editable": true
   },
   "outputs": [],
   "source": [
    "# Fetch entries with similar informaiton to fill the na\n",
    "fill_fare = data_rd2.loc[(data_rd2['Age'] > 55)&(data_rd2['Embarked'] =='S')&(data_rd2['Pclass'] ==3)&(data_rd2['Mr'] ==1), 'Fare'].mean()"
   ]
  },
  {
   "cell_type": "code",
   "execution_count": 88,
   "metadata": {
    "collapsed": false,
    "deletable": true,
    "editable": true
   },
   "outputs": [],
   "source": [
    "df_fare.iloc[1043] = df_fare.iloc[1043].fillna(fill_fare)"
   ]
  },
  {
   "cell_type": "code",
   "execution_count": 89,
   "metadata": {
    "_cell_guid": "22784280-a1e1-4179-b4d4-7d7f2d6dce7f",
    "_uuid": "f06c0e3f0957b06a542fdf4f6d38b7c8d4ca394c",
    "collapsed": true,
    "deletable": true,
    "editable": true
   },
   "outputs": [],
   "source": [
    "df_fare['Fare_div'] = df_fare['Fare']/df_fare['occurance']"
   ]
  },
  {
   "cell_type": "code",
   "execution_count": 90,
   "metadata": {
    "_cell_guid": "6dd22ede-3319-422e-8ced-8159dbfec76c",
    "_uuid": "562d1675aae5561485f1d56897805f5f75407a62",
    "collapsed": true,
    "deletable": true,
    "editable": true
   },
   "outputs": [],
   "source": [
    "# data_rd2.drop('Fare', axis=1, inplace=True)\n",
    "data_rd2 = data_rd2.join(df_fare['Fare_div'], how='outer')\n",
    "data_rd2 = data_rd2.join(df_fare['occurance'], how='outer')\n",
    "data_rd2.drop('Fare', axis=1, inplace=True)\n",
    "data_rd2 = data_rd2.join(df_fare['Fare'], how='outer')"
   ]
  },
  {
   "cell_type": "code",
   "execution_count": 107,
   "metadata": {
    "_cell_guid": "29bde172-1bec-4aa7-9b70-4fb8c56aae34",
    "_uuid": "d4e9fb0134ec15b0032932c54cb7320462d301e8",
    "collapsed": false,
    "deletable": true,
    "editable": true
   },
   "outputs": [],
   "source": [
    "data_rd3 = data_rd2.copy()"
   ]
  },
  {
   "cell_type": "code",
   "execution_count": 108,
   "metadata": {
    "_cell_guid": "dd88811f-cff5-4b4a-9ff7-bdb20f676017",
    "_uuid": "72d028e843658a2aebd481335d43c013a4efc77c",
    "collapsed": false,
    "deletable": true,
    "editable": true
   },
   "outputs": [
    {
     "data": {
      "text/html": [
       "<div>\n",
       "<table border=\"1\" class=\"dataframe\">\n",
       "  <thead>\n",
       "    <tr style=\"text-align: right;\">\n",
       "      <th></th>\n",
       "      <th>Age</th>\n",
       "      <th>Cabin</th>\n",
       "      <th>Embarked</th>\n",
       "      <th>Parch</th>\n",
       "      <th>PassengerId</th>\n",
       "      <th>Pclass</th>\n",
       "      <th>Sex</th>\n",
       "      <th>SibSp</th>\n",
       "      <th>Survived</th>\n",
       "      <th>Master</th>\n",
       "      <th>Miss</th>\n",
       "      <th>Mr</th>\n",
       "      <th>Mrs</th>\n",
       "      <th>Officer</th>\n",
       "      <th>Royalty</th>\n",
       "      <th>ticket_num1</th>\n",
       "      <th>ticket_num2</th>\n",
       "      <th>Fare_div</th>\n",
       "      <th>occurance</th>\n",
       "      <th>Fare</th>\n",
       "    </tr>\n",
       "  </thead>\n",
       "  <tbody>\n",
       "    <tr>\n",
       "      <th>0</th>\n",
       "      <td>22.0</td>\n",
       "      <td>NaN</td>\n",
       "      <td>S</td>\n",
       "      <td>0</td>\n",
       "      <td>1</td>\n",
       "      <td>3</td>\n",
       "      <td>0</td>\n",
       "      <td>1</td>\n",
       "      <td>0.0</td>\n",
       "      <td>0</td>\n",
       "      <td>0</td>\n",
       "      <td>1</td>\n",
       "      <td>0</td>\n",
       "      <td>0</td>\n",
       "      <td>0</td>\n",
       "      <td>5.0</td>\n",
       "      <td>21171.0</td>\n",
       "      <td>7.25000</td>\n",
       "      <td>1.0</td>\n",
       "      <td>7.2500</td>\n",
       "    </tr>\n",
       "    <tr>\n",
       "      <th>1</th>\n",
       "      <td>38.0</td>\n",
       "      <td>C85</td>\n",
       "      <td>C</td>\n",
       "      <td>0</td>\n",
       "      <td>2</td>\n",
       "      <td>1</td>\n",
       "      <td>1</td>\n",
       "      <td>1</td>\n",
       "      <td>1.0</td>\n",
       "      <td>0</td>\n",
       "      <td>0</td>\n",
       "      <td>0</td>\n",
       "      <td>1</td>\n",
       "      <td>0</td>\n",
       "      <td>0</td>\n",
       "      <td>0.0</td>\n",
       "      <td>17599.0</td>\n",
       "      <td>35.64165</td>\n",
       "      <td>2.0</td>\n",
       "      <td>71.2833</td>\n",
       "    </tr>\n",
       "    <tr>\n",
       "      <th>2</th>\n",
       "      <td>26.0</td>\n",
       "      <td>NaN</td>\n",
       "      <td>S</td>\n",
       "      <td>0</td>\n",
       "      <td>3</td>\n",
       "      <td>3</td>\n",
       "      <td>1</td>\n",
       "      <td>0</td>\n",
       "      <td>1.0</td>\n",
       "      <td>0</td>\n",
       "      <td>1</td>\n",
       "      <td>0</td>\n",
       "      <td>0</td>\n",
       "      <td>0</td>\n",
       "      <td>0</td>\n",
       "      <td>2.0</td>\n",
       "      <td>3101282.0</td>\n",
       "      <td>7.92500</td>\n",
       "      <td>1.0</td>\n",
       "      <td>7.9250</td>\n",
       "    </tr>\n",
       "    <tr>\n",
       "      <th>3</th>\n",
       "      <td>35.0</td>\n",
       "      <td>C123</td>\n",
       "      <td>S</td>\n",
       "      <td>0</td>\n",
       "      <td>4</td>\n",
       "      <td>1</td>\n",
       "      <td>1</td>\n",
       "      <td>1</td>\n",
       "      <td>1.0</td>\n",
       "      <td>0</td>\n",
       "      <td>0</td>\n",
       "      <td>0</td>\n",
       "      <td>1</td>\n",
       "      <td>0</td>\n",
       "      <td>0</td>\n",
       "      <td>0.0</td>\n",
       "      <td>113803.0</td>\n",
       "      <td>26.55000</td>\n",
       "      <td>2.0</td>\n",
       "      <td>53.1000</td>\n",
       "    </tr>\n",
       "    <tr>\n",
       "      <th>4</th>\n",
       "      <td>35.0</td>\n",
       "      <td>NaN</td>\n",
       "      <td>S</td>\n",
       "      <td>0</td>\n",
       "      <td>5</td>\n",
       "      <td>3</td>\n",
       "      <td>0</td>\n",
       "      <td>0</td>\n",
       "      <td>0.0</td>\n",
       "      <td>0</td>\n",
       "      <td>0</td>\n",
       "      <td>1</td>\n",
       "      <td>0</td>\n",
       "      <td>0</td>\n",
       "      <td>0</td>\n",
       "      <td>0.0</td>\n",
       "      <td>373450.0</td>\n",
       "      <td>8.05000</td>\n",
       "      <td>1.0</td>\n",
       "      <td>8.0500</td>\n",
       "    </tr>\n",
       "  </tbody>\n",
       "</table>\n",
       "</div>"
      ],
      "text/plain": [
       "    Age Cabin Embarked  Parch  PassengerId  Pclass  Sex  SibSp  Survived  \\\n",
       "0  22.0   NaN        S      0            1       3    0      1       0.0   \n",
       "1  38.0   C85        C      0            2       1    1      1       1.0   \n",
       "2  26.0   NaN        S      0            3       3    1      0       1.0   \n",
       "3  35.0  C123        S      0            4       1    1      1       1.0   \n",
       "4  35.0   NaN        S      0            5       3    0      0       0.0   \n",
       "\n",
       "   Master  Miss  Mr  Mrs  Officer  Royalty  ticket_num1  ticket_num2  \\\n",
       "0       0     0   1    0        0        0          5.0      21171.0   \n",
       "1       0     0   0    1        0        0          0.0      17599.0   \n",
       "2       0     1   0    0        0        0          2.0    3101282.0   \n",
       "3       0     0   0    1        0        0          0.0     113803.0   \n",
       "4       0     0   1    0        0        0          0.0     373450.0   \n",
       "\n",
       "   Fare_div  occurance     Fare  \n",
       "0   7.25000        1.0   7.2500  \n",
       "1  35.64165        2.0  71.2833  \n",
       "2   7.92500        1.0   7.9250  \n",
       "3  26.55000        2.0  53.1000  \n",
       "4   8.05000        1.0   8.0500  "
      ]
     },
     "execution_count": 108,
     "metadata": {},
     "output_type": "execute_result"
    }
   ],
   "source": [
    "data_rd3.head()"
   ]
  },
  {
   "cell_type": "markdown",
   "metadata": {
    "_cell_guid": "525aecc2-3f6c-474a-a24d-30df9baa334c",
    "_uuid": "25ed015a967d35c00a8d4451894b951d6c8e9240",
    "deletable": true,
    "editable": true
   },
   "source": [
    "Look into the relationship between Embarked and Fare given Pclass"
   ]
  },
  {
   "cell_type": "code",
   "execution_count": 109,
   "metadata": {
    "_cell_guid": "aec6b10f-bd54-4c18-82b5-d251e6f8066e",
    "_uuid": "18ca6df869e4725adbcc2de0252dfd9219c013fb",
    "collapsed": false,
    "deletable": true,
    "editable": true
   },
   "outputs": [],
   "source": [
    "fare_em = pd.concat([data_rd3['Embarked'], data_rd3['Fare'], data_rd3['Fare_div'],data_rd3['Pclass']], axis=1, keys=['Embarked', 'Fare', 'Fare_div','Pclass'])"
   ]
  },
  {
   "cell_type": "code",
   "execution_count": 110,
   "metadata": {
    "collapsed": false,
    "deletable": true,
    "editable": true
   },
   "outputs": [],
   "source": [
    "pc_unqiue = np.sort(fare_em.Pclass.unique())"
   ]
  },
  {
   "cell_type": "code",
   "execution_count": 111,
   "metadata": {
    "collapsed": false,
    "deletable": true,
    "editable": true
   },
   "outputs": [
    {
     "data": {
      "image/png": "[encoded data removed]",
      "text/plain": [
       "<matplotlib.figure.Figure at 0x7f8d5c42ada0>"
      ]
     },
     "metadata": {},
     "output_type": "display_data"
    }
   ],
   "source": [
    "fig, ax = plt.subplots(2,3)\n",
    "study_cont = ['Fare', 'Fare_div']\n",
    "for j in range(len(study_cont)):\n",
    "    for i in range(len(pc_unqiue)):\n",
    "        fare_em_tmp = fare_em[fare_em['Pclass']==pc_unqiue[i]]\n",
    "        sns.boxplot(x=fare_em_tmp['Embarked'], y=fare_em_tmp[study_cont[j]], ax=ax[j,i])\n",
    "        ax[j,i].set_title('Pclass = {}'.format(pc_unqiue[i]))\n",
    "plt.tight_layout()"
   ]
  },
  {
   "cell_type": "markdown",
   "metadata": {
    "deletable": true,
    "editable": true
   },
   "source": [
    "Even after controlling Pclass and Embarked, there are still outliers in several of the fare distribution. This indicates that there are still uncontrolled factors influencing the fare. Let's look into the outliers to see if more processing needs to be performed on fare."
   ]
  },
  {
   "cell_type": "code",
   "execution_count": 112,
   "metadata": {
    "collapsed": false,
    "deletable": true,
    "editable": true
   },
   "outputs": [],
   "source": [
    "fare_em_1c = fare_em.loc[(fare_em['Pclass']==1)&(fare_em['Embarked']== 'C')]"
   ]
  },
  {
   "cell_type": "code",
   "execution_count": 113,
   "metadata": {
    "collapsed": true,
    "deletable": true,
    "editable": true
   },
   "outputs": [],
   "source": [
    "# Calculate the threhold for outlier\n",
    "Q1 = fare_em_1c['Fare_div'].quantile(0.25)\n",
    "Q3 = fare_em_1c['Fare_div'].quantile(0.75)\n",
    "IQR = Q3 - Q1"
   ]
  },
  {
   "cell_type": "code",
   "execution_count": 114,
   "metadata": {
    "collapsed": true,
    "deletable": true,
    "editable": true
   },
   "outputs": [],
   "source": [
    "data_rd3_1c_out = data_rd3.loc[(data_rd3['Pclass']==1)&(data_rd3['Embarked']=='C')&(data_rd3['Fare_div']>Q3 + 1.5 * IQR)]"
   ]
  },
  {
   "cell_type": "code",
   "execution_count": 115,
   "metadata": {
    "collapsed": false,
    "deletable": true,
    "editable": true
   },
   "outputs": [
    {
     "data": {
      "text/html": [
       "<div>\n",
       "<table border=\"1\" class=\"dataframe\">\n",
       "  <thead>\n",
       "    <tr style=\"text-align: right;\">\n",
       "      <th></th>\n",
       "      <th>Age</th>\n",
       "      <th>Cabin</th>\n",
       "      <th>Embarked</th>\n",
       "      <th>Parch</th>\n",
       "      <th>PassengerId</th>\n",
       "      <th>Pclass</th>\n",
       "      <th>Sex</th>\n",
       "      <th>SibSp</th>\n",
       "      <th>Survived</th>\n",
       "      <th>Master</th>\n",
       "      <th>Miss</th>\n",
       "      <th>Mr</th>\n",
       "      <th>Mrs</th>\n",
       "      <th>Officer</th>\n",
       "      <th>Royalty</th>\n",
       "      <th>ticket_num1</th>\n",
       "      <th>ticket_num2</th>\n",
       "      <th>Fare_div</th>\n",
       "      <th>occurance</th>\n",
       "      <th>Fare</th>\n",
       "    </tr>\n",
       "  </thead>\n",
       "  <tbody>\n",
       "    <tr>\n",
       "      <th>1143</th>\n",
       "      <td>27.0</td>\n",
       "      <td>C89</td>\n",
       "      <td>C</td>\n",
       "      <td>0</td>\n",
       "      <td>1144</td>\n",
       "      <td>1</td>\n",
       "      <td>0</td>\n",
       "      <td>1</td>\n",
       "      <td>NaN</td>\n",
       "      <td>0</td>\n",
       "      <td>0</td>\n",
       "      <td>1</td>\n",
       "      <td>0</td>\n",
       "      <td>0</td>\n",
       "      <td>0</td>\n",
       "      <td>0.0</td>\n",
       "      <td>13508.0</td>\n",
       "      <td>68.389600</td>\n",
       "      <td>2.0</td>\n",
       "      <td>136.7792</td>\n",
       "    </tr>\n",
       "    <tr>\n",
       "      <th>1163</th>\n",
       "      <td>26.0</td>\n",
       "      <td>C89</td>\n",
       "      <td>C</td>\n",
       "      <td>0</td>\n",
       "      <td>1164</td>\n",
       "      <td>1</td>\n",
       "      <td>1</td>\n",
       "      <td>1</td>\n",
       "      <td>NaN</td>\n",
       "      <td>0</td>\n",
       "      <td>0</td>\n",
       "      <td>0</td>\n",
       "      <td>1</td>\n",
       "      <td>0</td>\n",
       "      <td>0</td>\n",
       "      <td>0.0</td>\n",
       "      <td>13508.0</td>\n",
       "      <td>68.389600</td>\n",
       "      <td>2.0</td>\n",
       "      <td>136.7792</td>\n",
       "    </tr>\n",
       "    <tr>\n",
       "      <th>118</th>\n",
       "      <td>24.0</td>\n",
       "      <td>B58 B60</td>\n",
       "      <td>C</td>\n",
       "      <td>1</td>\n",
       "      <td>119</td>\n",
       "      <td>1</td>\n",
       "      <td>0</td>\n",
       "      <td>0</td>\n",
       "      <td>0.0</td>\n",
       "      <td>0</td>\n",
       "      <td>0</td>\n",
       "      <td>1</td>\n",
       "      <td>0</td>\n",
       "      <td>0</td>\n",
       "      <td>0</td>\n",
       "      <td>0.0</td>\n",
       "      <td>17558.0</td>\n",
       "      <td>82.506933</td>\n",
       "      <td>3.0</td>\n",
       "      <td>247.5208</td>\n",
       "    </tr>\n",
       "    <tr>\n",
       "      <th>299</th>\n",
       "      <td>50.0</td>\n",
       "      <td>B58 B60</td>\n",
       "      <td>C</td>\n",
       "      <td>1</td>\n",
       "      <td>300</td>\n",
       "      <td>1</td>\n",
       "      <td>1</td>\n",
       "      <td>0</td>\n",
       "      <td>1.0</td>\n",
       "      <td>0</td>\n",
       "      <td>0</td>\n",
       "      <td>0</td>\n",
       "      <td>1</td>\n",
       "      <td>0</td>\n",
       "      <td>0</td>\n",
       "      <td>0.0</td>\n",
       "      <td>17558.0</td>\n",
       "      <td>82.506933</td>\n",
       "      <td>3.0</td>\n",
       "      <td>247.5208</td>\n",
       "    </tr>\n",
       "    <tr>\n",
       "      <th>1075</th>\n",
       "      <td>27.0</td>\n",
       "      <td>B58 B60</td>\n",
       "      <td>C</td>\n",
       "      <td>1</td>\n",
       "      <td>1076</td>\n",
       "      <td>1</td>\n",
       "      <td>1</td>\n",
       "      <td>1</td>\n",
       "      <td>NaN</td>\n",
       "      <td>0</td>\n",
       "      <td>0</td>\n",
       "      <td>0</td>\n",
       "      <td>1</td>\n",
       "      <td>0</td>\n",
       "      <td>0</td>\n",
       "      <td>0.0</td>\n",
       "      <td>17558.0</td>\n",
       "      <td>82.506933</td>\n",
       "      <td>3.0</td>\n",
       "      <td>247.5208</td>\n",
       "    </tr>\n",
       "    <tr>\n",
       "      <th>258</th>\n",
       "      <td>35.0</td>\n",
       "      <td>NaN</td>\n",
       "      <td>C</td>\n",
       "      <td>0</td>\n",
       "      <td>259</td>\n",
       "      <td>1</td>\n",
       "      <td>1</td>\n",
       "      <td>0</td>\n",
       "      <td>1.0</td>\n",
       "      <td>0</td>\n",
       "      <td>1</td>\n",
       "      <td>0</td>\n",
       "      <td>0</td>\n",
       "      <td>0</td>\n",
       "      <td>0</td>\n",
       "      <td>0.0</td>\n",
       "      <td>17755.0</td>\n",
       "      <td>128.082300</td>\n",
       "      <td>4.0</td>\n",
       "      <td>512.3292</td>\n",
       "    </tr>\n",
       "    <tr>\n",
       "      <th>679</th>\n",
       "      <td>36.0</td>\n",
       "      <td>B51 B53 B55</td>\n",
       "      <td>C</td>\n",
       "      <td>1</td>\n",
       "      <td>680</td>\n",
       "      <td>1</td>\n",
       "      <td>0</td>\n",
       "      <td>0</td>\n",
       "      <td>1.0</td>\n",
       "      <td>0</td>\n",
       "      <td>0</td>\n",
       "      <td>1</td>\n",
       "      <td>0</td>\n",
       "      <td>0</td>\n",
       "      <td>0</td>\n",
       "      <td>0.0</td>\n",
       "      <td>17755.0</td>\n",
       "      <td>128.082300</td>\n",
       "      <td>4.0</td>\n",
       "      <td>512.3292</td>\n",
       "    </tr>\n",
       "    <tr>\n",
       "      <th>737</th>\n",
       "      <td>35.0</td>\n",
       "      <td>B101</td>\n",
       "      <td>C</td>\n",
       "      <td>0</td>\n",
       "      <td>738</td>\n",
       "      <td>1</td>\n",
       "      <td>0</td>\n",
       "      <td>0</td>\n",
       "      <td>1.0</td>\n",
       "      <td>0</td>\n",
       "      <td>0</td>\n",
       "      <td>1</td>\n",
       "      <td>0</td>\n",
       "      <td>0</td>\n",
       "      <td>0</td>\n",
       "      <td>0.0</td>\n",
       "      <td>17755.0</td>\n",
       "      <td>128.082300</td>\n",
       "      <td>4.0</td>\n",
       "      <td>512.3292</td>\n",
       "    </tr>\n",
       "    <tr>\n",
       "      <th>1234</th>\n",
       "      <td>58.0</td>\n",
       "      <td>B51 B53 B55</td>\n",
       "      <td>C</td>\n",
       "      <td>1</td>\n",
       "      <td>1235</td>\n",
       "      <td>1</td>\n",
       "      <td>1</td>\n",
       "      <td>0</td>\n",
       "      <td>NaN</td>\n",
       "      <td>0</td>\n",
       "      <td>0</td>\n",
       "      <td>0</td>\n",
       "      <td>1</td>\n",
       "      <td>0</td>\n",
       "      <td>0</td>\n",
       "      <td>0.0</td>\n",
       "      <td>17755.0</td>\n",
       "      <td>128.082300</td>\n",
       "      <td>4.0</td>\n",
       "      <td>512.3292</td>\n",
       "    </tr>\n",
       "  </tbody>\n",
       "</table>\n",
       "</div>"
      ],
      "text/plain": [
       "       Age        Cabin Embarked  Parch  PassengerId  Pclass  Sex  SibSp  \\\n",
       "1143  27.0          C89        C      0         1144       1    0      1   \n",
       "1163  26.0          C89        C      0         1164       1    1      1   \n",
       "118   24.0      B58 B60        C      1          119       1    0      0   \n",
       "299   50.0      B58 B60        C      1          300       1    1      0   \n",
       "1075  27.0      B58 B60        C      1         1076       1    1      1   \n",
       "258   35.0          NaN        C      0          259       1    1      0   \n",
       "679   36.0  B51 B53 B55        C      1          680       1    0      0   \n",
       "737   35.0         B101        C      0          738       1    0      0   \n",
       "1234  58.0  B51 B53 B55        C      1         1235       1    1      0   \n",
       "\n",
       "      Survived  Master  Miss  Mr  Mrs  Officer  Royalty  ticket_num1  \\\n",
       "1143       NaN       0     0   1    0        0        0          0.0   \n",
       "1163       NaN       0     0   0    1        0        0          0.0   \n",
       "118        0.0       0     0   1    0        0        0          0.0   \n",
       "299        1.0       0     0   0    1        0        0          0.0   \n",
       "1075       NaN       0     0   0    1        0        0          0.0   \n",
       "258        1.0       0     1   0    0        0        0          0.0   \n",
       "679        1.0       0     0   1    0        0        0          0.0   \n",
       "737        1.0       0     0   1    0        0        0          0.0   \n",
       "1234       NaN       0     0   0    1        0        0          0.0   \n",
       "\n",
       "      ticket_num2    Fare_div  occurance      Fare  \n",
       "1143      13508.0   68.389600        2.0  136.7792  \n",
       "1163      13508.0   68.389600        2.0  136.7792  \n",
       "118       17558.0   82.506933        3.0  247.5208  \n",
       "299       17558.0   82.506933        3.0  247.5208  \n",
       "1075      17558.0   82.506933        3.0  247.5208  \n",
       "258       17755.0  128.082300        4.0  512.3292  \n",
       "679       17755.0  128.082300        4.0  512.3292  \n",
       "737       17755.0  128.082300        4.0  512.3292  \n",
       "1234      17755.0  128.082300        4.0  512.3292  "
      ]
     },
     "execution_count": 115,
     "metadata": {},
     "output_type": "execute_result"
    }
   ],
   "source": [
    "data_rd3_1c_out.sort_values(by='ticket_num2')"
   ]
  },
  {
   "cell_type": "markdown",
   "metadata": {
    "deletable": true,
    "editable": true
   },
   "source": [
    "From the above outlier analysis, it is hard to see any obvious complication that triggers the abonormal prices. We will keep the values as it is for now. It is also hard to see any obvious influence of embarked location of the fare. We will therefore drop the Embarked feature."
   ]
  },
  {
   "cell_type": "code",
   "execution_count": 116,
   "metadata": {
    "collapsed": false,
    "deletable": true,
    "editable": true
   },
   "outputs": [],
   "source": [
    "# Perform one hot encodeing for embarked\n",
    "one_hot_embarked = pd.get_dummies(data_rd3['Embarked'], prefix='Embarked')\n",
    "data_rd3 = data_rd3.join(one_hot_embarked)\n",
    "data_rd3.drop('Embarked', axis=1, inplace=True)"
   ]
  },
  {
   "cell_type": "code",
   "execution_count": 141,
   "metadata": {
    "collapsed": false,
    "deletable": true,
    "editable": true
   },
   "outputs": [],
   "source": [
    "data_rd4 = data_rd3.copy()\n",
    "# data_rd4.drop('ticket_num2', axis=1, inplace=True)\n",
    "# data_rd4.drop('Fare', axis=1, inplace=True)\n",
    "# data_rd4.drop('SibSp', axis=1, inplace=True)\n",
    "# data_rd4.drop('Parch', axis=1, inplace=True)\n",
    "# data_rd4.drop('occurance', axis=1, inplace=True)"
   ]
  },
  {
   "cell_type": "code",
   "execution_count": 142,
   "metadata": {
    "collapsed": false,
    "deletable": true,
    "editable": true
   },
   "outputs": [
    {
     "data": {
      "text/html": [
       "<div>\n",
       "<table border=\"1\" class=\"dataframe\">\n",
       "  <thead>\n",
       "    <tr style=\"text-align: right;\">\n",
       "      <th></th>\n",
       "      <th>Age</th>\n",
       "      <th>Cabin</th>\n",
       "      <th>Parch</th>\n",
       "      <th>PassengerId</th>\n",
       "      <th>Pclass</th>\n",
       "      <th>Sex</th>\n",
       "      <th>SibSp</th>\n",
       "      <th>Survived</th>\n",
       "      <th>Master</th>\n",
       "      <th>Miss</th>\n",
       "      <th>...</th>\n",
       "      <th>Officer</th>\n",
       "      <th>Royalty</th>\n",
       "      <th>ticket_num1</th>\n",
       "      <th>ticket_num2</th>\n",
       "      <th>Fare_div</th>\n",
       "      <th>occurance</th>\n",
       "      <th>Fare</th>\n",
       "      <th>Embarked_C</th>\n",
       "      <th>Embarked_Q</th>\n",
       "      <th>Embarked_S</th>\n",
       "    </tr>\n",
       "  </thead>\n",
       "  <tbody>\n",
       "    <tr>\n",
       "      <th>0</th>\n",
       "      <td>22.0</td>\n",
       "      <td>NaN</td>\n",
       "      <td>0</td>\n",
       "      <td>1</td>\n",
       "      <td>3</td>\n",
       "      <td>0</td>\n",
       "      <td>1</td>\n",
       "      <td>0.0</td>\n",
       "      <td>0</td>\n",
       "      <td>0</td>\n",
       "      <td>...</td>\n",
       "      <td>0</td>\n",
       "      <td>0</td>\n",
       "      <td>5.0</td>\n",
       "      <td>21171.0</td>\n",
       "      <td>7.25000</td>\n",
       "      <td>1.0</td>\n",
       "      <td>7.2500</td>\n",
       "      <td>0</td>\n",
       "      <td>0</td>\n",
       "      <td>1</td>\n",
       "    </tr>\n",
       "    <tr>\n",
       "      <th>1</th>\n",
       "      <td>38.0</td>\n",
       "      <td>C85</td>\n",
       "      <td>0</td>\n",
       "      <td>2</td>\n",
       "      <td>1</td>\n",
       "      <td>1</td>\n",
       "      <td>1</td>\n",
       "      <td>1.0</td>\n",
       "      <td>0</td>\n",
       "      <td>0</td>\n",
       "      <td>...</td>\n",
       "      <td>0</td>\n",
       "      <td>0</td>\n",
       "      <td>0.0</td>\n",
       "      <td>17599.0</td>\n",
       "      <td>35.64165</td>\n",
       "      <td>2.0</td>\n",
       "      <td>71.2833</td>\n",
       "      <td>1</td>\n",
       "      <td>0</td>\n",
       "      <td>0</td>\n",
       "    </tr>\n",
       "    <tr>\n",
       "      <th>2</th>\n",
       "      <td>26.0</td>\n",
       "      <td>NaN</td>\n",
       "      <td>0</td>\n",
       "      <td>3</td>\n",
       "      <td>3</td>\n",
       "      <td>1</td>\n",
       "      <td>0</td>\n",
       "      <td>1.0</td>\n",
       "      <td>0</td>\n",
       "      <td>1</td>\n",
       "      <td>...</td>\n",
       "      <td>0</td>\n",
       "      <td>0</td>\n",
       "      <td>2.0</td>\n",
       "      <td>3101282.0</td>\n",
       "      <td>7.92500</td>\n",
       "      <td>1.0</td>\n",
       "      <td>7.9250</td>\n",
       "      <td>0</td>\n",
       "      <td>0</td>\n",
       "      <td>1</td>\n",
       "    </tr>\n",
       "    <tr>\n",
       "      <th>3</th>\n",
       "      <td>35.0</td>\n",
       "      <td>C123</td>\n",
       "      <td>0</td>\n",
       "      <td>4</td>\n",
       "      <td>1</td>\n",
       "      <td>1</td>\n",
       "      <td>1</td>\n",
       "      <td>1.0</td>\n",
       "      <td>0</td>\n",
       "      <td>0</td>\n",
       "      <td>...</td>\n",
       "      <td>0</td>\n",
       "      <td>0</td>\n",
       "      <td>0.0</td>\n",
       "      <td>113803.0</td>\n",
       "      <td>26.55000</td>\n",
       "      <td>2.0</td>\n",
       "      <td>53.1000</td>\n",
       "      <td>0</td>\n",
       "      <td>0</td>\n",
       "      <td>1</td>\n",
       "    </tr>\n",
       "    <tr>\n",
       "      <th>4</th>\n",
       "      <td>35.0</td>\n",
       "      <td>NaN</td>\n",
       "      <td>0</td>\n",
       "      <td>5</td>\n",
       "      <td>3</td>\n",
       "      <td>0</td>\n",
       "      <td>0</td>\n",
       "      <td>0.0</td>\n",
       "      <td>0</td>\n",
       "      <td>0</td>\n",
       "      <td>...</td>\n",
       "      <td>0</td>\n",
       "      <td>0</td>\n",
       "      <td>0.0</td>\n",
       "      <td>373450.0</td>\n",
       "      <td>8.05000</td>\n",
       "      <td>1.0</td>\n",
       "      <td>8.0500</td>\n",
       "      <td>0</td>\n",
       "      <td>0</td>\n",
       "      <td>1</td>\n",
       "    </tr>\n",
       "  </tbody>\n",
       "</table>\n",
       "<p>5 rows × 22 columns</p>\n",
       "</div>"
      ],
      "text/plain": [
       "    Age Cabin  Parch  PassengerId  Pclass  Sex  SibSp  Survived  Master  Miss  \\\n",
       "0  22.0   NaN      0            1       3    0      1       0.0       0     0   \n",
       "1  38.0   C85      0            2       1    1      1       1.0       0     0   \n",
       "2  26.0   NaN      0            3       3    1      0       1.0       0     1   \n",
       "3  35.0  C123      0            4       1    1      1       1.0       0     0   \n",
       "4  35.0   NaN      0            5       3    0      0       0.0       0     0   \n",
       "\n",
       "      ...      Officer  Royalty  ticket_num1  ticket_num2  Fare_div  \\\n",
       "0     ...            0        0          5.0      21171.0   7.25000   \n",
       "1     ...            0        0          0.0      17599.0  35.64165   \n",
       "2     ...            0        0          2.0    3101282.0   7.92500   \n",
       "3     ...            0        0          0.0     113803.0  26.55000   \n",
       "4     ...            0        0          0.0     373450.0   8.05000   \n",
       "\n",
       "   occurance     Fare  Embarked_C  Embarked_Q  Embarked_S  \n",
       "0        1.0   7.2500           0           0           1  \n",
       "1        2.0  71.2833           1           0           0  \n",
       "2        1.0   7.9250           0           0           1  \n",
       "3        2.0  53.1000           0           0           1  \n",
       "4        1.0   8.0500           0           0           1  \n",
       "\n",
       "[5 rows x 22 columns]"
      ]
     },
     "execution_count": 142,
     "metadata": {},
     "output_type": "execute_result"
    }
   ],
   "source": [
    "data_rd4.head()"
   ]
  },
  {
   "cell_type": "code",
   "execution_count": null,
   "metadata": {
    "collapsed": false,
    "deletable": true,
    "editable": true
   },
   "outputs": [],
   "source": [
    "data_rd4.Cabin.fillna('U', inplace=True)\n",
    "data_rd4['Cabin'] = data_rd4['Cabin'].map(lambda c : c[0])\n",
    "one_hot_cabin = pd.get_dummies(data_rd4['Cabin'], prefix='Cabine')\n",
    "data_rd4 = data_rd4.join(one_hot_cabin)\n",
    "data_rd4.drop('Cabin', axis=1, inplace=True)"
   ]
  },
  {
   "cell_type": "code",
   "execution_count": 147,
   "metadata": {
    "collapsed": false,
    "deletable": true,
    "editable": true
   },
   "outputs": [
    {
     "data": {
      "text/html": [
       "<div>\n",
       "<table border=\"1\" class=\"dataframe\">\n",
       "  <thead>\n",
       "    <tr style=\"text-align: right;\">\n",
       "      <th></th>\n",
       "      <th>Age</th>\n",
       "      <th>Parch</th>\n",
       "      <th>PassengerId</th>\n",
       "      <th>Pclass</th>\n",
       "      <th>Sex</th>\n",
       "      <th>SibSp</th>\n",
       "      <th>Survived</th>\n",
       "      <th>Master</th>\n",
       "      <th>Miss</th>\n",
       "      <th>Mr</th>\n",
       "      <th>...</th>\n",
       "      <th>Embarked_S</th>\n",
       "      <th>Cabine_A</th>\n",
       "      <th>Cabine_B</th>\n",
       "      <th>Cabine_C</th>\n",
       "      <th>Cabine_D</th>\n",
       "      <th>Cabine_E</th>\n",
       "      <th>Cabine_F</th>\n",
       "      <th>Cabine_G</th>\n",
       "      <th>Cabine_T</th>\n",
       "      <th>Cabine_U</th>\n",
       "    </tr>\n",
       "  </thead>\n",
       "  <tbody>\n",
       "    <tr>\n",
       "      <th>0</th>\n",
       "      <td>22.0</td>\n",
       "      <td>0</td>\n",
       "      <td>1</td>\n",
       "      <td>3</td>\n",
       "      <td>0</td>\n",
       "      <td>1</td>\n",
       "      <td>0.0</td>\n",
       "      <td>0</td>\n",
       "      <td>0</td>\n",
       "      <td>1</td>\n",
       "      <td>...</td>\n",
       "      <td>1</td>\n",
       "      <td>0</td>\n",
       "      <td>0</td>\n",
       "      <td>0</td>\n",
       "      <td>0</td>\n",
       "      <td>0</td>\n",
       "      <td>0</td>\n",
       "      <td>0</td>\n",
       "      <td>0</td>\n",
       "      <td>1</td>\n",
       "    </tr>\n",
       "    <tr>\n",
       "      <th>1</th>\n",
       "      <td>38.0</td>\n",
       "      <td>0</td>\n",
       "      <td>2</td>\n",
       "      <td>1</td>\n",
       "      <td>1</td>\n",
       "      <td>1</td>\n",
       "      <td>1.0</td>\n",
       "      <td>0</td>\n",
       "      <td>0</td>\n",
       "      <td>0</td>\n",
       "      <td>...</td>\n",
       "      <td>0</td>\n",
       "      <td>0</td>\n",
       "      <td>0</td>\n",
       "      <td>1</td>\n",
       "      <td>0</td>\n",
       "      <td>0</td>\n",
       "      <td>0</td>\n",
       "      <td>0</td>\n",
       "      <td>0</td>\n",
       "      <td>0</td>\n",
       "    </tr>\n",
       "    <tr>\n",
       "      <th>2</th>\n",
       "      <td>26.0</td>\n",
       "      <td>0</td>\n",
       "      <td>3</td>\n",
       "      <td>3</td>\n",
       "      <td>1</td>\n",
       "      <td>0</td>\n",
       "      <td>1.0</td>\n",
       "      <td>0</td>\n",
       "      <td>1</td>\n",
       "      <td>0</td>\n",
       "      <td>...</td>\n",
       "      <td>1</td>\n",
       "      <td>0</td>\n",
       "      <td>0</td>\n",
       "      <td>0</td>\n",
       "      <td>0</td>\n",
       "      <td>0</td>\n",
       "      <td>0</td>\n",
       "      <td>0</td>\n",
       "      <td>0</td>\n",
       "      <td>1</td>\n",
       "    </tr>\n",
       "    <tr>\n",
       "      <th>3</th>\n",
       "      <td>35.0</td>\n",
       "      <td>0</td>\n",
       "      <td>4</td>\n",
       "      <td>1</td>\n",
       "      <td>1</td>\n",
       "      <td>1</td>\n",
       "      <td>1.0</td>\n",
       "      <td>0</td>\n",
       "      <td>0</td>\n",
       "      <td>0</td>\n",
       "      <td>...</td>\n",
       "      <td>1</td>\n",
       "      <td>0</td>\n",
       "      <td>0</td>\n",
       "      <td>1</td>\n",
       "      <td>0</td>\n",
       "      <td>0</td>\n",
       "      <td>0</td>\n",
       "      <td>0</td>\n",
       "      <td>0</td>\n",
       "      <td>0</td>\n",
       "    </tr>\n",
       "    <tr>\n",
       "      <th>4</th>\n",
       "      <td>35.0</td>\n",
       "      <td>0</td>\n",
       "      <td>5</td>\n",
       "      <td>3</td>\n",
       "      <td>0</td>\n",
       "      <td>0</td>\n",
       "      <td>0.0</td>\n",
       "      <td>0</td>\n",
       "      <td>0</td>\n",
       "      <td>1</td>\n",
       "      <td>...</td>\n",
       "      <td>1</td>\n",
       "      <td>0</td>\n",
       "      <td>0</td>\n",
       "      <td>0</td>\n",
       "      <td>0</td>\n",
       "      <td>0</td>\n",
       "      <td>0</td>\n",
       "      <td>0</td>\n",
       "      <td>0</td>\n",
       "      <td>1</td>\n",
       "    </tr>\n",
       "  </tbody>\n",
       "</table>\n",
       "<p>5 rows × 30 columns</p>\n",
       "</div>"
      ],
      "text/plain": [
       "    Age  Parch  PassengerId  Pclass  Sex  SibSp  Survived  Master  Miss  Mr  \\\n",
       "0  22.0      0            1       3    0      1       0.0       0     0   1   \n",
       "1  38.0      0            2       1    1      1       1.0       0     0   0   \n",
       "2  26.0      0            3       3    1      0       1.0       0     1   0   \n",
       "3  35.0      0            4       1    1      1       1.0       0     0   0   \n",
       "4  35.0      0            5       3    0      0       0.0       0     0   1   \n",
       "\n",
       "     ...     Embarked_S  Cabine_A  Cabine_B  Cabine_C  Cabine_D  Cabine_E  \\\n",
       "0    ...              1         0         0         0         0         0   \n",
       "1    ...              0         0         0         1         0         0   \n",
       "2    ...              1         0         0         0         0         0   \n",
       "3    ...              1         0         0         1         0         0   \n",
       "4    ...              1         0         0         0         0         0   \n",
       "\n",
       "   Cabine_F  Cabine_G  Cabine_T  Cabine_U  \n",
       "0         0         0         0         1  \n",
       "1         0         0         0         0  \n",
       "2         0         0         0         1  \n",
       "3         0         0         0         0  \n",
       "4         0         0         0         1  \n",
       "\n",
       "[5 rows x 30 columns]"
      ]
     },
     "execution_count": 147,
     "metadata": {},
     "output_type": "execute_result"
    }
   ],
   "source": [
    "data_rd4.head()"
   ]
  },
  {
   "cell_type": "markdown",
   "metadata": {
    "deletable": true,
    "editable": true
   },
   "source": [
    "Next, we need to make every effort we have to fill the nan values in Age. Name title could serve as an important information."
   ]
  },
  {
   "cell_type": "code",
   "execution_count": 101,
   "metadata": {
    "collapsed": false,
    "deletable": true,
    "editable": true
   },
   "outputs": [
    {
     "data": {
      "text/html": [
       "<div>\n",
       "<table border=\"1\" class=\"dataframe\">\n",
       "  <thead>\n",
       "    <tr style=\"text-align: right;\">\n",
       "      <th></th>\n",
       "      <th>Age</th>\n",
       "      <th>Cabin</th>\n",
       "      <th>Parch</th>\n",
       "      <th>PassengerId</th>\n",
       "      <th>Sex</th>\n",
       "      <th>SibSp</th>\n",
       "      <th>Master</th>\n",
       "      <th>Miss</th>\n",
       "      <th>Mr</th>\n",
       "      <th>Mrs</th>\n",
       "      <th>Officer</th>\n",
       "      <th>Royalty</th>\n",
       "      <th>ticket_num2</th>\n",
       "      <th>occurance</th>\n",
       "      <th>Fare</th>\n",
       "    </tr>\n",
       "  </thead>\n",
       "  <tbody>\n",
       "    <tr>\n",
       "      <th>0</th>\n",
       "      <td>22.0</td>\n",
       "      <td>NaN</td>\n",
       "      <td>0</td>\n",
       "      <td>1</td>\n",
       "      <td>0</td>\n",
       "      <td>1</td>\n",
       "      <td>0</td>\n",
       "      <td>0</td>\n",
       "      <td>1</td>\n",
       "      <td>0</td>\n",
       "      <td>0</td>\n",
       "      <td>0</td>\n",
       "      <td>21171.0</td>\n",
       "      <td>1.0</td>\n",
       "      <td>7.2500</td>\n",
       "    </tr>\n",
       "    <tr>\n",
       "      <th>1</th>\n",
       "      <td>38.0</td>\n",
       "      <td>C85</td>\n",
       "      <td>0</td>\n",
       "      <td>2</td>\n",
       "      <td>1</td>\n",
       "      <td>1</td>\n",
       "      <td>0</td>\n",
       "      <td>0</td>\n",
       "      <td>0</td>\n",
       "      <td>1</td>\n",
       "      <td>0</td>\n",
       "      <td>0</td>\n",
       "      <td>17599.0</td>\n",
       "      <td>2.0</td>\n",
       "      <td>71.2833</td>\n",
       "    </tr>\n",
       "    <tr>\n",
       "      <th>2</th>\n",
       "      <td>26.0</td>\n",
       "      <td>NaN</td>\n",
       "      <td>0</td>\n",
       "      <td>3</td>\n",
       "      <td>1</td>\n",
       "      <td>0</td>\n",
       "      <td>0</td>\n",
       "      <td>1</td>\n",
       "      <td>0</td>\n",
       "      <td>0</td>\n",
       "      <td>0</td>\n",
       "      <td>0</td>\n",
       "      <td>3101282.0</td>\n",
       "      <td>1.0</td>\n",
       "      <td>7.9250</td>\n",
       "    </tr>\n",
       "    <tr>\n",
       "      <th>3</th>\n",
       "      <td>35.0</td>\n",
       "      <td>C123</td>\n",
       "      <td>0</td>\n",
       "      <td>4</td>\n",
       "      <td>1</td>\n",
       "      <td>1</td>\n",
       "      <td>0</td>\n",
       "      <td>0</td>\n",
       "      <td>0</td>\n",
       "      <td>1</td>\n",
       "      <td>0</td>\n",
       "      <td>0</td>\n",
       "      <td>113803.0</td>\n",
       "      <td>2.0</td>\n",
       "      <td>53.1000</td>\n",
       "    </tr>\n",
       "    <tr>\n",
       "      <th>4</th>\n",
       "      <td>35.0</td>\n",
       "      <td>NaN</td>\n",
       "      <td>0</td>\n",
       "      <td>5</td>\n",
       "      <td>0</td>\n",
       "      <td>0</td>\n",
       "      <td>0</td>\n",
       "      <td>0</td>\n",
       "      <td>1</td>\n",
       "      <td>0</td>\n",
       "      <td>0</td>\n",
       "      <td>0</td>\n",
       "      <td>373450.0</td>\n",
       "      <td>1.0</td>\n",
       "      <td>8.0500</td>\n",
       "    </tr>\n",
       "  </tbody>\n",
       "</table>\n",
       "</div>"
      ],
      "text/plain": [
       "    Age Cabin  Parch  PassengerId  Sex  SibSp  Master  Miss  Mr  Mrs  Officer  \\\n",
       "0  22.0   NaN      0            1    0      1       0     0   1    0        0   \n",
       "1  38.0   C85      0            2    1      1       0     0   0    1        0   \n",
       "2  26.0   NaN      0            3    1      0       0     1   0    0        0   \n",
       "3  35.0  C123      0            4    1      1       0     0   0    1        0   \n",
       "4  35.0   NaN      0            5    0      0       0     0   1    0        0   \n",
       "\n",
       "   Royalty  ticket_num2  occurance     Fare  \n",
       "0        0      21171.0        1.0   7.2500  \n",
       "1        0      17599.0        2.0  71.2833  \n",
       "2        0    3101282.0        1.0   7.9250  \n",
       "3        0     113803.0        2.0  53.1000  \n",
       "4        0     373450.0        1.0   8.0500  "
      ]
     },
     "execution_count": 101,
     "metadata": {},
     "output_type": "execute_result"
    }
   ],
   "source": [
    "age_title = data_rd4.copy()\n",
    "age_title.drop('Pclass', axis=1, inplace=True)\n",
    "age_title.drop('Survived', axis=1, inplace=True)\n",
    "age_title.drop('Fare_div', axis=1, inplace=True)\n",
    "age_title.head()"
   ]
  },
  {
   "cell_type": "markdown",
   "metadata": {
    "deletable": true,
    "editable": true
   },
   "source": [
    "We will fill the nan values in age from two perspective\n",
    "1. From the distribution with the similar age and title information\n",
    "2. From the parent of children roel in the family\n",
    "\n",
    "We will do first use only the age and title informaiton\n",
    "#### We will comback to the 2nd part later"
   ]
  },
  {
   "cell_type": "code",
   "execution_count": 806,
   "metadata": {
    "collapsed": false,
    "deletable": true,
    "editable": true
   },
   "outputs": [
    {
     "data": {
      "text/plain": [
       "<matplotlib.legend.Legend at 0x7f3f8d2012b0>"
      ]
     },
     "execution_count": 806,
     "metadata": {},
     "output_type": "execute_result"
    },
    {
     "data": {
      "image/png": "[encoded data removed]",
      "text/plain": [
       "<matplotlib.figure.Figure at 0x7f3f8d513e48>"
      ]
     },
     "metadata": {},
     "output_type": "display_data"
    }
   ],
   "source": [
    "key_title = ['Mr','Miss','Mrs', 'Master']\n",
    "for i in range(4):    # 4 different titles\n",
    "    Age_group = age_title.loc[age_title[key_title[i]]==1].dropna()\n",
    "    sns.distplot(Age_group['Age'], label=key_title[i])\n",
    "    plt.title('Age Distribution by Title')\n",
    "plt.legend()"
   ]
  },
  {
   "cell_type": "markdown",
   "metadata": {
    "deletable": true,
    "editable": true
   },
   "source": [
    "From the distribution, we could see that we could use title to fill the nan value of master directly. However, for other title group, we need to seek for further constraint with Parch and SibSp."
   ]
  },
  {
   "cell_type": "code",
   "execution_count": 807,
   "metadata": {
    "collapsed": false,
    "deletable": true,
    "editable": true
   },
   "outputs": [
    {
     "data": {
      "text/html": [
       "<div>\n",
       "<table border=\"1\" class=\"dataframe\">\n",
       "  <thead>\n",
       "    <tr style=\"text-align: right;\">\n",
       "      <th></th>\n",
       "      <th>Age</th>\n",
       "      <th>Parch</th>\n",
       "      <th>PassengerId</th>\n",
       "      <th>Sex</th>\n",
       "      <th>SibSp</th>\n",
       "      <th>Master</th>\n",
       "      <th>Miss</th>\n",
       "      <th>Mr</th>\n",
       "      <th>Mrs</th>\n",
       "      <th>ticket_num2</th>\n",
       "      <th>occurance</th>\n",
       "      <th>Fare</th>\n",
       "    </tr>\n",
       "  </thead>\n",
       "  <tbody>\n",
       "    <tr>\n",
       "      <th>65</th>\n",
       "      <td>NaN</td>\n",
       "      <td>1</td>\n",
       "      <td>66</td>\n",
       "      <td>0</td>\n",
       "      <td>1</td>\n",
       "      <td>1</td>\n",
       "      <td>0</td>\n",
       "      <td>0</td>\n",
       "      <td>0</td>\n",
       "      <td>2661.0</td>\n",
       "      <td>3.0</td>\n",
       "      <td>15.2458</td>\n",
       "    </tr>\n",
       "    <tr>\n",
       "      <th>159</th>\n",
       "      <td>NaN</td>\n",
       "      <td>2</td>\n",
       "      <td>160</td>\n",
       "      <td>0</td>\n",
       "      <td>8</td>\n",
       "      <td>1</td>\n",
       "      <td>0</td>\n",
       "      <td>0</td>\n",
       "      <td>0</td>\n",
       "      <td>2343.0</td>\n",
       "      <td>11.0</td>\n",
       "      <td>69.5500</td>\n",
       "    </tr>\n",
       "    <tr>\n",
       "      <th>176</th>\n",
       "      <td>NaN</td>\n",
       "      <td>1</td>\n",
       "      <td>177</td>\n",
       "      <td>0</td>\n",
       "      <td>3</td>\n",
       "      <td>1</td>\n",
       "      <td>0</td>\n",
       "      <td>0</td>\n",
       "      <td>0</td>\n",
       "      <td>4133.0</td>\n",
       "      <td>5.0</td>\n",
       "      <td>25.4667</td>\n",
       "    </tr>\n",
       "    <tr>\n",
       "      <th>709</th>\n",
       "      <td>NaN</td>\n",
       "      <td>1</td>\n",
       "      <td>710</td>\n",
       "      <td>0</td>\n",
       "      <td>1</td>\n",
       "      <td>1</td>\n",
       "      <td>0</td>\n",
       "      <td>0</td>\n",
       "      <td>0</td>\n",
       "      <td>2661.0</td>\n",
       "      <td>3.0</td>\n",
       "      <td>15.2458</td>\n",
       "    </tr>\n",
       "    <tr>\n",
       "      <th>1135</th>\n",
       "      <td>NaN</td>\n",
       "      <td>2</td>\n",
       "      <td>1136</td>\n",
       "      <td>0</td>\n",
       "      <td>1</td>\n",
       "      <td>1</td>\n",
       "      <td>0</td>\n",
       "      <td>0</td>\n",
       "      <td>0</td>\n",
       "      <td>6607.0</td>\n",
       "      <td>4.0</td>\n",
       "      <td>23.4500</td>\n",
       "    </tr>\n",
       "    <tr>\n",
       "      <th>1230</th>\n",
       "      <td>NaN</td>\n",
       "      <td>0</td>\n",
       "      <td>1231</td>\n",
       "      <td>0</td>\n",
       "      <td>0</td>\n",
       "      <td>1</td>\n",
       "      <td>0</td>\n",
       "      <td>0</td>\n",
       "      <td>0</td>\n",
       "      <td>2622.0</td>\n",
       "      <td>1.0</td>\n",
       "      <td>7.2292</td>\n",
       "    </tr>\n",
       "    <tr>\n",
       "      <th>1235</th>\n",
       "      <td>NaN</td>\n",
       "      <td>1</td>\n",
       "      <td>1236</td>\n",
       "      <td>0</td>\n",
       "      <td>1</td>\n",
       "      <td>1</td>\n",
       "      <td>0</td>\n",
       "      <td>0</td>\n",
       "      <td>0</td>\n",
       "      <td>851.0</td>\n",
       "      <td>3.0</td>\n",
       "      <td>14.5000</td>\n",
       "    </tr>\n",
       "    <tr>\n",
       "      <th>1308</th>\n",
       "      <td>NaN</td>\n",
       "      <td>1</td>\n",
       "      <td>1309</td>\n",
       "      <td>0</td>\n",
       "      <td>1</td>\n",
       "      <td>1</td>\n",
       "      <td>0</td>\n",
       "      <td>0</td>\n",
       "      <td>0</td>\n",
       "      <td>2668.0</td>\n",
       "      <td>3.0</td>\n",
       "      <td>22.3583</td>\n",
       "    </tr>\n",
       "  </tbody>\n",
       "</table>\n",
       "</div>"
      ],
      "text/plain": [
       "      Age  Parch  PassengerId  Sex  SibSp  Master  Miss  Mr  Mrs  ticket_num2  \\\n",
       "65    NaN      1           66    0      1       1     0   0    0       2661.0   \n",
       "159   NaN      2          160    0      8       1     0   0    0       2343.0   \n",
       "176   NaN      1          177    0      3       1     0   0    0       4133.0   \n",
       "709   NaN      1          710    0      1       1     0   0    0       2661.0   \n",
       "1135  NaN      2         1136    0      1       1     0   0    0       6607.0   \n",
       "1230  NaN      0         1231    0      0       1     0   0    0       2622.0   \n",
       "1235  NaN      1         1236    0      1       1     0   0    0        851.0   \n",
       "1308  NaN      1         1309    0      1       1     0   0    0       2668.0   \n",
       "\n",
       "      occurance     Fare  \n",
       "65          3.0  15.2458  \n",
       "159        11.0  69.5500  \n",
       "176         5.0  25.4667  \n",
       "709         3.0  15.2458  \n",
       "1135        4.0  23.4500  \n",
       "1230        1.0   7.2292  \n",
       "1235        3.0  14.5000  \n",
       "1308        3.0  22.3583  "
      ]
     },
     "execution_count": 807,
     "metadata": {},
     "output_type": "execute_result"
    }
   ],
   "source": [
    "# Fill nan age value of title Master group with the median\n",
    "age_master = age_title.loc[age_title['Master']==1]\n",
    "age_master.loc[np.isnan(age_master['Age'])]"
   ]
  },
  {
   "cell_type": "code",
   "execution_count": 808,
   "metadata": {
    "collapsed": false,
    "deletable": true,
    "editable": true
   },
   "outputs": [],
   "source": [
    "master_median = age_master.median()\n",
    "age_title.loc[age_title['Master']==1] = age_title.loc[age_title['Master']==1].fillna(master_median)"
   ]
  },
  {
   "cell_type": "code",
   "execution_count": 809,
   "metadata": {
    "collapsed": false,
    "deletable": true,
    "editable": true
   },
   "outputs": [
    {
     "data": {
      "text/html": [
       "<div>\n",
       "<table border=\"1\" class=\"dataframe\">\n",
       "  <thead>\n",
       "    <tr style=\"text-align: right;\">\n",
       "      <th></th>\n",
       "      <th>Age</th>\n",
       "      <th>Parch</th>\n",
       "      <th>PassengerId</th>\n",
       "      <th>Sex</th>\n",
       "      <th>SibSp</th>\n",
       "      <th>Master</th>\n",
       "      <th>Miss</th>\n",
       "      <th>Mr</th>\n",
       "      <th>Mrs</th>\n",
       "      <th>ticket_num2</th>\n",
       "      <th>occurance</th>\n",
       "      <th>Fare</th>\n",
       "    </tr>\n",
       "  </thead>\n",
       "  <tbody>\n",
       "  </tbody>\n",
       "</table>\n",
       "</div>"
      ],
      "text/plain": [
       "Empty DataFrame\n",
       "Columns: [Age, Parch, PassengerId, Sex, SibSp, Master, Miss, Mr, Mrs, ticket_num2, occurance, Fare]\n",
       "Index: []"
      ]
     },
     "execution_count": 809,
     "metadata": {},
     "output_type": "execute_result"
    }
   ],
   "source": [
    "# Check the filling success\n",
    "age_master = age_title.loc[age_title['Master']==1]\n",
    "age_master.loc[np.isnan(age_master['Age'])]"
   ]
  },
  {
   "cell_type": "code",
   "execution_count": 810,
   "metadata": {
    "collapsed": false,
    "deletable": true,
    "editable": true
   },
   "outputs": [
    {
     "name": "stdout",
     "output_type": "stream",
     "text": [
      "<class 'pandas.core.frame.DataFrame'>\n",
      "Int64Index: 1309 entries, 0 to 1308\n",
      "Data columns (total 12 columns):\n",
      "Age            1054 non-null float64\n",
      "Parch          1309 non-null int64\n",
      "PassengerId    1309 non-null int64\n",
      "Sex            1309 non-null int64\n",
      "SibSp          1309 non-null int64\n",
      "Master         1309 non-null uint8\n",
      "Miss           1309 non-null uint8\n",
      "Mr             1309 non-null uint8\n",
      "Mrs            1309 non-null uint8\n",
      "ticket_num2    1305 non-null float64\n",
      "occurance      1309 non-null float64\n",
      "Fare           1309 non-null float64\n",
      "dtypes: float64(4), int64(4), uint8(4)\n",
      "memory usage: 97.2 KB\n"
     ]
    }
   ],
   "source": [
    "age_title.info()"
   ]
  },
  {
   "cell_type": "code",
   "execution_count": 811,
   "metadata": {
    "collapsed": false,
    "deletable": true,
    "editable": true
   },
   "outputs": [],
   "source": [
    "# Get the title group Mr\n",
    "age_mr = age_title.loc[age_title['Mr']==1]"
   ]
  },
  {
   "cell_type": "code",
   "execution_count": 812,
   "metadata": {
    "collapsed": false,
    "deletable": true,
    "editable": true
   },
   "outputs": [
    {
     "data": {
      "text/plain": [
       "<matplotlib.axes._subplots.AxesSubplot at 0x7f3f8cd3b048>"
      ]
     },
     "execution_count": 812,
     "metadata": {},
     "output_type": "execute_result"
    },
    {
     "data": {
      "image/png": "[encoded data removed]",
      "text/plain": [
       "<matplotlib.figure.Figure at 0x7f3f8ce5e358>"
      ]
     },
     "metadata": {},
     "output_type": "display_data"
    }
   ],
   "source": [
    "# Obtain the relationship between Parch, SibSp\n",
    "fig, ax=plt.subplots(1,2)\n",
    "sns.boxplot(x=age_mr['Parch'], y=age_mr['Age'], ax=ax[0])\n",
    "sns.boxplot(x=age_mr['SibSp'], y=age_mr['Age'], ax=ax[1])"
   ]
  },
  {
   "cell_type": "markdown",
   "metadata": {
    "deletable": true,
    "editable": true
   },
   "source": [
    "From the above plots we could see that for mr group, Parch > 3 or SipSp > 1 could be delt with directly. We need to look into the rest.\n",
    "For the rest, we will consider that the exact age won't influence the survival and fill with the group median.\n",
    "Keep the rest with nan and filled with xgboost algorithm \n",
    "### will be explored later"
   ]
  },
  {
   "cell_type": "code",
   "execution_count": 813,
   "metadata": {
    "collapsed": false,
    "deletable": true,
    "editable": true
   },
   "outputs": [],
   "source": [
    "Age_mr_Parch= age_mr.Parch.unique()\n",
    "Age_mr_SibSp = age_mr.SibSp.unique()"
   ]
  },
  {
   "cell_type": "code",
   "execution_count": 814,
   "metadata": {
    "collapsed": false,
    "deletable": true,
    "editable": true
   },
   "outputs": [
    {
     "data": {
      "text/html": [
       "<div>\n",
       "<table border=\"1\" class=\"dataframe\">\n",
       "  <thead>\n",
       "    <tr style=\"text-align: right;\">\n",
       "      <th></th>\n",
       "      <th>Age</th>\n",
       "      <th>Parch</th>\n",
       "      <th>PassengerId</th>\n",
       "      <th>Sex</th>\n",
       "      <th>SibSp</th>\n",
       "      <th>Master</th>\n",
       "      <th>Miss</th>\n",
       "      <th>Mr</th>\n",
       "      <th>Mrs</th>\n",
       "      <th>ticket_num2</th>\n",
       "      <th>occurance</th>\n",
       "      <th>Fare</th>\n",
       "    </tr>\n",
       "  </thead>\n",
       "  <tbody>\n",
       "    <tr>\n",
       "      <th>5</th>\n",
       "      <td>NaN</td>\n",
       "      <td>0</td>\n",
       "      <td>6</td>\n",
       "      <td>0</td>\n",
       "      <td>0</td>\n",
       "      <td>0</td>\n",
       "      <td>0</td>\n",
       "      <td>1</td>\n",
       "      <td>0</td>\n",
       "      <td>330877.0</td>\n",
       "      <td>1.0</td>\n",
       "      <td>8.4583</td>\n",
       "    </tr>\n",
       "    <tr>\n",
       "      <th>17</th>\n",
       "      <td>NaN</td>\n",
       "      <td>0</td>\n",
       "      <td>18</td>\n",
       "      <td>0</td>\n",
       "      <td>0</td>\n",
       "      <td>0</td>\n",
       "      <td>0</td>\n",
       "      <td>1</td>\n",
       "      <td>0</td>\n",
       "      <td>244373.0</td>\n",
       "      <td>1.0</td>\n",
       "      <td>13.0000</td>\n",
       "    </tr>\n",
       "    <tr>\n",
       "      <th>26</th>\n",
       "      <td>NaN</td>\n",
       "      <td>0</td>\n",
       "      <td>27</td>\n",
       "      <td>0</td>\n",
       "      <td>0</td>\n",
       "      <td>0</td>\n",
       "      <td>0</td>\n",
       "      <td>1</td>\n",
       "      <td>0</td>\n",
       "      <td>2631.0</td>\n",
       "      <td>1.0</td>\n",
       "      <td>7.2250</td>\n",
       "    </tr>\n",
       "    <tr>\n",
       "      <th>29</th>\n",
       "      <td>NaN</td>\n",
       "      <td>0</td>\n",
       "      <td>30</td>\n",
       "      <td>0</td>\n",
       "      <td>0</td>\n",
       "      <td>0</td>\n",
       "      <td>0</td>\n",
       "      <td>1</td>\n",
       "      <td>0</td>\n",
       "      <td>349216.0</td>\n",
       "      <td>1.0</td>\n",
       "      <td>7.8958</td>\n",
       "    </tr>\n",
       "    <tr>\n",
       "      <th>36</th>\n",
       "      <td>NaN</td>\n",
       "      <td>0</td>\n",
       "      <td>37</td>\n",
       "      <td>0</td>\n",
       "      <td>0</td>\n",
       "      <td>0</td>\n",
       "      <td>0</td>\n",
       "      <td>1</td>\n",
       "      <td>0</td>\n",
       "      <td>2677.0</td>\n",
       "      <td>1.0</td>\n",
       "      <td>7.2292</td>\n",
       "    </tr>\n",
       "  </tbody>\n",
       "</table>\n",
       "</div>"
      ],
      "text/plain": [
       "    Age  Parch  PassengerId  Sex  SibSp  Master  Miss  Mr  Mrs  ticket_num2  \\\n",
       "5   NaN      0            6    0      0       0     0   1    0     330877.0   \n",
       "17  NaN      0           18    0      0       0     0   1    0     244373.0   \n",
       "26  NaN      0           27    0      0       0     0   1    0       2631.0   \n",
       "29  NaN      0           30    0      0       0     0   1    0     349216.0   \n",
       "36  NaN      0           37    0      0       0     0   1    0       2677.0   \n",
       "\n",
       "    occurance     Fare  \n",
       "5         1.0   8.4583  \n",
       "17        1.0  13.0000  \n",
       "26        1.0   7.2250  \n",
       "29        1.0   7.8958  \n",
       "36        1.0   7.2292  "
      ]
     },
     "execution_count": 814,
     "metadata": {},
     "output_type": "execute_result"
    }
   ],
   "source": [
    "# Fill nan age value of title Mr group\n",
    "age_mr = age_title.loc[age_title['Mr']==1]\n",
    "age_mr.loc[np.isnan(age_mr['Age'])].head()"
   ]
  },
  {
   "cell_type": "code",
   "execution_count": 815,
   "metadata": {
    "collapsed": false,
    "deletable": true,
    "editable": true
   },
   "outputs": [],
   "source": [
    "# Fill nan age value of title Master group with the median\n",
    "for i in range(len(Age_mr_Parch)):\n",
    "    for j in range(len(Age_mr_SibSp)):\n",
    "        if Age_mr_Parch[i]>4:\n",
    "            Age_mr_fill = age_mr.loc[age_mr['Parch']>4, 'Age'].median()\n",
    "            age_title.loc[(age_title['Mr']==1)&(age_title['Parch']==Age_mr_Parch[i])] =age_title.loc[(age_title['Mr']==1)&(age_title['Parch']==Age_mr_Parch[i])].fillna(Age_mr_fill)\n",
    "        elif Age_mr_SibSp[j]>3:\n",
    "            Age_mr_fill = age_mr.loc[age_mr['SibSp']>3, 'Age'].median()\n",
    "            age_title.loc[(age_title['Mr']==1)&(age_title['SibSp']==Age_mr_SibSp[j])] =age_title.loc[(age_title['Mr']==1)&(age_title['SibSp']==Age_mr_SibSp[j])].fillna(Age_mr_fill)\n",
    "        else:\n",
    "            Age_mr_fill = age_mr.loc[(age_mr['SibSp']==Age_mr_SibSp[j])&(age_mr['Parch']==Age_mr_Parch[i]), 'Age'].median()\n",
    "            age_title.loc[(age_title['Mr']==1)&(age_title['SibSp']==Age_mr_SibSp[j])&(age_title['Parch']==Age_mr_Parch[i])]=age_title.loc[(age_title['Mr']==1)&(age_title['SibSp']==Age_mr_SibSp[j])&(age_title['Parch']==Age_mr_Parch[i])].fillna(Age_mr_fill)"
   ]
  },
  {
   "cell_type": "code",
   "execution_count": 816,
   "metadata": {
    "collapsed": false,
    "deletable": true,
    "editable": true
   },
   "outputs": [
    {
     "data": {
      "text/html": [
       "<div>\n",
       "<table border=\"1\" class=\"dataframe\">\n",
       "  <thead>\n",
       "    <tr style=\"text-align: right;\">\n",
       "      <th></th>\n",
       "      <th>Age</th>\n",
       "      <th>Parch</th>\n",
       "      <th>PassengerId</th>\n",
       "      <th>Sex</th>\n",
       "      <th>SibSp</th>\n",
       "      <th>Master</th>\n",
       "      <th>Miss</th>\n",
       "      <th>Mr</th>\n",
       "      <th>Mrs</th>\n",
       "      <th>ticket_num2</th>\n",
       "      <th>occurance</th>\n",
       "      <th>Fare</th>\n",
       "    </tr>\n",
       "  </thead>\n",
       "  <tbody>\n",
       "  </tbody>\n",
       "</table>\n",
       "</div>"
      ],
      "text/plain": [
       "Empty DataFrame\n",
       "Columns: [Age, Parch, PassengerId, Sex, SibSp, Master, Miss, Mr, Mrs, ticket_num2, occurance, Fare]\n",
       "Index: []"
      ]
     },
     "execution_count": 816,
     "metadata": {},
     "output_type": "execute_result"
    }
   ],
   "source": [
    "# Check the filling success\n",
    "age_mr = age_title.loc[age_title['Mr']==1]\n",
    "age_mr.loc[np.isnan(age_mr['Age'])].head()"
   ]
  },
  {
   "cell_type": "code",
   "execution_count": 817,
   "metadata": {
    "collapsed": false,
    "deletable": true,
    "editable": true
   },
   "outputs": [
    {
     "name": "stdout",
     "output_type": "stream",
     "text": [
      "<class 'pandas.core.frame.DataFrame'>\n",
      "Int64Index: 1309 entries, 0 to 1308\n",
      "Data columns (total 12 columns):\n",
      "Age            1230 non-null float64\n",
      "Parch          1309 non-null int64\n",
      "PassengerId    1309 non-null int64\n",
      "Sex            1309 non-null int64\n",
      "SibSp          1309 non-null int64\n",
      "Master         1309 non-null uint8\n",
      "Miss           1309 non-null uint8\n",
      "Mr             1309 non-null uint8\n",
      "Mrs            1309 non-null uint8\n",
      "ticket_num2    1309 non-null float64\n",
      "occurance      1309 non-null float64\n",
      "Fare           1309 non-null float64\n",
      "dtypes: float64(4), int64(4), uint8(4)\n",
      "memory usage: 97.2 KB\n"
     ]
    }
   ],
   "source": [
    "age_title.info()"
   ]
  },
  {
   "cell_type": "code",
   "execution_count": 818,
   "metadata": {
    "collapsed": false,
    "deletable": true,
    "editable": true
   },
   "outputs": [
    {
     "data": {
      "text/html": [
       "<div>\n",
       "<table border=\"1\" class=\"dataframe\">\n",
       "  <thead>\n",
       "    <tr style=\"text-align: right;\">\n",
       "      <th></th>\n",
       "      <th>Age</th>\n",
       "      <th>Parch</th>\n",
       "      <th>PassengerId</th>\n",
       "      <th>Sex</th>\n",
       "      <th>SibSp</th>\n",
       "      <th>Master</th>\n",
       "      <th>Miss</th>\n",
       "      <th>Mr</th>\n",
       "      <th>Mrs</th>\n",
       "      <th>ticket_num2</th>\n",
       "      <th>occurance</th>\n",
       "      <th>Fare</th>\n",
       "    </tr>\n",
       "  </thead>\n",
       "  <tbody>\n",
       "    <tr>\n",
       "      <th>28</th>\n",
       "      <td>NaN</td>\n",
       "      <td>0</td>\n",
       "      <td>29</td>\n",
       "      <td>1</td>\n",
       "      <td>0</td>\n",
       "      <td>0</td>\n",
       "      <td>1</td>\n",
       "      <td>0</td>\n",
       "      <td>0</td>\n",
       "      <td>330959.0</td>\n",
       "      <td>1.0</td>\n",
       "      <td>7.8792</td>\n",
       "    </tr>\n",
       "    <tr>\n",
       "      <th>32</th>\n",
       "      <td>NaN</td>\n",
       "      <td>0</td>\n",
       "      <td>33</td>\n",
       "      <td>1</td>\n",
       "      <td>0</td>\n",
       "      <td>0</td>\n",
       "      <td>1</td>\n",
       "      <td>0</td>\n",
       "      <td>0</td>\n",
       "      <td>335677.0</td>\n",
       "      <td>1.0</td>\n",
       "      <td>7.7500</td>\n",
       "    </tr>\n",
       "    <tr>\n",
       "      <th>47</th>\n",
       "      <td>NaN</td>\n",
       "      <td>0</td>\n",
       "      <td>48</td>\n",
       "      <td>1</td>\n",
       "      <td>0</td>\n",
       "      <td>0</td>\n",
       "      <td>1</td>\n",
       "      <td>0</td>\n",
       "      <td>0</td>\n",
       "      <td>14311.0</td>\n",
       "      <td>1.0</td>\n",
       "      <td>7.7500</td>\n",
       "    </tr>\n",
       "    <tr>\n",
       "      <th>82</th>\n",
       "      <td>NaN</td>\n",
       "      <td>0</td>\n",
       "      <td>83</td>\n",
       "      <td>1</td>\n",
       "      <td>0</td>\n",
       "      <td>0</td>\n",
       "      <td>1</td>\n",
       "      <td>0</td>\n",
       "      <td>0</td>\n",
       "      <td>330932.0</td>\n",
       "      <td>1.0</td>\n",
       "      <td>7.7875</td>\n",
       "    </tr>\n",
       "    <tr>\n",
       "      <th>109</th>\n",
       "      <td>NaN</td>\n",
       "      <td>0</td>\n",
       "      <td>110</td>\n",
       "      <td>1</td>\n",
       "      <td>1</td>\n",
       "      <td>0</td>\n",
       "      <td>1</td>\n",
       "      <td>0</td>\n",
       "      <td>0</td>\n",
       "      <td>371110.0</td>\n",
       "      <td>3.0</td>\n",
       "      <td>24.1500</td>\n",
       "    </tr>\n",
       "  </tbody>\n",
       "</table>\n",
       "</div>"
      ],
      "text/plain": [
       "     Age  Parch  PassengerId  Sex  SibSp  Master  Miss  Mr  Mrs  ticket_num2  \\\n",
       "28   NaN      0           29    1      0       0     1   0    0     330959.0   \n",
       "32   NaN      0           33    1      0       0     1   0    0     335677.0   \n",
       "47   NaN      0           48    1      0       0     1   0    0      14311.0   \n",
       "82   NaN      0           83    1      0       0     1   0    0     330932.0   \n",
       "109  NaN      0          110    1      1       0     1   0    0     371110.0   \n",
       "\n",
       "     occurance     Fare  \n",
       "28         1.0   7.8792  \n",
       "32         1.0   7.7500  \n",
       "47         1.0   7.7500  \n",
       "82         1.0   7.7875  \n",
       "109        3.0  24.1500  "
      ]
     },
     "execution_count": 818,
     "metadata": {},
     "output_type": "execute_result"
    }
   ],
   "source": [
    "# Get the title group Miss\n",
    "age_miss = age_title.loc[age_title['Miss']==1]\n",
    "age_miss.loc[np.isnan(age_miss['Age'])].head()"
   ]
  },
  {
   "cell_type": "code",
   "execution_count": 819,
   "metadata": {
    "collapsed": false,
    "deletable": true,
    "editable": true
   },
   "outputs": [
    {
     "data": {
      "text/plain": [
       "<matplotlib.axes._subplots.AxesSubplot at 0x7f3f8d0b0e10>"
      ]
     },
     "execution_count": 819,
     "metadata": {},
     "output_type": "execute_result"
    },
    {
     "data": {
      "image/png": "[encoded data removed]",
      "text/plain": [
       "<matplotlib.figure.Figure at 0x7f3f8d1e3cf8>"
      ]
     },
     "metadata": {},
     "output_type": "display_data"
    }
   ],
   "source": [
    "# Obtain the relationship between Parch, SibSp\n",
    "fig, ax=plt.subplots(1,2)\n",
    "sns.boxplot(x=age_miss['Parch'], y=age_miss['Age'], ax=ax[0])\n",
    "sns.boxplot(x=age_miss['SibSp'], y=age_miss['Age'], ax=ax[1])"
   ]
  },
  {
   "cell_type": "code",
   "execution_count": 820,
   "metadata": {
    "collapsed": false,
    "deletable": true,
    "editable": true
   },
   "outputs": [],
   "source": [
    "Age_miss_Parch= age_miss.Parch.unique()\n",
    "Age_miss_SibSp = age_miss.SibSp.unique()"
   ]
  },
  {
   "cell_type": "code",
   "execution_count": 821,
   "metadata": {
    "collapsed": false,
    "deletable": true,
    "editable": true
   },
   "outputs": [
    {
     "data": {
      "text/html": [
       "<div>\n",
       "<table border=\"1\" class=\"dataframe\">\n",
       "  <thead>\n",
       "    <tr style=\"text-align: right;\">\n",
       "      <th></th>\n",
       "      <th>Age</th>\n",
       "      <th>Parch</th>\n",
       "      <th>PassengerId</th>\n",
       "      <th>Sex</th>\n",
       "      <th>SibSp</th>\n",
       "      <th>Master</th>\n",
       "      <th>Miss</th>\n",
       "      <th>Mr</th>\n",
       "      <th>Mrs</th>\n",
       "      <th>ticket_num2</th>\n",
       "      <th>occurance</th>\n",
       "      <th>Fare</th>\n",
       "    </tr>\n",
       "  </thead>\n",
       "  <tbody>\n",
       "    <tr>\n",
       "      <th>28</th>\n",
       "      <td>NaN</td>\n",
       "      <td>0</td>\n",
       "      <td>29</td>\n",
       "      <td>1</td>\n",
       "      <td>0</td>\n",
       "      <td>0</td>\n",
       "      <td>1</td>\n",
       "      <td>0</td>\n",
       "      <td>0</td>\n",
       "      <td>330959.0</td>\n",
       "      <td>1.0</td>\n",
       "      <td>7.8792</td>\n",
       "    </tr>\n",
       "    <tr>\n",
       "      <th>32</th>\n",
       "      <td>NaN</td>\n",
       "      <td>0</td>\n",
       "      <td>33</td>\n",
       "      <td>1</td>\n",
       "      <td>0</td>\n",
       "      <td>0</td>\n",
       "      <td>1</td>\n",
       "      <td>0</td>\n",
       "      <td>0</td>\n",
       "      <td>335677.0</td>\n",
       "      <td>1.0</td>\n",
       "      <td>7.7500</td>\n",
       "    </tr>\n",
       "    <tr>\n",
       "      <th>47</th>\n",
       "      <td>NaN</td>\n",
       "      <td>0</td>\n",
       "      <td>48</td>\n",
       "      <td>1</td>\n",
       "      <td>0</td>\n",
       "      <td>0</td>\n",
       "      <td>1</td>\n",
       "      <td>0</td>\n",
       "      <td>0</td>\n",
       "      <td>14311.0</td>\n",
       "      <td>1.0</td>\n",
       "      <td>7.7500</td>\n",
       "    </tr>\n",
       "    <tr>\n",
       "      <th>82</th>\n",
       "      <td>NaN</td>\n",
       "      <td>0</td>\n",
       "      <td>83</td>\n",
       "      <td>1</td>\n",
       "      <td>0</td>\n",
       "      <td>0</td>\n",
       "      <td>1</td>\n",
       "      <td>0</td>\n",
       "      <td>0</td>\n",
       "      <td>330932.0</td>\n",
       "      <td>1.0</td>\n",
       "      <td>7.7875</td>\n",
       "    </tr>\n",
       "    <tr>\n",
       "      <th>109</th>\n",
       "      <td>NaN</td>\n",
       "      <td>0</td>\n",
       "      <td>110</td>\n",
       "      <td>1</td>\n",
       "      <td>1</td>\n",
       "      <td>0</td>\n",
       "      <td>1</td>\n",
       "      <td>0</td>\n",
       "      <td>0</td>\n",
       "      <td>371110.0</td>\n",
       "      <td>3.0</td>\n",
       "      <td>24.1500</td>\n",
       "    </tr>\n",
       "  </tbody>\n",
       "</table>\n",
       "</div>"
      ],
      "text/plain": [
       "     Age  Parch  PassengerId  Sex  SibSp  Master  Miss  Mr  Mrs  ticket_num2  \\\n",
       "28   NaN      0           29    1      0       0     1   0    0     330959.0   \n",
       "32   NaN      0           33    1      0       0     1   0    0     335677.0   \n",
       "47   NaN      0           48    1      0       0     1   0    0      14311.0   \n",
       "82   NaN      0           83    1      0       0     1   0    0     330932.0   \n",
       "109  NaN      0          110    1      1       0     1   0    0     371110.0   \n",
       "\n",
       "     occurance     Fare  \n",
       "28         1.0   7.8792  \n",
       "32         1.0   7.7500  \n",
       "47         1.0   7.7500  \n",
       "82         1.0   7.7875  \n",
       "109        3.0  24.1500  "
      ]
     },
     "execution_count": 821,
     "metadata": {},
     "output_type": "execute_result"
    }
   ],
   "source": [
    "# Fill nan age value of title Miss group\n",
    "age_miss = age_title.loc[age_title['Miss']==1]\n",
    "age_miss.loc[np.isnan(age_miss['Age'])].head()"
   ]
  },
  {
   "cell_type": "code",
   "execution_count": 822,
   "metadata": {
    "collapsed": false,
    "deletable": true,
    "editable": true
   },
   "outputs": [],
   "source": [
    "# Fill nan age value of title Master group with the median\n",
    "for i in range(len(Age_miss_Parch)):\n",
    "    for j in range(len(Age_miss_SibSp)):\n",
    "        if Age_miss_SibSp[j]<5:\n",
    "            Age_miss_fill = age_miss.loc[(age_miss['SibSp']==Age_miss_SibSp[j])&(age_miss['Parch']==Age_miss_Parch[i]), 'Age'].median()\n",
    "            age_title.loc[(age_title['Miss']==1)&(age_title['SibSp']==Age_miss_SibSp[j])&(age_title['Parch']==Age_miss_Parch[i])]=age_title.loc[(age_title['Miss']==1)&(age_title['SibSp']==Age_miss_SibSp[j])&(age_title['Parch']==Age_miss_Parch[i])].fillna(Age_miss_fill)\n",
    "        else:\n",
    "            Age_miss_fill = age_miss.loc[(age_miss['SibSp']>4)&(age_miss['Parch']==Age_miss_Parch[i]), 'Age'].median()\n",
    "            age_title.loc[(age_title['Miss']==1)&(age_title['SibSp']==Age_miss_SibSp[j])&(age_title['Parch']==Age_miss_Parch[i])]=age_title.loc[(age_title['Miss']==1)&(age_title['SibSp']==Age_miss_SibSp[j])&(age_title['Parch']==Age_miss_Parch[i])].fillna(Age_miss_fill)"
   ]
  },
  {
   "cell_type": "code",
   "execution_count": 823,
   "metadata": {
    "collapsed": false,
    "deletable": true,
    "editable": true
   },
   "outputs": [
    {
     "data": {
      "text/html": [
       "<div>\n",
       "<table border=\"1\" class=\"dataframe\">\n",
       "  <thead>\n",
       "    <tr style=\"text-align: right;\">\n",
       "      <th></th>\n",
       "      <th>Age</th>\n",
       "      <th>Parch</th>\n",
       "      <th>PassengerId</th>\n",
       "      <th>Sex</th>\n",
       "      <th>SibSp</th>\n",
       "      <th>Master</th>\n",
       "      <th>Miss</th>\n",
       "      <th>Mr</th>\n",
       "      <th>Mrs</th>\n",
       "      <th>ticket_num2</th>\n",
       "      <th>occurance</th>\n",
       "      <th>Fare</th>\n",
       "    </tr>\n",
       "  </thead>\n",
       "  <tbody>\n",
       "  </tbody>\n",
       "</table>\n",
       "</div>"
      ],
      "text/plain": [
       "Empty DataFrame\n",
       "Columns: [Age, Parch, PassengerId, Sex, SibSp, Master, Miss, Mr, Mrs, ticket_num2, occurance, Fare]\n",
       "Index: []"
      ]
     },
     "execution_count": 823,
     "metadata": {},
     "output_type": "execute_result"
    }
   ],
   "source": [
    "# Check the filling success\n",
    "age_miss = age_title.loc[age_title['Miss']==1]\n",
    "age_miss.loc[np.isnan(age_miss['Age'])].head()"
   ]
  },
  {
   "cell_type": "code",
   "execution_count": 824,
   "metadata": {
    "collapsed": false,
    "deletable": true,
    "editable": true
   },
   "outputs": [
    {
     "name": "stdout",
     "output_type": "stream",
     "text": [
      "<class 'pandas.core.frame.DataFrame'>\n",
      "Int64Index: 1309 entries, 0 to 1308\n",
      "Data columns (total 12 columns):\n",
      "Age            1280 non-null float64\n",
      "Parch          1309 non-null int64\n",
      "PassengerId    1309 non-null int64\n",
      "Sex            1309 non-null int64\n",
      "SibSp          1309 non-null int64\n",
      "Master         1309 non-null uint8\n",
      "Miss           1309 non-null uint8\n",
      "Mr             1309 non-null uint8\n",
      "Mrs            1309 non-null uint8\n",
      "ticket_num2    1309 non-null float64\n",
      "occurance      1309 non-null float64\n",
      "Fare           1309 non-null float64\n",
      "dtypes: float64(4), int64(4), uint8(4)\n",
      "memory usage: 97.2 KB\n"
     ]
    }
   ],
   "source": [
    "age_title.info()"
   ]
  },
  {
   "cell_type": "code",
   "execution_count": 825,
   "metadata": {
    "collapsed": false,
    "deletable": true,
    "editable": true
   },
   "outputs": [
    {
     "data": {
      "text/html": [
       "<div>\n",
       "<table border=\"1\" class=\"dataframe\">\n",
       "  <thead>\n",
       "    <tr style=\"text-align: right;\">\n",
       "      <th></th>\n",
       "      <th>Age</th>\n",
       "      <th>Parch</th>\n",
       "      <th>PassengerId</th>\n",
       "      <th>Sex</th>\n",
       "      <th>SibSp</th>\n",
       "      <th>Master</th>\n",
       "      <th>Miss</th>\n",
       "      <th>Mr</th>\n",
       "      <th>Mrs</th>\n",
       "      <th>ticket_num2</th>\n",
       "      <th>occurance</th>\n",
       "      <th>Fare</th>\n",
       "    </tr>\n",
       "  </thead>\n",
       "  <tbody>\n",
       "    <tr>\n",
       "      <th>19</th>\n",
       "      <td>NaN</td>\n",
       "      <td>0</td>\n",
       "      <td>20</td>\n",
       "      <td>1</td>\n",
       "      <td>0</td>\n",
       "      <td>0</td>\n",
       "      <td>0</td>\n",
       "      <td>0</td>\n",
       "      <td>1</td>\n",
       "      <td>2649.0</td>\n",
       "      <td>1.0</td>\n",
       "      <td>7.2250</td>\n",
       "    </tr>\n",
       "    <tr>\n",
       "      <th>31</th>\n",
       "      <td>NaN</td>\n",
       "      <td>0</td>\n",
       "      <td>32</td>\n",
       "      <td>1</td>\n",
       "      <td>1</td>\n",
       "      <td>0</td>\n",
       "      <td>0</td>\n",
       "      <td>0</td>\n",
       "      <td>1</td>\n",
       "      <td>17569.0</td>\n",
       "      <td>3.0</td>\n",
       "      <td>146.5208</td>\n",
       "    </tr>\n",
       "    <tr>\n",
       "      <th>140</th>\n",
       "      <td>NaN</td>\n",
       "      <td>2</td>\n",
       "      <td>141</td>\n",
       "      <td>1</td>\n",
       "      <td>0</td>\n",
       "      <td>0</td>\n",
       "      <td>0</td>\n",
       "      <td>0</td>\n",
       "      <td>1</td>\n",
       "      <td>2678.0</td>\n",
       "      <td>3.0</td>\n",
       "      <td>15.2458</td>\n",
       "    </tr>\n",
       "    <tr>\n",
       "      <th>166</th>\n",
       "      <td>NaN</td>\n",
       "      <td>1</td>\n",
       "      <td>167</td>\n",
       "      <td>1</td>\n",
       "      <td>0</td>\n",
       "      <td>0</td>\n",
       "      <td>0</td>\n",
       "      <td>0</td>\n",
       "      <td>1</td>\n",
       "      <td>113505.0</td>\n",
       "      <td>2.0</td>\n",
       "      <td>55.0000</td>\n",
       "    </tr>\n",
       "    <tr>\n",
       "      <th>186</th>\n",
       "      <td>NaN</td>\n",
       "      <td>0</td>\n",
       "      <td>187</td>\n",
       "      <td>1</td>\n",
       "      <td>1</td>\n",
       "      <td>0</td>\n",
       "      <td>0</td>\n",
       "      <td>0</td>\n",
       "      <td>1</td>\n",
       "      <td>370365.0</td>\n",
       "      <td>2.0</td>\n",
       "      <td>15.5000</td>\n",
       "    </tr>\n",
       "  </tbody>\n",
       "</table>\n",
       "</div>"
      ],
      "text/plain": [
       "     Age  Parch  PassengerId  Sex  SibSp  Master  Miss  Mr  Mrs  ticket_num2  \\\n",
       "19   NaN      0           20    1      0       0     0   0    1       2649.0   \n",
       "31   NaN      0           32    1      1       0     0   0    1      17569.0   \n",
       "140  NaN      2          141    1      0       0     0   0    1       2678.0   \n",
       "166  NaN      1          167    1      0       0     0   0    1     113505.0   \n",
       "186  NaN      0          187    1      1       0     0   0    1     370365.0   \n",
       "\n",
       "     occurance      Fare  \n",
       "19         1.0    7.2250  \n",
       "31         3.0  146.5208  \n",
       "140        3.0   15.2458  \n",
       "166        2.0   55.0000  \n",
       "186        2.0   15.5000  "
      ]
     },
     "execution_count": 825,
     "metadata": {},
     "output_type": "execute_result"
    }
   ],
   "source": [
    "# Get the title group Mrs\n",
    "age_mrs = age_title.loc[age_title['Mrs']==1]\n",
    "age_mrs.loc[np.isnan(age_mrs['Age'])].head()"
   ]
  },
  {
   "cell_type": "code",
   "execution_count": 826,
   "metadata": {
    "collapsed": false,
    "deletable": true,
    "editable": true
   },
   "outputs": [
    {
     "data": {
      "text/plain": [
       "<matplotlib.axes._subplots.AxesSubplot at 0x7f3f8cf89fd0>"
      ]
     },
     "execution_count": 826,
     "metadata": {},
     "output_type": "execute_result"
    },
    {
     "data": {
      "image/png": "[encoded data removed]",
      "text/plain": [
       "<matplotlib.figure.Figure at 0x7f3f8d1094e0>"
      ]
     },
     "metadata": {},
     "output_type": "display_data"
    }
   ],
   "source": [
    "# Obtain the relationship between Parch, SibSp\n",
    "fig, ax=plt.subplots(1,2)\n",
    "sns.boxplot(x=age_mrs['Parch'], y=age_mrs['Age'], ax=ax[0])\n",
    "sns.boxplot(x=age_mrs['SibSp'], y=age_mrs['Age'], ax=ax[1])"
   ]
  },
  {
   "cell_type": "code",
   "execution_count": 827,
   "metadata": {
    "collapsed": true,
    "deletable": true,
    "editable": true
   },
   "outputs": [],
   "source": [
    "Age_mrs_Parch= age_mrs.Parch.unique()\n",
    "Age_mrs_SibSp = age_mrs.SibSp.unique()"
   ]
  },
  {
   "cell_type": "code",
   "execution_count": 828,
   "metadata": {
    "collapsed": false,
    "deletable": true,
    "editable": true
   },
   "outputs": [],
   "source": [
    "# Fill nan age value of title Master group with the median\n",
    "for i in range(len(Age_mrs_Parch)):\n",
    "    for j in range(len(Age_mrs_SibSp)):\n",
    "        if Age_mrs_SibSp[j] == 3:\n",
    "            Age_mrs_fill = age_mrs.loc[age_mrs['SibSp']==3, 'Age'].median()\n",
    "            age_title.loc[(age_title['Mrs']==1)&(age_title['SibSp']==3)]=age_title.loc[(age_title['Mrs']==1)&(age_title['SibSp']==3)].fillna(Age_mrs_fill)\n",
    "        elif Age_mrs_Parch[i]>4:\n",
    "            Age_mrs_fill = age_mrs.loc[(age_mrs['Parch']>4), 'Age'].median()\n",
    "            age_title.loc[(age_title['Mrs']==1)&(age_title['Parch']>4)]=age_title.loc[(age_title['Mrs']==1)&(age_title['Parch']>4)].fillna(Age_mrs_fill)\n",
    "        else:\n",
    "            Age_mrs_fill = age_mrs.loc[(age_mrs['SibSp']==Age_mrs_SibSp[j])&(age_mrs['Parch']==Age_mrs_Parch[i]), 'Age'].median()\n",
    "            age_title.loc[(age_title['Mrs']==1)&(age_title['SibSp']==Age_mrs_SibSp[j])&(age_title['Parch']==Age_mrs_Parch[i])]=age_title.loc[(age_title['Mrs']==1)&(age_title['SibSp']==Age_mrs_SibSp[j])&(age_title['Parch']==Age_mrs_Parch[i])].fillna(Age_mrs_fill)"
   ]
  },
  {
   "cell_type": "code",
   "execution_count": 829,
   "metadata": {
    "collapsed": false,
    "deletable": true,
    "editable": true
   },
   "outputs": [
    {
     "data": {
      "text/html": [
       "<div>\n",
       "<table border=\"1\" class=\"dataframe\">\n",
       "  <thead>\n",
       "    <tr style=\"text-align: right;\">\n",
       "      <th></th>\n",
       "      <th>Age</th>\n",
       "      <th>Parch</th>\n",
       "      <th>PassengerId</th>\n",
       "      <th>Sex</th>\n",
       "      <th>SibSp</th>\n",
       "      <th>Master</th>\n",
       "      <th>Miss</th>\n",
       "      <th>Mr</th>\n",
       "      <th>Mrs</th>\n",
       "      <th>ticket_num2</th>\n",
       "      <th>occurance</th>\n",
       "      <th>Fare</th>\n",
       "    </tr>\n",
       "  </thead>\n",
       "  <tbody>\n",
       "  </tbody>\n",
       "</table>\n",
       "</div>"
      ],
      "text/plain": [
       "Empty DataFrame\n",
       "Columns: [Age, Parch, PassengerId, Sex, SibSp, Master, Miss, Mr, Mrs, ticket_num2, occurance, Fare]\n",
       "Index: []"
      ]
     },
     "execution_count": 829,
     "metadata": {},
     "output_type": "execute_result"
    }
   ],
   "source": [
    "# Check the filling success\n",
    "age_mrs = age_title.loc[age_title['Mrs']==1]\n",
    "age_mrs.loc[np.isnan(age_mrs['Age'])]"
   ]
  },
  {
   "cell_type": "code",
   "execution_count": 830,
   "metadata": {
    "collapsed": false,
    "deletable": true,
    "editable": true,
    "scrolled": true
   },
   "outputs": [
    {
     "name": "stdout",
     "output_type": "stream",
     "text": [
      "<class 'pandas.core.frame.DataFrame'>\n",
      "Int64Index: 1309 entries, 0 to 1308\n",
      "Data columns (total 12 columns):\n",
      "Age            1307 non-null float64\n",
      "Parch          1309 non-null int64\n",
      "PassengerId    1309 non-null int64\n",
      "Sex            1309 non-null int64\n",
      "SibSp          1309 non-null int64\n",
      "Master         1309 non-null uint8\n",
      "Miss           1309 non-null uint8\n",
      "Mr             1309 non-null uint8\n",
      "Mrs            1309 non-null uint8\n",
      "ticket_num2    1309 non-null float64\n",
      "occurance      1309 non-null float64\n",
      "Fare           1309 non-null float64\n",
      "dtypes: float64(4), int64(4), uint8(4)\n",
      "memory usage: 97.2 KB\n"
     ]
    }
   ],
   "source": [
    "age_title.info()"
   ]
  },
  {
   "cell_type": "code",
   "execution_count": 831,
   "metadata": {
    "collapsed": false,
    "deletable": true,
    "editable": true
   },
   "outputs": [
    {
     "data": {
      "text/html": [
       "<div>\n",
       "<table border=\"1\" class=\"dataframe\">\n",
       "  <thead>\n",
       "    <tr style=\"text-align: right;\">\n",
       "      <th></th>\n",
       "      <th>Age</th>\n",
       "      <th>Parch</th>\n",
       "      <th>PassengerId</th>\n",
       "      <th>Sex</th>\n",
       "      <th>SibSp</th>\n",
       "      <th>Master</th>\n",
       "      <th>Miss</th>\n",
       "      <th>Mr</th>\n",
       "      <th>Mrs</th>\n",
       "      <th>ticket_num2</th>\n",
       "      <th>occurance</th>\n",
       "      <th>Fare</th>\n",
       "      <th>others</th>\n",
       "    </tr>\n",
       "  </thead>\n",
       "  <tbody>\n",
       "    <tr>\n",
       "      <th>766</th>\n",
       "      <td>NaN</td>\n",
       "      <td>0</td>\n",
       "      <td>767</td>\n",
       "      <td>0</td>\n",
       "      <td>0</td>\n",
       "      <td>0</td>\n",
       "      <td>0</td>\n",
       "      <td>0</td>\n",
       "      <td>0</td>\n",
       "      <td>112379.0</td>\n",
       "      <td>1.0</td>\n",
       "      <td>39.60</td>\n",
       "      <td>0</td>\n",
       "    </tr>\n",
       "    <tr>\n",
       "      <th>979</th>\n",
       "      <td>NaN</td>\n",
       "      <td>0</td>\n",
       "      <td>980</td>\n",
       "      <td>1</td>\n",
       "      <td>0</td>\n",
       "      <td>0</td>\n",
       "      <td>0</td>\n",
       "      <td>0</td>\n",
       "      <td>0</td>\n",
       "      <td>364856.0</td>\n",
       "      <td>1.0</td>\n",
       "      <td>7.75</td>\n",
       "      <td>0</td>\n",
       "    </tr>\n",
       "  </tbody>\n",
       "</table>\n",
       "</div>"
      ],
      "text/plain": [
       "     Age  Parch  PassengerId  Sex  SibSp  Master  Miss  Mr  Mrs  ticket_num2  \\\n",
       "766  NaN      0          767    0      0       0     0   0    0     112379.0   \n",
       "979  NaN      0          980    1      0       0     0   0    0     364856.0   \n",
       "\n",
       "     occurance   Fare  others  \n",
       "766        1.0  39.60       0  \n",
       "979        1.0   7.75       0  "
      ]
     },
     "execution_count": 831,
     "metadata": {},
     "output_type": "execute_result"
    }
   ],
   "source": [
    "# Get the title group others\n",
    "age_title['others'] = age_title['Master'] + age_title['Mr'] + age_title['Miss'] + age_title['Mrs']\n",
    "age_others = age_title.loc[age_title['others']==0]\n",
    "age_others.loc[np.isnan(age_others['Age'])].head()"
   ]
  },
  {
   "cell_type": "code",
   "execution_count": 832,
   "metadata": {
    "collapsed": false,
    "deletable": true,
    "editable": true
   },
   "outputs": [
    {
     "data": {
      "text/plain": [
       "<matplotlib.axes._subplots.AxesSubplot at 0x7f3f8cb444e0>"
      ]
     },
     "execution_count": 832,
     "metadata": {},
     "output_type": "execute_result"
    },
    {
     "data": {
      "image/png": "[encoded data removed]",
      "text/plain": [
       "<matplotlib.figure.Figure at 0x7f3f8cbe6eb8>"
      ]
     },
     "metadata": {},
     "output_type": "display_data"
    }
   ],
   "source": [
    "# Obtain the relationship between Parch, SibSp\n",
    "fig, ax=plt.subplots(1,2)\n",
    "sns.boxplot(x=age_others['Parch'], y=age_others['Age'], ax=ax[0])\n",
    "sns.boxplot(x=age_others['SibSp'], y=age_others['Age'], ax=ax[1])"
   ]
  },
  {
   "cell_type": "code",
   "execution_count": 833,
   "metadata": {
    "collapsed": true,
    "deletable": true,
    "editable": true
   },
   "outputs": [],
   "source": [
    "Age_others_Parch= age_others.Parch.unique()\n",
    "Age_others_SibSp = age_others.SibSp.unique()"
   ]
  },
  {
   "cell_type": "code",
   "execution_count": 834,
   "metadata": {
    "collapsed": false,
    "deletable": true,
    "editable": true
   },
   "outputs": [],
   "source": [
    "# Fill nan age value of title Master group with the median\n",
    "for i in range(len(Age_others_Parch)):\n",
    "    for j in range(len(Age_others_SibSp)):\n",
    "        if Age_others_SibSp[j] == 1:\n",
    "            Age_others_fill = age_others.loc[age_others['SibSp']==1, 'Age'].median()\n",
    "            age_title.loc[(age_title['others']==0)&(age_title['SibSp']==1)]=age_title.loc[(age_title['others']==0)&(age_title['SibSp']==1)].fillna(Age_others_fill)\n",
    "        elif Age_others_SibSp[j] == 2:\n",
    "            Age_others_fill = age_others.loc[(age_others['SibSp']==2), 'Age'].median()\n",
    "            age_title.loc[(age_title['others']==0)&(age_title['SibSp']==2)]=age_title.loc[(age_title['others']==0)&(age_title['SibSp']==2)].fillna(Age_others_fill)\n",
    "        else:\n",
    "            Age_others_fill = age_others.loc[(age_others['SibSp']==Age_others_SibSp[j])&(age_others['Parch']==Age_others_Parch[i]), 'Age'].median()\n",
    "            age_title.loc[(age_title['others']==0)&(age_title['SibSp']==Age_others_SibSp[j])&(age_title['Parch']==Age_others_Parch[i])]=age_title.loc[(age_title['others']==0)&(age_title['SibSp']==Age_others_SibSp[j])&(age_title['Parch']==Age_others_Parch[i])].fillna(Age_others_fill)"
   ]
  },
  {
   "cell_type": "code",
   "execution_count": 835,
   "metadata": {
    "collapsed": false,
    "deletable": true,
    "editable": true
   },
   "outputs": [
    {
     "data": {
      "text/html": [
       "<div>\n",
       "<table border=\"1\" class=\"dataframe\">\n",
       "  <thead>\n",
       "    <tr style=\"text-align: right;\">\n",
       "      <th></th>\n",
       "      <th>Age</th>\n",
       "      <th>Parch</th>\n",
       "      <th>PassengerId</th>\n",
       "      <th>Sex</th>\n",
       "      <th>SibSp</th>\n",
       "      <th>Master</th>\n",
       "      <th>Miss</th>\n",
       "      <th>Mr</th>\n",
       "      <th>Mrs</th>\n",
       "      <th>ticket_num2</th>\n",
       "      <th>occurance</th>\n",
       "      <th>Fare</th>\n",
       "      <th>others</th>\n",
       "    </tr>\n",
       "  </thead>\n",
       "  <tbody>\n",
       "  </tbody>\n",
       "</table>\n",
       "</div>"
      ],
      "text/plain": [
       "Empty DataFrame\n",
       "Columns: [Age, Parch, PassengerId, Sex, SibSp, Master, Miss, Mr, Mrs, ticket_num2, occurance, Fare, others]\n",
       "Index: []"
      ]
     },
     "execution_count": 835,
     "metadata": {},
     "output_type": "execute_result"
    }
   ],
   "source": [
    "age_others = age_title.loc[age_title['others']==0]\n",
    "age_others.loc[np.isnan(age_others['Age'])].head()"
   ]
  },
  {
   "cell_type": "code",
   "execution_count": 836,
   "metadata": {
    "collapsed": false,
    "deletable": true,
    "editable": true
   },
   "outputs": [
    {
     "name": "stdout",
     "output_type": "stream",
     "text": [
      "<class 'pandas.core.frame.DataFrame'>\n",
      "Int64Index: 1309 entries, 0 to 1308\n",
      "Data columns (total 13 columns):\n",
      "Age            1309 non-null float64\n",
      "Parch          1309 non-null int64\n",
      "PassengerId    1309 non-null int64\n",
      "Sex            1309 non-null int64\n",
      "SibSp          1309 non-null int64\n",
      "Master         1309 non-null uint8\n",
      "Miss           1309 non-null uint8\n",
      "Mr             1309 non-null uint8\n",
      "Mrs            1309 non-null uint8\n",
      "ticket_num2    1309 non-null float64\n",
      "occurance      1309 non-null float64\n",
      "Fare           1309 non-null float64\n",
      "others         1309 non-null uint8\n",
      "dtypes: float64(4), int64(4), uint8(5)\n",
      "memory usage: 98.4 KB\n"
     ]
    }
   ],
   "source": [
    "age_title.info()"
   ]
  },
  {
   "cell_type": "code",
   "execution_count": 837,
   "metadata": {
    "collapsed": true,
    "deletable": true,
    "editable": true
   },
   "outputs": [],
   "source": [
    "data_rd4.drop(labels='Age', axis=1, inplace=True)\n",
    "data_rd4= data_rd4.join(age_title['Age'], how='outer')"
   ]
  },
  {
   "cell_type": "code",
   "execution_count": 1473,
   "metadata": {
    "collapsed": false,
    "deletable": true,
    "editable": true
   },
   "outputs": [],
   "source": [
    "# Try first without filling in age\n",
    "# data_rd4 = data_rd3.copy()\n",
    "# data_rd4.drop(labels='Embarked', axis=1, inplace=True)\n",
    "# data_rd4.drop('ticket_num1', axis=1, inplace=True)\n",
    "# # data_rd4.drop('ticket_num2', axis=1, inplace=True)\n",
    "# data_rd4.drop('Fare', axis=1, inplace=True)\n",
    "# # data_rd4.drop('SibSp', axis=1, inplace=True)\n",
    "# # data_rd4.drop('Parch', axis=1, inplace=True)\n",
    "# # data_rd4.drop('occurance', axis=1, inplace=True)\n",
    "data_rd5 = data_rd4.copy()\n",
    "#data_rd5.drop(labels='Parch', axis=1, inplace=True)\n",
    "#data_rd5.drop(labels='Master', axis=1, inplace=True)\n",
    "#data_rd5.drop(labels='Mr', axis=1, inplace=True)\n",
    "#data_rd5.drop(labels='Miss', axis=1, inplace=True)\n",
    "#data_rd5.drop(labels='Mrs', axis=1, inplace=True)\n",
    "#data_rd5.drop(labels='SibSp', axis=1, inplace=True)\n",
    "data_rd5.drop(labels='ticket_num2', axis=1, inplace=True)"
   ]
  },
  {
   "cell_type": "code",
   "execution_count": 1474,
   "metadata": {
    "collapsed": false,
    "deletable": true,
    "editable": true
   },
   "outputs": [
    {
     "data": {
      "text/html": [
       "<div>\n",
       "<table border=\"1\" class=\"dataframe\">\n",
       "  <thead>\n",
       "    <tr style=\"text-align: right;\">\n",
       "      <th></th>\n",
       "      <th>Parch</th>\n",
       "      <th>PassengerId</th>\n",
       "      <th>Pclass</th>\n",
       "      <th>Sex</th>\n",
       "      <th>SibSp</th>\n",
       "      <th>Survived</th>\n",
       "      <th>Master</th>\n",
       "      <th>Miss</th>\n",
       "      <th>Mr</th>\n",
       "      <th>Mrs</th>\n",
       "      <th>Fare_div</th>\n",
       "      <th>occurance</th>\n",
       "      <th>Fare</th>\n",
       "      <th>Age</th>\n",
       "    </tr>\n",
       "  </thead>\n",
       "  <tbody>\n",
       "    <tr>\n",
       "      <th>0</th>\n",
       "      <td>0</td>\n",
       "      <td>1</td>\n",
       "      <td>3</td>\n",
       "      <td>0</td>\n",
       "      <td>1</td>\n",
       "      <td>0.0</td>\n",
       "      <td>0</td>\n",
       "      <td>0</td>\n",
       "      <td>1</td>\n",
       "      <td>0</td>\n",
       "      <td>7.25000</td>\n",
       "      <td>1.0</td>\n",
       "      <td>7.2500</td>\n",
       "      <td>22.0</td>\n",
       "    </tr>\n",
       "    <tr>\n",
       "      <th>1</th>\n",
       "      <td>0</td>\n",
       "      <td>2</td>\n",
       "      <td>1</td>\n",
       "      <td>1</td>\n",
       "      <td>1</td>\n",
       "      <td>1.0</td>\n",
       "      <td>0</td>\n",
       "      <td>0</td>\n",
       "      <td>0</td>\n",
       "      <td>1</td>\n",
       "      <td>35.64165</td>\n",
       "      <td>2.0</td>\n",
       "      <td>71.2833</td>\n",
       "      <td>38.0</td>\n",
       "    </tr>\n",
       "    <tr>\n",
       "      <th>2</th>\n",
       "      <td>0</td>\n",
       "      <td>3</td>\n",
       "      <td>3</td>\n",
       "      <td>1</td>\n",
       "      <td>0</td>\n",
       "      <td>1.0</td>\n",
       "      <td>0</td>\n",
       "      <td>1</td>\n",
       "      <td>0</td>\n",
       "      <td>0</td>\n",
       "      <td>7.92500</td>\n",
       "      <td>1.0</td>\n",
       "      <td>7.9250</td>\n",
       "      <td>26.0</td>\n",
       "    </tr>\n",
       "    <tr>\n",
       "      <th>3</th>\n",
       "      <td>0</td>\n",
       "      <td>4</td>\n",
       "      <td>1</td>\n",
       "      <td>1</td>\n",
       "      <td>1</td>\n",
       "      <td>1.0</td>\n",
       "      <td>0</td>\n",
       "      <td>0</td>\n",
       "      <td>0</td>\n",
       "      <td>1</td>\n",
       "      <td>26.55000</td>\n",
       "      <td>2.0</td>\n",
       "      <td>53.1000</td>\n",
       "      <td>35.0</td>\n",
       "    </tr>\n",
       "    <tr>\n",
       "      <th>4</th>\n",
       "      <td>0</td>\n",
       "      <td>5</td>\n",
       "      <td>3</td>\n",
       "      <td>0</td>\n",
       "      <td>0</td>\n",
       "      <td>0.0</td>\n",
       "      <td>0</td>\n",
       "      <td>0</td>\n",
       "      <td>1</td>\n",
       "      <td>0</td>\n",
       "      <td>8.05000</td>\n",
       "      <td>1.0</td>\n",
       "      <td>8.0500</td>\n",
       "      <td>35.0</td>\n",
       "    </tr>\n",
       "  </tbody>\n",
       "</table>\n",
       "</div>"
      ],
      "text/plain": [
       "   Parch  PassengerId  Pclass  Sex  SibSp  Survived  Master  Miss  Mr  Mrs  \\\n",
       "0      0            1       3    0      1       0.0       0     0   1    0   \n",
       "1      0            2       1    1      1       1.0       0     0   0    1   \n",
       "2      0            3       3    1      0       1.0       0     1   0    0   \n",
       "3      0            4       1    1      1       1.0       0     0   0    1   \n",
       "4      0            5       3    0      0       0.0       0     0   1    0   \n",
       "\n",
       "   Fare_div  occurance     Fare   Age  \n",
       "0   7.25000        1.0   7.2500  22.0  \n",
       "1  35.64165        2.0  71.2833  38.0  \n",
       "2   7.92500        1.0   7.9250  26.0  \n",
       "3  26.55000        2.0  53.1000  35.0  \n",
       "4   8.05000        1.0   8.0500  35.0  "
      ]
     },
     "execution_count": 1474,
     "metadata": {},
     "output_type": "execute_result"
    }
   ],
   "source": [
    "# Perform one hot encoding on Pclass\n",
    "# one_hot_pclass =pd.get_dummies(data_rd5['Pclass'],prefix='Pclass')\n",
    "# data_rd5=data_rd5.join(one_hot_pclass, how='outer')\n",
    "# data_rd5.drop('Pclass_2', axis=1, inplace=True)\n",
    "# data_rd5.drop('Pclass', axis=1, inplace=True)\n",
    "data_rd5.head()"
   ]
  },
  {
   "cell_type": "code",
   "execution_count": 1475,
   "metadata": {
    "collapsed": false,
    "deletable": true,
    "editable": true
   },
   "outputs": [
    {
     "name": "stdout",
     "output_type": "stream",
     "text": [
      "<class 'pandas.core.frame.DataFrame'>\n",
      "Int64Index: 1309 entries, 0 to 1308\n",
      "Data columns (total 14 columns):\n",
      "Parch          1309 non-null int64\n",
      "PassengerId    1309 non-null int64\n",
      "Pclass         1309 non-null int64\n",
      "Sex            1309 non-null int64\n",
      "SibSp          1309 non-null int64\n",
      "Survived       891 non-null float64\n",
      "Master         1309 non-null uint8\n",
      "Miss           1309 non-null uint8\n",
      "Mr             1309 non-null uint8\n",
      "Mrs            1309 non-null uint8\n",
      "Fare_div       1309 non-null float64\n",
      "occurance      1309 non-null float64\n",
      "Fare           1309 non-null float64\n",
      "Age            1309 non-null float64\n",
      "dtypes: float64(5), int64(5), uint8(4)\n",
      "memory usage: 117.6 KB\n"
     ]
    }
   ],
   "source": [
    "data_rd5.info()"
   ]
  },
  {
   "cell_type": "code",
   "execution_count": 1476,
   "metadata": {
    "collapsed": false,
    "deletable": true,
    "editable": true
   },
   "outputs": [],
   "source": [
    "from sklearn.model_selection import train_test_split\n",
    "\n",
    "train_data = data_rd5[data_rd5['PassengerId']<892]\n",
    "X_train, X_vali,y_train,y_vali = train_test_split(train_data, train_data['Survived'], test_size=0.1, random_state=23, stratify=train_data['Survived'])"
   ]
  },
  {
   "cell_type": "code",
   "execution_count": 1477,
   "metadata": {
    "collapsed": false,
    "deletable": true,
    "editable": true
   },
   "outputs": [
    {
     "name": "stdout",
     "output_type": "stream",
     "text": [
      "[(0.0, 494), (1.0, 307)]\n"
     ]
    }
   ],
   "source": [
    "print(sorted(Counter(y_train).items()))"
   ]
  },
  {
   "cell_type": "code",
   "execution_count": 1478,
   "metadata": {
    "collapsed": false,
    "deletable": true,
    "editable": true
   },
   "outputs": [
    {
     "name": "stdout",
     "output_type": "stream",
     "text": [
      "[(0.0, 494), (1.0, 494)]\n"
     ]
    }
   ],
   "source": [
    "X_resampled, y_resampled = SMOTE().fit_sample(X_train, y_train)\n",
    "train_data1 = pd.DataFrame(X_resampled.astype(int), columns=data_rd5.columns)\n",
    "vali_data1 = pd.DataFrame(X_vali, columns=data_rd5.columns)\n",
    "print(sorted(Counter(y_resampled).items()))\n",
    "# train_data1 = X_train\n",
    "# vali_data1 = X_vali"
   ]
  },
  {
   "cell_type": "code",
   "execution_count": 1479,
   "metadata": {
    "collapsed": false,
    "deletable": true,
    "editable": true
   },
   "outputs": [
    {
     "data": {
      "text/html": [
       "<div>\n",
       "<table border=\"1\" class=\"dataframe\">\n",
       "  <thead>\n",
       "    <tr style=\"text-align: right;\">\n",
       "      <th></th>\n",
       "      <th>Parch</th>\n",
       "      <th>PassengerId</th>\n",
       "      <th>Pclass</th>\n",
       "      <th>Sex</th>\n",
       "      <th>SibSp</th>\n",
       "      <th>Survived</th>\n",
       "      <th>Master</th>\n",
       "      <th>Miss</th>\n",
       "      <th>Mr</th>\n",
       "      <th>Mrs</th>\n",
       "      <th>Fare_div</th>\n",
       "      <th>occurance</th>\n",
       "      <th>Fare</th>\n",
       "      <th>Age</th>\n",
       "    </tr>\n",
       "  </thead>\n",
       "  <tbody>\n",
       "  </tbody>\n",
       "</table>\n",
       "</div>"
      ],
      "text/plain": [
       "Empty DataFrame\n",
       "Columns: [Parch, PassengerId, Pclass, Sex, SibSp, Survived, Master, Miss, Mr, Mrs, Fare_div, occurance, Fare, Age]\n",
       "Index: []"
      ]
     },
     "execution_count": 1479,
     "metadata": {},
     "output_type": "execute_result"
    }
   ],
   "source": [
    "train_data1[np.isnan(train_data1['Mr'])]"
   ]
  },
  {
   "cell_type": "code",
   "execution_count": 1480,
   "metadata": {
    "collapsed": false,
    "deletable": true,
    "editable": true
   },
   "outputs": [],
   "source": [
    "train_keep = train_data1.copy()\n",
    "vali_keep = vali_data1.copy()\n",
    "train_data1.drop('PassengerId', axis=1, inplace=True)\n",
    "vali_data1.drop('PassengerId', axis=1, inplace=True)\n",
    "train_target1 = train_data1['Survived']\n",
    "vali_target1 = vali_data1['Survived']\n",
    "train_data1.drop('Survived', axis=1, inplace=True)\n",
    "# train_data1.drop('SibSp', axis=1, inplace=True)\n",
    "# train_data1.drop('Parch', axis=1, inplace=True)\n",
    "train_data1.drop('Fare', axis=1, inplace=True)\n",
    "# train_data1.drop('occurance', axis=1, inplace=True)\n",
    "vali_data1.drop('Survived', axis=1, inplace=True)\n",
    "# vali_data1.drop('SibSp', axis=1, inplace=True)\n",
    "# vali_data1.drop('Parch', axis=1, inplace=True)\n",
    "vali_data1.drop('Fare', axis=1, inplace=True)\n",
    "# vali_data1.drop('occurance', axis=1, inplace=True)"
   ]
  },
  {
   "cell_type": "code",
   "execution_count": 1481,
   "metadata": {
    "collapsed": false,
    "deletable": true,
    "editable": true,
    "scrolled": true
   },
   "outputs": [
    {
     "name": "stdout",
     "output_type": "stream",
     "text": [
      "cv_score:0.8402494331065761\n",
      "XGB classifier training accuracy:0.888663967611336\n"
     ]
    },
    {
     "data": {
      "image/png": "[encoded data removed]",
      "text/plain": [
       "<matplotlib.figure.Figure at 0x7f3f8ca5f208>"
      ]
     },
     "metadata": {},
     "output_type": "display_data"
    }
   ],
   "source": [
    "XGB_clf = XGBClassifier()\n",
    "\n",
    "from sklearn.model_selection import cross_validate\n",
    "XGB_clf = XGBClassifier()\n",
    "cv_score = cross_validation.cross_val_score(XGB_clf, train_data1, train_target1, cv=5, scoring='accuracy')\n",
    "print('cv_score:{}'.format(np.mean(cv_score)))\n",
    "\n",
    "XGB_clf.fit(train_data1, train_target1)\n",
    "XGB_predict1 = XGB_clf.predict(train_data1)\n",
    "print('XGB classifier training accuracy:{}'.format(accuracy_score(XGB_predict1, train_target1)))\n",
    "\n",
    "plot_importance(XGB_clf)\n",
    "plt.show()"
   ]
  },
  {
   "cell_type": "markdown",
   "metadata": {
    "deletable": true,
    "editable": true
   },
   "source": [
    "From the preliminary results with can see that even letting XGBboost to fill in nan by itself. The training error is still high. We therefore needs to perform error analysis."
   ]
  },
  {
   "cell_type": "code",
   "execution_count": 1694,
   "metadata": {
    "collapsed": false,
    "deletable": true,
    "editable": true
   },
   "outputs": [],
   "source": [
    "test_data = data_rd5[data_rd5['PassengerId']>891]\n",
    "test_data.drop('Survived', axis=1, inplace=True)\n",
    "test_data.drop('PassengerId', axis=1, inplace=True)\n",
    "#test_data.drop('SibSp', axis=1, inplace=True)\n",
    "#test_data.drop('Parch', axis=1, inplace=True)\n",
    "test_data.drop('Fare', axis=1, inplace=True)\n",
    "rf_test_predict = XGB_clf.predict(test_data)\n",
    "#list(rf_test_predict)"
   ]
  },
  {
   "cell_type": "code",
   "execution_count": 1716,
   "metadata": {
    "collapsed": false,
    "deletable": true,
    "editable": true
   },
   "outputs": [],
   "source": [
    "pred_data1 = pd.Series(XGB_predict1, index=train_data1.index, name='Pred')\n",
    "train_data1 = train_data1.join(pred_data1, how='outer')\n",
    "train_data1 = train_data1.join(train_target1, how='outer')\n",
    "#train_data1 = train_data1.join(train_keep['SibSp'], how='outer')\n",
    "#train_data1 = train_data1.join(train_keep['Parch'], how='outer')"
   ]
  },
  {
   "cell_type": "code",
   "execution_count": 1717,
   "metadata": {
    "collapsed": false,
    "deletable": true,
    "editable": true
   },
   "outputs": [],
   "source": [
    "# Identify the mistakenly identified\n",
    "fn = train_data1[train_data1['Pred'] - train_data1['Survived'] < 0]\n",
    "tp = train_data1[(train_data1['Pred'] == 1.0)&(train_data1['Survived']==1.0)]\n",
    "# Identify the mistakenly identified\n",
    "fp = train_data1[train_data1['Pred'] - train_data1['Survived'] > 0]\n",
    "tn = train_data1[(train_data1['Pred'] == 0.0)&(train_data1['Survived']==0.0)]"
   ]
  },
  {
   "cell_type": "code",
   "execution_count": 1718,
   "metadata": {
    "collapsed": false,
    "deletable": true,
    "editable": true
   },
   "outputs": [
    {
     "data": {
      "text/plain": [
       "<matplotlib.legend.Legend at 0x7f3f7f8fb7b8>"
      ]
     },
     "execution_count": 1718,
     "metadata": {},
     "output_type": "execute_result"
    },
    {
     "data": {
      "image/png": "[encoded data removed]",
      "text/plain": [
       "<matplotlib.figure.Figure at 0x7f3f8440f978>"
      ]
     },
     "metadata": {},
     "output_type": "display_data"
    }
   ],
   "source": [
    "# Compare the false negative and true positive\n",
    "fig, ax = plt.subplots(1,4)\n",
    "fig.set_figwidth(15)\n",
    "sns.distplot(fn.loc[(fn['Mr']==1),'Pclass'], label='fn', ax=ax[0])\n",
    "sns.distplot(tp.loc[(tp['Mr']==1),'Pclass'], label='tp', ax=ax[0])\n",
    "sns.distplot(fn.loc[(fn['Mr']==1),'Fare_div'], label='fn',ax=ax[1])\n",
    "sns.distplot(tp.loc[(tp['Mr']==1),'Fare_div'], label='tp',ax=ax[1])\n",
    "sns.distplot(fn.loc[(fn['Mr']==1),'Age'], label='fn',ax=ax[2])\n",
    "sns.distplot(tp.loc[(tp['Mr']==1),'Age'], label='tp',ax=ax[2])\n",
    "sns.distplot(fn.loc[(fn['Mr']==1),'occurance'], label='fn',ax=ax[3])\n",
    "sns.distplot(tp.loc[(tp['Mr']==1),'occurance'], label='tp',ax=ax[3])\n",
    "ax[0].legend()\n",
    "ax[1].legend()\n",
    "ax[2].legend()\n",
    "ax[3].legend()"
   ]
  },
  {
   "cell_type": "markdown",
   "metadata": {
    "deletable": true,
    "editable": true
   },
   "source": [
    "From the above error analysis we can see that majority of the false negative comes from title = Mr with Pclass>1 and Fare_div < 25. We could do two things:\n",
    "1. Create more training cases for this category\n",
    "2. Engineer features to deal with the difference"
   ]
  },
  {
   "cell_type": "code",
   "execution_count": 1719,
   "metadata": {
    "collapsed": true,
    "deletable": true,
    "editable": true
   },
   "outputs": [],
   "source": [
    "train_data = data_rd5[data_rd5['PassengerId']<892]\n",
    "X_train, X_vali,y_train,y_vali = train_test_split(train_data, train_data['Survived'], test_size=0.1, random_state=23, stratify=train_data['Survived'])"
   ]
  },
  {
   "cell_type": "code",
   "execution_count": 1605,
   "metadata": {
    "collapsed": false,
    "deletable": true,
    "editable": true
   },
   "outputs": [
    {
     "data": {
      "text/html": [
       "<div>\n",
       "<table border=\"1\" class=\"dataframe\">\n",
       "  <thead>\n",
       "    <tr style=\"text-align: right;\">\n",
       "      <th></th>\n",
       "      <th>Parch</th>\n",
       "      <th>PassengerId</th>\n",
       "      <th>Pclass</th>\n",
       "      <th>Sex</th>\n",
       "      <th>SibSp</th>\n",
       "      <th>Survived</th>\n",
       "      <th>Master</th>\n",
       "      <th>Miss</th>\n",
       "      <th>Mr</th>\n",
       "      <th>Mrs</th>\n",
       "      <th>Fare_div</th>\n",
       "      <th>occurance</th>\n",
       "      <th>Fare</th>\n",
       "      <th>Age</th>\n",
       "    </tr>\n",
       "  </thead>\n",
       "  <tbody>\n",
       "    <tr>\n",
       "      <th>count</th>\n",
       "      <td>891.000000</td>\n",
       "      <td>891.000000</td>\n",
       "      <td>891.000000</td>\n",
       "      <td>891.000000</td>\n",
       "      <td>891.000000</td>\n",
       "      <td>891.000000</td>\n",
       "      <td>891.000000</td>\n",
       "      <td>891.000000</td>\n",
       "      <td>891.000000</td>\n",
       "      <td>891.000000</td>\n",
       "      <td>891.000000</td>\n",
       "      <td>891.000000</td>\n",
       "      <td>891.000000</td>\n",
       "      <td>891.000000</td>\n",
       "    </tr>\n",
       "    <tr>\n",
       "      <th>mean</th>\n",
       "      <td>0.381594</td>\n",
       "      <td>446.000000</td>\n",
       "      <td>2.308642</td>\n",
       "      <td>0.352413</td>\n",
       "      <td>0.523008</td>\n",
       "      <td>0.383838</td>\n",
       "      <td>0.044893</td>\n",
       "      <td>0.204265</td>\n",
       "      <td>0.580247</td>\n",
       "      <td>0.140292</td>\n",
       "      <td>14.656063</td>\n",
       "      <td>2.098765</td>\n",
       "      <td>32.204208</td>\n",
       "      <td>29.133749</td>\n",
       "    </tr>\n",
       "    <tr>\n",
       "      <th>std</th>\n",
       "      <td>0.806057</td>\n",
       "      <td>257.353842</td>\n",
       "      <td>0.836071</td>\n",
       "      <td>0.477990</td>\n",
       "      <td>1.102743</td>\n",
       "      <td>0.486592</td>\n",
       "      <td>0.207186</td>\n",
       "      <td>0.403390</td>\n",
       "      <td>0.493796</td>\n",
       "      <td>0.347485</td>\n",
       "      <td>13.698940</td>\n",
       "      <td>1.795534</td>\n",
       "      <td>49.693429</td>\n",
       "      <td>13.380245</td>\n",
       "    </tr>\n",
       "    <tr>\n",
       "      <th>min</th>\n",
       "      <td>0.000000</td>\n",
       "      <td>1.000000</td>\n",
       "      <td>1.000000</td>\n",
       "      <td>0.000000</td>\n",
       "      <td>0.000000</td>\n",
       "      <td>0.000000</td>\n",
       "      <td>0.000000</td>\n",
       "      <td>0.000000</td>\n",
       "      <td>0.000000</td>\n",
       "      <td>0.000000</td>\n",
       "      <td>0.000000</td>\n",
       "      <td>1.000000</td>\n",
       "      <td>0.000000</td>\n",
       "      <td>0.420000</td>\n",
       "    </tr>\n",
       "    <tr>\n",
       "      <th>25%</th>\n",
       "      <td>0.000000</td>\n",
       "      <td>223.500000</td>\n",
       "      <td>2.000000</td>\n",
       "      <td>0.000000</td>\n",
       "      <td>0.000000</td>\n",
       "      <td>0.000000</td>\n",
       "      <td>0.000000</td>\n",
       "      <td>0.000000</td>\n",
       "      <td>0.000000</td>\n",
       "      <td>0.000000</td>\n",
       "      <td>7.550000</td>\n",
       "      <td>1.000000</td>\n",
       "      <td>7.910400</td>\n",
       "      <td>22.000000</td>\n",
       "    </tr>\n",
       "    <tr>\n",
       "      <th>50%</th>\n",
       "      <td>0.000000</td>\n",
       "      <td>446.000000</td>\n",
       "      <td>3.000000</td>\n",
       "      <td>0.000000</td>\n",
       "      <td>0.000000</td>\n",
       "      <td>0.000000</td>\n",
       "      <td>0.000000</td>\n",
       "      <td>0.000000</td>\n",
       "      <td>1.000000</td>\n",
       "      <td>0.000000</td>\n",
       "      <td>8.050000</td>\n",
       "      <td>1.000000</td>\n",
       "      <td>14.454200</td>\n",
       "      <td>28.250000</td>\n",
       "    </tr>\n",
       "    <tr>\n",
       "      <th>75%</th>\n",
       "      <td>0.000000</td>\n",
       "      <td>668.500000</td>\n",
       "      <td>3.000000</td>\n",
       "      <td>1.000000</td>\n",
       "      <td>1.000000</td>\n",
       "      <td>1.000000</td>\n",
       "      <td>0.000000</td>\n",
       "      <td>0.000000</td>\n",
       "      <td>1.000000</td>\n",
       "      <td>0.000000</td>\n",
       "      <td>13.861450</td>\n",
       "      <td>2.500000</td>\n",
       "      <td>31.000000</td>\n",
       "      <td>35.500000</td>\n",
       "    </tr>\n",
       "    <tr>\n",
       "      <th>max</th>\n",
       "      <td>6.000000</td>\n",
       "      <td>891.000000</td>\n",
       "      <td>3.000000</td>\n",
       "      <td>1.000000</td>\n",
       "      <td>8.000000</td>\n",
       "      <td>1.000000</td>\n",
       "      <td>1.000000</td>\n",
       "      <td>1.000000</td>\n",
       "      <td>1.000000</td>\n",
       "      <td>1.000000</td>\n",
       "      <td>128.082300</td>\n",
       "      <td>11.000000</td>\n",
       "      <td>512.329200</td>\n",
       "      <td>80.000000</td>\n",
       "    </tr>\n",
       "  </tbody>\n",
       "</table>\n",
       "</div>"
      ],
      "text/plain": [
       "            Parch  PassengerId      Pclass         Sex       SibSp  \\\n",
       "count  891.000000   891.000000  891.000000  891.000000  891.000000   \n",
       "mean     0.381594   446.000000    2.308642    0.352413    0.523008   \n",
       "std      0.806057   257.353842    0.836071    0.477990    1.102743   \n",
       "min      0.000000     1.000000    1.000000    0.000000    0.000000   \n",
       "25%      0.000000   223.500000    2.000000    0.000000    0.000000   \n",
       "50%      0.000000   446.000000    3.000000    0.000000    0.000000   \n",
       "75%      0.000000   668.500000    3.000000    1.000000    1.000000   \n",
       "max      6.000000   891.000000    3.000000    1.000000    8.000000   \n",
       "\n",
       "         Survived      Master        Miss          Mr         Mrs    Fare_div  \\\n",
       "count  891.000000  891.000000  891.000000  891.000000  891.000000  891.000000   \n",
       "mean     0.383838    0.044893    0.204265    0.580247    0.140292   14.656063   \n",
       "std      0.486592    0.207186    0.403390    0.493796    0.347485   13.698940   \n",
       "min      0.000000    0.000000    0.000000    0.000000    0.000000    0.000000   \n",
       "25%      0.000000    0.000000    0.000000    0.000000    0.000000    7.550000   \n",
       "50%      0.000000    0.000000    0.000000    1.000000    0.000000    8.050000   \n",
       "75%      1.000000    0.000000    0.000000    1.000000    0.000000   13.861450   \n",
       "max      1.000000    1.000000    1.000000    1.000000    1.000000  128.082300   \n",
       "\n",
       "        occurance        Fare         Age  \n",
       "count  891.000000  891.000000  891.000000  \n",
       "mean     2.098765   32.204208   29.133749  \n",
       "std      1.795534   49.693429   13.380245  \n",
       "min      1.000000    0.000000    0.420000  \n",
       "25%      1.000000    7.910400   22.000000  \n",
       "50%      1.000000   14.454200   28.250000  \n",
       "75%      2.500000   31.000000   35.500000  \n",
       "max     11.000000  512.329200   80.000000  "
      ]
     },
     "execution_count": 1605,
     "metadata": {},
     "output_type": "execute_result"
    }
   ],
   "source": [
    "train_data.describe()"
   ]
  },
  {
   "cell_type": "code",
   "execution_count": 1606,
   "metadata": {
    "collapsed": false,
    "deletable": true,
    "editable": true
   },
   "outputs": [
    {
     "name": "stdout",
     "output_type": "stream",
     "text": [
      "[(0.0, 494), (1.0, 307)]\n"
     ]
    }
   ],
   "source": [
    "print(sorted(Counter(y_train).items()))"
   ]
  },
  {
   "cell_type": "code",
   "execution_count": 1629,
   "metadata": {
    "collapsed": false,
    "deletable": true,
    "editable": true
   },
   "outputs": [],
   "source": [
    "train_data_boost = train_data[(train_data['Fare_div']<8)&(train_data['Pclass']>1)]"
   ]
  },
  {
   "cell_type": "code",
   "execution_count": 1630,
   "metadata": {
    "collapsed": false,
    "deletable": true,
    "editable": true
   },
   "outputs": [],
   "source": [
    "train_data2 = train_data.append(train_data_boost)"
   ]
  },
  {
   "cell_type": "code",
   "execution_count": 1631,
   "metadata": {
    "collapsed": false,
    "deletable": true,
    "editable": true
   },
   "outputs": [
    {
     "data": {
      "text/html": [
       "<div>\n",
       "<table border=\"1\" class=\"dataframe\">\n",
       "  <thead>\n",
       "    <tr style=\"text-align: right;\">\n",
       "      <th></th>\n",
       "      <th>Parch</th>\n",
       "      <th>PassengerId</th>\n",
       "      <th>Pclass</th>\n",
       "      <th>Sex</th>\n",
       "      <th>SibSp</th>\n",
       "      <th>Survived</th>\n",
       "      <th>Master</th>\n",
       "      <th>Miss</th>\n",
       "      <th>Mr</th>\n",
       "      <th>Mrs</th>\n",
       "      <th>Fare_div</th>\n",
       "      <th>occurance</th>\n",
       "      <th>Fare</th>\n",
       "      <th>Age</th>\n",
       "    </tr>\n",
       "  </thead>\n",
       "  <tbody>\n",
       "    <tr>\n",
       "      <th>count</th>\n",
       "      <td>1278.000000</td>\n",
       "      <td>1278.000000</td>\n",
       "      <td>1278.000000</td>\n",
       "      <td>1278.000000</td>\n",
       "      <td>1278.00000</td>\n",
       "      <td>1278.000000</td>\n",
       "      <td>1278.000000</td>\n",
       "      <td>1278.00000</td>\n",
       "      <td>1278.000000</td>\n",
       "      <td>1278.000000</td>\n",
       "      <td>1278.000000</td>\n",
       "      <td>1278.000000</td>\n",
       "      <td>1278.000000</td>\n",
       "      <td>1278.000000</td>\n",
       "    </tr>\n",
       "    <tr>\n",
       "      <th>mean</th>\n",
       "      <td>0.422535</td>\n",
       "      <td>446.209703</td>\n",
       "      <td>2.502347</td>\n",
       "      <td>0.342723</td>\n",
       "      <td>0.58529</td>\n",
       "      <td>0.352895</td>\n",
       "      <td>0.055556</td>\n",
       "      <td>0.21205</td>\n",
       "      <td>0.586072</td>\n",
       "      <td>0.125196</td>\n",
       "      <td>12.272050</td>\n",
       "      <td>2.172144</td>\n",
       "      <td>26.825677</td>\n",
       "      <td>27.746354</td>\n",
       "    </tr>\n",
       "    <tr>\n",
       "      <th>std</th>\n",
       "      <td>0.867869</td>\n",
       "      <td>259.507750</td>\n",
       "      <td>0.767127</td>\n",
       "      <td>0.474806</td>\n",
       "      <td>1.24337</td>\n",
       "      <td>0.478058</td>\n",
       "      <td>0.229151</td>\n",
       "      <td>0.40892</td>\n",
       "      <td>0.492729</td>\n",
       "      <td>0.331070</td>\n",
       "      <td>12.025868</td>\n",
       "      <td>1.958082</td>\n",
       "      <td>42.887435</td>\n",
       "      <td>13.148543</td>\n",
       "    </tr>\n",
       "    <tr>\n",
       "      <th>min</th>\n",
       "      <td>0.000000</td>\n",
       "      <td>1.000000</td>\n",
       "      <td>1.000000</td>\n",
       "      <td>0.000000</td>\n",
       "      <td>0.00000</td>\n",
       "      <td>0.000000</td>\n",
       "      <td>0.000000</td>\n",
       "      <td>0.00000</td>\n",
       "      <td>0.000000</td>\n",
       "      <td>0.000000</td>\n",
       "      <td>0.000000</td>\n",
       "      <td>1.000000</td>\n",
       "      <td>0.000000</td>\n",
       "      <td>0.420000</td>\n",
       "    </tr>\n",
       "    <tr>\n",
       "      <th>25%</th>\n",
       "      <td>0.000000</td>\n",
       "      <td>217.000000</td>\n",
       "      <td>2.000000</td>\n",
       "      <td>0.000000</td>\n",
       "      <td>0.00000</td>\n",
       "      <td>0.000000</td>\n",
       "      <td>0.000000</td>\n",
       "      <td>0.00000</td>\n",
       "      <td>0.000000</td>\n",
       "      <td>0.000000</td>\n",
       "      <td>7.225000</td>\n",
       "      <td>1.000000</td>\n",
       "      <td>7.796850</td>\n",
       "      <td>21.000000</td>\n",
       "    </tr>\n",
       "    <tr>\n",
       "      <th>50%</th>\n",
       "      <td>0.000000</td>\n",
       "      <td>443.500000</td>\n",
       "      <td>3.000000</td>\n",
       "      <td>0.000000</td>\n",
       "      <td>0.00000</td>\n",
       "      <td>0.000000</td>\n",
       "      <td>0.000000</td>\n",
       "      <td>0.00000</td>\n",
       "      <td>1.000000</td>\n",
       "      <td>0.000000</td>\n",
       "      <td>7.854200</td>\n",
       "      <td>1.000000</td>\n",
       "      <td>13.000000</td>\n",
       "      <td>28.250000</td>\n",
       "    </tr>\n",
       "    <tr>\n",
       "      <th>75%</th>\n",
       "      <td>1.000000</td>\n",
       "      <td>671.750000</td>\n",
       "      <td>3.000000</td>\n",
       "      <td>1.000000</td>\n",
       "      <td>1.00000</td>\n",
       "      <td>1.000000</td>\n",
       "      <td>0.000000</td>\n",
       "      <td>0.00000</td>\n",
       "      <td>1.000000</td>\n",
       "      <td>0.000000</td>\n",
       "      <td>11.000000</td>\n",
       "      <td>3.000000</td>\n",
       "      <td>27.720800</td>\n",
       "      <td>33.000000</td>\n",
       "    </tr>\n",
       "    <tr>\n",
       "      <th>max</th>\n",
       "      <td>6.000000</td>\n",
       "      <td>891.000000</td>\n",
       "      <td>3.000000</td>\n",
       "      <td>1.000000</td>\n",
       "      <td>8.00000</td>\n",
       "      <td>1.000000</td>\n",
       "      <td>1.000000</td>\n",
       "      <td>1.00000</td>\n",
       "      <td>1.000000</td>\n",
       "      <td>1.000000</td>\n",
       "      <td>128.082300</td>\n",
       "      <td>11.000000</td>\n",
       "      <td>512.329200</td>\n",
       "      <td>80.000000</td>\n",
       "    </tr>\n",
       "  </tbody>\n",
       "</table>\n",
       "</div>"
      ],
      "text/plain": [
       "             Parch  PassengerId       Pclass          Sex       SibSp  \\\n",
       "count  1278.000000  1278.000000  1278.000000  1278.000000  1278.00000   \n",
       "mean      0.422535   446.209703     2.502347     0.342723     0.58529   \n",
       "std       0.867869   259.507750     0.767127     0.474806     1.24337   \n",
       "min       0.000000     1.000000     1.000000     0.000000     0.00000   \n",
       "25%       0.000000   217.000000     2.000000     0.000000     0.00000   \n",
       "50%       0.000000   443.500000     3.000000     0.000000     0.00000   \n",
       "75%       1.000000   671.750000     3.000000     1.000000     1.00000   \n",
       "max       6.000000   891.000000     3.000000     1.000000     8.00000   \n",
       "\n",
       "          Survived       Master        Miss           Mr          Mrs  \\\n",
       "count  1278.000000  1278.000000  1278.00000  1278.000000  1278.000000   \n",
       "mean      0.352895     0.055556     0.21205     0.586072     0.125196   \n",
       "std       0.478058     0.229151     0.40892     0.492729     0.331070   \n",
       "min       0.000000     0.000000     0.00000     0.000000     0.000000   \n",
       "25%       0.000000     0.000000     0.00000     0.000000     0.000000   \n",
       "50%       0.000000     0.000000     0.00000     1.000000     0.000000   \n",
       "75%       1.000000     0.000000     0.00000     1.000000     0.000000   \n",
       "max       1.000000     1.000000     1.00000     1.000000     1.000000   \n",
       "\n",
       "          Fare_div    occurance         Fare          Age  \n",
       "count  1278.000000  1278.000000  1278.000000  1278.000000  \n",
       "mean     12.272050     2.172144    26.825677    27.746354  \n",
       "std      12.025868     1.958082    42.887435    13.148543  \n",
       "min       0.000000     1.000000     0.000000     0.420000  \n",
       "25%       7.225000     1.000000     7.796850    21.000000  \n",
       "50%       7.854200     1.000000    13.000000    28.250000  \n",
       "75%      11.000000     3.000000    27.720800    33.000000  \n",
       "max     128.082300    11.000000   512.329200    80.000000  "
      ]
     },
     "execution_count": 1631,
     "metadata": {},
     "output_type": "execute_result"
    }
   ],
   "source": [
    "train_data2.describe()"
   ]
  },
  {
   "cell_type": "code",
   "execution_count": 1632,
   "metadata": {
    "collapsed": false,
    "deletable": true,
    "editable": true
   },
   "outputs": [],
   "source": [
    "train_keep = train_data2.copy()\n",
    "vali_keep = X_vali.copy()\n",
    "vali_data2 = X_vali.copy()\n",
    "train_data2.drop('PassengerId', axis=1, inplace=True)\n",
    "vali_data2.drop('PassengerId', axis=1, inplace=True)\n",
    "train_target2 = train_data2['Survived']\n",
    "vali_target2 = vali_data2['Survived']\n",
    "train_data2.drop('Survived', axis=1, inplace=True)\n",
    "# train_data1.drop('SibSp', axis=1, inplace=True)\n",
    "# train_data1.drop('Parch', axis=1, inplace=True)\n",
    "train_data2.drop('Fare', axis=1, inplace=True)\n",
    "# train_data1.drop('occurance', axis=1, inplace=True)\n",
    "vali_data2.drop('Survived', axis=1, inplace=True)\n",
    "# vali_data1.drop('SibSp', axis=1, inplace=True)\n",
    "# vali_data1.drop('Parch', axis=1, inplace=True)\n",
    "vali_data2.drop('Fare', axis=1, inplace=True)\n",
    "# vali_data1.drop('occurance', axis=1, inplace=True)"
   ]
  },
  {
   "cell_type": "code",
   "execution_count": 1633,
   "metadata": {
    "collapsed": false,
    "deletable": true,
    "editable": true
   },
   "outputs": [
    {
     "name": "stdout",
     "output_type": "stream",
     "text": [
      "cv_score:0.908498106927596\n",
      "XGB classifier training accuracy:0.9827856025039123\n"
     ]
    },
    {
     "data": {
      "image/png": "[encoded data removed]",
      "text/plain": [
       "<matplotlib.figure.Figure at 0x7f3f85d4cba8>"
      ]
     },
     "metadata": {},
     "output_type": "display_data"
    }
   ],
   "source": [
    "XGB_clf = XGBClassifier(n_estimators=300, max_depth=60, min_child_weight=1)\n",
    "cv_score = cross_validation.cross_val_score(XGB_clf, train_data2, train_target2, cv=5, scoring='accuracy')\n",
    "print('cv_score:{}'.format(np.mean(cv_score)))\n",
    "\n",
    "XGB_clf.fit(train_data2, train_target2)\n",
    "XGB_predict2 = XGB_clf.predict(train_data2)\n",
    "print('XGB classifier training accuracy:{}'.format(accuracy_score(XGB_predict2, train_target2)))\n",
    "\n",
    "plot_importance(XGB_clf)\n",
    "plt.show()"
   ]
  },
  {
   "cell_type": "code",
   "execution_count": 1634,
   "metadata": {
    "collapsed": false,
    "deletable": true,
    "editable": true
   },
   "outputs": [],
   "source": [
    "pred_data2 = pd.Series(XGB_predict2, index=train_data2.index, name='Pred')\n",
    "train_data2 = train_data2.join(pred_data2, how='outer')\n",
    "train_data2 = train_data2.join(train_target2, how='outer')"
   ]
  },
  {
   "cell_type": "code",
   "execution_count": 1635,
   "metadata": {
    "collapsed": true,
    "deletable": true,
    "editable": true
   },
   "outputs": [],
   "source": [
    "# Identify the mistakenly identified\n",
    "fn = train_data2[train_data2['Pred'] - train_data2['Survived'] < 0]\n",
    "tp = train_data2[(train_data2['Pred'] == 1.0)&(train_data2['Survived']==1.0)]\n",
    "# Identify the mistakenly identified\n",
    "fp = train_data2[train_data2['Pred'] - train_data2['Survived'] > 0]\n",
    "tn = train_data2[(train_data2['Pred'] == 0.0)&(train_data2['Survived']==0.0)]"
   ]
  },
  {
   "cell_type": "code",
   "execution_count": 1636,
   "metadata": {
    "collapsed": false,
    "deletable": true,
    "editable": true
   },
   "outputs": [
    {
     "data": {
      "text/plain": [
       "<matplotlib.legend.Legend at 0x7f3f84bc8f98>"
      ]
     },
     "execution_count": 1636,
     "metadata": {},
     "output_type": "execute_result"
    },
    {
     "data": {
      "image/png": "[encoded data removed]",
      "text/plain": [
       "<matplotlib.figure.Figure at 0x7f3f85d95fd0>"
      ]
     },
     "metadata": {},
     "output_type": "display_data"
    }
   ],
   "source": [
    "# Compare the false negative and true positive\n",
    "fig, ax = plt.subplots(1,3)\n",
    "fig.set_figwidth(15)\n",
    "sns.distplot(fn.loc[(fn['Mr']==1),'Pclass'], label='fn', ax=ax[0])\n",
    "sns.distplot(tp.loc[(tp['Mr']==1),'Pclass'], label='tp', ax=ax[0])\n",
    "sns.distplot(fn.loc[(fn['Mr']==1),'Fare_div'], label='fn',ax=ax[1])\n",
    "sns.distplot(tp.loc[(tp['Mr']==1),'Fare_div'], label='tp',ax=ax[1])\n",
    "sns.distplot(fn.loc[(fn['Mr']==1),'Age'], label='fn',ax=ax[2])\n",
    "sns.distplot(tp.loc[(tp['Mr']==1),'Age'], label='tp',ax=ax[2])\n",
    "ax[0].legend()\n",
    "ax[1].legend()\n",
    "ax[2].legend()"
   ]
  },
  {
   "cell_type": "markdown",
   "metadata": {
    "deletable": true,
    "editable": true
   },
   "source": [
    "From the above result, adding more samples of the training interest will create bias overfitting. We will try engineer feature for target training data."
   ]
  },
  {
   "cell_type": "code",
   "execution_count": 1644,
   "metadata": {
    "collapsed": false,
    "deletable": true,
    "editable": true
   },
   "outputs": [],
   "source": [
    "test_data = data_rd5[data_rd5['PassengerId']>891]\n",
    "test_data.drop('Survived', axis=1, inplace=True)\n",
    "test_data.drop('PassengerId', axis=1, inplace=True)\n",
    "#test_data.drop('SibSp', axis=1, inplace=True)\n",
    "#test_data.drop('Parch', axis=1, inplace=True)\n",
    "test_data.drop('Fare', axis=1, inplace=True)\n",
    "rf_test_predict = XGB_clf.predict(test_data)\n",
    "# list(rf_test_predict)"
   ]
  },
  {
   "cell_type": "code",
   "execution_count": 1731,
   "metadata": {
    "collapsed": false,
    "deletable": true,
    "editable": true
   },
   "outputs": [
    {
     "data": {
      "text/html": [
       "<div>\n",
       "<table border=\"1\" class=\"dataframe\">\n",
       "  <thead>\n",
       "    <tr style=\"text-align: right;\">\n",
       "      <th></th>\n",
       "      <th>Parch</th>\n",
       "      <th>PassengerId</th>\n",
       "      <th>Pclass</th>\n",
       "      <th>Sex</th>\n",
       "      <th>SibSp</th>\n",
       "      <th>Survived</th>\n",
       "      <th>Master</th>\n",
       "      <th>Miss</th>\n",
       "      <th>Mr</th>\n",
       "      <th>Mrs</th>\n",
       "      <th>Fare_div</th>\n",
       "      <th>occurance</th>\n",
       "      <th>Fare</th>\n",
       "      <th>Age</th>\n",
       "    </tr>\n",
       "  </thead>\n",
       "  <tbody>\n",
       "    <tr>\n",
       "      <th>179</th>\n",
       "      <td>0</td>\n",
       "      <td>180</td>\n",
       "      <td>3</td>\n",
       "      <td>0</td>\n",
       "      <td>0</td>\n",
       "      <td>0.0</td>\n",
       "      <td>0</td>\n",
       "      <td>0</td>\n",
       "      <td>1</td>\n",
       "      <td>0</td>\n",
       "      <td>0.0</td>\n",
       "      <td>1.0</td>\n",
       "      <td>0.0</td>\n",
       "      <td>36.00</td>\n",
       "    </tr>\n",
       "    <tr>\n",
       "      <th>263</th>\n",
       "      <td>0</td>\n",
       "      <td>264</td>\n",
       "      <td>1</td>\n",
       "      <td>0</td>\n",
       "      <td>0</td>\n",
       "      <td>0.0</td>\n",
       "      <td>0</td>\n",
       "      <td>0</td>\n",
       "      <td>1</td>\n",
       "      <td>0</td>\n",
       "      <td>0.0</td>\n",
       "      <td>1.0</td>\n",
       "      <td>0.0</td>\n",
       "      <td>40.00</td>\n",
       "    </tr>\n",
       "    <tr>\n",
       "      <th>271</th>\n",
       "      <td>0</td>\n",
       "      <td>272</td>\n",
       "      <td>3</td>\n",
       "      <td>0</td>\n",
       "      <td>0</td>\n",
       "      <td>1.0</td>\n",
       "      <td>0</td>\n",
       "      <td>0</td>\n",
       "      <td>1</td>\n",
       "      <td>0</td>\n",
       "      <td>0.0</td>\n",
       "      <td>1.0</td>\n",
       "      <td>0.0</td>\n",
       "      <td>25.00</td>\n",
       "    </tr>\n",
       "    <tr>\n",
       "      <th>277</th>\n",
       "      <td>0</td>\n",
       "      <td>278</td>\n",
       "      <td>2</td>\n",
       "      <td>0</td>\n",
       "      <td>0</td>\n",
       "      <td>0.0</td>\n",
       "      <td>0</td>\n",
       "      <td>0</td>\n",
       "      <td>1</td>\n",
       "      <td>0</td>\n",
       "      <td>0.0</td>\n",
       "      <td>3.0</td>\n",
       "      <td>0.0</td>\n",
       "      <td>28.25</td>\n",
       "    </tr>\n",
       "    <tr>\n",
       "      <th>302</th>\n",
       "      <td>0</td>\n",
       "      <td>303</td>\n",
       "      <td>3</td>\n",
       "      <td>0</td>\n",
       "      <td>0</td>\n",
       "      <td>0.0</td>\n",
       "      <td>0</td>\n",
       "      <td>0</td>\n",
       "      <td>1</td>\n",
       "      <td>0</td>\n",
       "      <td>0.0</td>\n",
       "      <td>1.0</td>\n",
       "      <td>0.0</td>\n",
       "      <td>19.00</td>\n",
       "    </tr>\n",
       "    <tr>\n",
       "      <th>413</th>\n",
       "      <td>0</td>\n",
       "      <td>414</td>\n",
       "      <td>2</td>\n",
       "      <td>0</td>\n",
       "      <td>0</td>\n",
       "      <td>0.0</td>\n",
       "      <td>0</td>\n",
       "      <td>0</td>\n",
       "      <td>1</td>\n",
       "      <td>0</td>\n",
       "      <td>0.0</td>\n",
       "      <td>3.0</td>\n",
       "      <td>0.0</td>\n",
       "      <td>28.25</td>\n",
       "    </tr>\n",
       "    <tr>\n",
       "      <th>466</th>\n",
       "      <td>0</td>\n",
       "      <td>467</td>\n",
       "      <td>2</td>\n",
       "      <td>0</td>\n",
       "      <td>0</td>\n",
       "      <td>0.0</td>\n",
       "      <td>0</td>\n",
       "      <td>0</td>\n",
       "      <td>1</td>\n",
       "      <td>0</td>\n",
       "      <td>0.0</td>\n",
       "      <td>3.0</td>\n",
       "      <td>0.0</td>\n",
       "      <td>28.25</td>\n",
       "    </tr>\n",
       "    <tr>\n",
       "      <th>481</th>\n",
       "      <td>0</td>\n",
       "      <td>482</td>\n",
       "      <td>2</td>\n",
       "      <td>0</td>\n",
       "      <td>0</td>\n",
       "      <td>0.0</td>\n",
       "      <td>0</td>\n",
       "      <td>0</td>\n",
       "      <td>1</td>\n",
       "      <td>0</td>\n",
       "      <td>0.0</td>\n",
       "      <td>1.0</td>\n",
       "      <td>0.0</td>\n",
       "      <td>28.25</td>\n",
       "    </tr>\n",
       "    <tr>\n",
       "      <th>597</th>\n",
       "      <td>0</td>\n",
       "      <td>598</td>\n",
       "      <td>3</td>\n",
       "      <td>0</td>\n",
       "      <td>0</td>\n",
       "      <td>0.0</td>\n",
       "      <td>0</td>\n",
       "      <td>0</td>\n",
       "      <td>1</td>\n",
       "      <td>0</td>\n",
       "      <td>0.0</td>\n",
       "      <td>1.0</td>\n",
       "      <td>0.0</td>\n",
       "      <td>49.00</td>\n",
       "    </tr>\n",
       "    <tr>\n",
       "      <th>633</th>\n",
       "      <td>0</td>\n",
       "      <td>634</td>\n",
       "      <td>1</td>\n",
       "      <td>0</td>\n",
       "      <td>0</td>\n",
       "      <td>0.0</td>\n",
       "      <td>0</td>\n",
       "      <td>0</td>\n",
       "      <td>1</td>\n",
       "      <td>0</td>\n",
       "      <td>0.0</td>\n",
       "      <td>1.0</td>\n",
       "      <td>0.0</td>\n",
       "      <td>28.25</td>\n",
       "    </tr>\n",
       "    <tr>\n",
       "      <th>674</th>\n",
       "      <td>0</td>\n",
       "      <td>675</td>\n",
       "      <td>2</td>\n",
       "      <td>0</td>\n",
       "      <td>0</td>\n",
       "      <td>0.0</td>\n",
       "      <td>0</td>\n",
       "      <td>0</td>\n",
       "      <td>1</td>\n",
       "      <td>0</td>\n",
       "      <td>0.0</td>\n",
       "      <td>1.0</td>\n",
       "      <td>0.0</td>\n",
       "      <td>28.25</td>\n",
       "    </tr>\n",
       "    <tr>\n",
       "      <th>732</th>\n",
       "      <td>0</td>\n",
       "      <td>733</td>\n",
       "      <td>2</td>\n",
       "      <td>0</td>\n",
       "      <td>0</td>\n",
       "      <td>0.0</td>\n",
       "      <td>0</td>\n",
       "      <td>0</td>\n",
       "      <td>1</td>\n",
       "      <td>0</td>\n",
       "      <td>0.0</td>\n",
       "      <td>1.0</td>\n",
       "      <td>0.0</td>\n",
       "      <td>28.25</td>\n",
       "    </tr>\n",
       "    <tr>\n",
       "      <th>806</th>\n",
       "      <td>0</td>\n",
       "      <td>807</td>\n",
       "      <td>1</td>\n",
       "      <td>0</td>\n",
       "      <td>0</td>\n",
       "      <td>0.0</td>\n",
       "      <td>0</td>\n",
       "      <td>0</td>\n",
       "      <td>1</td>\n",
       "      <td>0</td>\n",
       "      <td>0.0</td>\n",
       "      <td>1.0</td>\n",
       "      <td>0.0</td>\n",
       "      <td>39.00</td>\n",
       "    </tr>\n",
       "    <tr>\n",
       "      <th>815</th>\n",
       "      <td>0</td>\n",
       "      <td>816</td>\n",
       "      <td>1</td>\n",
       "      <td>0</td>\n",
       "      <td>0</td>\n",
       "      <td>0.0</td>\n",
       "      <td>0</td>\n",
       "      <td>0</td>\n",
       "      <td>1</td>\n",
       "      <td>0</td>\n",
       "      <td>0.0</td>\n",
       "      <td>2.0</td>\n",
       "      <td>0.0</td>\n",
       "      <td>28.25</td>\n",
       "    </tr>\n",
       "  </tbody>\n",
       "</table>\n",
       "</div>"
      ],
      "text/plain": [
       "     Parch  PassengerId  Pclass  Sex  SibSp  Survived  Master  Miss  Mr  Mrs  \\\n",
       "179      0          180       3    0      0       0.0       0     0   1    0   \n",
       "263      0          264       1    0      0       0.0       0     0   1    0   \n",
       "271      0          272       3    0      0       1.0       0     0   1    0   \n",
       "277      0          278       2    0      0       0.0       0     0   1    0   \n",
       "302      0          303       3    0      0       0.0       0     0   1    0   \n",
       "413      0          414       2    0      0       0.0       0     0   1    0   \n",
       "466      0          467       2    0      0       0.0       0     0   1    0   \n",
       "481      0          482       2    0      0       0.0       0     0   1    0   \n",
       "597      0          598       3    0      0       0.0       0     0   1    0   \n",
       "633      0          634       1    0      0       0.0       0     0   1    0   \n",
       "674      0          675       2    0      0       0.0       0     0   1    0   \n",
       "732      0          733       2    0      0       0.0       0     0   1    0   \n",
       "806      0          807       1    0      0       0.0       0     0   1    0   \n",
       "815      0          816       1    0      0       0.0       0     0   1    0   \n",
       "\n",
       "     Fare_div  occurance  Fare    Age  \n",
       "179       0.0        1.0   0.0  36.00  \n",
       "263       0.0        1.0   0.0  40.00  \n",
       "271       0.0        1.0   0.0  25.00  \n",
       "277       0.0        3.0   0.0  28.25  \n",
       "302       0.0        1.0   0.0  19.00  \n",
       "413       0.0        3.0   0.0  28.25  \n",
       "466       0.0        3.0   0.0  28.25  \n",
       "481       0.0        1.0   0.0  28.25  \n",
       "597       0.0        1.0   0.0  49.00  \n",
       "633       0.0        1.0   0.0  28.25  \n",
       "674       0.0        1.0   0.0  28.25  \n",
       "732       0.0        1.0   0.0  28.25  \n",
       "806       0.0        1.0   0.0  39.00  \n",
       "815       0.0        2.0   0.0  28.25  "
      ]
     },
     "execution_count": 1731,
     "metadata": {},
     "output_type": "execute_result"
    }
   ],
   "source": [
    "train_data = data_rd5[data_rd5['PassengerId']<892]\n",
    "train_data.loc[(train_data['Mr']==1)&(train_data['Fare']<15)&(train_data['Fare']<1)]"
   ]
  },
  {
   "cell_type": "code",
   "execution_count": 1726,
   "metadata": {
    "collapsed": false,
    "deletable": true,
    "editable": true
   },
   "outputs": [
    {
     "data": {
      "text/plain": [
       "179     0.0000\n",
       "263     0.0000\n",
       "271     0.0000\n",
       "277     0.0000\n",
       "302     0.0000\n",
       "378    12.0375\n",
       "413     0.0000\n",
       "466     0.0000\n",
       "481     0.0000\n",
       "597     0.0000\n",
       "633     0.0000\n",
       "674     0.0000\n",
       "732     0.0000\n",
       "806     0.0000\n",
       "815     0.0000\n",
       "Name: Fare, dtype: float64"
      ]
     },
     "execution_count": 1726,
     "metadata": {},
     "output_type": "execute_result"
    }
   ],
   "source": [
    "train_data.loc[(train_data['Mr']==1)&(train_data['Fare']<15), 'Fare']"
   ]
  },
  {
   "cell_type": "code",
   "execution_count": 1724,
   "metadata": {
    "collapsed": true,
    "deletable": true,
    "editable": true
   },
   "outputs": [],
   "source": [
    "train_data.loc[(train_data['Mr']==1)&(train_data['Fare']<15), 'Fare'] = train_data.loc[(train_data['Mr']==1)&(train_data['Fare']<15), 'Fare'] * 3\n",
    "X_train, X_vali,y_train,y_vali = train_test_split(train_data, train_data['Survived'], test_size=0.1, random_state=23, stratify=train_data['Survived'])"
   ]
  },
  {
   "cell_type": "code",
   "execution_count": 1725,
   "metadata": {
    "collapsed": false,
    "deletable": true,
    "editable": true
   },
   "outputs": [
    {
     "data": {
      "text/plain": [
       "<matplotlib.axes._subplots.AxesSubplot at 0x7f3f7f82d940>"
      ]
     },
     "execution_count": 1725,
     "metadata": {},
     "output_type": "execute_result"
    },
    {
     "data": {
      "image/png": "[encoded data removed]",
      "text/plain": [
       "<matplotlib.figure.Figure at 0x7f3f7fa3f2e8>"
      ]
     },
     "metadata": {},
     "output_type": "display_data"
    }
   ],
   "source": [
    "train_data.loc[(train_data['Mr']==1)&(train_data['Fare']<15), 'Fare'].hist()"
   ]
  },
  {
   "cell_type": "code",
   "execution_count": 1713,
   "metadata": {
    "collapsed": false,
    "deletable": true,
    "editable": true
   },
   "outputs": [
    {
     "name": "stdout",
     "output_type": "stream",
     "text": [
      "[(0.0, 494), (1.0, 494)]\n"
     ]
    }
   ],
   "source": [
    "X_resampled, y_resampled = SMOTE().fit_sample(X_train, y_train)\n",
    "train_data1 = pd.DataFrame(X_resampled.astype(int)+1, columns=data_rd5.columns)\n",
    "vali_data1 = pd.DataFrame(X_vali, columns=data_rd5.columns)\n",
    "print(sorted(Counter(y_resampled).items()))\n",
    "# train_data1 = X_train\n",
    "# vali_data1 = X_vali"
   ]
  },
  {
   "cell_type": "code",
   "execution_count": 1714,
   "metadata": {
    "collapsed": true,
    "deletable": true,
    "editable": true
   },
   "outputs": [],
   "source": [
    "train_keep = train_data1.copy()\n",
    "vali_keep = vali_data1.copy()\n",
    "train_data1.drop('PassengerId', axis=1, inplace=True)\n",
    "vali_data1.drop('PassengerId', axis=1, inplace=True)\n",
    "train_target1 = train_data1['Survived']\n",
    "vali_target1 = vali_data1['Survived']\n",
    "train_data1.drop('Survived', axis=1, inplace=True)\n",
    "# train_data1.drop('SibSp', axis=1, inplace=True)\n",
    "# train_data1.drop('Parch', axis=1, inplace=True)\n",
    "train_data1.drop('Fare', axis=1, inplace=True)\n",
    "# train_data1.drop('occurance', axis=1, inplace=True)\n",
    "vali_data1.drop('Survived', axis=1, inplace=True)\n",
    "# vali_data1.drop('SibSp', axis=1, inplace=True)\n",
    "# vali_data1.drop('Parch', axis=1, inplace=True)\n",
    "vali_data1.drop('Fare', axis=1, inplace=True)\n",
    "# vali_data1.drop('occurance', axis=1, inplace=True)"
   ]
  },
  {
   "cell_type": "code",
   "execution_count": 1715,
   "metadata": {
    "collapsed": false,
    "deletable": true,
    "editable": true
   },
   "outputs": [
    {
     "name": "stdout",
     "output_type": "stream",
     "text": [
      "cv_score:0.842238713667285\n",
      "XGB classifier training accuracy:0.9453441295546559\n"
     ]
    },
    {
     "data": {
      "image/png": "[encoded data removed]",
      "text/plain": [
       "<matplotlib.figure.Figure at 0x7f3f84a74e10>"
      ]
     },
     "metadata": {},
     "output_type": "display_data"
    }
   ],
   "source": [
    "XGB_clf = XGBClassifier(n_estimators=80, max_depth=20, min_child_weight=1)\n",
    "cv_score = cross_validation.cross_val_score(XGB_clf, train_data1, train_target1, cv=5, scoring='accuracy')\n",
    "print('cv_score:{}'.format(np.mean(cv_score)))\n",
    "\n",
    "XGB_clf.fit(train_data1, train_target1)\n",
    "XGB_predict1 = XGB_clf.predict(train_data1)\n",
    "print('XGB classifier training accuracy:{}'.format(accuracy_score(XGB_predict1, train_target1)))\n",
    "\n",
    "plot_importance(XGB_clf)\n",
    "plt.show()"
   ]
  },
  {
   "cell_type": "code",
   "execution_count": 1640,
   "metadata": {
    "collapsed": false,
    "deletable": true,
    "editable": true
   },
   "outputs": [
    {
     "name": "stdout",
     "output_type": "stream",
     "text": [
      "Logistic regression classifier training accuracy:1.0\n"
     ]
    },
    {
     "ename": "ValueError",
     "evalue": "X has 11 features per sample; expecting 13",
     "output_type": "error",
     "traceback": [
      "\u001b[0;31m---------------------------------------------------------------------------\u001b[0m",
      "\u001b[0;31mValueError\u001b[0m                                Traceback (most recent call last)",
      "\u001b[0;32m<ipython-input-1640-a23a9aa1f88d>\u001b[0m in \u001b[0;36m<module>\u001b[0;34m()\u001b[0m\n\u001b[1;32m      7\u001b[0m \u001b[0mprint\u001b[0m\u001b[0;34m(\u001b[0m\u001b[0;34m'Logistic regression classifier training accuracy:{}'\u001b[0m\u001b[0;34m.\u001b[0m\u001b[0mformat\u001b[0m\u001b[0;34m(\u001b[0m\u001b[0maccuracy_score\u001b[0m\u001b[0;34m(\u001b[0m\u001b[0mlr_predict\u001b[0m\u001b[0;34m,\u001b[0m \u001b[0mtrain_target1\u001b[0m\u001b[0;34m)\u001b[0m\u001b[0;34m)\u001b[0m\u001b[0;34m)\u001b[0m\u001b[0;34m\u001b[0m\u001b[0m\n\u001b[1;32m      8\u001b[0m \u001b[0;34m\u001b[0m\u001b[0m\n\u001b[0;32m----> 9\u001b[0;31m \u001b[0mlr_predict\u001b[0m \u001b[0;34m=\u001b[0m \u001b[0mlr_clf\u001b[0m\u001b[0;34m.\u001b[0m\u001b[0mpredict\u001b[0m\u001b[0;34m(\u001b[0m\u001b[0mvali_data1\u001b[0m\u001b[0;34m)\u001b[0m\u001b[0;34m\u001b[0m\u001b[0m\n\u001b[0m\u001b[1;32m     10\u001b[0m \u001b[0mprint\u001b[0m\u001b[0;34m(\u001b[0m\u001b[0;34m'Logistic regression classifier validation accuracy:{}'\u001b[0m\u001b[0;34m.\u001b[0m\u001b[0mformat\u001b[0m\u001b[0;34m(\u001b[0m\u001b[0maccuracy_score\u001b[0m\u001b[0;34m(\u001b[0m\u001b[0mlr_predict\u001b[0m\u001b[0;34m,\u001b[0m \u001b[0mvali_target1\u001b[0m\u001b[0;34m)\u001b[0m\u001b[0;34m)\u001b[0m\u001b[0;34m)\u001b[0m\u001b[0;34m\u001b[0m\u001b[0m\n",
      "\u001b[0;32m/usr/local/lib/python3.5/dist-packages/sklearn/linear_model/base.py\u001b[0m in \u001b[0;36mpredict\u001b[0;34m(self, X)\u001b[0m\n\u001b[1;32m    322\u001b[0m             \u001b[0mPredicted\u001b[0m \u001b[0;32mclass\u001b[0m \u001b[0mlabel\u001b[0m \u001b[0mper\u001b[0m \u001b[0msample\u001b[0m\u001b[0;34m.\u001b[0m\u001b[0;34m\u001b[0m\u001b[0m\n\u001b[1;32m    323\u001b[0m         \"\"\"\n\u001b[0;32m--> 324\u001b[0;31m         \u001b[0mscores\u001b[0m \u001b[0;34m=\u001b[0m \u001b[0mself\u001b[0m\u001b[0;34m.\u001b[0m\u001b[0mdecision_function\u001b[0m\u001b[0;34m(\u001b[0m\u001b[0mX\u001b[0m\u001b[0;34m)\u001b[0m\u001b[0;34m\u001b[0m\u001b[0m\n\u001b[0m\u001b[1;32m    325\u001b[0m         \u001b[0;32mif\u001b[0m \u001b[0mlen\u001b[0m\u001b[0;34m(\u001b[0m\u001b[0mscores\u001b[0m\u001b[0;34m.\u001b[0m\u001b[0mshape\u001b[0m\u001b[0;34m)\u001b[0m \u001b[0;34m==\u001b[0m \u001b[0;36m1\u001b[0m\u001b[0;34m:\u001b[0m\u001b[0;34m\u001b[0m\u001b[0m\n\u001b[1;32m    326\u001b[0m             \u001b[0mindices\u001b[0m \u001b[0;34m=\u001b[0m \u001b[0;34m(\u001b[0m\u001b[0mscores\u001b[0m \u001b[0;34m>\u001b[0m \u001b[0;36m0\u001b[0m\u001b[0;34m)\u001b[0m\u001b[0;34m.\u001b[0m\u001b[0mastype\u001b[0m\u001b[0;34m(\u001b[0m\u001b[0mnp\u001b[0m\u001b[0;34m.\u001b[0m\u001b[0mint\u001b[0m\u001b[0;34m)\u001b[0m\u001b[0;34m\u001b[0m\u001b[0m\n",
      "\u001b[0;32m/usr/local/lib/python3.5/dist-packages/sklearn/linear_model/base.py\u001b[0m in \u001b[0;36mdecision_function\u001b[0;34m(self, X)\u001b[0m\n\u001b[1;32m    303\u001b[0m         \u001b[0;32mif\u001b[0m \u001b[0mX\u001b[0m\u001b[0;34m.\u001b[0m\u001b[0mshape\u001b[0m\u001b[0;34m[\u001b[0m\u001b[0;36m1\u001b[0m\u001b[0;34m]\u001b[0m \u001b[0;34m!=\u001b[0m \u001b[0mn_features\u001b[0m\u001b[0;34m:\u001b[0m\u001b[0;34m\u001b[0m\u001b[0m\n\u001b[1;32m    304\u001b[0m             raise ValueError(\"X has %d features per sample; expecting %d\"\n\u001b[0;32m--> 305\u001b[0;31m                              % (X.shape[1], n_features))\n\u001b[0m\u001b[1;32m    306\u001b[0m \u001b[0;34m\u001b[0m\u001b[0m\n\u001b[1;32m    307\u001b[0m         scores = safe_sparse_dot(X, self.coef_.T,\n",
      "\u001b[0;31mValueError\u001b[0m: X has 11 features per sample; expecting 13"
     ]
    }
   ],
   "source": [
    "from sklearn.linear_model import LogisticRegression\n",
    "\n",
    "lr_clf = LogisticRegression()\n",
    "lr_clf.fit(train_data1, train_target1)\n",
    "\n",
    "lr_predict = lr_clf.predict(train_data1)\n",
    "print('Logistic regression classifier training accuracy:{}'.format(accuracy_score(lr_predict, train_target1)))\n",
    "\n",
    "lr_predict = lr_clf.predict(vali_data1)\n",
    "print('Logistic regression classifier validation accuracy:{}'.format(accuracy_score(lr_predict, vali_target1)))"
   ]
  },
  {
   "cell_type": "code",
   "execution_count": null,
   "metadata": {
    "_cell_guid": "a93a4b2c-1d34-47e4-8f67-c4a63cbfc030",
    "_uuid": "8c768c3020216046c58f8bd3cd6260a6d728b361",
    "collapsed": true,
    "deletable": true,
    "editable": true
   },
   "outputs": [],
   "source": [
    "# Split into train and validation set\n",
    "#train_data1_part1 = data_rd1[(data_rd1['PassengerId']<892)&(data_rd1['Age']<15)].sample(frac=0.5, random_state=1).reset_index(drop=True)   # Shuffle the data\n",
    "#train_data1_part2 = data_rd1[(data_rd1['PassengerId']<892)&(data_rd1['Age']>15)].sample(frac=1, random_state=1).reset_index(drop=True)   # Shuffle the data\n",
    "#train_data1 = pd.concat([train_data1_part1, train_data1_part2])\n",
    "from sklearn.model_selection import train_test_split\n",
    "\n",
    "train_data = data_rd1[data_rd1['PassengerId']<892]\n",
    "train_data = train_data.dropna(axis=0, how='any')\n",
    "X_train, X_vali,y_train,y_vali = train_test_split(train_data, train_data['Survived'], test_size=0.1, random_state=23, stratify=train_data['Survived'])"
   ]
  },
  {
   "cell_type": "code",
   "execution_count": null,
   "metadata": {
    "_cell_guid": "73b57a69-effe-4d3a-ba90-3c0485afa768",
    "_uuid": "fe729dca982a056aa0dff8dba4044a78a8fda30e",
    "collapsed": true,
    "deletable": true,
    "editable": true
   },
   "outputs": [],
   "source": [
    "print(sorted(Counter(y_train).items()))"
   ]
  },
  {
   "cell_type": "code",
   "execution_count": null,
   "metadata": {
    "_cell_guid": "567b47a9-afbb-4cde-bcb1-17e9dc42def5",
    "_uuid": "61fd8dfc1d67da99d898194f330edcc3ff47e32a",
    "collapsed": true,
    "deletable": true,
    "editable": true
   },
   "outputs": [],
   "source": [
    "X_resampled, y_resampled = SMOTE().fit_sample(X_train, y_train)\n",
    "train_data1 = pd.DataFrame(X_resampled, columns=data_rd1.columns)\n",
    "vali_data1 = pd.DataFrame(X_vali, columns=data_rd1.columns)\n",
    "print(sorted(Counter(y_resampled).items()))\n",
    "# train_data1 = X_train\n",
    "# vali_data1 = X_vali"
   ]
  },
  {
   "cell_type": "code",
   "execution_count": null,
   "metadata": {
    "_cell_guid": "bcc0443d-3987-4cef-9eb2-d1b39bc988d9",
    "_uuid": "50d1e80deb9157565b5b766761fd0f6e6e050a28",
    "collapsed": true,
    "deletable": true,
    "editable": true
   },
   "outputs": [],
   "source": [
    "train_data1.drop('PassengerId', axis=1, inplace=True)\n",
    "vali_data1.drop('PassengerId', axis=1, inplace=True)\n",
    "train_target1 = train_data1['Survived']\n",
    "vali_target1 = vali_data1['Survived']\n",
    "train_data1.drop('Survived', axis=1, inplace=True)\n",
    "vali_data1.drop('Survived', axis=1, inplace=True)"
   ]
  },
  {
   "cell_type": "code",
   "execution_count": null,
   "metadata": {
    "_cell_guid": "dd54d6ea-597e-40cc-82c1-e3524606fb8e",
    "_uuid": "e9dde98cb1c16305c0e8689b05de163bf943d546",
    "collapsed": true,
    "deletable": true,
    "editable": true,
    "scrolled": true
   },
   "outputs": [],
   "source": [
    "XGB_clf = XGBClassifier()\n",
    "XGB_clf.fit(train_data1, train_target1)\n",
    "\n",
    "plot_importance(XGB_clf)\n",
    "plt.show()\n",
    "\n",
    "XGB_predict = XGB_clf.predict(train_data1)\n",
    "print('XGB classifier training accuracy:{}'.format(accuracy_score(XGB_predict, train_target1)))\n",
    "\n",
    "XGB_predict = XGB_clf.predict(vali_data1)\n",
    "print('XGB classifier validation accuracy:{}'.format(accuracy_score(XGB_predict, vali_target1)))"
   ]
  },
  {
   "cell_type": "code",
   "execution_count": null,
   "metadata": {
    "_cell_guid": "af28169b-49ea-4287-9733-e1861890323d",
    "_uuid": "0d123af4e80047032fed99bad345625c345e0972",
    "collapsed": true,
    "deletable": true,
    "editable": true
   },
   "outputs": [],
   "source": [
    "test_data.info()"
   ]
  },
  {
   "cell_type": "code",
   "execution_count": null,
   "metadata": {
    "_cell_guid": "e0c21e1a-1de1-46cb-b287-ffd09fba5fc3",
    "_uuid": "a9138985fd8a0c051de5d1e1e7f10eda65c2d7ec",
    "collapsed": true,
    "deletable": true,
    "editable": true
   },
   "outputs": [],
   "source": [
    "test_data = data_rd1[data_rd1['PassengerId']>891]\n",
    "test_data.drop('Survived', axis=1, inplace=True)\n",
    "test_data.drop('PassengerId', axis=1, inplace=True)\n",
    "xgb_test_predict = XGB_clf.predict(test_data)\n",
    "list(xgb_test_predict)"
   ]
  },
  {
   "cell_type": "code",
   "execution_count": null,
   "metadata": {
    "_cell_guid": "6dc802c4-b401-4dcd-87df-4072c44a264b",
    "_uuid": "9895b48edf2e397cbf8e49c6169c7b40e3c1f002",
    "collapsed": true,
    "deletable": true,
    "editable": true
   },
   "outputs": [],
   "source": [
    "from sklearn.ensemble import RandomForestClassifier\n",
    "\n",
    "rf_clf = RandomForestClassifier()\n",
    "rf_clf.fit(train_data1, train_target1)\n",
    "\n",
    "rf_predict = rf_clf.predict(train_data1)\n",
    "print('RF classifier training accuracy:{}'.format(accuracy_score(rf_predict, train_target1)))\n",
    "\n",
    "rf_predict = rf_clf.predict(vali_data1)\n",
    "print('RF classifier validation accuracy:{}'.format(accuracy_score(rf_predict, vali_target1)))"
   ]
  },
  {
   "cell_type": "code",
   "execution_count": null,
   "metadata": {
    "_cell_guid": "521d3d2c-6c15-416c-96d3-99c2ef8f832f",
    "_uuid": "a7739edbcb849c08aa5c369ce76d3e53947bee18",
    "collapsed": true,
    "deletable": true,
    "editable": true
   },
   "outputs": [],
   "source": [
    "rf_test_predict = rf_clf.predict(test_data)\n",
    "list(rf_test_predict)"
   ]
  },
  {
   "cell_type": "code",
   "execution_count": null,
   "metadata": {
    "_cell_guid": "a2689993-6696-480d-b075-34ffd8534710",
    "_uuid": "313aefa074b9de5fde212d82a65a829be8d74380",
    "collapsed": true,
    "deletable": true,
    "editable": true
   },
   "outputs": [],
   "source": [
    "def modelfit(alg, dtrain, targets, performCV=True, printFeatureImportance=True, cv_folds=10):\n",
    "    \n",
    "    #Fit the algorithm on the data\n",
    "    alg.fit(dtrain, targets)\n",
    "        \n",
    "    #Predict training set:\n",
    "    dtrain_predictions = alg.predict(dtrain)\n",
    "    dtrain_predprob = alg.predict_proba(dtrain)[:,1]\n",
    "    \n",
    "    #Perform cross-validation:\n",
    "    if performCV:\n",
    "        cv_score = cross_validation.cross_val_score(alg, dtrain, targets, cv=cv_folds, scoring='accuracy')\n",
    "    \n",
    "    #Print model report:\n",
    "    print (\"\\nModel Report\")\n",
    "    print (\"Accuracy : %.4g\" % metrics.accuracy_score(targets.values, dtrain_predictions))\n",
    "    print (\"AUC Score (Train): %f\" % metrics.roc_auc_score(targets, dtrain_predprob))\n",
    "    \n",
    "    if performCV:\n",
    "        print (\"CV Score : Mean - %.7g | Std - %.7g | Min - %.7g | Max - %.7g\" % (np.mean(cv_score),np.std(cv_score),np.min(cv_score),np.max(cv_score)))\n",
    "        \n",
    "    #Print Feature Importance:\n",
    "    if printFeatureImportance:\n",
    "        plot_importance(XGB_clf)\n",
    "        plt.show()"
   ]
  },
  {
   "cell_type": "code",
   "execution_count": null,
   "metadata": {
    "_cell_guid": "b9644c5c-de67-4960-8c88-0665a44c454a",
    "_uuid": "94f2a44270fa2b0c019ac648d2d78d0adae2ff48",
    "collapsed": true,
    "deletable": true,
    "editable": true
   },
   "outputs": [],
   "source": [
    "param_test1 = {\n",
    " 'n_estimators':range(85,95,1),\n",
    " 'max_depth':range(6,8,1),\n",
    " 'min_child_weight':range(2,4,1)\n",
    "}\n",
    "\n",
    "estimator1 = XGBClassifier( learning_rate =0.1, n_estimators=90, max_depth=7,\n",
    " min_child_weight=3, gamma=0, subsample=0.8, colsample_bytree=0.8,\n",
    " objective= 'binary:logistic', nthread=-1, scale_pos_weight=1, seed=27)\n",
    "\n",
    "gsearch1 = GridSearchCV(estimator1, param_grid = param_test1, scoring='f1',n_jobs=-1,iid=False, cv=10)\n",
    "gsearch1.fit(train_data1, train_target1)\n",
    "gsearch1.grid_scores_, gsearch1.best_params_, gsearch1.best_score_"
   ]
  },
  {
   "cell_type": "code",
   "execution_count": null,
   "metadata": {
    "_cell_guid": "10ae1297-c561-42aa-9abb-83f874a53da9",
    "_uuid": "0f5cff47104571fd95ec13f0d8b36cbd4ecc2784",
    "collapsed": true,
    "deletable": true,
    "editable": true
   },
   "outputs": [],
   "source": [
    "vali_data1.info()"
   ]
  },
  {
   "cell_type": "code",
   "execution_count": null,
   "metadata": {
    "_cell_guid": "02c16693-c2f6-4d0f-87f3-562392f5450e",
    "_uuid": "229f87f120704ef62a75361ff169b2103e97e7f2",
    "collapsed": true,
    "deletable": true,
    "editable": true
   },
   "outputs": [],
   "source": [
    "from sklearn.metrics import accuracy_score\n",
    "from sklearn.metrics import f1_score\n",
    "from sklearn.ensemble import GradientBoostingClassifier\n",
    "import warnings; warnings.simplefilter('ignore')\n",
    "from sklearn.model_selection import GridSearchCV"
   ]
  },
  {
   "cell_type": "code",
   "execution_count": null,
   "metadata": {
    "_cell_guid": "98fa8846-101d-4cb2-a6eb-6c46f21c3fd9",
    "_uuid": "a3c1d0c3ba6448d195dc82d1928facab87d60f6c",
    "collapsed": true,
    "deletable": true,
    "editable": true
   },
   "outputs": [],
   "source": [
    "# # Perform hyperparameter search for gradient boosting classifier\n",
    "# gb_clf = GradientBoostingClassifier()\n",
    "# param_grid=[{'learning_rate':[0.05, 0.1], 'n_estimators':[50, 100, 200], 'max_depth':[2,5,10], 'max_features' : [2,4,6,8]},]\n",
    "# gb_clf = GradientBoostingClassifier()\n",
    "\n",
    "# grid_search = GridSearchCV(gb_clf, param_grid, cv=5, scoring='accuracy')\n",
    "\n",
    "# grid_search.fit(train_data1, train_target1)\n",
    "# print(grid_search.best_params_, grid_search.best_score_)"
   ]
  },
  {
   "cell_type": "code",
   "execution_count": null,
   "metadata": {
    "_cell_guid": "c9d0f4bd-8331-4af7-b3bf-53282965c6c9",
    "_uuid": "a56700aa348a1f0ae179583c1cd5b520f0196331",
    "collapsed": true,
    "deletable": true,
    "editable": true
   },
   "outputs": [],
   "source": [
    "from xgboost import XGBClassifier\n",
    "import xgboost as xgb\n",
    "from xgboost import plot_importance\n",
    "\n",
    "XGB_clf = XGBClassifier()\n",
    "XGB_clf.fit(train_data1, train_target1)\n",
    "\n",
    "plot_importance(XGB_clf)\n",
    "plt.show()\n",
    "\n",
    "\n",
    "XGB_predict = XGB_clf.predict(train_data1)\n",
    "print('XGB classifier training accuracy:{}'.format(f1_score(XGB_predict, train_target1)))"
   ]
  },
  {
   "cell_type": "markdown",
   "metadata": {
    "_cell_guid": "ab87c8c4-7991-4ce7-82da-c1dc38e8d636",
    "_uuid": "2fa2f083b637187965d41bd9e6ba3e265716aa63",
    "deletable": true,
    "editable": true
   },
   "source": [
    "### Perform hyperparameter search on XGB classifier "
   ]
  },
  {
   "cell_type": "code",
   "execution_count": null,
   "metadata": {
    "_cell_guid": "b0025634-e055-4130-95ad-84beb86ae8cd",
    "_uuid": "ddd0b7c143188070c2a6f0e005eb6ada7b659c63",
    "collapsed": true,
    "deletable": true,
    "editable": true
   },
   "outputs": [],
   "source": [
    "from sklearn import metrics\n",
    "from sklearn import cross_validation\n",
    "\n",
    "def modelfit(alg, dtrain, targets, performCV=True, printFeatureImportance=True, cv_folds=10):\n",
    "    \n",
    "    #Fit the algorithm on the data\n",
    "    alg.fit(dtrain, targets)\n",
    "        \n",
    "    #Predict training set:\n",
    "    dtrain_predictions = alg.predict(dtrain)\n",
    "    dtrain_predprob = alg.predict_proba(dtrain)[:,1]\n",
    "    \n",
    "    #Perform cross-validation:\n",
    "    if performCV:\n",
    "        cv_score = cross_validation.cross_val_score(alg, dtrain, targets, cv=cv_folds, scoring='accuracy')\n",
    "    \n",
    "    #Print model report:\n",
    "    print (\"\\nModel Report\")\n",
    "    print (\"Accuracy : %.4g\" % metrics.accuracy_score(targets.values, dtrain_predictions))\n",
    "    print (\"AUC Score (Train): %f\" % metrics.roc_auc_score(targets, dtrain_predprob))\n",
    "    \n",
    "    if performCV:\n",
    "        print (\"CV Score : Mean - %.7g | Std - %.7g | Min - %.7g | Max - %.7g\" % (np.mean(cv_score),np.std(cv_score),np.min(cv_score),np.max(cv_score)))\n",
    "        \n",
    "    #Print Feature Importance:\n",
    "    if printFeatureImportance:\n",
    "        plot_importance(XGB_clf)\n",
    "        plt.show()"
   ]
  },
  {
   "cell_type": "code",
   "execution_count": null,
   "metadata": {
    "_cell_guid": "bf7baa28-20e8-4ac1-b7d3-e79658bb1d88",
    "_uuid": "989fb22ff269303dd9fdc34a62448a5e1b66a71e",
    "collapsed": true,
    "deletable": true,
    "editable": true
   },
   "outputs": [],
   "source": [
    "param_test1 = {\n",
    " 'n_estimators':range(90,180,10),\n",
    " 'max_depth':range(3,10,2),\n",
    " 'min_child_weight':range(1,6,2)\n",
    "}\n",
    "gsearch1 = GridSearchCV(estimator = XGBClassifier( learning_rate =0.1, n_estimators=120, max_depth=3,\n",
    " min_child_weight=5, gamma=0, subsample=0.8, colsample_bytree=0.8,\n",
    " objective= 'binary:logistic', nthread=4, scale_pos_weight=1, seed=27), \n",
    " param_grid = param_test1, scoring='f1',n_jobs=4,iid=False, cv=10)\n",
    "gsearch1.fit(train_data1, train_target1)\n",
    "gsearch1.grid_scores_, gsearch1.best_params_, gsearch1.best_score_"
   ]
  },
  {
   "cell_type": "code",
   "execution_count": null,
   "metadata": {
    "_cell_guid": "40e4cdec-527a-490c-9c14-135707a68568",
    "_uuid": "476c2f0a9ecd8ad39f6f4957fb5ff32695a31131",
    "collapsed": true,
    "deletable": true,
    "editable": true
   },
   "outputs": [],
   "source": [
    "param_test1 = {\n",
    " 'n_estimators':range(165,175,1),\n",
    " 'max_depth':range(8,10,1),\n",
    " #'min_child_weight':range(2,4,1)\n",
    "}\n",
    "gsearch1 = GridSearchCV(estimator = XGBClassifier( learning_rate =0.1, n_estimators=169, max_depth=9,\n",
    " min_child_weight=1, gamma=0, subsample=0.8, colsample_bytree=0.8,\n",
    " objective= 'binary:logistic', nthread=4, scale_pos_weight=1, seed=27), \n",
    " param_grid = param_test1, scoring='f1',n_jobs=4,iid=False, cv=10)\n",
    "gsearch1.fit(train_data1, train_target1)\n",
    "gsearch1.grid_scores_, gsearch1.best_params_, gsearch1.best_score_"
   ]
  },
  {
   "cell_type": "code",
   "execution_count": null,
   "metadata": {
    "_cell_guid": "eda98308-816d-471e-bfe7-af540758c8ba",
    "_uuid": "19ed3f1ed3eca3cf910e72696e79b08e29c76249",
    "collapsed": true,
    "deletable": true,
    "editable": true
   },
   "outputs": [],
   "source": [
    "param_test1 = {\n",
    " 'gamma':[i/10.0 for i in range(0,5)]\n",
    "}\n",
    "gsearch1 = GridSearchCV(estimator = XGBClassifier( learning_rate =0.1, n_estimators=120, max_depth=3,\n",
    " min_child_weight=5, gamma=0, subsample=0.8, colsample_bytree=0.8, objective= 'binary:logistic', nthread=4, scale_pos_weight=1, seed=27), \n",
    " param_grid = param_test1, scoring='f1',n_jobs=4,iid=False, cv=10)\n",
    "gsearch1.fit(train_data1, train_target1)\n",
    "gsearch1.grid_scores_, gsearch1.best_params_, gsearch1.best_score_"
   ]
  },
  {
   "cell_type": "code",
   "execution_count": null,
   "metadata": {
    "_cell_guid": "f76204e5-1f82-4136-a27a-4e2b49ed4d1f",
    "_uuid": "06b14efe20280f09ae92a49863beb6f9154c5560",
    "collapsed": true,
    "deletable": true,
    "editable": true
   },
   "outputs": [],
   "source": [
    "xgb2 = XGBClassifier(\n",
    " learning_rate =0.1,\n",
    " n_estimators=120,\n",
    " max_depth=3,\n",
    " min_child_weight=5,\n",
    " gamma=0.2,\n",
    " subsample=0.8,\n",
    " colsample_bytree=0.8,\n",
    " objective= 'binary:logistic',\n",
    " nthread=4,\n",
    " scale_pos_weight=1,\n",
    " seed=27)\n",
    "modelfit(xgb2, train_data1, train_target1)"
   ]
  },
  {
   "cell_type": "code",
   "execution_count": null,
   "metadata": {
    "_cell_guid": "dcc5b18f-f5bb-4979-b7be-50444c134752",
    "_uuid": "bc142d5b9ddb40c64ccd8a25c092b12a3e0297a0",
    "collapsed": true,
    "deletable": true,
    "editable": true
   },
   "outputs": [],
   "source": [
    "param_test1 = {\n",
    " 'subsample':[i/10.0 for i in range(6,10)],\n",
    " 'colsample_bytree':[i/10.0 for i in range(6,10)]\n",
    "}\n",
    "gsearch1 = GridSearchCV(estimator = XGBClassifier( learning_rate =0.1, n_estimators=169, max_depth=9,\n",
    " min_child_weight=1, gamma=0, subsample=0.8, colsample_bytree=0.8,\n",
    " objective= 'binary:logistic', nthread=4, scale_pos_weight=1, seed=27), \n",
    " param_grid = param_test1, scoring='f1',n_jobs=4,iid=False, cv=10)\n",
    "gsearch1.fit(train_data1, train_target1)\n",
    "gsearch1.grid_scores_, gsearch1.best_params_, gsearch1.best_score_"
   ]
  },
  {
   "cell_type": "code",
   "execution_count": null,
   "metadata": {
    "_cell_guid": "a11f0e41-627f-4f58-93ee-df154f3f3efb",
    "_uuid": "f8cded8a2941d55961ee4df43dfbb751b9651e97",
    "collapsed": true,
    "deletable": true,
    "editable": true
   },
   "outputs": [],
   "source": [
    "param_test1 = {\n",
    " 'subsample':[i/100.0 for i in range(85,95,5)],\n",
    " 'colsample_bytree':[i/100.0 for i in range(75,85,5)]\n",
    "}\n",
    "gsearch1 = GridSearchCV(estimator = XGBClassifier( learning_rate =0.1, n_estimators=169, max_depth=9,\n",
    " min_child_weight=1, gamma=0, subsample=0.9, colsample_bytree=0.75,\n",
    " objective= 'binary:logistic', nthread=4, scale_pos_weight=1, seed=27), \n",
    " param_grid = param_test1, scoring='f1',n_jobs=4,iid=False, cv=10)\n",
    "gsearch1.fit(train_data1, train_target1)\n",
    "gsearch1.grid_scores_, gsearch1.best_params_, gsearch1.best_score_"
   ]
  },
  {
   "cell_type": "code",
   "execution_count": null,
   "metadata": {
    "_cell_guid": "ed663f83-b42a-42ed-b6bd-eda94db4cdfe",
    "_uuid": "c9ad57001ce75c04d5bd6545efb41824275d2592",
    "collapsed": true,
    "deletable": true,
    "editable": true
   },
   "outputs": [],
   "source": [
    "param_test1 = {\n",
    " 'reg_alpha':[0, 1e-5, 1e-2, 0.1, 1, 100]\n",
    "}\n",
    "gsearch1 = GridSearchCV(estimator = XGBClassifier( learning_rate =0.1, n_estimators=169, max_depth=9,\n",
    " min_child_weight=1, gamma=0, subsample=0.9, colsample_bytree=0.75,\n",
    " objective= 'binary:logistic', nthread=4, scale_pos_weight=1, seed=27), \n",
    " param_grid = param_test1, scoring='f1',n_jobs=4,iid=False, cv=10)\n",
    "gsearch1.fit(train_data1, train_target1)\n",
    "gsearch1.grid_scores_, gsearch1.best_params_, gsearch1.best_score_"
   ]
  },
  {
   "cell_type": "code",
   "execution_count": null,
   "metadata": {
    "_cell_guid": "c9365b09-3727-45c3-96cb-7cad589ba4b1",
    "_uuid": "49794f4f588c04dadd3af13c9ff210030ab62654",
    "collapsed": true,
    "deletable": true,
    "editable": true
   },
   "outputs": [],
   "source": [
    "param_test1 = {\n",
    " 'reg_alpha':[1e-5, 5e-5, 1e-4,]\n",
    "}\n",
    "gsearch1 = GridSearchCV(estimator = XGBClassifier( learning_rate =0.1, n_estimators=169, max_depth=9,\n",
    " min_child_weight=1, gamma=0, subsample=0.9, colsample_bytree=0.75, objective= 'binary:logistic', nthread=4, scale_pos_weight=1, seed=27), \n",
    " param_grid = param_test1, scoring='f1',n_jobs=4,iid=False, cv=10)\n",
    "gsearch1.fit(train_data1, train_target1)\n",
    "gsearch1.grid_scores_, gsearch1.best_params_, gsearch1.best_score_"
   ]
  },
  {
   "cell_type": "code",
   "execution_count": null,
   "metadata": {
    "_cell_guid": "d74672d1-6271-4b05-ac27-32c1600a242f",
    "_uuid": "7fe0cd0efcc76c6b47e1e2553fbab6ac05b4f08b",
    "collapsed": true,
    "deletable": true,
    "editable": true
   },
   "outputs": [],
   "source": [
    "xgb2 = XGBClassifier(\n",
    " learning_rate =0.1,\n",
    " n_estimators=169,\n",
    " max_depth=9,\n",
    " min_child_weight=1,\n",
    " gamma=0,\n",
    " subsample=0.9,\n",
    " colsample_bytree=0.75,\n",
    " objective= 'binary:logistic',\n",
    " nthread=4,\n",
    " scale_pos_weight=1,\n",
    " reg_alpha=1e-5,\n",
    " seed=27)\n",
    "modelfit(xgb2, train_data1, train_target1)"
   ]
  },
  {
   "cell_type": "code",
   "execution_count": null,
   "metadata": {
    "_cell_guid": "6c78271a-b5ec-496b-ac36-1d46bddeab76",
    "_uuid": "5f00c4e003f50d1c1db9e6debf3d61c97e2a4a4d",
    "collapsed": true,
    "deletable": true,
    "editable": true
   },
   "outputs": [],
   "source": [
    "# Analyze the mistake made by the model\n",
    "from sklearn.metrics import confusion_matrix\n",
    "xgb2.fit(train_data1, train_target1)\n",
    "xgb_predict = xgb2.predict(train_data1)\n",
    "confusion_matrix(train_target1, xgb_predict)"
   ]
  },
  {
   "cell_type": "code",
   "execution_count": null,
   "metadata": {
    "_cell_guid": "0ceb5871-d7b4-46d5-9333-322cbe33ad50",
    "_uuid": "e212e31f21088d031d9bcfa63c62e2ae458a3d4d",
    "collapsed": true,
    "deletable": true,
    "editable": true
   },
   "outputs": [],
   "source": [
    "xgb_predict_vali = xgb2.predict(vali_data1)\n",
    "accuracy_score(vali_target1, xgb_predict_vali)\n",
    "confusion_matrix(vali_target1, xgb_predict_vali)"
   ]
  },
  {
   "cell_type": "code",
   "execution_count": null,
   "metadata": {
    "_cell_guid": "d715510c-d6c9-4c71-8021-d3a5aadf7ddd",
    "_uuid": "9a9af63803d4b017e257442efd5dc4cc5c651af8",
    "collapsed": true,
    "deletable": true,
    "editable": true
   },
   "outputs": [],
   "source": [
    "test_data = data_rd1[data_rd1['PassengerId']>892]\n",
    "test_data.drop('Survived', axis=1, inplace=True)\n",
    "test_data.drop('PassengerId', axis=1, inplace=True)\n",
    "xgb_test_predict = xgb2.predict(test_data)\n",
    "list(xgb_test_predict)"
   ]
  },
  {
   "cell_type": "markdown",
   "metadata": {
    "_cell_guid": "4a28cdf2-4d13-4da1-84b9-a64d4572254c",
    "_uuid": "ed2d74d76c3e78d61596e00edfd790ffcae4f8df",
    "deletable": true,
    "editable": true
   },
   "source": [
    "From the confusion matrix, we could see that more true false negative case were classfied (63). This might due to the imbalance of the training data size. "
   ]
  },
  {
   "cell_type": "code",
   "execution_count": null,
   "metadata": {
    "_cell_guid": "7e3150ea-fc76-4800-8b6b-fdb1899738e9",
    "_uuid": "4168ae23929f2fac2f34491f0caa9096a9262ec3",
    "collapsed": true,
    "deletable": true,
    "editable": true
   },
   "outputs": [],
   "source": [
    "# Try using KNN to vote for the label\n",
    "train_data1_reduced =  pd.concat([train_data1['Norm_fare'], train_data1['Age'], train_data1['Group_size'], train_data1['Sex'], train_data1['Pclass']], axis=1, keys=['Norm_fare', 'Age', 'Group_size', 'Sex', 'Pclass'])\n",
    "from sklearn.preprocessing import StandardScaler\n",
    "\n",
    "scaler = StandardScaler()\n",
    "train_data1_scaled = scaler.fit_transform(train_data1_reduced)"
   ]
  },
  {
   "cell_type": "code",
   "execution_count": null,
   "metadata": {
    "_cell_guid": "dd28aa4c-937a-41e5-9398-490297db6f69",
    "_uuid": "3029b28d8f774e45e2b3dc013c4fb0b06e5880bf",
    "collapsed": true,
    "deletable": true,
    "editable": true
   },
   "outputs": [],
   "source": [
    "from sklearn.neighbors import KNeighborsClassifier\n",
    "param_grid={'n_neighbors': np.arange(3,7,1),}\n",
    "knn_clf = KNeighborsClassifier()\n",
    "grid_search = GridSearchCV(knn_clf, param_grid, cv=10, scoring='accuracy')\n",
    "\n",
    "grid_search.fit(train_data1_scaled, train_target1)\n",
    "print(grid_search.best_params_, grid_search.best_score_)"
   ]
  },
  {
   "cell_type": "code",
   "execution_count": null,
   "metadata": {
    "_cell_guid": "1b57daf7-fec0-4a71-9baa-0fc343b7c4ae",
    "_uuid": "99a0f355443fbcf1f54984df52135163b1265626",
    "collapsed": true,
    "deletable": true,
    "editable": true
   },
   "outputs": [],
   "source": [
    "from sklearn.neural_network import MLPClassifier\n",
    "\n",
    "MLP_clf = MLPClassifier(solver='lbfgs', alpha=2e-4, hidden_layer_sizes=(7, 3), random_state=1)\n",
    "\n",
    "MLP_clf.fit(train_data1_scaled, train_target1)"
   ]
  },
  {
   "cell_type": "code",
   "execution_count": null,
   "metadata": {
    "_cell_guid": "239fb58b-e858-476a-95cd-604647f9e274",
    "_uuid": "3d9d937c486f18ee4c990bfb878da437f9d0363d",
    "collapsed": true,
    "deletable": true,
    "editable": true
   },
   "outputs": [],
   "source": [
    "train_predict=MLP_clf.predict(train_data1_scaled)\n",
    "\n",
    "accuracy_score(train_predict, train_target1)"
   ]
  },
  {
   "cell_type": "code",
   "execution_count": null,
   "metadata": {
    "_cell_guid": "e3c6b97e-10dd-498a-a4b9-6d7356ed5991",
    "_uuid": "c7c91fb35f7dc346e1c977771420ef95f5c69f04",
    "collapsed": true,
    "deletable": true,
    "editable": true
   },
   "outputs": [],
   "source": [
    "# Perform cross validation on MLP\n",
    "\n"
   ]
  }
 ],
 "metadata": {
  "kernelspec": {
   "display_name": "Python 3",
   "language": "python",
   "name": "python3"
  },
  "language_info": {
   "codemirror_mode": {
    "name": "ipython",
    "version": 3
   },
   "file_extension": ".py",
   "mimetype": "text/x-python",
   "name": "python",
   "nbconvert_exporter": "python",
   "pygments_lexer": "ipython3",
   "version": "3.5.2"
  }
 },
 "nbformat": 4,
 "nbformat_minor": 1
}
