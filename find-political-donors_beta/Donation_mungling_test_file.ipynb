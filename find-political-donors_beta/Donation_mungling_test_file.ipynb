{
 "cells": [
  {
   "cell_type": "code",
   "execution_count": 22,
   "metadata": {
    "collapsed": false,
    "deletable": true,
    "editable": true
   },
   "outputs": [],
   "source": [
    "import numpy as np"
   ]
  },
  {
   "cell_type": "code",
   "execution_count": 11,
   "metadata": {
    "collapsed": false,
    "deletable": true,
    "editable": true
   },
   "outputs": [],
   "source": [
    "text_file = open('itcont.txt')\n",
    "itcont_list = text_file.read().split('\\n')"
   ]
  },
  {
   "cell_type": "code",
   "execution_count": 64,
   "metadata": {
    "collapsed": false,
    "deletable": true,
    "editable": true
   },
   "outputs": [],
   "source": [
    "def file_opener(filename):\n",
    "    \"\"\"\n",
    "    input: name and path of itcont.txt file\n",
    "    output: list of entries\n",
    "    \"\"\"\n",
    "    text_file = open(filename)\n",
    "    itcont_list = text_file.read().split('\\n')\n",
    "    return itcont_list\n",
    "\n",
    "# Provide several solutions based on potential complication in the data\n",
    "# Location based: Given the information that the incoming data will always follow the FEC format, we will used | splitter and location\n",
    "# To prepare the data\n",
    "def info_extract(FEC_list):\n",
    "    \"\"\"\n",
    "    input: list of strings, representing every single enter from the input file,\n",
    "    output: length 5 dict\n",
    "    \"\"\"\n",
    "    # Check if length of the list is correct:\n",
    "    if len(FEC_list) < 21:\n",
    "        return\n",
    "\n",
    "    if (len(FEC_list[15]) == 0) & (len(FEC_list[0]) > 0) & (len(FEC_list[13]) > 0) & (len(FEC_list[14]) > 0):\n",
    "        key_info = {}\n",
    "        key_info['CMTE_ID'] = FEC_list[0]\n",
    "        key_info['ZIP_CODE'] = FEC_list[10][:5]\n",
    "        key_info['TRANSACTION_DT'] = FEC_list[13]\n",
    "        key_info['TRANSACTION_AMT'] = FEC_list[14]\n",
    "        key_info['OTHER_ID'] = FEC_list[15]\n",
    "        return key_info\n",
    "    else:\n",
    "        return\n",
    "\n",
    "\n",
    "def median_date(itcont_list):\n",
    "    itcont = '|'.join(itcont_list).split('|')\n",
    "\n",
    "    # Obtain the index with valid data info\n",
    "    num_entry = int(len(itcont) / 21)\n",
    "\n",
    "    # Find the entries with Other_Id as [] and TRANS_AMT, TRANS_DT of correct format:\n",
    "\n",
    "    key_id = [i for i in range(num_entry) if\n",
    "              (itcont[i * 21 + 15] == '') & (date_format(itcont[i * 21 + 13], itcont[i * 21 + 14])) & (\n",
    "              len(itcont[i * 21]) > 0)]\n",
    "\n",
    "    # Generate combination keys with CMTE_ID and TRANS_DT\n",
    "    keys = [itcont[i * 21] + itcont[i * 21 + 13] for i in key_id]\n",
    "    unique_key = list(set(keys))\n",
    "    unique_key.sort()\n",
    "    output_by_date = []\n",
    "    for j in range(len(unique_key)):\n",
    "        indices = [key_id[i] for i, x in enumerate(keys) if x == unique_key[j]]\n",
    "        trans_num = len(indices)\n",
    "        trans_amt = [int(itcont[i * 21 + 14]) for i in indices]\n",
    "        trans_amt.sort()\n",
    "        ttl_trans = sum(trans_amt)\n",
    "        if len(trans_amt) == 1:\n",
    "            median_trans = round(trans_amt[0])\n",
    "        elif len(trans_amt) == 2:\n",
    "            median_trans = round(ttl_trans / 2)\n",
    "        elif len(trans_amt) % 2 == 0:\n",
    "            mid_idx = int(len(trans_amt) / 2 - 1)\n",
    "            median_trans = round(sum(trans_amt[mid_idx:mid_idx + 2]) / 2)\n",
    "        else:\n",
    "            mid_idx = int(len(trans_amt) / 2) + 1\n",
    "            median_trans = round(trans_amt[mid_idx])\n",
    "        len_key = len(unique_key[j])\n",
    "        output_by_date.append('|'.join(\n",
    "            [unique_key[j][:len_key - 8], unique_key[j][len_key - 8:], str(median_trans), str(trans_num),\n",
    "             str(ttl_trans)]))\n",
    "\n",
    "    return output_by_date\n",
    "\n",
    "def update_count_arr_below(trans_num, count_arr_below, run_median, trans_amt):\n",
    "    if trans_num == 2:\n",
    "        count_arr_below_max = min(run_median, trans_amt)\n",
    "        count_arr_below = [0] * (count_arr_below_max + 1)  # Given that round is always up,put the small array first\n",
    "        count_arr_below[count_arr_below_max] += 1\n",
    "        run_median = 0  # Not contributing number to be the new median\n",
    "    elif trans_num % 2 == 1:\n",
    "        if trans_amt > len(count_arr_below) - 1:\n",
    "            run_median = 0\n",
    "        elif trans_amt <= len(count_arr_below) - 1:\n",
    "            run_median = len(count_arr_below) - 1  # Pop-out max value in count_arr_below as the median\n",
    "            count_arr_below[trans_amt] += 1\n",
    "            count_arr_below[len(count_arr_below) - 1] -= 1\n",
    "            if count_arr_below[len(count_arr_below) - 1] == 0:\n",
    "                count_arr_below = shrink_count_arr_below(count_arr_below)\n",
    "    elif trans_num % 2 == 0:\n",
    "        if trans_amt <= run_median:  # pop in trans_amt into count_arr_below, run_median will be in count_arr_above\n",
    "            count_arr_below = pop_in_arr_below(count_arr_below, trans_amt)\n",
    "        else:\n",
    "            count_arr_below = pop_in_arr_below(count_arr_below, run_median)\n",
    "        run_median = 0\n",
    "\n",
    "    return count_arr_below, run_median\n",
    "\n",
    "\n",
    "def update_count_arr_above(trans_num, count_arr_above, count_arr_above_min, run_median, trans_amt):\n",
    "    if trans_num == 2:\n",
    "        count_arr_above_min = max(run_median, trans_amt)\n",
    "        count_arr_above = [0]\n",
    "        count_arr_above[0] += 1\n",
    "        run_median = 0  # Not contributing number to be the new median\n",
    "    elif trans_num % 2 == 1:\n",
    "        if trans_amt < count_arr_above_min:\n",
    "            run_median = 0\n",
    "        elif trans_amt >= count_arr_above_min:\n",
    "            run_median = count_arr_above_min  # Pop-out min value in count_arr_above as the median\n",
    "            count_arr_above, count_arr_above_min = pop_in_arr_above(count_arr_above, count_arr_above_min, trans_amt)\n",
    "            count_arr_above[0] -= 1\n",
    "            if count_arr_above[0] == 0:\n",
    "                count_arr_above, count_arr_above_min = shrink_count_arr_above(count_arr_above, count_arr_above_min)\n",
    "    elif trans_num % 2 == 0:\n",
    "        if trans_amt <= run_median:  # Pop in run_median in count_arr_above\n",
    "            count_arr_above, count_arr_above_min = pop_in_arr_above(count_arr_above, count_arr_above_min, run_median)\n",
    "        else:\n",
    "            count_arr_above, count_arr_above_min = pop_in_arr_above(count_arr_above, count_arr_above_min, trans_amt)\n",
    "        run_median = 0\n",
    "    return count_arr_above, count_arr_above_min, run_median\n",
    "\n",
    "\n",
    "def pop_in_arr_below(count_arr_below, value):  # Pop in a value into the count_arr_low\n",
    "    if value <= len(count_arr_below) - 1:\n",
    "        count_arr_below[value] += 1\n",
    "    else:\n",
    "        count_arr_below_max = len(count_arr_below) - 1\n",
    "        count_arr_below_new = [0] * (value + 1)\n",
    "        count_arr_below_new[:count_arr_below_max + 1] = count_arr_below\n",
    "        count_arr_below = count_arr_below_new\n",
    "        count_arr_below[len(count_arr_below) - 1] += 1\n",
    "\n",
    "    return count_arr_below\n",
    "\n",
    "\n",
    "def pop_in_arr_above(count_arr_above, count_arr_above_min, value):\n",
    "    if count_arr_above_min <= value < count_arr_above_min + len(count_arr_above):\n",
    "        min_diff = value - count_arr_above_min \n",
    "        count_arr_above[min_diff] += 1\n",
    "    elif value >= count_arr_above_min + len(count_arr_above):\n",
    "        min_diff = value - (count_arr_above_min + len(count_arr_above) - 1)\n",
    "        count_arr_above_new = [0] * (len(count_arr_above) + min_diff)\n",
    "        count_arr_above_new[:len(count_arr_above)] = count_arr_above\n",
    "        count_arr_above_new[len(count_arr_above_new) - 1] += 1\n",
    "        count_arr_above = count_arr_above_new\n",
    "    else:\n",
    "        min_diff = count_arr_above_min - value\n",
    "        count_arr_above_new = [0] * (min_diff + len(count_arr_above))\n",
    "        count_arr_above_new[count_arr_above_min - value:] = count_arr_above\n",
    "        count_arr_above = count_arr_above_new\n",
    "        count_arr_above[0] += 1\n",
    "        count_arr_above_min = value\n",
    "    return count_arr_above, count_arr_above_min\n",
    "\n",
    "\n",
    "def shrink_count_arr_below(count_arr_below):\n",
    "    while count_arr_below[len(count_arr_below) - 1] == 0:\n",
    "        count_arr_below = count_arr_below[:len(count_arr_below) - 1]\n",
    "    return count_arr_below\n",
    "\n",
    "\n",
    "def shrink_count_arr_above(count_arr_above, count_arr_above_min):\n",
    "    while count_arr_above[0] == 0:\n",
    "        count_arr_above = count_arr_above[1:len(count_arr_above)]\n",
    "        count_arr_above_min += 1\n",
    "    return count_arr_above, count_arr_above_min\n",
    "\n",
    "\n",
    "def round_half(x):\n",
    "    if x - int(x) < 0.5:\n",
    "        return int(x)\n",
    "    else:\n",
    "        return int(x) + 1\n",
    "\n",
    "\n",
    "def date_format(date_str, amt_str):\n",
    "    \"\"\"\n",
    "        date_str: string to check\n",
    "    \"\"\"\n",
    "    try:\n",
    "        month = int(date_str[:2])\n",
    "        date = int(date_str[2:4])\n",
    "        yr = int(date_str[-4:])\n",
    "        amt = int(amt_str)\n",
    "\n",
    "        if (0 < month < 12) & (0 < date < 32) & (1700 < yr < 2018):\n",
    "            return True\n",
    "        else:\n",
    "            return False\n",
    "    except:\n",
    "        return False\n",
    "\n",
    "def running_median(trans_amt, list_zip=[]):\n",
    "    \"\"\"\n",
    "    Function for generating running median of a sequence data input\n",
    "    \"\"\"\n",
    "    if len(list_zip) is 0:\n",
    "        trans_num = 1\n",
    "        count_arr_below = []  # Store heap as counting sort array for below median\n",
    "        count_arr_above = []  # Store heap as counting sort array for above median\n",
    "        count_arr_above_min = 0  # For the above heap, number that represent lowest entry\n",
    "        run_median = trans_amt\n",
    "        ttl_amt = trans_amt\n",
    "    else:\n",
    "        # Retrieve information from dictionary\n",
    "        count_arr_below = list_zip[0]\n",
    "        count_arr_above = list_zip[1]\n",
    "        count_arr_above_min = list_zip[2]\n",
    "        run_median = list_zip[3]\n",
    "        trans_num = list_zip[4]\n",
    "        ttl_amt = list_zip[5]\n",
    "\n",
    "        # Update trans_num and ttl_amt\n",
    "        trans_num = trans_num + 1\n",
    "        ttl_amt = ttl_amt + trans_amt\n",
    "\n",
    "        # Update count_arr_below, count_arr_above, count_arr_above_min\n",
    "        count_arr_below, run_median_below = update_count_arr_below(trans_num, count_arr_below, run_median, trans_amt)\n",
    "        count_arr_above, count_arr_above_min, run_median_above = update_count_arr_above(trans_num, count_arr_above,\n",
    "                                                                                        count_arr_above_min, run_median,\n",
    "                                                                                        trans_amt)\n",
    "        count_arr_below_max = len(count_arr_below) - 1\n",
    "\n",
    "        # Update run median\n",
    "\n",
    "        if run_median_below + run_median_above == 0:\n",
    "            if trans_num % 2 == 0:\n",
    "                run_median = round_half((count_arr_below_max + count_arr_above_min) / 2)\n",
    "            else:\n",
    "                run_median = trans_amt\n",
    "        elif run_median_below != 0:\n",
    "            run_median = run_median_below\n",
    "        else:\n",
    "            run_median = run_median_above\n",
    "    print(trans_num, trans_amt, count_arr_below, count_arr_above_min, count_arr_above,  run_median)\n",
    "    list_zip = [count_arr_below, count_arr_above, count_arr_above_min, run_median, trans_num, ttl_amt]\n",
    "    return run_median, trans_num, ttl_amt, list_zip"
   ]
  },
  {
   "cell_type": "code",
   "execution_count": 65,
   "metadata": {
    "collapsed": true
   },
   "outputs": [],
   "source": [
    "# Count sort implementation of the running median\n",
    "calc=[]\n",
    "def median_zip(itcont_list):\n",
    "    input_len = len(itcont_list)\n",
    "    dict_zip = {}\n",
    "    output_by_zip = []\n",
    "\n",
    "    for i in range(input_len):  # Perform serial processing about the data\n",
    "        itcont = itcont_list[i].split('|')\n",
    "        core_info = info_extract(itcont)\n",
    "        if core_info is None:  # Check if the entry is non-empty\n",
    "            continue\n",
    "\n",
    "        # Check if ZIP information is valid\n",
    "        try:\n",
    "            len_check = core_info['ZIP_CODE'][4]  # check if 'ZIP_CODE' has at least 5 characters\n",
    "            zip_code = int(core_info['ZIP_CODE'])  # check if 'ZIP_CODE' contains only digit\n",
    "            trans_amt = int(core_info['TRANSACTION_AMT'])  # check if 'TRANSACTION_AMT' contains only digit\n",
    "        except:\n",
    "            continue\n",
    "\n",
    "        # Create one dictionanry for each recipient and zip\n",
    "        key = core_info['CMTE_ID'] + core_info['ZIP_CODE']\n",
    "        # Update the dictionary with new transaction amount\n",
    "        if key not in dict_zip:\n",
    "            list_zip = []\n",
    "        else:\n",
    "            list_zip = dict_zip[key]\n",
    "\n",
    "        run_median, trans_num, ttl_amt, dict_zip[key] = running_median(trans_amt, list_zip)\n",
    "        # Create the first entry for the key\n",
    "        # Export the current information\n",
    "        # output_by_zip.append(str(run_median))\n",
    "        calc.append(trans_amt)\n",
    "        output_by_zip.append(\n",
    "            '|'.join([core_info['CMTE_ID'], core_info['ZIP_CODE'], str(run_median), str(trans_num), str(ttl_amt)]))\n",
    "    return output_by_zip, calc"
   ]
  },
  {
   "cell_type": "code",
   "execution_count": 66,
   "metadata": {
    "collapsed": false
   },
   "outputs": [
    {
     "data": {
      "text/plain": [
       "[10, 11, 19, 32, 38, 47, 72, 75]"
      ]
     },
     "execution_count": 66,
     "metadata": {},
     "output_type": "execute_result"
    }
   ],
   "source": [
    "a = [72,11,75,38,32,10,19,47]\n",
    "a.sort()\n",
    "a"
   ]
  },
  {
   "cell_type": "code",
   "execution_count": 67,
   "metadata": {
    "collapsed": false,
    "scrolled": true
   },
   "outputs": [
    {
     "name": "stdout",
     "output_type": "stream",
     "text": [
      "1 72 [] 0 [] 72\n",
      "2 11 [0, 0, 0, 0, 0, 0, 0, 0, 0, 0, 0, 1] 72 [1] 42\n",
      "3 75 [0, 0, 0, 0, 0, 0, 0, 0, 0, 0, 0, 1] 75 [1] 72\n",
      "4 38 [0, 0, 0, 0, 0, 0, 0, 0, 0, 0, 0, 1, 0, 0, 0, 0, 0, 0, 0, 0, 0, 0, 0, 0, 0, 0, 0, 0, 0, 0, 0, 0, 0, 0, 0, 0, 0, 0, 1] 72 [1, 0, 0, 1] 55\n",
      "5 32 [0, 0, 0, 0, 0, 0, 0, 0, 0, 0, 0, 1, 0, 0, 0, 0, 0, 0, 0, 0, 0, 0, 0, 0, 0, 0, 0, 0, 0, 0, 0, 0, 1] 72 [1, 0, 0, 1] 38\n",
      "6 10 [0, 0, 0, 0, 0, 0, 0, 0, 0, 0, 1, 1, 0, 0, 0, 0, 0, 0, 0, 0, 0, 0, 0, 0, 0, 0, 0, 0, 0, 0, 0, 0, 1] 38 [1, 0, 0, 0, 0, 0, 0, 0, 0, 0, 0, 0, 0, 0, 0, 0, 0, 0, 0, 0, 0, 0, 0, 0, 0, 0, 0, 0, 0, 0, 0, 0, 0, 0, 1, 0, 0, 1] 35\n",
      "7 19 [0, 0, 0, 0, 0, 0, 0, 0, 0, 0, 1, 1, 0, 0, 0, 0, 0, 0, 0, 1] 38 [1, 0, 0, 0, 0, 0, 0, 0, 0, 0, 0, 0, 0, 0, 0, 0, 0, 0, 0, 0, 0, 0, 0, 0, 0, 0, 0, 0, 0, 0, 0, 0, 0, 0, 1, 0, 0, 1] 32\n",
      "8 47 [0, 0, 0, 0, 0, 0, 0, 0, 0, 0, 1, 1, 0, 0, 0, 0, 0, 0, 0, 1, 0, 0, 0, 0, 0, 0, 0, 0, 0, 0, 0, 0, 1] 38 [1, 0, 0, 0, 0, 0, 0, 0, 0, 1, 0, 0, 0, 0, 0, 0, 0, 0, 0, 0, 0, 0, 0, 0, 0, 0, 0, 0, 0, 0, 0, 0, 0, 0, 1, 0, 0, 1] 35\n",
      "9 78 [0, 0, 0, 0, 0, 0, 0, 0, 0, 0, 1, 1, 0, 0, 0, 0, 0, 0, 0, 1, 0, 0, 0, 0, 0, 0, 0, 0, 0, 0, 0, 0, 1] 47 [1, 0, 0, 0, 0, 0, 0, 0, 0, 0, 0, 0, 0, 0, 0, 0, 0, 0, 0, 0, 0, 0, 0, 0, 0, 1, 0, 0, 1, 0, 0, 1] 38\n",
      "10 4 [0, 0, 0, 0, 1, 0, 0, 0, 0, 0, 1, 1, 0, 0, 0, 0, 0, 0, 0, 1, 0, 0, 0, 0, 0, 0, 0, 0, 0, 0, 0, 0, 1] 38 [1, 0, 0, 0, 0, 0, 0, 0, 0, 1, 0, 0, 0, 0, 0, 0, 0, 0, 0, 0, 0, 0, 0, 0, 0, 0, 0, 0, 0, 0, 0, 0, 0, 0, 1, 0, 0, 1, 0, 0, 1] 35\n",
      "11 71 [0, 0, 0, 0, 1, 0, 0, 0, 0, 0, 1, 1, 0, 0, 0, 0, 0, 0, 0, 1, 0, 0, 0, 0, 0, 0, 0, 0, 0, 0, 0, 0, 1] 47 [1, 0, 0, 0, 0, 0, 0, 0, 0, 0, 0, 0, 0, 0, 0, 0, 0, 0, 0, 0, 0, 0, 0, 0, 1, 1, 0, 0, 1, 0, 0, 1] 38\n",
      "12 34 [0, 0, 0, 0, 1, 0, 0, 0, 0, 0, 1, 1, 0, 0, 0, 0, 0, 0, 0, 1, 0, 0, 0, 0, 0, 0, 0, 0, 0, 0, 0, 0, 1, 0, 1] 38 [1, 0, 0, 0, 0, 0, 0, 0, 0, 1, 0, 0, 0, 0, 0, 0, 0, 0, 0, 0, 0, 0, 0, 0, 0, 0, 0, 0, 0, 0, 0, 0, 0, 1, 1, 0, 0, 1, 0, 0, 1] 36\n",
      "13 37 [0, 0, 0, 0, 1, 0, 0, 0, 0, 0, 1, 1, 0, 0, 0, 0, 0, 0, 0, 1, 0, 0, 0, 0, 0, 0, 0, 0, 0, 0, 0, 0, 1, 0, 1] 38 [1, 0, 0, 0, 0, 0, 0, 0, 0, 1, 0, 0, 0, 0, 0, 0, 0, 0, 0, 0, 0, 0, 0, 0, 0, 0, 0, 0, 0, 0, 0, 0, 0, 1, 1, 0, 0, 1, 0, 0, 1] 37\n",
      "14 78 [0, 0, 0, 0, 1, 0, 0, 0, 0, 0, 1, 1, 0, 0, 0, 0, 0, 0, 0, 1, 0, 0, 0, 0, 0, 0, 0, 0, 0, 0, 0, 0, 1, 0, 1, 0, 0, 1] 38 [1, 0, 0, 0, 0, 0, 0, 0, 0, 1, 0, 0, 0, 0, 0, 0, 0, 0, 0, 0, 0, 0, 0, 0, 0, 0, 0, 0, 0, 0, 0, 0, 0, 1, 1, 0, 0, 1, 0, 0, 2] 38\n",
      "15 1 [0, 1, 0, 0, 1, 0, 0, 0, 0, 0, 1, 1, 0, 0, 0, 0, 0, 0, 0, 1, 0, 0, 0, 0, 0, 0, 0, 0, 0, 0, 0, 0, 1, 0, 1] 38 [1, 0, 0, 0, 0, 0, 0, 0, 0, 1, 0, 0, 0, 0, 0, 0, 0, 0, 0, 0, 0, 0, 0, 0, 0, 0, 0, 0, 0, 0, 0, 0, 0, 1, 1, 0, 0, 1, 0, 0, 2] 37\n",
      "16 60 [0, 1, 0, 0, 1, 0, 0, 0, 0, 0, 1, 1, 0, 0, 0, 0, 0, 0, 0, 1, 0, 0, 0, 0, 0, 0, 0, 0, 0, 0, 0, 0, 1, 0, 1, 0, 0, 1] 38 [1, 0, 0, 0, 0, 0, 0, 0, 0, 1, 0, 0, 0, 0, 0, 0, 0, 0, 0, 0, 0, 0, 1, 0, 0, 0, 0, 0, 0, 0, 0, 0, 0, 1, 1, 0, 0, 1, 0, 0, 2] 38\n",
      "17 53 [0, 1, 0, 0, 1, 0, 0, 0, 0, 0, 1, 1, 0, 0, 0, 0, 0, 0, 0, 1, 0, 0, 0, 0, 0, 0, 0, 0, 0, 0, 0, 0, 1, 0, 1, 0, 0, 1] 47 [1, 0, 0, 0, 0, 0, 1, 0, 0, 0, 0, 0, 0, 1, 0, 0, 0, 0, 0, 0, 0, 0, 0, 0, 1, 1, 0, 0, 1, 0, 0, 2] 38\n",
      "18 15 [0, 1, 0, 0, 1, 0, 0, 0, 0, 0, 1, 1, 0, 0, 0, 1, 0, 0, 0, 1, 0, 0, 0, 0, 0, 0, 0, 0, 0, 0, 0, 0, 1, 0, 1, 0, 0, 1] 38 [1, 0, 0, 0, 0, 0, 0, 0, 0, 1, 0, 0, 0, 0, 0, 1, 0, 0, 0, 0, 0, 0, 1, 0, 0, 0, 0, 0, 0, 0, 0, 0, 0, 1, 1, 0, 0, 1, 0, 0, 2] 38\n",
      "19 5 [0, 1, 0, 0, 1, 1, 0, 0, 0, 0, 1, 1, 0, 0, 0, 1, 0, 0, 0, 1, 0, 0, 0, 0, 0, 0, 0, 0, 0, 0, 0, 0, 1, 0, 1] 38 [1, 0, 0, 0, 0, 0, 0, 0, 0, 1, 0, 0, 0, 0, 0, 1, 0, 0, 0, 0, 0, 0, 1, 0, 0, 0, 0, 0, 0, 0, 0, 0, 0, 1, 1, 0, 0, 1, 0, 0, 2] 37\n",
      "20 87 [0, 1, 0, 0, 1, 1, 0, 0, 0, 0, 1, 1, 0, 0, 0, 1, 0, 0, 0, 1, 0, 0, 0, 0, 0, 0, 0, 0, 0, 0, 0, 0, 1, 0, 1, 0, 0, 1] 38 [1, 0, 0, 0, 0, 0, 0, 0, 0, 1, 0, 0, 0, 0, 0, 1, 0, 0, 0, 0, 0, 0, 1, 0, 0, 0, 0, 0, 0, 0, 0, 0, 0, 1, 1, 0, 0, 1, 0, 0, 2, 0, 0, 0, 0, 0, 0, 0, 0, 1] 38\n",
      "21 53 [0, 1, 0, 0, 1, 1, 0, 0, 0, 0, 1, 1, 0, 0, 0, 1, 0, 0, 0, 1, 0, 0, 0, 0, 0, 0, 0, 0, 0, 0, 0, 0, 1, 0, 1, 0, 0, 1] 47 [1, 0, 0, 0, 0, 0, 2, 0, 0, 0, 0, 0, 0, 1, 0, 0, 0, 0, 0, 0, 0, 0, 0, 0, 1, 1, 0, 0, 1, 0, 0, 2, 0, 0, 0, 0, 0, 0, 0, 0, 1] 38\n",
      "22 31 [0, 1, 0, 0, 1, 1, 0, 0, 0, 0, 1, 1, 0, 0, 0, 1, 0, 0, 0, 1, 0, 0, 0, 0, 0, 0, 0, 0, 0, 0, 0, 1, 1, 0, 1, 0, 0, 1] 38 [1, 0, 0, 0, 0, 0, 0, 0, 0, 1, 0, 0, 0, 0, 0, 2, 0, 0, 0, 0, 0, 0, 1, 0, 0, 0, 0, 0, 0, 0, 0, 0, 0, 1, 1, 0, 0, 1, 0, 0, 2, 0, 0, 0, 0, 0, 0, 0, 0, 1] 38\n",
      "23 10 [0, 1, 0, 0, 1, 1, 0, 0, 0, 0, 2, 1, 0, 0, 0, 1, 0, 0, 0, 1, 0, 0, 0, 0, 0, 0, 0, 0, 0, 0, 0, 1, 1, 0, 1] 38 [1, 0, 0, 0, 0, 0, 0, 0, 0, 1, 0, 0, 0, 0, 0, 2, 0, 0, 0, 0, 0, 0, 1, 0, 0, 0, 0, 0, 0, 0, 0, 0, 0, 1, 1, 0, 0, 1, 0, 0, 2, 0, 0, 0, 0, 0, 0, 0, 0, 1] 37\n",
      "24 49 [0, 1, 0, 0, 1, 1, 0, 0, 0, 0, 2, 1, 0, 0, 0, 1, 0, 0, 0, 1, 0, 0, 0, 0, 0, 0, 0, 0, 0, 0, 0, 1, 1, 0, 1, 0, 0, 1] 38 [1, 0, 0, 0, 0, 0, 0, 0, 0, 1, 0, 1, 0, 0, 0, 2, 0, 0, 0, 0, 0, 0, 1, 0, 0, 0, 0, 0, 0, 0, 0, 0, 0, 1, 1, 0, 0, 1, 0, 0, 2, 0, 0, 0, 0, 0, 0, 0, 0, 1] 38\n",
      "25 98 [0, 1, 0, 0, 1, 1, 0, 0, 0, 0, 2, 1, 0, 0, 0, 1, 0, 0, 0, 1, 0, 0, 0, 0, 0, 0, 0, 0, 0, 0, 0, 1, 1, 0, 1, 0, 0, 1] 47 [1, 0, 1, 0, 0, 0, 2, 0, 0, 0, 0, 0, 0, 1, 0, 0, 0, 0, 0, 0, 0, 0, 0, 0, 1, 1, 0, 0, 1, 0, 0, 2, 0, 0, 0, 0, 0, 0, 0, 0, 1, 0, 0, 0, 0, 0, 0, 0, 0, 0, 0, 1] 38\n",
      "26 25 [0, 1, 0, 0, 1, 1, 0, 0, 0, 0, 2, 1, 0, 0, 0, 1, 0, 0, 0, 1, 0, 0, 0, 0, 0, 1, 0, 0, 0, 0, 0, 1, 1, 0, 1, 0, 0, 1] 38 [1, 0, 0, 0, 0, 0, 0, 0, 0, 1, 0, 1, 0, 0, 0, 2, 0, 0, 0, 0, 0, 0, 1, 0, 0, 0, 0, 0, 0, 0, 0, 0, 0, 1, 1, 0, 0, 1, 0, 0, 2, 0, 0, 0, 0, 0, 0, 0, 0, 1, 0, 0, 0, 0, 0, 0, 0, 0, 0, 0, 1] 38\n",
      "27 61 [0, 1, 0, 0, 1, 1, 0, 0, 0, 0, 2, 1, 0, 0, 0, 1, 0, 0, 0, 1, 0, 0, 0, 0, 0, 1, 0, 0, 0, 0, 0, 1, 1, 0, 1, 0, 0, 1] 47 [1, 0, 1, 0, 0, 0, 2, 0, 0, 0, 0, 0, 0, 1, 1, 0, 0, 0, 0, 0, 0, 0, 0, 0, 1, 1, 0, 0, 1, 0, 0, 2, 0, 0, 0, 0, 0, 0, 0, 0, 1, 0, 0, 0, 0, 0, 0, 0, 0, 0, 0, 1] 38\n",
      "28 95 [0, 1, 0, 0, 1, 1, 0, 0, 0, 0, 2, 1, 0, 0, 0, 1, 0, 0, 0, 1, 0, 0, 0, 0, 0, 1, 0, 0, 0, 0, 0, 1, 1, 0, 1, 0, 0, 1, 1] 47 [1, 0, 1, 0, 0, 0, 2, 0, 0, 0, 0, 0, 0, 1, 1, 0, 0, 0, 0, 0, 0, 0, 0, 0, 1, 1, 0, 0, 1, 0, 0, 2, 0, 0, 0, 0, 0, 0, 0, 0, 1, 0, 0, 0, 0, 0, 0, 0, 1, 0, 0, 1] 43\n"
     ]
    }
   ],
   "source": [
    "output_zip, calc = median_zip(itcont_list)\n",
    "# output_zip"
   ]
  },
  {
   "cell_type": "code",
   "execution_count": 58,
   "metadata": {
    "collapsed": false
   },
   "outputs": [
    {
     "data": {
      "text/plain": [
       "42.5"
      ]
     },
     "execution_count": 58,
     "metadata": {},
     "output_type": "execute_result"
    }
   ],
   "source": [
    "np.median(calc)"
   ]
  },
  {
   "cell_type": "code",
   "execution_count": 59,
   "metadata": {
    "collapsed": false
   },
   "outputs": [
    {
     "data": {
      "text/plain": [
       "28"
      ]
     },
     "execution_count": 59,
     "metadata": {},
     "output_type": "execute_result"
    }
   ],
   "source": [
    "len(calc)"
   ]
  },
  {
   "cell_type": "code",
   "execution_count": 49,
   "metadata": {
    "collapsed": false
   },
   "outputs": [
    {
     "data": {
      "text/plain": [
       "[1, 4, 5, 10, 10, 11, 15, 19, 25, 31, 32, 34, 37, 38]"
      ]
     },
     "execution_count": 49,
     "metadata": {},
     "output_type": "execute_result"
    }
   ],
   "source": [
    "calc.sort()\n",
    "calc[:14]"
   ]
  },
  {
   "cell_type": "code",
   "execution_count": 48,
   "metadata": {
    "collapsed": false
   },
   "outputs": [
    {
     "data": {
      "text/plain": [
       "[47, 49, 53, 53, 60, 61, 71, 72, 75, 78, 78, 87, 95, 98]"
      ]
     },
     "execution_count": 48,
     "metadata": {},
     "output_type": "execute_result"
    }
   ],
   "source": [
    "calc[14:]"
   ]
  },
  {
   "cell_type": "code",
   "execution_count": 24,
   "metadata": {
    "collapsed": false,
    "deletable": true,
    "editable": true,
    "scrolled": true
   },
   "outputs": [
    {
     "name": "stdout",
     "output_type": "stream",
     "text": [
      "72\n",
      "42\n",
      "72\n",
      "55\n",
      "38\n",
      "35\n",
      "32\n",
      "35\n",
      "38\n",
      "35\n",
      "38\n",
      "36\n",
      "37\n",
      "38\n",
      "37\n",
      "38\n",
      "38\n",
      "38\n",
      "37\n",
      "38\n",
      "38\n",
      "38\n",
      "37\n",
      "38\n",
      "38\n",
      "38\n",
      "38\n",
      "43\n"
     ]
    }
   ],
   "source": [
    "for i in range(28):\n",
    "    a = calc[:i+1]\n",
    "    print(round_half(np.median(a)))"
   ]
  },
  {
   "cell_type": "code",
   "execution_count": 268,
   "metadata": {
    "collapsed": false,
    "deletable": true,
    "editable": true
   },
   "outputs": [
    {
     "data": {
      "text/plain": [
       "[0, 0, 0, 0, 0, 0]"
      ]
     },
     "execution_count": 268,
     "metadata": {},
     "output_type": "execute_result"
    }
   ],
   "source": [
    "a = np.range()"
   ]
  },
  {
   "cell_type": "code",
   "execution_count": 255,
   "metadata": {
    "collapsed": false,
    "deletable": true,
    "editable": true
   },
   "outputs": [
    {
     "data": {
      "text/plain": [
       "2"
      ]
     },
     "execution_count": 255,
     "metadata": {},
     "output_type": "execute_result"
    }
   ],
   "source": [
    "run_median"
   ]
  },
  {
   "cell_type": "code",
   "execution_count": 240,
   "metadata": {
    "collapsed": false,
    "deletable": true,
    "editable": true
   },
   "outputs": [
    {
     "name": "stdout",
     "output_type": "stream",
     "text": [
      "> <ipython-input-239-4ada917f2af2>(66)median_zip()\n",
      "-> if count_arr_above[0] == 0:\n",
      "(Pdb) trans_num\n",
      "4\n",
      "(Pdb) count_arr_above_min\n",
      "1\n",
      "(Pdb) count_arr_below\n",
      "[1]\n",
      "(Pdb) count_arr_above\n",
      "[0]\n",
      "(Pdb) trans_amt\n",
      "3\n",
      "(Pdb) exit\n"
     ]
    },
    {
     "ename": "BdbQuit",
     "evalue": "",
     "output_type": "error",
     "traceback": [
      "\u001b[0;31m---------------------------------------------------------------------------\u001b[0m",
      "\u001b[0;31mBdbQuit\u001b[0m                                   Traceback (most recent call last)",
      "\u001b[0;32m<ipython-input-240-a3d15d9f8a97>\u001b[0m in \u001b[0;36m<module>\u001b[0;34m()\u001b[0m\n\u001b[0;32m----> 1\u001b[0;31m \u001b[0moutput_zip\u001b[0m \u001b[0;34m=\u001b[0m \u001b[0mmedian_zip\u001b[0m\u001b[0;34m(\u001b[0m\u001b[0mitcont_list\u001b[0m\u001b[0;34m)\u001b[0m\u001b[0;34m\u001b[0m\u001b[0m\n\u001b[0m\u001b[1;32m      2\u001b[0m \u001b[0moutput_zip\u001b[0m\u001b[0;34m\u001b[0m\u001b[0m\n",
      "\u001b[0;32m<ipython-input-239-4ada917f2af2>\u001b[0m in \u001b[0;36mmedian_zip\u001b[0;34m(itcont_list)\u001b[0m\n\u001b[1;32m     64\u001b[0m                     \u001b[0mcount_arr_above\u001b[0m\u001b[0;34m[\u001b[0m\u001b[0;36m0\u001b[0m\u001b[0;34m]\u001b[0m\u001b[0;34m-=\u001b[0m\u001b[0;36m1\u001b[0m\u001b[0;34m\u001b[0m\u001b[0m\n\u001b[1;32m     65\u001b[0m                     \u001b[0mpdb\u001b[0m\u001b[0;34m.\u001b[0m\u001b[0mset_trace\u001b[0m\u001b[0;34m(\u001b[0m\u001b[0;34m)\u001b[0m\u001b[0;34m\u001b[0m\u001b[0m\n\u001b[0;32m---> 66\u001b[0;31m                     \u001b[0;32mif\u001b[0m \u001b[0mcount_arr_above\u001b[0m\u001b[0;34m[\u001b[0m\u001b[0;36m0\u001b[0m\u001b[0;34m]\u001b[0m \u001b[0;34m==\u001b[0m \u001b[0;36m0\u001b[0m\u001b[0;34m:\u001b[0m\u001b[0;34m\u001b[0m\u001b[0m\n\u001b[0m\u001b[1;32m     67\u001b[0m                         \u001b[0;32mwhile\u001b[0m \u001b[0mcount_arr_above\u001b[0m\u001b[0;34m[\u001b[0m\u001b[0;36m0\u001b[0m\u001b[0;34m]\u001b[0m\u001b[0;34m==\u001b[0m\u001b[0;36m0\u001b[0m\u001b[0;34m:\u001b[0m\u001b[0;34m\u001b[0m\u001b[0m\n\u001b[1;32m     68\u001b[0m                             \u001b[0mcount_arr_above\u001b[0m \u001b[0;34m=\u001b[0m \u001b[0mcount_arr_above\u001b[0m\u001b[0;34m[\u001b[0m\u001b[0;36m1\u001b[0m\u001b[0;34m:\u001b[0m\u001b[0mlen\u001b[0m\u001b[0;34m(\u001b[0m\u001b[0mcount_arr_above\u001b[0m\u001b[0;34m)\u001b[0m\u001b[0;34m]\u001b[0m\u001b[0;34m\u001b[0m\u001b[0m\n",
      "\u001b[0;32m<ipython-input-239-4ada917f2af2>\u001b[0m in \u001b[0;36mmedian_zip\u001b[0;34m(itcont_list)\u001b[0m\n\u001b[1;32m     64\u001b[0m                     \u001b[0mcount_arr_above\u001b[0m\u001b[0;34m[\u001b[0m\u001b[0;36m0\u001b[0m\u001b[0;34m]\u001b[0m\u001b[0;34m-=\u001b[0m\u001b[0;36m1\u001b[0m\u001b[0;34m\u001b[0m\u001b[0m\n\u001b[1;32m     65\u001b[0m                     \u001b[0mpdb\u001b[0m\u001b[0;34m.\u001b[0m\u001b[0mset_trace\u001b[0m\u001b[0;34m(\u001b[0m\u001b[0;34m)\u001b[0m\u001b[0;34m\u001b[0m\u001b[0m\n\u001b[0;32m---> 66\u001b[0;31m                     \u001b[0;32mif\u001b[0m \u001b[0mcount_arr_above\u001b[0m\u001b[0;34m[\u001b[0m\u001b[0;36m0\u001b[0m\u001b[0;34m]\u001b[0m \u001b[0;34m==\u001b[0m \u001b[0;36m0\u001b[0m\u001b[0;34m:\u001b[0m\u001b[0;34m\u001b[0m\u001b[0m\n\u001b[0m\u001b[1;32m     67\u001b[0m                         \u001b[0;32mwhile\u001b[0m \u001b[0mcount_arr_above\u001b[0m\u001b[0;34m[\u001b[0m\u001b[0;36m0\u001b[0m\u001b[0;34m]\u001b[0m\u001b[0;34m==\u001b[0m\u001b[0;36m0\u001b[0m\u001b[0;34m:\u001b[0m\u001b[0;34m\u001b[0m\u001b[0m\n\u001b[1;32m     68\u001b[0m                             \u001b[0mcount_arr_above\u001b[0m \u001b[0;34m=\u001b[0m \u001b[0mcount_arr_above\u001b[0m\u001b[0;34m[\u001b[0m\u001b[0;36m1\u001b[0m\u001b[0;34m:\u001b[0m\u001b[0mlen\u001b[0m\u001b[0;34m(\u001b[0m\u001b[0mcount_arr_above\u001b[0m\u001b[0;34m)\u001b[0m\u001b[0;34m]\u001b[0m\u001b[0;34m\u001b[0m\u001b[0m\n",
      "\u001b[0;32m/usr/lib/python3.5/bdb.py\u001b[0m in \u001b[0;36mtrace_dispatch\u001b[0;34m(self, frame, event, arg)\u001b[0m\n\u001b[1;32m     46\u001b[0m             \u001b[0;32mreturn\u001b[0m \u001b[0;31m# None\u001b[0m\u001b[0;34m\u001b[0m\u001b[0m\n\u001b[1;32m     47\u001b[0m         \u001b[0;32mif\u001b[0m \u001b[0mevent\u001b[0m \u001b[0;34m==\u001b[0m \u001b[0;34m'line'\u001b[0m\u001b[0;34m:\u001b[0m\u001b[0;34m\u001b[0m\u001b[0m\n\u001b[0;32m---> 48\u001b[0;31m             \u001b[0;32mreturn\u001b[0m \u001b[0mself\u001b[0m\u001b[0;34m.\u001b[0m\u001b[0mdispatch_line\u001b[0m\u001b[0;34m(\u001b[0m\u001b[0mframe\u001b[0m\u001b[0;34m)\u001b[0m\u001b[0;34m\u001b[0m\u001b[0m\n\u001b[0m\u001b[1;32m     49\u001b[0m         \u001b[0;32mif\u001b[0m \u001b[0mevent\u001b[0m \u001b[0;34m==\u001b[0m \u001b[0;34m'call'\u001b[0m\u001b[0;34m:\u001b[0m\u001b[0;34m\u001b[0m\u001b[0m\n\u001b[1;32m     50\u001b[0m             \u001b[0;32mreturn\u001b[0m \u001b[0mself\u001b[0m\u001b[0;34m.\u001b[0m\u001b[0mdispatch_call\u001b[0m\u001b[0;34m(\u001b[0m\u001b[0mframe\u001b[0m\u001b[0;34m,\u001b[0m \u001b[0marg\u001b[0m\u001b[0;34m)\u001b[0m\u001b[0;34m\u001b[0m\u001b[0m\n",
      "\u001b[0;32m/usr/lib/python3.5/bdb.py\u001b[0m in \u001b[0;36mdispatch_line\u001b[0;34m(self, frame)\u001b[0m\n\u001b[1;32m     65\u001b[0m         \u001b[0;32mif\u001b[0m \u001b[0mself\u001b[0m\u001b[0;34m.\u001b[0m\u001b[0mstop_here\u001b[0m\u001b[0;34m(\u001b[0m\u001b[0mframe\u001b[0m\u001b[0;34m)\u001b[0m \u001b[0;32mor\u001b[0m \u001b[0mself\u001b[0m\u001b[0;34m.\u001b[0m\u001b[0mbreak_here\u001b[0m\u001b[0;34m(\u001b[0m\u001b[0mframe\u001b[0m\u001b[0;34m)\u001b[0m\u001b[0;34m:\u001b[0m\u001b[0;34m\u001b[0m\u001b[0m\n\u001b[1;32m     66\u001b[0m             \u001b[0mself\u001b[0m\u001b[0;34m.\u001b[0m\u001b[0muser_line\u001b[0m\u001b[0;34m(\u001b[0m\u001b[0mframe\u001b[0m\u001b[0;34m)\u001b[0m\u001b[0;34m\u001b[0m\u001b[0m\n\u001b[0;32m---> 67\u001b[0;31m             \u001b[0;32mif\u001b[0m \u001b[0mself\u001b[0m\u001b[0;34m.\u001b[0m\u001b[0mquitting\u001b[0m\u001b[0;34m:\u001b[0m \u001b[0;32mraise\u001b[0m \u001b[0mBdbQuit\u001b[0m\u001b[0;34m\u001b[0m\u001b[0m\n\u001b[0m\u001b[1;32m     68\u001b[0m         \u001b[0;32mreturn\u001b[0m \u001b[0mself\u001b[0m\u001b[0;34m.\u001b[0m\u001b[0mtrace_dispatch\u001b[0m\u001b[0;34m\u001b[0m\u001b[0m\n\u001b[1;32m     69\u001b[0m \u001b[0;34m\u001b[0m\u001b[0m\n",
      "\u001b[0;31mBdbQuit\u001b[0m: "
     ]
    }
   ],
   "source": []
  },
  {
   "cell_type": "code",
   "execution_count": 237,
   "metadata": {
    "collapsed": false,
    "deletable": true,
    "editable": true
   },
   "outputs": [
    {
     "name": "stdout",
     "output_type": "stream",
     "text": [
      "> \u001b[0;32m<ipython-input-235-9d4cb754755b>\u001b[0m(67)\u001b[0;36mmedian_zip\u001b[0;34m()\u001b[0m\n",
      "\u001b[0;32m     65 \u001b[0;31m                    \u001b[0mcount_arr_above\u001b[0m\u001b[0;34m[\u001b[0m\u001b[0;36m0\u001b[0m\u001b[0;34m]\u001b[0m\u001b[0;34m-=\u001b[0m\u001b[0;36m1\u001b[0m\u001b[0;34m\u001b[0m\u001b[0m\n",
      "\u001b[0m\u001b[0;32m     66 \u001b[0;31m                    \u001b[0;32mif\u001b[0m \u001b[0mcount_arr_above\u001b[0m\u001b[0;34m[\u001b[0m\u001b[0;36m0\u001b[0m\u001b[0;34m]\u001b[0m \u001b[0;34m==\u001b[0m \u001b[0;36m0\u001b[0m\u001b[0;34m:\u001b[0m\u001b[0;34m\u001b[0m\u001b[0m\n",
      "\u001b[0m\u001b[0;32m---> 67 \u001b[0;31m                        \u001b[0;32mwhile\u001b[0m \u001b[0mcount_arr_above\u001b[0m\u001b[0;34m[\u001b[0m\u001b[0;36m0\u001b[0m\u001b[0;34m]\u001b[0m\u001b[0;34m==\u001b[0m\u001b[0;36m0\u001b[0m\u001b[0;34m:\u001b[0m\u001b[0;34m\u001b[0m\u001b[0m\n",
      "\u001b[0m\u001b[0;32m     68 \u001b[0;31m                            \u001b[0mcount_arr_above\u001b[0m \u001b[0;34m=\u001b[0m \u001b[0mcount_arr_above\u001b[0m\u001b[0;34m[\u001b[0m\u001b[0;36m1\u001b[0m\u001b[0;34m:\u001b[0m\u001b[0mlen\u001b[0m\u001b[0;34m(\u001b[0m\u001b[0mcount_arr_above\u001b[0m\u001b[0;34m)\u001b[0m\u001b[0;34m]\u001b[0m\u001b[0;34m\u001b[0m\u001b[0m\n",
      "\u001b[0m\u001b[0;32m     69 \u001b[0;31m                            \u001b[0mcount_arr_above_min\u001b[0m\u001b[0;34m+=\u001b[0m\u001b[0;36m1\u001b[0m\u001b[0;34m\u001b[0m\u001b[0m\n",
      "\u001b[0m\n",
      "ipdb> count_arr_above\n",
      "[]\n",
      "ipdb> trans_num\n",
      "4\n",
      "ipdb> count_arr_above_min\n",
      "2\n",
      "ipdb> trans_num\n",
      "4\n",
      "ipdb> trans_amt\n",
      "3\n",
      "ipdb> exit\n"
     ]
    }
   ],
   "source": [
    "% debug"
   ]
  },
  {
   "cell_type": "code",
   "execution_count": 179,
   "metadata": {
    "collapsed": false,
    "deletable": true,
    "editable": true
   },
   "outputs": [
    {
     "name": "stdout",
     "output_type": "stream",
     "text": [
      "> \u001b[0;32m<ipython-input-177-09a6e11ded45>\u001b[0m(71)\u001b[0;36mmedian_zip\u001b[0;34m()\u001b[0m\n",
      "\u001b[0;32m     69 \u001b[0;31m                    \u001b[0;32melse\u001b[0m\u001b[0;34m:\u001b[0m\u001b[0;34m\u001b[0m\u001b[0m\n",
      "\u001b[0m\u001b[0;32m     70 \u001b[0;31m                        \u001b[0mmin_diff\u001b[0m \u001b[0;34m=\u001b[0m  \u001b[0mtrans_amt\u001b[0m \u001b[0;34m-\u001b[0m \u001b[0mcount_arr_above_min\u001b[0m\u001b[0;34m\u001b[0m\u001b[0m\n",
      "\u001b[0m\u001b[0;32m---> 71 \u001b[0;31m                        \u001b[0mcount_arr_above\u001b[0m\u001b[0;34m[\u001b[0m\u001b[0mmin_diff\u001b[0m\u001b[0;34m]\u001b[0m \u001b[0;34m+=\u001b[0m\u001b[0;36m1\u001b[0m\u001b[0;34m\u001b[0m\u001b[0m\n",
      "\u001b[0m\u001b[0;32m     72 \u001b[0;31m                    \u001b[0mrun_median\u001b[0m \u001b[0;34m=\u001b[0m \u001b[0mcount_arr_above_min\u001b[0m\u001b[0;34m\u001b[0m\u001b[0m\n",
      "\u001b[0m\u001b[0;32m     73 \u001b[0;31m\u001b[0;34m\u001b[0m\u001b[0m\n",
      "\u001b[0m\n",
      "ipdb> min_diff\n",
      "1\n",
      "ipdb> count_arr_above\n",
      "[1]\n",
      "ipdb> exit\n"
     ]
    }
   ],
   "source": [
    "% debug"
   ]
  },
  {
   "cell_type": "code",
   "execution_count": 142,
   "metadata": {
    "collapsed": true,
    "deletable": true,
    "editable": true
   },
   "outputs": [],
   "source": [
    "# Define the function to calculate the running median by recipient and zip code\n",
    "def median_zip(itcont_list):\n",
    "    input_len = len(itcont_list)\n",
    "    dict_zip = {}\n",
    "    output_by_zip = []\n",
    "    # core_info_track = []\n",
    "    for i in range(input_len):\n",
    "        itcont = itcont_list[i].split('|')\n",
    "        core_info = info_extract(itcont)\n",
    "        if core_info is None:   # Check if the core information pass criteria\n",
    "            continue\n",
    "            \n",
    "        # core_info_track.append(core_info)\n",
    "\n",
    "        # Generate the output for medianvals_by_zip.txt\n",
    "        # Check if ZIP information is valid\n",
    "        try: \n",
    "            len_check = core_info['ZIP_CODE'][4]    # check if 'ZIP_CODE' has at least 5 characters\n",
    "            zip_code = int(core_info['ZIP_CODE'])   # check if 'ZIP_CODE' contains only digit\n",
    "            trans_amt = int(core_info['TRANSACTION_AMT'])   # check if 'TRANSACTION_AMT' contains only digit\n",
    "        except:\n",
    "            continue\n",
    "\n",
    "        key = core_info['CMTE_ID']+core_info['ZIP_CODE']\n",
    "        if key not in dict_zip:\n",
    "            trans_num = 1\n",
    "            run_median_cache = trans_amt\n",
    "            run_median = trans_amt\n",
    "            ttl_amt = trans_amt\n",
    "            dict_zip[key] = [run_median_cache,run_median, trans_num, ttl_amt]   # Create the first entry for the key\n",
    "            output_by_zip.append('|'.join([core_info['CMTE_ID'],core_info['ZIP_CODE'], str(run_median), str(trans_num), str(ttl_amt)]))\n",
    "        else:\n",
    "            trans_num = dict_zip[key][2] + 1\n",
    "            run_median_cache = [dict_zip[key][0], trans_amt]\n",
    "            run_median_cache.sort()\n",
    "            if trans_num == 2:\n",
    "                run_median = round(sum(run_median_cache)/2)    \n",
    "            elif trans_num%2 == 0:\n",
    "                run_median_cache = run_median_cache[1:2]\n",
    "                run_median = round(sum(run_median_cache)/2)    \n",
    "            else:\n",
    "                run_median = run_median_cache[1]\n",
    "            ttl_amt = dict_zip[key][3] + trans_amt\n",
    "            dict_zip[key] = [run_median_cache,run_median, trans_num, ttl_amt]  # Update the entry for the key\n",
    "            output_by_zip.append('|'.join([core_info['CMTE_ID'],core_info['ZIP_CODE'], str(run_median), str(trans_num), str(ttl_amt)]))\n",
    "\n",
    "        # Generate the output for medianvals_by_date.txt\n",
    "        try: \n",
    "            len_check = core_info['ZIP_CODE'][4]    # check if 'ZIP_CODE' has at least 5 characters\n",
    "            zip_code = int(core_info['ZIP_CODE'][0:4])   # check if 'ZIP_CODE' has the correct format\n",
    "            trans_amt = int(core_info['TRANSACTION_AMT'])   # check if 'TRANSACTION_AMT' has the correct format\n",
    "        except:\n",
    "            continue\n",
    "    \n",
    "    return output_by_zip"
   ]
  },
  {
   "cell_type": "code",
   "execution_count": 143,
   "metadata": {
    "collapsed": false,
    "deletable": true,
    "editable": true
   },
   "outputs": [
    {
     "name": "stdout",
     "output_type": "stream",
     "text": [
      "0\n",
      "1\n",
      "1\n",
      "2\n",
      "2\n",
      "3\n",
      "3\n",
      "4\n",
      "4\n",
      "5\n"
     ]
    }
   ],
   "source": [
    "a = 10\n",
    "for i in range(a):\n",
    "    arr_gen = np.arange(0,i+1)\n",
    "    print(round_half(np.median(arr_gen)))"
   ]
  },
  {
   "cell_type": "code",
   "execution_count": 144,
   "metadata": {
    "collapsed": false,
    "deletable": true,
    "editable": true,
    "scrolled": false
   },
   "outputs": [
    {
     "ename": "TypeError",
     "evalue": "unorderable types: int() < list()",
     "output_type": "error",
     "traceback": [
      "\u001b[0;31m---------------------------------------------------------------------------\u001b[0m",
      "\u001b[0;31mTypeError\u001b[0m                                 Traceback (most recent call last)",
      "\u001b[0;32m<ipython-input-144-a3d15d9f8a97>\u001b[0m in \u001b[0;36m<module>\u001b[0;34m()\u001b[0m\n\u001b[0;32m----> 1\u001b[0;31m \u001b[0moutput_zip\u001b[0m \u001b[0;34m=\u001b[0m \u001b[0mmedian_zip\u001b[0m\u001b[0;34m(\u001b[0m\u001b[0mitcont_list\u001b[0m\u001b[0;34m)\u001b[0m\u001b[0;34m\u001b[0m\u001b[0m\n\u001b[0m\u001b[1;32m      2\u001b[0m \u001b[0moutput_zip\u001b[0m\u001b[0;34m\u001b[0m\u001b[0m\n",
      "\u001b[0;32m<ipython-input-142-842267f566fd>\u001b[0m in \u001b[0;36mmedian_zip\u001b[0;34m(itcont_list)\u001b[0m\n\u001b[1;32m     33\u001b[0m             \u001b[0mtrans_num\u001b[0m \u001b[0;34m=\u001b[0m \u001b[0mdict_zip\u001b[0m\u001b[0;34m[\u001b[0m\u001b[0mkey\u001b[0m\u001b[0;34m]\u001b[0m\u001b[0;34m[\u001b[0m\u001b[0;36m2\u001b[0m\u001b[0;34m]\u001b[0m \u001b[0;34m+\u001b[0m \u001b[0;36m1\u001b[0m\u001b[0;34m\u001b[0m\u001b[0m\n\u001b[1;32m     34\u001b[0m             \u001b[0mrun_median_cache\u001b[0m \u001b[0;34m=\u001b[0m \u001b[0;34m[\u001b[0m\u001b[0mdict_zip\u001b[0m\u001b[0;34m[\u001b[0m\u001b[0mkey\u001b[0m\u001b[0;34m]\u001b[0m\u001b[0;34m[\u001b[0m\u001b[0;36m0\u001b[0m\u001b[0;34m]\u001b[0m\u001b[0;34m,\u001b[0m \u001b[0mtrans_amt\u001b[0m\u001b[0;34m]\u001b[0m\u001b[0;34m\u001b[0m\u001b[0m\n\u001b[0;32m---> 35\u001b[0;31m             \u001b[0mrun_median_cache\u001b[0m\u001b[0;34m.\u001b[0m\u001b[0msort\u001b[0m\u001b[0;34m(\u001b[0m\u001b[0;34m)\u001b[0m\u001b[0;34m\u001b[0m\u001b[0m\n\u001b[0m\u001b[1;32m     36\u001b[0m             \u001b[0;32mif\u001b[0m \u001b[0mtrans_num\u001b[0m \u001b[0;34m==\u001b[0m \u001b[0;36m2\u001b[0m\u001b[0;34m:\u001b[0m\u001b[0;34m\u001b[0m\u001b[0m\n\u001b[1;32m     37\u001b[0m                 \u001b[0mrun_median\u001b[0m \u001b[0;34m=\u001b[0m \u001b[0mround\u001b[0m\u001b[0;34m(\u001b[0m\u001b[0msum\u001b[0m\u001b[0;34m(\u001b[0m\u001b[0mrun_median_cache\u001b[0m\u001b[0;34m)\u001b[0m\u001b[0;34m/\u001b[0m\u001b[0;36m2\u001b[0m\u001b[0;34m)\u001b[0m\u001b[0;34m\u001b[0m\u001b[0m\n",
      "\u001b[0;31mTypeError\u001b[0m: unorderable types: int() < list()"
     ]
    }
   ],
   "source": [
    "output_zip = median_zip(itcont_list)\n",
    "output_zip"
   ]
  },
  {
   "cell_type": "code",
   "execution_count": 449,
   "metadata": {
    "collapsed": true,
    "deletable": true,
    "editable": true
   },
   "outputs": [],
   "source": [
    "def date_format(date_str, amt_str):\n",
    "    \"\"\"\n",
    "        date_str: string to check\n",
    "    \"\"\"\n",
    "    try:\n",
    "        month = int(date_str[:2])\n",
    "        date = int(date_str[2:4])\n",
    "        yr = int(date_str[-4:])\n",
    "        amt = int(amt_str)\n",
    "        \n",
    "        if (0<month<12)&(0<date<32)&(1700<yr<2018):\n",
    "            return True\n",
    "        else:\n",
    "            return False\n",
    "    except:\n",
    "        return False"
   ]
  },
  {
   "cell_type": "code",
   "execution_count": 450,
   "metadata": {
    "collapsed": false,
    "deletable": true,
    "editable": true
   },
   "outputs": [],
   "source": [
    "# Define the function to calculate the median by recipient and date\n",
    "# Find unique combination of CMTE_ID and date\n",
    "\n",
    "# Combine all the strings\n",
    "def median_date(itcont_list):\n",
    "    \n",
    "    itcont = '|'.join(itcont_list).split('|')\n",
    "    itcont = itcont[:-1]    # Remove the space at the end, the final length of list should be n * 21\n",
    "\n",
    "    # Obtain the index with valid data info\n",
    "    num_entry = int(len(itcont)/21)\n",
    "\n",
    "    # Find the entries with Other_Id as [] and TRANS_AMT, TRANS_DT of correct format:\n",
    "\n",
    "    key_id = [i for i in range(num_entry) if (itcont[i*21+15]=='')&(date_format(itcont[i*21+13], itcont[i*21+14]))&(len(itcont[i*21])>0)]\n",
    "\n",
    "    # Generate combitation keys with CMTE_ID and TRANS_DT\n",
    "    keys = [itcont[i*21]+itcont[i*21+13] for i in key_id]\n",
    "    unique_key = list(set(keys))\n",
    "    unique_key.sort()\n",
    "    output_by_date = []\n",
    "    for j in range(len(unqiue_key)):\n",
    "        indices = [key_id[i] for i,x in enumerate(keys) if x == unqiue_key[j]]\n",
    "        trans_num = len(indices)\n",
    "        trans_amt = [int(itcont[i*21+14]) for i in indices]\n",
    "        trans_amt.sort()\n",
    "        ttl_trans = sum(trans_amt)\n",
    "        if len(trans_amt) == 1:\n",
    "            median_trans= trans_amt\n",
    "        elif len(trans_amt) == 2:\n",
    "            median_trans= round(ttl_trans/2)\n",
    "        elif len(trans_amt)%2 == 0:\n",
    "            mid_idx = int(len(trans_amt)/2-1)\n",
    "            median_trans = round(sum(trans_amt[mid_idx:mid_idx+2])/2)\n",
    "        else:\n",
    "            mid_idx = int(len(trans_amt)/2)+1\n",
    "            median_trans = round(trans_amt[mid_idx])\n",
    "        len_key = len(unqiue_key[j])\n",
    "        output_by_date.append('|'.join([unqiue_key[j][:len_key-8], unqiue_key[j][len_key-8:], str(median_trans),str(trans_num),str(ttl_trans)]))\n",
    "    \n",
    "    return output_by_date"
   ]
  },
  {
   "cell_type": "code",
   "execution_count": 451,
   "metadata": {
    "collapsed": false,
    "deletable": true,
    "editable": true
   },
   "outputs": [
    {
     "data": {
      "text/plain": [
       "['C00177436|01312017|384|4|1382', 'C00384818|01122017|292|2|583']"
      ]
     },
     "execution_count": 451,
     "metadata": {},
     "output_type": "execute_result"
    }
   ],
   "source": [
    "output_by_date = median_date(itcont_list)\n",
    "output_by_date"
   ]
  },
  {
   "cell_type": "code",
   "execution_count": null,
   "metadata": {
    "collapsed": true,
    "deletable": true,
    "editable": true
   },
   "outputs": [],
   "source": []
  }
 ],
 "metadata": {
  "kernelspec": {
   "display_name": "Python 3",
   "language": "python",
   "name": "python3"
  },
  "language_info": {
   "codemirror_mode": {
    "name": "ipython",
    "version": 3
   },
   "file_extension": ".py",
   "mimetype": "text/x-python",
   "name": "python",
   "nbconvert_exporter": "python",
   "pygments_lexer": "ipython3",
   "version": "3.5.2"
  }
 },
 "nbformat": 4,
 "nbformat_minor": 2
}
