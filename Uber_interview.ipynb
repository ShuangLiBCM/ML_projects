{
 "cells": [
  {
   "cell_type": "markdown",
   "metadata": {},
   "source": [
    "5 coins in a bag, one coin is double sided head, and 4 are fair.\n",
    "I pick a coin, and flip it 5 times, and get 5 heads.\n",
    "If I flip it another time, what the probability of getting a head?"
   ]
  },
  {
   "cell_type": "markdown",
   "metadata": {},
   "source": [
    "Method one, use condition simulation"
   ]
  },
  {
   "cell_type": "code",
   "execution_count": 154,
   "metadata": {
    "collapsed": false
   },
   "outputs": [],
   "source": [
    "import numpy as np\n",
    "def simulation(num_simu=1000):\n",
    "    count6 = 0\n",
    "    count5 = 0\n",
    "    \n",
    "    while num_simu >=0: \n",
    "        num_simu -= 1\n",
    "\n",
    "        p1 = np.random.uniform(0, 1, 1)\n",
    "        if p1 > 0.2:\n",
    "            p2 = np.random.uniform(0, 1, 5)\n",
    "            count_5head = sum(p2 > 0.5)\n",
    "            if count_5head == 5:\n",
    "                count5 += 1\n",
    "                p3 = np.random.uniform(0, 1, 1)\n",
    "                if p3 > 0.5:\n",
    "                    count6 += 1\n",
    "        else:\n",
    "            count5 += 1\n",
    "            count6 += 1\n",
    "    \n",
    "    return count6/count5"
   ]
  },
  {
   "cell_type": "code",
   "execution_count": 155,
   "metadata": {
    "collapsed": false
   },
   "outputs": [
    {
     "data": {
      "text/plain": [
       "0.9577464788732394"
      ]
     },
     "execution_count": 155,
     "metadata": {},
     "output_type": "execute_result"
    }
   ],
   "source": [
    "simulation()"
   ]
  },
  {
   "cell_type": "code",
   "execution_count": 216,
   "metadata": {
    "collapsed": true
   },
   "outputs": [],
   "source": [
    "# Use boot strapping\n",
    "def simulation(bag_size=2000, num_simu=1000):\n",
    "    \n",
    "    # Create 'bags' of length = 6 arrays \n",
    "    double_size = int(bag_size * 0.2)\n",
    "    single_size = int(bag_size * 0.8)\n",
    "    double_head = np.ones((double_size, 6))\n",
    "    single_head = np.random.randint(0,2,size=(single_size, 6))\n",
    "    \n",
    "    combine = np.concatenate([double_head, single_head])\n",
    "    \n",
    "    # Repeated sample from the bags, count first 5 are 1 v.s. first 6 are 1\n",
    "    index = np.random.randint(0, bag_size, num_simu)\n",
    "    head_5 = np.sum(np.sum(combine[index, :5], axis=1) == 5)\n",
    "    head_6 = np.sum(np.sum(combine[index, :], axis=1) == 6)\n",
    "    \n",
    "    return head_6/head_5"
   ]
  },
  {
   "cell_type": "code",
   "execution_count": 217,
   "metadata": {
    "collapsed": false
   },
   "outputs": [
    {
     "data": {
      "text/plain": [
       "0.92070484581497802"
      ]
     },
     "execution_count": 217,
     "metadata": {},
     "output_type": "execute_result"
    }
   ],
   "source": [
    "simulation()"
   ]
  },
  {
   "cell_type": "code",
   "execution_count": 201,
   "metadata": {
    "collapsed": false
   },
   "outputs": [
    {
     "data": {
      "text/plain": [
       "0.225"
      ]
     },
     "execution_count": 201,
     "metadata": {},
     "output_type": "execute_result"
    }
   ],
   "source": [
    "0.5 ** 5 * 0.8 + 0.2"
   ]
  },
  {
   "cell_type": "code",
   "execution_count": 192,
   "metadata": {
    "collapsed": false
   },
   "outputs": [
    {
     "data": {
      "text/plain": [
       "0.21250000000000002"
      ]
     },
     "execution_count": 192,
     "metadata": {},
     "output_type": "execute_result"
    }
   ],
   "source": [
    "0.5 ** 6 * 0.8 + 0.2"
   ]
  },
  {
   "cell_type": "code",
   "execution_count": 194,
   "metadata": {
    "collapsed": false
   },
   "outputs": [
    {
     "data": {
      "text/plain": [
       "0.9444444444444444"
      ]
     },
     "execution_count": 194,
     "metadata": {},
     "output_type": "execute_result"
    }
   ],
   "source": [
    "0.2125/0.225"
   ]
  },
  {
   "cell_type": "code",
   "execution_count": null,
   "metadata": {
    "collapsed": true
   },
   "outputs": [],
   "source": []
  }
 ],
 "metadata": {
  "kernelspec": {
   "display_name": "Python 3",
   "language": "python",
   "name": "python3"
  },
  "language_info": {
   "codemirror_mode": {
    "name": "ipython",
    "version": 3
   },
   "file_extension": ".py",
   "mimetype": "text/x-python",
   "name": "python",
   "nbconvert_exporter": "python",
   "pygments_lexer": "ipython3",
   "version": "3.5.2"
  }
 },
 "nbformat": 4,
 "nbformat_minor": 2
}
