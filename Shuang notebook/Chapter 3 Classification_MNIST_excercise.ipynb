{
 "cells": [
  {
   "cell_type": "code",
   "execution_count": 4,
   "metadata": {
    "collapsed": false
   },
   "outputs": [],
   "source": [
    "import numpy as np\n",
    "import sklearn\n",
    "from sklearn import preprocessing\n",
    "import matplotlib.pyplot as plt\n",
    "import tensorflow as tf\n",
    "\n",
    "% matplotlib inline"
   ]
  },
  {
   "cell_type": "markdown",
   "metadata": {},
   "source": [
    "Ex1: Build a classifier for MNIST that achieves over 97% accuracy on the test set\n",
    "\n",
    "Prob analysis:\n",
    "1. This ia a multiclass classification problem, we could let sklearn automatically detect what type of classifier to use (Onevsone or OnevsAll) based on datasize\n",
    "2.  Accuracy  is defined  as the ratio between true positive/(true positive+false negative),we need to be able to set this value throug sklearn\n",
    "3. What should a classifier include:\n",
    "    1> Input is the input image(test set)\n",
    "    2> Images will go through pre-processing\n",
    "    3> Pre-possed image will go through classifier and get the category label\n",
    "4.  So our step will be\n",
    "    1> Set the data into training and testing set\n",
    "    2> Preprocess the image with mean subtraction and normalization\n",
    "    3>  Train the classifier with selected accuracy and k-folds cross validation"
   ]
  },
  {
   "cell_type": "code",
   "execution_count": 5,
   "metadata": {
    "collapsed": false
   },
   "outputs": [
    {
     "name": "stdout",
     "output_type": "stream",
     "text": [
      "Extracting MNIST_data/train-images-idx3-ubyte.gz\n",
      "Extracting MNIST_data/train-labels-idx1-ubyte.gz\n",
      "Extracting MNIST_data/t10k-images-idx3-ubyte.gz\n",
      "Extracting MNIST_data/t10k-labels-idx1-ubyte.gz\n"
     ]
    }
   ],
   "source": [
    "# Load MNIST dataset, process the data so that they have the right shape for seperating into training and testing set\n",
    "from tensorflow.examples.tutorials.mnist import input_data\n",
    "mnist = input_data.read_data_sets(\"MNIST_data/\")"
   ]
  },
  {
   "cell_type": "code",
   "execution_count": 6,
   "metadata": {
    "collapsed": false
   },
   "outputs": [],
   "source": [
    "X = np.concatenate([mnist.train.images, mnist.test.images, mnist.validation.images])\n",
    "y = np.concatenate([mnist.train.labels, mnist.test.labels, mnist.validation.labels])\n",
    "X_train = mnist.train.images\n",
    "y_train = mnist.train.labels\n",
    "X_test = mnist.test.images\n",
    "y_test = mnist.test.labels"
   ]
  },
  {
   "cell_type": "code",
   "execution_count": 7,
   "metadata": {
    "collapsed": false
   },
   "outputs": [],
   "source": [
    "# Remove mean from the image\n",
    "def pre_pro(X_train):\n",
    "    mean_x = np.mean(X_train, axis=0)\n",
    "    X_demean = X_train - mean_x\n",
    "    mean_x_demean = np.mean(X_demean, axis=0)\n",
    "    # plt.imshow(mean_x_demean.reshape(28, 28), cmap='Greys')\n",
    "    # Check norm of the digits by hand\n",
    "    X_norm_1 = np.sqrt(np.diagonal(np.dot(X_demean.T, X_demean)))\n",
    "    # Check norm of the digits with default function\n",
    "    X_norm_2 = np.linalg.norm(X_demean ,ord=2, axis=0)\n",
    "    # Make the image unit variance\n",
    "    X_demean_scale = sklearn.preprocessing.normalize(X_demean, norm='l2', axis=1, copy=True, return_norm=False)\n",
    "    return X_demean_scale"
   ]
  },
  {
   "cell_type": "code",
   "execution_count": 8,
   "metadata": {
    "collapsed": false
   },
   "outputs": [],
   "source": [
    "X_demean_scale = pre_pro(X_train)\n",
    "X_test_scale = pre_pro(X_test)"
   ]
  },
  {
   "cell_type": "code",
   "execution_count": 9,
   "metadata": {
    "collapsed": false
   },
   "outputs": [
    {
     "data": {
      "text/plain": [
       "SGDClassifier(alpha=0.0001, average=False, class_weight=None, epsilon=0.1,\n",
       "       eta0=0.0, fit_intercept=True, l1_ratio=0.15,\n",
       "       learning_rate='optimal', loss='hinge', n_iter=5, n_jobs=1,\n",
       "       penalty='l2', power_t=0.5, random_state=42, shuffle=True, verbose=0,\n",
       "       warm_start=False)"
      ]
     },
     "execution_count": 9,
     "metadata": {},
     "output_type": "execute_result"
    }
   ],
   "source": [
    "# Build classfifier with data demeaned normalized data\n",
    "from sklearn.linear_model import SGDClassifier\n",
    "\n",
    "sgd_clf = SGDClassifier(random_state=42)\n",
    "sgd_clf.fit(X_demean_scale, y_train)\n",
    "# sgd_clf.fit(X_train, y_train)"
   ]
  },
  {
   "cell_type": "code",
   "execution_count": 10,
   "metadata": {
    "collapsed": false
   },
   "outputs": [],
   "source": [
    "from sklearn.model_selection import cross_val_score"
   ]
  },
  {
   "cell_type": "code",
   "execution_count": 11,
   "metadata": {
    "collapsed": false
   },
   "outputs": [
    {
     "data": {
      "text/plain": [
       "array([ 0.90254676,  0.90110729,  0.90605565])"
      ]
     },
     "execution_count": 11,
     "metadata": {},
     "output_type": "execute_result"
    }
   ],
   "source": [
    "cross_val_score(sgd_clf, X_demean_scale, y_train, cv=3, scoring='accuracy')"
   ]
  },
  {
   "cell_type": "code",
   "execution_count": 12,
   "metadata": {
    "collapsed": false
   },
   "outputs": [
    {
     "name": "stdout",
     "output_type": "stream",
     "text": [
      "0.902546763375\n",
      "0.90110729286\n",
      "0.906055646481\n"
     ]
    }
   ],
   "source": [
    "# Implement cross validation by hand\n",
    "from sklearn.model_selection import StratifiedKFold\n",
    "from sklearn.base import clone\n",
    "\n",
    "skfolds = StratifiedKFold(n_splits=3, random_state=42)\n",
    "\n",
    "for train_index, vali_index in skfolds.split(X_demean_scale, y_train):\n",
    "        clone_clf = clone(sgd_clf)\n",
    "        X_train_folds = X_demean_scale[train_index]\n",
    "        y_train_folds = y_train[train_index]\n",
    "        X_vali_folds = X_demean_scale[vali_index]\n",
    "        y_vali_folds = y_train[vali_index]\n",
    "        clone_clf.fit(X_train_folds, y_train_folds)\n",
    "        y_pred = clone_clf.predict(X_vali_folds)\n",
    "        n_correct = sum(y_pred==y_vali_folds)\n",
    "        print(n_correct/len(y_pred))"
   ]
  },
  {
   "cell_type": "markdown",
   "metadata": {},
   "source": [
    "From above implementation we could see that SGDclassfier is used to train a certain model with fixed train and target import . Therefore, what crossvalidation does is not for training a model, if for evaluating the model with the given training datasize."
   ]
  },
  {
   "cell_type": "code",
   "execution_count": 13,
   "metadata": {
    "collapsed": false
   },
   "outputs": [
    {
     "data": {
      "text/plain": [
       "array([[ 26.65709322, -37.04897555,  -2.0333065 ,  -7.07632592,\n",
       "        -18.90664656,  -9.34965481, -15.39746821, -28.05981157,\n",
       "         11.28947143, -41.34297422]])"
      ]
     },
     "execution_count": 13,
     "metadata": {},
     "output_type": "execute_result"
    }
   ],
   "source": [
    "# Let's check whether they use OnevsAll or OnevsOne algorithm\n",
    "some_digit=X_test[10,:]\n",
    "some_digit_scores= sgd_clf.decision_function([some_digit])\n",
    "some_digit_scores"
   ]
  },
  {
   "cell_type": "code",
   "execution_count": 14,
   "metadata": {
    "collapsed": false
   },
   "outputs": [
    {
     "data": {
      "text/plain": [
       "<matplotlib.image.AxesImage at 0x7f84a12e95c0>"
      ]
     },
     "execution_count": 14,
     "metadata": {},
     "output_type": "execute_result"
    },
    {
     "data": {
      "image/png": "[encoded data removed]",
      "text/plain": [
       "<matplotlib.figure.Figure at 0x7f84a1303588>"
      ]
     },
     "metadata": {},
     "output_type": "display_data"
    }
   ],
   "source": [
    "plt.imshow(some_digit.reshape(28, 28), cmap=\"Greys\")"
   ]
  },
  {
   "cell_type": "code",
   "execution_count": 15,
   "metadata": {
    "collapsed": false
   },
   "outputs": [
    {
     "data": {
      "text/plain": [
       "0.91049999999999998"
      ]
     },
     "execution_count": 15,
     "metadata": {},
     "output_type": "execute_result"
    }
   ],
   "source": [
    "# Obtain test accuracy\n",
    "y_pred_test = sgd_clf.predict(X_test_scale)\n",
    "test_acc = sum(y_pred_test == y_test)/len(y_test)\n",
    "test_acc"
   ]
  },
  {
   "cell_type": "code",
   "execution_count": 16,
   "metadata": {
    "collapsed": false
   },
   "outputs": [
    {
     "data": {
      "text/plain": [
       "KNeighborsClassifier(algorithm='auto', leaf_size=30, metric='minkowski',\n",
       "           metric_params=None, n_jobs=1, n_neighbors=5, p=2,\n",
       "           weights='uniform')"
      ]
     },
     "execution_count": 16,
     "metadata": {},
     "output_type": "execute_result"
    }
   ],
   "source": [
    "# SVM based linear classifier may not be capable of doing the test, let's try KNeighbor classifier\n",
    "from sklearn.neighbors import KNeighborsClassifier\n",
    "\n",
    "kn_clf = KNeighborsClassifier()\n",
    "kn_clf.fit(X_demean_scale, y_train)"
   ]
  },
  {
   "cell_type": "code",
   "execution_count": 17,
   "metadata": {
    "collapsed": true
   },
   "outputs": [],
   "source": [
    "# cross_val_score(kn_clf, X_demean_scale, y_train, cv=3, scoring=\"accuracy\")"
   ]
  },
  {
   "cell_type": "code",
   "execution_count": 18,
   "metadata": {
    "collapsed": false
   },
   "outputs": [],
   "source": [
    "from sklearn.model_selection import GridSearchCV\n",
    "\n",
    "param_grid = [\n",
    "    {'n_neighbors': [3,5,10], 'weights': ['uniform','distance']}\n",
    "]\n",
    "\n",
    "grid_search = GridSearchCV(kn_clf, param_grid, cv=3, scoring='neg_mean_squared_error')"
   ]
  },
  {
   "cell_type": "code",
   "execution_count": null,
   "metadata": {
    "collapsed": true
   },
   "outputs": [],
   "source": [
    "grid_search.fit(X_demean_scale, y_train)"
   ]
  },
  {
   "cell_type": "code",
   "execution_count": null,
   "metadata": {
    "collapsed": true
   },
   "outputs": [],
   "source": [
    "grid_search.best_params_"
   ]
  }
 ],
 "metadata": {
  "kernelspec": {
   "display_name": "Python 3",
   "language": "python",
   "name": "python3"
  },
  "language_info": {
   "codemirror_mode": {
    "name": "ipython",
    "version": 3
   },
   "file_extension": ".py",
   "mimetype": "text/x-python",
   "name": "python",
   "nbconvert_exporter": "python",
   "pygments_lexer": "ipython3",
   "version": "3.5.2"
  }
 },
 "nbformat": 4,
 "nbformat_minor": 2
}
