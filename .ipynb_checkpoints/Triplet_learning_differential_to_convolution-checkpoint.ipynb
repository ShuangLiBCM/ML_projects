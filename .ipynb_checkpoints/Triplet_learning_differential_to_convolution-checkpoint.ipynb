{
 "cells": [
  {
   "cell_type": "markdown",
   "metadata": {},
   "source": [
    "Here, we will summarize and simulate the two different realization of triplet learning rule, through differential equation and through convolution."
   ]
  },
  {
   "cell_type": "markdown",
   "metadata": {},
   "source": [
    "First, realization of spike trains. \n",
    "$\\delta_{p} = \\sum\\delta(t-t_{pre})$, $\\delta_{o} = \\sum\\delta(t-t_{post})$"
   ]
  },
  {
   "cell_type": "markdown",
   "metadata": {},
   "source": [
    "We denote:pre-post plasticity kernel as  $w_{p}$, pre-pre kernel as $w_{o}$, post-pre kernel as $v_{p}$, post-post kernel as $v_{o}$"
   ]
  },
  {
   "cell_type": "markdown",
   "metadata": {},
   "source": [
    "To generate the effect of spike on triggering plasticity, we convolve the exponential decay kernel on each spike train."
   ]
  },
  {
   "cell_type": "markdown",
   "metadata": {},
   "source": [
    "pre-post:$r_{1} = w_{p} * \\delta_{p}$; pre-pre:$r_{2} = w_{o} * \\delta_{p}$; post-pre: $o_{1} = v_{p} * \\delta_{o}$; post-post:$o_{2} = v_{o} * \\delta_{o}$, where * indicates convolution"
   ]
  },
  {
   "cell_type": "markdown",
   "metadata": {},
   "source": [
    "Then the effective plasticity outcome when a pre-synaptic spike happens is determined by the (post-convolved spike trains+pre-convolved spike train) element-wise multiplied with pre spike: $\\Delta w_{p} = <-o_{1}(1+s*r_{2}),\\delta_{p}>$, where s is a shift filter, <> indicates inner product"
   ]
  },
  {
   "cell_type": "markdown",
   "metadata": {},
   "source": [
    "Similarly , we have $\\Delta w_{o} = <r_{1}(1+s*o_{2}),\\delta_{o}>$"
   ]
  },
  {
   "cell_type": "markdown",
   "metadata": {},
   "source": [
    "Therefore, the total plasticity effect \n",
    "$\\Delta w = \\Delta w_{p} + \\Delta w_{o}$\n",
    "Given the simulation result of Pfister et al., $s*r _{2}$ term in $\\Delta w_{p}$ is not important, and that s in $s*o_{2}$ could be absorbed, we have "
   ]
  },
  {
   "cell_type": "markdown",
   "metadata": {},
   "source": [
    "$\\Delta w = \\Delta w_{p} + \\Delta w_{o} = <-o_{1},\\delta_{p}> + <r_{1},\\delta_{o}> + <(r_{1}.o_{2}),\\delta_{o}>$ and potentially =$<(k_{1}*\\delta_{o}),\\delta_{p} >+ <(k_{2}*\\delta_{p}).(k_{2}*\\delta_{o}),\\delta_{o}>$"
   ]
  },
  {
   "cell_type": "markdown",
   "metadata": {},
   "source": [
    "Therefore, what we need to do now is to change the output function and relearn the three kernels.We could try ground truth as exponential decay"
   ]
  },
  {
   "cell_type": "code",
   "execution_count": null,
   "metadata": {
    "collapsed": true
   },
   "outputs": [],
   "source": []
  }
 ],
 "metadata": {
  "kernelspec": {
   "display_name": "Python 3",
   "language": "python",
   "name": "python3"
  },
  "language_info": {
   "codemirror_mode": {
    "name": "ipython",
    "version": 3
   },
   "file_extension": ".py",
   "mimetype": "text/x-python",
   "name": "python",
   "nbconvert_exporter": "python",
   "pygments_lexer": "ipython3",
   "version": "3.5.2"
  }
 },
 "nbformat": 4,
 "nbformat_minor": 2
}
