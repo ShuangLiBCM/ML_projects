{
 "cells": [
  {
   "cell_type": "code",
   "execution_count": 1,
   "metadata": {
    "collapsed": false,
    "deletable": true,
    "editable": true
   },
   "outputs": [
    {
     "name": "stderr",
     "output_type": "stream",
     "text": [
      "Using TensorFlow backend.\n"
     ]
    }
   ],
   "source": [
    "# Set the working directory\n",
    "from keras.models import Sequential\n",
    "from keras.layers import Convolution2D\n",
    "from keras.layers import MaxPool2D\n",
    "from keras.layers import Flatten\n",
    "from keras.layers import Dense\n",
    "\n",
    "import numpy as np"
   ]
  },
  {
   "cell_type": "code",
   "execution_count": 2,
   "metadata": {
    "collapsed": false,
    "deletable": true,
    "editable": true
   },
   "outputs": [],
   "source": [
    "# Initialize the CNN\n",
    "classifier = Sequential()\n",
    "\n",
    "# Add the convolution layer\n",
    "classifier.add(Convolution2D(32, (3, 3), strides=(1,1), input_shape=(64, 64, 3), activation='relu'))\n",
    "\n",
    "# Add the pooling layer\n",
    "classifier.add(MaxPool2D(pool_size=(2,2)))\n",
    "\n",
    "# Add a second convolution layer\n",
    "classifier.add(Convolution2D(32, (3, 3), strides=(1,1), activation='relu'))\n",
    "\n",
    "# Add the pooling layer\n",
    "classifier.add(MaxPool2D(pool_size=(2,2)))\n",
    "\n",
    "# Add flattern layer\n",
    "classifier.add(Flatten())\n",
    "\n",
    "# Add fully connected\n",
    "classifier.add(Dense(units=128, activation='relu'))\n",
    "\n",
    "# Add output unit\n",
    "classifier.add(Dense(units=1, activation='sigmoid'))"
   ]
  },
  {
   "cell_type": "code",
   "execution_count": 3,
   "metadata": {
    "collapsed": false,
    "deletable": true,
    "editable": true
   },
   "outputs": [],
   "source": [
    "def build_cnn(layer, channel, filter_size, dense_u, opt='adam'):\n",
    "    clf = Sequential()\n",
    "    \n",
    "    clf.add(Convolution2D(channel, (filter_size,filter_size), strides=(1,1), input_shape=(64,64,3), activation='relu'))\n",
    "    clf.add(MaxPool2D(pool_size=(2,2)))\n",
    "    \n",
    "    for i in range(layer-1):\n",
    "        clf.add(Convolution2D(channel, (filter_size,filter_size), strides=(1,1), activation='relu'))\n",
    "        clf.add(MaxPool2D(pool_size=(2,2)))\n",
    "    \n",
    "    clf.add(Flatten())\n",
    "    clf.add(Dense(units=dense_u, activation='relu', kernel_initializer='glorot_uniform'))\n",
    "    clf.add(Dense(units=1, activation='sigmoid', kernel_initializer='glorot_uniform'))\n",
    "    \n",
    "    clf.compile(optimizer=opt, loss = 'binary_crossentropy', metrics=['accuracy'])\n",
    "                \n",
    "    return clf"
   ]
  },
  {
   "cell_type": "code",
   "execution_count": 4,
   "metadata": {
    "collapsed": false,
    "deletable": true,
    "editable": true
   },
   "outputs": [],
   "source": [
    "from IPython.display import display\n",
    "from PIL import Image"
   ]
  },
  {
   "cell_type": "code",
   "execution_count": 9,
   "metadata": {
    "collapsed": false,
    "deletable": true,
    "editable": true
   },
   "outputs": [],
   "source": [
    "# Image preprocessing and augmentation\n",
    "from keras.preprocessing.image import ImageDataGenerator\n",
    "\n",
    "def train_clf(layer=4, channel=32, filter_size=3, dense_u=128, opt='adam', nb_epoch=10):\n",
    "    \n",
    "    classifier = build_cnn(layer=layer, channel=channel, filter_size=filter_size, dense_u=dense_u, opt=opt)\n",
    "    \n",
    "    train_datagen = ImageDataGenerator(\n",
    "                rescale=1./255,\n",
    "                shear_range=0.2,\n",
    "                zoom_range=0.2,\n",
    "                horizontal_flip=True\n",
    "                )\n",
    "\n",
    "    test_datagen = ImageDataGenerator(rescale=1./255)\n",
    "\n",
    "    training_set = train_datagen.flow_from_directory('dataset/training_set',\n",
    "                                                    target_size=(64,64),\n",
    "                                                    batch_size=40,\n",
    "                                                    class_mode='binary')\n",
    "\n",
    "    test_set = test_datagen.flow_from_directory('dataset/test_set',\n",
    "                                               target_size=(64,64),\n",
    "                                               batch_size=32, \n",
    "                                               class_mode='binary')\n",
    "    hist = classifier.fit_generator(training_set,\n",
    "                             steps_per_epoch=30,\n",
    "                             nb_epoch=nb_epoch,\n",
    "                             validation_data=test_set,\n",
    "                             validation_steps=10, verbose=0)\n",
    "    \n",
    "    \n",
    "    return np.mean(hist.history['val_loss'][-10:].mean())"
   ]
  },
  {
   "cell_type": "code",
   "execution_count": 10,
   "metadata": {
    "collapsed": false,
    "deletable": true,
    "editable": true
   },
   "outputs": [],
   "source": [
    "from sklearn.model_selection import ParameterGrid\n",
    "\n",
    "param = {\n",
    "    'layer': [3, 4, 5, 6],\n",
    "    'channel': [32, 64],\n",
    "    'filter_size': [3, 5],\n",
    "    'dense_u': [128, 256],\n",
    "    'opt': ['adam', 'RMSprop'],\n",
    "}\n",
    "\n",
    "parameters = list(ParameterGrid(param))"
   ]
  },
  {
   "cell_type": "code",
   "execution_count": null,
   "metadata": {
    "collapsed": false,
    "deletable": true,
    "editable": true
   },
   "outputs": [
    {
     "name": "stdout",
     "output_type": "stream",
     "text": [
      "Found 8000 images belonging to 2 classes.\n",
      "Found 2000 images belonging to 2 classes.\n"
     ]
    },
    {
     "name": "stderr",
     "output_type": "stream",
     "text": [
      "/usr/local/lib/python3.5/dist-packages/ipykernel/__main__.py:30: UserWarning: The semantics of the Keras 2 argument `steps_per_epoch` is not the same as the Keras 1 argument `samples_per_epoch`. `steps_per_epoch` is the number of batches to draw from the generator at each epoch. Basically steps_per_epoch = samples_per_epoch/batch_size. Similarly `nb_val_samples`->`validation_steps` and `val_samples`->`steps` arguments have changed. Update your method calls accordingly.\n",
      "/usr/local/lib/python3.5/dist-packages/ipykernel/__main__.py:30: UserWarning: Update your `fit_generator` call to the Keras 2 API: `fit_generator(<keras.pre..., validation_data=<keras.pre..., epochs=10, validation_steps=10, verbose=0, steps_per_epoch=30)`\n"
     ]
    }
   ],
   "source": [
    "loss_track = np.zeros(len(parameters))\n",
    "\n",
    "for i in range(len(parameters)):\n",
    "    loss_track[i] = train_clf(**parameters[i])"
   ]
  },
  {
   "cell_type": "code",
   "execution_count": null,
   "metadata": {
    "collapsed": false,
    "deletable": true,
    "editable": true
   },
   "outputs": [],
   "source": [
    "test.history['val_loss'][-1]"
   ]
  },
  {
   "cell_type": "code",
   "execution_count": null,
   "metadata": {
    "collapsed": false,
    "deletable": true,
    "editable": true
   },
   "outputs": [],
   "source": [
    "# Predict a given image\n",
    "import numpy as np\n",
    "from keras.preprocessing import image\n",
    "\n",
    "test_image = image.load_img('dataset/single_prediction/cat_or_dog_1.jpg', target_size=(64,64))\n",
    "test_image = image.img_to_array(test_image)\n",
    "test_image = np.expand_dims(test_image, axis=0)\n",
    "result=classifier.predict(test_image)\n",
    "\n",
    "if result[0][0] == 1:\n",
    "    print('dog')\n",
    "else:\n",
    "    print('cat')"
   ]
  },
  {
   "cell_type": "code",
   "execution_count": null,
   "metadata": {
    "collapsed": true,
    "deletable": true,
    "editable": true
   },
   "outputs": [],
   "source": []
  }
 ],
 "metadata": {
  "kernelspec": {
   "display_name": "Python 3",
   "language": "python",
   "name": "python3"
  },
  "language_info": {
   "codemirror_mode": {
    "name": "ipython",
    "version": 3
   },
   "file_extension": ".py",
   "mimetype": "text/x-python",
   "name": "python",
   "nbconvert_exporter": "python",
   "pygments_lexer": "ipython3",
   "version": "3.5.2"
  }
 },
 "nbformat": 4,
 "nbformat_minor": 2
}
