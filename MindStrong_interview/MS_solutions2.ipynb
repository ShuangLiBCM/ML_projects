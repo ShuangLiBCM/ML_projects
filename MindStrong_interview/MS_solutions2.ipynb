{
 "cells": [
  {
   "cell_type": "code",
   "execution_count": 1,
   "metadata": {
    "collapsed": false,
    "deletable": true,
    "editable": true
   },
   "outputs": [],
   "source": [
    "import numpy as np\n",
    "import scipy as sc\n",
    "import pandas as pd\n",
    "import matplotlib.pyplot as plt\n",
    "import seaborn as sns\n",
    "import warnings\n",
    "warnings.filterwarnings(\"ignore\")\n",
    "\n",
    "% matplotlib inline"
   ]
  },
  {
   "cell_type": "markdown",
   "metadata": {
    "deletable": true,
    "editable": true
   },
   "source": [
    "## Question 2"
   ]
  },
  {
   "cell_type": "markdown",
   "metadata": {
    "deletable": true,
    "editable": true
   },
   "source": [
    "### Download dataset"
   ]
  },
  {
   "cell_type": "code",
   "execution_count": 10,
   "metadata": {
    "collapsed": false,
    "deletable": true,
    "editable": true
   },
   "outputs": [
    {
     "name": "stdout",
     "output_type": "stream",
     "text": [
      "Successfullly downloaded On_Time_On_Time_Performance_2014_1.zip\n",
      "Successfullly downloaded On_Time_On_Time_Performance_2014_2.zip\n",
      "Successfullly downloaded On_Time_On_Time_Performance_2014_3.zip\n",
      "Successfullly downloaded On_Time_On_Time_Performance_2014_4.zip\n",
      "Successfullly downloaded On_Time_On_Time_Performance_2014_5.zip\n",
      "Successfullly downloaded On_Time_On_Time_Performance_2014_6.zip\n",
      "Successfullly downloaded On_Time_On_Time_Performance_2014_7.zip\n",
      "Successfullly downloaded On_Time_On_Time_Performance_2014_8.zip\n",
      "Successfullly downloaded On_Time_On_Time_Performance_2014_9.zip\n",
      "Successfullly downloaded On_Time_On_Time_Performance_2014_10.zip\n",
      "Successfullly downloaded On_Time_On_Time_Performance_2014_11.zip\n",
      "Successfullly downloaded On_Time_On_Time_Performance_2014_12.zip\n",
      "Successfullly downloaded On_Time_On_Time_Performance_2015_1.zip\n",
      "Successfullly downloaded On_Time_On_Time_Performance_2015_2.zip\n",
      "Successfullly downloaded On_Time_On_Time_Performance_2015_3.zip\n",
      "Successfullly downloaded On_Time_On_Time_Performance_2015_4.zip\n",
      "Successfullly downloaded On_Time_On_Time_Performance_2015_5.zip\n",
      "Successfullly downloaded On_Time_On_Time_Performance_2015_6.zip\n",
      "Successfullly downloaded On_Time_On_Time_Performance_2015_7.zip\n",
      "Successfullly downloaded On_Time_On_Time_Performance_2015_8.zip\n",
      "Successfullly downloaded On_Time_On_Time_Performance_2015_9.zip\n",
      "Successfullly downloaded On_Time_On_Time_Performance_2015_10.zip\n",
      "Successfullly downloaded On_Time_On_Time_Performance_2015_11.zip\n",
      "Successfullly downloaded On_Time_On_Time_Performance_2015_12.zip\n",
      "Successfullly downloaded On_Time_On_Time_Performance_2016_1.zip\n",
      "Successfullly downloaded On_Time_On_Time_Performance_2016_2.zip\n",
      "Successfullly downloaded On_Time_On_Time_Performance_2016_3.zip\n",
      "Successfullly downloaded On_Time_On_Time_Performance_2016_4.zip\n",
      "Successfullly downloaded On_Time_On_Time_Performance_2016_5.zip\n",
      "Successfullly downloaded On_Time_On_Time_Performance_2016_6.zip\n",
      "Successfullly downloaded On_Time_On_Time_Performance_2016_7.zip\n",
      "Successfullly downloaded On_Time_On_Time_Performance_2016_8.zip\n",
      "Successfullly downloaded On_Time_On_Time_Performance_2016_9.zip\n",
      "Successfullly downloaded On_Time_On_Time_Performance_2016_10.zip\n",
      "Successfullly downloaded On_Time_On_Time_Performance_2016_11.zip\n",
      "Successfullly downloaded On_Time_On_Time_Performance_2016_12.zip\n"
     ]
    }
   ],
   "source": [
    "import os\n",
    "import urllib.request\n",
    "import zipfile\n",
    "\n",
    "data_dir = '/data/flights'\n",
    "    \n",
    "data_dir = os.path.join(data_dir)\n",
    "\n",
    "if not os.path.exists(data_dir):\n",
    "    os.makedirs(data_dir)\n",
    "\n",
    "yr = [2014, 2015, 2016]\n",
    "mm = np.arange(1,13)\n",
    "\n",
    "for y in yr:\n",
    "    for m in mm:\n",
    "        DATA_URL = 'https://transtats.bts.gov/PREZIP/On_Time_On_Time_Performance_{}_{}.zip'.format(y, m)\n",
    "\n",
    "        filename = DATA_URL.split('/')[-1]\n",
    "        filepath = os.path.join(data_dir, filename)\n",
    "\n",
    "        if not os.path.exists(filepath):\n",
    "            filepath, _ = urllib.request.urlretrieve(DATA_URL, filepath)\n",
    "            zip_ref = zipfile.ZipFile(filepath, 'r')\n",
    "            zip_ref.extractall(data_dir)\n",
    "            zip_ref.close()\n",
    "            os.remove(filename)\n",
    "            print('Successfullly downloaded', filename)"
   ]
  },
  {
   "cell_type": "markdown",
   "metadata": {
    "deletable": true,
    "editable": true
   },
   "source": [
    "### Change data-format to reduce memory usage"
   ]
  },
  {
   "cell_type": "markdown",
   "metadata": {
    "deletable": true,
    "editable": true
   },
   "source": [
    "First, we will take an example table and inspect the memory usage for each data type: float, int and object"
   ]
  },
  {
   "cell_type": "code",
   "execution_count": 41,
   "metadata": {
    "collapsed": false,
    "deletable": true,
    "editable": true
   },
   "outputs": [],
   "source": [
    "filename = '/data/flights/On_Time_On_Time_Performance_2014_1.csv'\n",
    "data_fl = pd.read_csv(filename)"
   ]
  },
  {
   "cell_type": "code",
   "execution_count": null,
   "metadata": {
    "collapsed": true
   },
   "outputs": [],
   "source": [
    "for dtype in ['float64','int64','object']:\n",
    "    data_dtype = data_fl.select_dtypes(include=[dtype])\n",
    "    tt_usage_b = data_dtype.memory_usage(deep=True).sum()\n",
    "    tt_usage_mb = tt_usage_b / 1024 ** 2\n",
    "    print(\"Total memory usage for {} columns: {:.3f} MB\".format(dtype, tt_usage_mb))"
   ]
  },
  {
   "cell_type": "code",
   "execution_count": 2,
   "metadata": {
    "collapsed": false,
    "deletable": true,
    "editable": true
   },
   "outputs": [],
   "source": [
    "def memory_usage(df):\n",
    "    tt_usage = df.memory_usage(deep=True).sum() / 1024 ** 2\n",
    "    print(\"Total memory usage {:.3f} MB\".format(tt_usage))"
   ]
  },
  {
   "cell_type": "markdown",
   "metadata": {
    "deletable": true,
    "editable": true
   },
   "source": [
    "Before merging all the table, we will apply down-casting without losing informaiton on int, float data type. We will also change the NAN data type as well as use category datatypte to store object variable."
   ]
  },
  {
   "cell_type": "code",
   "execution_count": 3,
   "metadata": {
    "collapsed": true,
    "deletable": true,
    "editable": true
   },
   "outputs": [],
   "source": [
    "def down_cast(df, filename):\n",
    "    \n",
    "    print('Downcasting...' + filename.split('/')[-1])\n",
    "    df_int = df.select_dtypes(include=['int'])\n",
    "    df_float = df.select_dtypes(include=['float'])\n",
    "    df_obj = df.select_dtypes(include=['object'])\n",
    "    \n",
    "    df_int_cv = df_int.apply(pd.to_numeric, downcast='unsigned')\n",
    "    df_float_cv = df_float.apply(pd.to_numeric, downcast='float')\n",
    "    null_columns= df_float_cv.columns[df_float_cv.isnull().all()]\n",
    "    df_float_cv[null_columns] = df_float_cv[null_columns].astype('float16')\n",
    "    \n",
    "    df_obj_cv = pd.DataFrame()\n",
    "    for col in df_obj.columns:\n",
    "        num_unique_values = len(df_obj[col].unique())\n",
    "        num_total_values = len(df_obj[col])\n",
    "        if num_unique_values / num_total_values < 0.5:\n",
    "            df_obj_cv.loc[:,col] = df_obj[col].astype('category')\n",
    "        else:\n",
    "            df_obj_cv.loc[:,col] = df_obj[col]\n",
    "            \n",
    "    pd_new = pd.concat([df_int_cv, df_obj_cv, df_float_cv], axis=1)\n",
    "    \n",
    "    return pd_new"
   ]
  },
  {
   "cell_type": "code",
   "execution_count": 62,
   "metadata": {
    "collapsed": false,
    "deletable": true,
    "editable": true
   },
   "outputs": [
    {
     "name": "stdout",
     "output_type": "stream",
     "text": [
      "Total memory usage 800.439 MB\n",
      "Downcasting...\n",
      "Total memory usage 199.354 MB\n"
     ]
    }
   ],
   "source": [
    "memory_usage(data_fl)\n",
    "data_fl_cv = down_cast(data_fl)\n",
    "memory_usage(data_fl_cv)"
   ]
  },
  {
   "cell_type": "markdown",
   "metadata": {
    "deletable": true,
    "editable": true
   },
   "source": [
    "### Process each .csv file and combine them"
   ]
  },
  {
   "cell_type": "code",
   "execution_count": null,
   "metadata": {
    "collapsed": false,
    "deletable": true,
    "editable": true
   },
   "outputs": [
    {
     "name": "stdout",
     "output_type": "stream",
     "text": [
      "Processing /data/flights/On_Time_On_Time_Performance_2014_1.csv...\n",
      "Downcasting...On_Time_On_Time_Performance_2014_1.csv\n",
      "Processing /data/flights/On_Time_On_Time_Performance_2014_2.csv...\n",
      "Downcasting...On_Time_On_Time_Performance_2014_2.csv\n",
      "Processing /data/flights/On_Time_On_Time_Performance_2014_3.csv...\n",
      "Downcasting...On_Time_On_Time_Performance_2014_3.csv\n",
      "Processing /data/flights/On_Time_On_Time_Performance_2014_4.csv...\n",
      "Downcasting...On_Time_On_Time_Performance_2014_4.csv\n",
      "Processing /data/flights/On_Time_On_Time_Performance_2014_5.csv...\n",
      "Downcasting...On_Time_On_Time_Performance_2014_5.csv\n",
      "Processing /data/flights/On_Time_On_Time_Performance_2014_6.csv...\n",
      "Downcasting...On_Time_On_Time_Performance_2014_6.csv\n",
      "Processing /data/flights/On_Time_On_Time_Performance_2014_7.csv...\n",
      "Downcasting...On_Time_On_Time_Performance_2014_7.csv\n",
      "Processing /data/flights/On_Time_On_Time_Performance_2014_8.csv...\n",
      "Downcasting...On_Time_On_Time_Performance_2014_8.csv\n",
      "Processing /data/flights/On_Time_On_Time_Performance_2014_9.csv...\n",
      "Downcasting...On_Time_On_Time_Performance_2014_9.csv\n",
      "Processing /data/flights/On_Time_On_Time_Performance_2014_10.csv...\n",
      "Downcasting...On_Time_On_Time_Performance_2014_10.csv\n",
      "Processing /data/flights/On_Time_On_Time_Performance_2014_11.csv...\n",
      "Downcasting...On_Time_On_Time_Performance_2014_11.csv\n"
     ]
    }
   ],
   "source": [
    "data_fl = pd.DataFrame(data=None)\n",
    "\n",
    "yr = [2014, 2015, 2016]\n",
    "mm = np.arange(1,13)\n",
    "for y in yr:\n",
    "    for m in mm:\n",
    "        filename = '/data/flights/On_Time_On_Time_Performance_{}_{}.csv'.format(y, m)\n",
    "        print('Processing ' + filename + '...')\n",
    "\n",
    "        data_tmp = pd.read_csv(filename)\n",
    "        data_tmp_cv = down_cast(data_tmp, filename)\n",
    "        data_fl = data_fl.append(data_tmp_cv)"
   ]
  },
  {
   "cell_type": "code",
   "execution_count": 97,
   "metadata": {
    "collapsed": false,
    "deletable": true,
    "editable": true
   },
   "outputs": [
    {
     "name": "stdout",
     "output_type": "stream",
     "text": [
      "<class 'pandas.core.frame.DataFrame'>\n",
      "RangeIndex: 430602 entries, 0 to 430601\n",
      "Columns: 110 entries, Year to Unnamed: 109\n",
      "dtypes: float64(70), int64(21), object(19)\n",
      "memory usage: 361.4+ MB\n"
     ]
    }
   ],
   "source": [
    "data_tmp.info()"
   ]
  },
  {
   "cell_type": "code",
   "execution_count": 64,
   "metadata": {
    "collapsed": false,
    "deletable": true,
    "editable": true
   },
   "outputs": [
    {
     "name": "stdout",
     "output_type": "stream",
     "text": [
      "<class 'pandas.core.frame.DataFrame'>\n",
      "RangeIndex: 471949 entries, 0 to 471948\n",
      "Data columns (total 21 columns):\n",
      "Year                  471949 non-null int64\n",
      "Quarter               471949 non-null int64\n",
      "Month                 471949 non-null int64\n",
      "DayofMonth            471949 non-null int64\n",
      "DayOfWeek             471949 non-null int64\n",
      "AirlineID             471949 non-null int64\n",
      "FlightNum             471949 non-null int64\n",
      "OriginAirportID       471949 non-null int64\n",
      "OriginAirportSeqID    471949 non-null int64\n",
      "OriginCityMarketID    471949 non-null int64\n",
      "OriginStateFips       471949 non-null int64\n",
      "OriginWac             471949 non-null int64\n",
      "DestAirportID         471949 non-null int64\n",
      "DestAirportSeqID      471949 non-null int64\n",
      "DestCityMarketID      471949 non-null int64\n",
      "DestStateFips         471949 non-null int64\n",
      "DestWac               471949 non-null int64\n",
      "CRSDepTime            471949 non-null int64\n",
      "CRSArrTime            471949 non-null int64\n",
      "DistanceGroup         471949 non-null int64\n",
      "DivAirportLandings    471949 non-null int64\n",
      "dtypes: int64(21)\n",
      "memory usage: 75.6 MB\n"
     ]
    }
   ],
   "source": [
    "data_fl.select_dtypes(include=['int']).info()"
   ]
  },
  {
   "cell_type": "code",
   "execution_count": 84,
   "metadata": {
    "collapsed": false,
    "deletable": true,
    "editable": true
   },
   "outputs": [
    {
     "name": "stdout",
     "output_type": "stream",
     "text": [
      "<class 'pandas.core.frame.DataFrame'>\n",
      "RangeIndex: 471949 entries, 0 to 471948\n",
      "Data columns (total 21 columns):\n",
      "Year                  471949 non-null uint16\n",
      "Quarter               471949 non-null uint8\n",
      "Month                 471949 non-null uint8\n",
      "DayofMonth            471949 non-null uint8\n",
      "DayOfWeek             471949 non-null uint8\n",
      "AirlineID             471949 non-null uint16\n",
      "FlightNum             471949 non-null uint16\n",
      "OriginAirportID       471949 non-null uint16\n",
      "OriginAirportSeqID    471949 non-null uint32\n",
      "OriginCityMarketID    471949 non-null uint16\n",
      "OriginStateFips       471949 non-null uint8\n",
      "OriginWac             471949 non-null uint8\n",
      "DestAirportID         471949 non-null uint16\n",
      "DestAirportSeqID      471949 non-null uint32\n",
      "DestCityMarketID      471949 non-null uint16\n",
      "DestStateFips         471949 non-null uint8\n",
      "DestWac               471949 non-null uint8\n",
      "CRSDepTime            471949 non-null uint16\n",
      "CRSArrTime            471949 non-null uint16\n",
      "DistanceGroup         471949 non-null uint8\n",
      "DivAirportLandings    471949 non-null uint8\n",
      "dtypes: uint16(9), uint32(2), uint8(10)\n",
      "memory usage: 16.2 MB\n"
     ]
    }
   ],
   "source": [
    "data_fl_cv.select_dtypes(include=['uint8', 'uint16', 'uint32']).info()"
   ]
  },
  {
   "cell_type": "code",
   "execution_count": null,
   "metadata": {
    "collapsed": true,
    "deletable": true,
    "editable": true
   },
   "outputs": [],
   "source": []
  }
 ],
 "metadata": {
  "kernelspec": {
   "display_name": "Python 3",
   "language": "python",
   "name": "python3"
  },
  "language_info": {
   "codemirror_mode": {
    "name": "ipython",
    "version": 3
   },
   "file_extension": ".py",
   "mimetype": "text/x-python",
   "name": "python",
   "nbconvert_exporter": "python",
   "pygments_lexer": "ipython3",
   "version": "3.5.2"
  }
 },
 "nbformat": 4,
 "nbformat_minor": 2
}
