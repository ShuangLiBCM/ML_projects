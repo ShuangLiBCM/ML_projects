{
 "cells": [
  {
   "cell_type": "code",
   "execution_count": 12,
   "metadata": {
    "collapsed": true,
    "deletable": true,
    "editable": true
   },
   "outputs": [],
   "source": [
    "from scipy import stats\n",
    "import numpy as np\n",
    "import matplotlib.pyplot as plt\n",
    "\n",
    "% matplotlib inline"
   ]
  },
  {
   "cell_type": "code",
   "execution_count": 23,
   "metadata": {
    "collapsed": false,
    "deletable": true,
    "editable": true
   },
   "outputs": [
    {
     "data": {
      "text/plain": [
       "array([ 0.11124215, -0.53989633,  0.06677044])"
      ]
     },
     "execution_count": 23,
     "metadata": {},
     "output_type": "execute_result"
    }
   ],
   "source": [
    "np.random.normal(size=3)"
   ]
  },
  {
   "cell_type": "code",
   "execution_count": 56,
   "metadata": {
    "collapsed": false,
    "deletable": true,
    "editable": true
   },
   "outputs": [
    {
     "name": "stdout",
     "output_type": "stream",
     "text": [
      "1.06082834709 1.11690075431 0.903226604854 0.000340921494678 0.178207771896\n"
     ]
    },
    {
     "data": {
      "text/plain": [
       "[<matplotlib.lines.Line2D at 0x7f9286e21eb8>]"
      ]
     },
     "execution_count": 56,
     "metadata": {},
     "output_type": "execute_result"
    },
    {
     "data": {
      "image/png": "[encoded data removed]",
      "text/plain": [
       "<matplotlib.figure.Figure at 0x7f9286e21e10>"
      ]
     },
     "metadata": {},
     "output_type": "display_data"
    }
   ],
   "source": [
    "x = np.random.randint(-10, 10,10)\n",
    "y = x + np.random.normal(size=10)*3\n",
    "slope, intercept, r_value, p_value, std_err = stats.linregress(x,y)\n",
    "print(slope, intercept, r_value, p_value, std_err)\n",
    "x_hat = np.arange(-20, 20, 1)\n",
    "y_hat = slope * x_hat + intercept\n",
    "plt.plot(x_hat, y_hat)\n",
    "plt.plot(x, y, 'o')"
   ]
  },
  {
   "cell_type": "code",
   "execution_count": 6,
   "metadata": {
    "collapsed": false,
    "deletable": true,
    "editable": true
   },
   "outputs": [],
   "source": [
    "x = np.array([1,2,3])\n",
    "y = np.random.rand(3)\n",
    "slope, intercept, r_value, p_value, std_err = stats.linregress(x,y)"
   ]
  },
  {
   "cell_type": "code",
   "execution_count": 7,
   "metadata": {
    "collapsed": false,
    "deletable": true,
    "editable": true
   },
   "outputs": [
    {
     "data": {
      "text/plain": [
       "(-0.014622181939497159,\n",
       " 0.72341737189537492,\n",
       " -0.036815315918661731,\n",
       " 0.97655734435631958,\n",
       " 0.39690734684601436)"
      ]
     },
     "execution_count": 7,
     "metadata": {},
     "output_type": "execute_result"
    }
   ],
   "source": [
    "slope, intercept, r_value, p_value, std_err"
   ]
  },
  {
   "cell_type": "markdown",
   "metadata": {
    "collapsed": true,
    "deletable": true,
    "editable": true
   },
   "source": [
    "Give a string, you can choose to split the string after one character or two adjacent characters, and make the string to be composed of only one character or two characters. Output all possible results.Given the string \"123\" return [[\"1\",\"2\",\"3\"],[\"12\",\"3\"],[\"1\",\"23\"]]."
   ]
  },
  {
   "cell_type": "code",
   "execution_count": 601,
   "metadata": {
    "collapsed": false,
    "deletable": true,
    "editable": true
   },
   "outputs": [],
   "source": [
    "class Solution:\n",
    "    \"\"\"\n",
    "    @param: : a string to be split\n",
    "    @return: all possible split string array\n",
    "    \"\"\"\n",
    "    \n",
    "    def splitString(self, s):\n",
    "        # write your code here\n",
    "        \n",
    "        if (s is None) or (len(s) == 0):\n",
    "            return [[]]\n",
    "            \n",
    "        index = 0\n",
    "        subset = []\n",
    "        self.result = []\n",
    "        \n",
    "        self.dfs(s, index, subset)\n",
    "        \n",
    "        print(wordDict)\n",
    "        return self.result\n",
    "        \n",
    "    def dfs(self, s, index, subset):\n",
    "        \n",
    "        if index == len(s):\n",
    "            self.result.append(subset)\n",
    "            return\n",
    "        elif index > len(s):\n",
    "            return\n",
    "        \n",
    "        subset.append(1)\n",
    "        self.dfs(s, index+1, subset)\n",
    "        subset.pop()\n",
    "        print(subset)\n",
    "        subset.append(2)\n",
    "        self.dfs(s, index+2, subset)\n",
    "        subset.pop()"
   ]
  },
  {
   "cell_type": "code",
   "execution_count": 602,
   "metadata": {
    "collapsed": true,
    "deletable": true,
    "editable": true
   },
   "outputs": [],
   "source": [
    "test = Solution()"
   ]
  },
  {
   "cell_type": "code",
   "execution_count": 603,
   "metadata": {
    "collapsed": false,
    "deletable": true,
    "editable": true
   },
   "outputs": [
    {
     "name": "stdout",
     "output_type": "stream",
     "text": [
      "[1, 1]\n",
      "[1]\n",
      "[]\n",
      "[2]\n",
      "['a', 'aa', 'aaa', 'aaaa', 'aaaaa', 'aaaaaa', 'aaaaaaa', 'aaaaaaaa', 'aaaaaaaaa', 'aaaaaaaaaa']\n"
     ]
    },
    {
     "data": {
      "text/plain": [
       "[[], [], []]"
      ]
     },
     "execution_count": 603,
     "metadata": {},
     "output_type": "execute_result"
    }
   ],
   "source": [
    "a = [[\"1\",\"23\"],[\"12\",\"3\"],[\"1\",\"2\",\"3\"]]\n",
    "test.splitString(a)"
   ]
  },
  {
   "cell_type": "code",
   "execution_count": 629,
   "metadata": {
    "collapsed": false,
    "deletable": true,
    "editable": true
   },
   "outputs": [],
   "source": [
    "class Solution:\n",
    "    \"\"\"\n",
    "    @param: s: A string\n",
    "    @param: wordDict: A set of words.\n",
    "    @return: All possible sentences.\n",
    "    \"\"\"\n",
    "    def wordBreak(self, s, wordDict):\n",
    "        # write your code here\n",
    "        \n",
    "        self.result = []\n",
    "        \n",
    "        if (s is None) or (len(s) == 0):\n",
    "            return self.result\n",
    "            \n",
    "        subset = []\n",
    "        self.wordbreak_dict = {}\n",
    "        self.dfs(s, wordDict, subset)\n",
    "                \n",
    "        return\n",
    "        \n",
    "    def dfs(self, string, wordDict, subset):\n",
    "        \n",
    "        if string in self.wordbreak_dict:\n",
    "            for i in self.wordbreak_dict[string]:\n",
    "                self.result.append(i)\n",
    "        \n",
    "        if len(string) == 0:\n",
    "            self.result.append(\" \".join(subset))\n",
    "            return\n",
    "            \n",
    "        for i in range(1, len(string)+1):\n",
    "            if string[:i] not in wordDict:\n",
    "                continue\n",
    "            \n",
    "            subset.append(string[:i])\n",
    "            self.dfs(string[i:], wordDict, subset.copy())\n",
    "            subset.pop()\n",
    "        \n",
    "        self.wordbreak_dict[string] = self.result"
   ]
  },
  {
   "cell_type": "code",
   "execution_count": 630,
   "metadata": {
    "collapsed": true,
    "deletable": true,
    "editable": true
   },
   "outputs": [],
   "source": [
    "test = Solution()"
   ]
  },
  {
   "cell_type": "code",
   "execution_count": 631,
   "metadata": {
    "collapsed": true,
    "deletable": true,
    "editable": true
   },
   "outputs": [],
   "source": [
    "s = \"aaaaaaa\"\n",
    "wordDict = [\"a\",\"aa\",\"aaa\",\"aaaa\",\"aaaaa\",\"aaaaaa\",\"aaaaaaa\",\"aaaaaaaa\",\"aaaaaaaaa\",\"aaaaaaaaaa\"]"
   ]
  },
  {
   "cell_type": "code",
   "execution_count": 636,
   "metadata": {
    "collapsed": false,
    "deletable": true,
    "editable": true
   },
   "outputs": [],
   "source": [
    "class Solution:\n",
    "    \"\"\"\n",
    "    @param nums: A list of integers\n",
    "    @return: A list of integers\n",
    "    \"\"\"\n",
    "    def nextPermutation(self, nums):\n",
    "        # write your code here\n",
    "\n",
    "        if (nums is None) or (len(nums) == 0):\n",
    "            return []\n",
    "            \n",
    "        if len(nums) == 1:\n",
    "            return nums\n",
    "            \n",
    "        right_idx = len(nums) - 1\n",
    "        left_idx = 1 \n",
    "        \n",
    "        while (right_idx > 0) and (nums[right_idx] <= nums[right_idx-1]):\n",
    "            right_idx -= 1\n",
    "        \n",
    "        if right_idx == 0:\n",
    "            return nums.reverse()\n",
    "        else:\n",
    "            while (left_idx < len(nums)) and (nums[left_idx] <= nums[right_idx-1]):\n",
    "                left_idx += 1\n",
    "    \n",
    "            if left_idx == len(nums):\n",
    "                left_idx -= 1\n",
    "            tmp = nums[left_idx]\n",
    "            for i in range(right_idx, left_idx):\n",
    "                nums[i+1] = nums[i]\n",
    "            nums[right_idx] = tmp\n",
    "\n",
    "        return nums"
   ]
  },
  {
   "cell_type": "code",
   "execution_count": 637,
   "metadata": {
    "collapsed": true,
    "deletable": true,
    "editable": true
   },
   "outputs": [],
   "source": [
    "test = Solution()"
   ]
  },
  {
   "cell_type": "code",
   "execution_count": 638,
   "metadata": {
    "collapsed": false,
    "deletable": true,
    "editable": true
   },
   "outputs": [
    {
     "name": "stdout",
     "output_type": "stream",
     "text": [
      "yes\n"
     ]
    }
   ],
   "source": [
    "test.nextPermutation([1,1])"
   ]
  },
  {
   "cell_type": "code",
   "execution_count": 640,
   "metadata": {
    "collapsed": true,
    "deletable": true,
    "editable": true
   },
   "outputs": [],
   "source": [
    "nums = [1,1]\n",
    "a = nums.reverse()"
   ]
  },
  {
   "cell_type": "code",
   "execution_count": 641,
   "metadata": {
    "collapsed": true,
    "deletable": true,
    "editable": true
   },
   "outputs": [],
   "source": [
    "a"
   ]
  },
  {
   "cell_type": "code",
   "execution_count": 648,
   "metadata": {
    "collapsed": true,
    "deletable": true,
    "editable": true
   },
   "outputs": [],
   "source": [
    "class Solution:\n",
    "    \"\"\"\n",
    "    @param: :  A list of integers\n",
    "    @return: A list of unique permutations\n",
    "    \"\"\"\n",
    "\n",
    "    def permuteUnique(self, nums):\n",
    "        # write your code here\n",
    "        \n",
    "        if (nums is None) or (len(nums) == 0):\n",
    "            return [[]]\n",
    "        \n",
    "        nums.sort()\n",
    "        self.result = []\n",
    "        subset = []\n",
    "        visited = [False for _ in range(len(nums))]\n",
    "        \n",
    "        self.dfs(nums, visited, subset)\n",
    "        \n",
    "        return self.result\n",
    "        \n",
    "    def dfs(self, nums, visited, subset):\n",
    "        \n",
    "        if len(subset) == len(nums):\n",
    "            self.result.append(subset)\n",
    "            return\n",
    "            \n",
    "        for i in range(0, len(nums)):\n",
    "            if visited[i] or ((i > 0) and (nums[i] == nums[i-1]) and (not visited[i-1])):\n",
    "                continue\n",
    "            \n",
    "            subset.append(nums[i])\n",
    "            visited[i] = True\n",
    "            self.dfs(nums, visited.copy(), subset.copy())\n",
    "            subset.pop()\n",
    "            visited[i] = False\n",
    "    "
   ]
  },
  {
   "cell_type": "code",
   "execution_count": 649,
   "metadata": {
    "collapsed": true,
    "deletable": true,
    "editable": true
   },
   "outputs": [],
   "source": [
    "test = Solution()"
   ]
  },
  {
   "cell_type": "code",
   "execution_count": 650,
   "metadata": {
    "collapsed": false,
    "deletable": true,
    "editable": true
   },
   "outputs": [
    {
     "data": {
      "text/plain": [
       "[]"
      ]
     },
     "execution_count": 650,
     "metadata": {},
     "output_type": "execute_result"
    }
   ],
   "source": [
    "test.permuteUnique([1,2,2])"
   ]
  },
  {
   "cell_type": "code",
   "execution_count": null,
   "metadata": {
    "collapsed": true,
    "deletable": true,
    "editable": true
   },
   "outputs": [],
   "source": [
    "class Solution:\n",
    "    \"\"\"\n",
    "    @param str: A string\n",
    "    @return: all permutations\n",
    "    \"\"\"\n",
    "    def stringPermutation2(self, string):\n",
    "        # write your code here\n",
    "        \n",
    "        if (string = None) or (len(string) == 0):\n",
    "            return [[]]\n",
    "            \n",
    "        self.result = []\n",
    "        subset = []\n",
    "        visited = [False for _ in range(len(string))]\n",
    "        \n",
    "        self.dfs(string, visited, subset)\n",
    "        \n",
    "        return self.result\n",
    "    \n",
    "    def dfs(self, string, visited, subset):\n",
    "        \n",
    "        if len(subset) == len(string):\n",
    "            self.result.append(''.join(subset))\n",
    "        \n",
    "        for i in range(0, len(string)):\n",
    "            \n",
    "            if visited[i] or ((i > 0) and (string[i] == string[i-1]) and (not visited(i-1))):\n",
    "                continue\n",
    "            \n",
    "            subset.append(string[i])\n",
    "            visited[i] = True\n",
    "            self.dfs(string, visited.copy(), subset.copy())\n",
    "            subset.pop()\n",
    "            visited[i] = False"
   ]
  },
  {
   "cell_type": "code",
   "execution_count": 665,
   "metadata": {
    "collapsed": true,
    "deletable": true,
    "editable": true
   },
   "outputs": [],
   "source": [
    "class Solution:\n",
    "    \"\"\"\n",
    "    @param: n: The number of queens\n",
    "    @return: All distinct solutions\n",
    "    \"\"\"\n",
    "    def solveNQueens(self, n):\n",
    "        # write your code here\n",
    "        \n",
    "        if n is None:\n",
    "            return []\n",
    "            \n",
    "        self.result = []\n",
    "        subset = []\n",
    "        visited = [False for _ in range(n)]\n",
    "        \n",
    "        self.dfs(n, visited, subset)\n",
    "        \n",
    "        return self.result\n",
    "        \n",
    "    def dfs(self, n, visited, subset):\n",
    "        \n",
    "        if len(subset) == n:\n",
    "            string_output = []\n",
    "            for j in range(len(subset)):\n",
    "                string = ['.'] * n \n",
    "                string[subset[j]] = 'Q'\n",
    "                string_output.append(\"{}\".format(''.join(string)))\n",
    "            self.result.append(string_output)\n",
    "            return\n",
    "        \n",
    "        for i in range(0, n):\n",
    "            \n",
    "            if (visited[i]) or (not self.isValid(i, subset)):\n",
    "                continue\n",
    "            \n",
    "            subset.append(i)\n",
    "            visited[i] = True\n",
    "            self.dfs(n, visited.copy(), subset.copy())\n",
    "            subset.pop()\n",
    "            visited[i] = False\n",
    "        \n",
    "    def isValid(self, i, subset):\n",
    "                                     \n",
    "        for j in range(len(subset)):\n",
    "            \n",
    "            if subset[j] - j == i - len(subset):\n",
    "                return False\n",
    "                \n",
    "            if j + subset[j] == len(subset) + i:\n",
    "                return False\n",
    "            \n",
    "        return True"
   ]
  },
  {
   "cell_type": "code",
   "execution_count": 666,
   "metadata": {
    "collapsed": true,
    "deletable": true,
    "editable": true
   },
   "outputs": [],
   "source": [
    "test = Solution()"
   ]
  },
  {
   "cell_type": "code",
   "execution_count": 667,
   "metadata": {
    "collapsed": false,
    "deletable": true,
    "editable": true
   },
   "outputs": [
    {
     "name": "stdout",
     "output_type": "stream",
     "text": [
      "[]\n",
      "[0]\n",
      "[0, 2]\n",
      "[0, 3]\n",
      "[0, 3, 1]\n",
      "[1]\n",
      "[1, 3]\n",
      "[1, 3, 0]\n",
      "[1, 3, 0, 2]\n",
      "[2]\n",
      "[2, 0]\n",
      "[2, 0, 3]\n",
      "[2, 0, 3, 1]\n",
      "[3]\n",
      "[3, 0]\n",
      "[3, 0, 2]\n",
      "[3, 1]\n"
     ]
    },
    {
     "data": {
      "text/plain": [
       "[['.Q..', '...Q', 'Q...', '..Q.'], ['..Q.', 'Q...', '...Q', '.Q..']]"
      ]
     },
     "execution_count": 667,
     "metadata": {},
     "output_type": "execute_result"
    }
   ],
   "source": [
    "test.solveNQueens(4)"
   ]
  },
  {
   "cell_type": "code",
   "execution_count": 674,
   "metadata": {
    "collapsed": false,
    "deletable": true,
    "editable": true
   },
   "outputs": [
    {
     "ename": "ValueError",
     "evalue": "empty separator",
     "output_type": "error",
     "traceback": [
      "\u001b[0;31m---------------------------------------------------------------------------\u001b[0m",
      "\u001b[0;31mValueError\u001b[0m                                Traceback (most recent call last)",
      "\u001b[0;32m<ipython-input-674-b68a20cb8771>\u001b[0m in \u001b[0;36m<module>\u001b[0;34m()\u001b[0m\n\u001b[1;32m      1\u001b[0m \u001b[0ma\u001b[0m \u001b[0;34m=\u001b[0m \u001b[0;34m\"19:34\"\u001b[0m\u001b[0;34m\u001b[0m\u001b[0m\n\u001b[0;32m----> 2\u001b[0;31m \u001b[0ma\u001b[0m\u001b[0;34m.\u001b[0m\u001b[0msplit\u001b[0m\u001b[0;34m(\u001b[0m\u001b[0;34m''\u001b[0m\u001b[0;34m)\u001b[0m\u001b[0;34m\u001b[0m\u001b[0m\n\u001b[0m",
      "\u001b[0;31mValueError\u001b[0m: empty separator"
     ]
    }
   ],
   "source": [
    "a = \"19:34\"\n",
    "a.split"
   ]
  },
  {
   "cell_type": "code",
   "execution_count": 675,
   "metadata": {
    "collapsed": false,
    "deletable": true,
    "editable": true
   },
   "outputs": [
    {
     "data": {
      "text/plain": [
       "[1, 9, 3, 4]"
      ]
     },
     "execution_count": 675,
     "metadata": {},
     "output_type": "execute_result"
    }
   ],
   "source": [
    "[int(s) for s in a if '0' <= s <= '9']"
   ]
  },
  {
   "cell_type": "code",
   "execution_count": 768,
   "metadata": {
    "collapsed": false,
    "deletable": true,
    "editable": true
   },
   "outputs": [],
   "source": [
    "class Solution:\n",
    "    \"\"\"\n",
    "    @param pattern: a string,denote pattern string\n",
    "    @param str: a string, denote matching string\n",
    "    @return: a boolean\n",
    "    \"\"\"\n",
    "    def wordPatternMatch(self, pattern, str):\n",
    "        # write your code here\n",
    "        \n",
    "        if (str is None) or (len(str) == 0):\n",
    "            return False\n",
    "            \n",
    "        map_p_s = {}\n",
    "        tested = set()\n",
    "        subset = []\n",
    "    \n",
    "        return self.findMatch(pattern, str, map_p_s, tested, subset)\n",
    "        \n",
    "    def findMatch(self, pattern, str, map_p_s, tested, subset):\n",
    "        \n",
    "        if len(pattern) == 0:\n",
    "            return len(str) == 0\n",
    "            \n",
    "        if pattern[0] in map_p_s:\n",
    "            if str[:len(map_p_s[pattern[0]])] != map_p_s[pattern[0]]:\n",
    "                return False\n",
    "            return self.findMatch(pattern[1:], str[len(map_p_s[pattern[0]]):], map_p_s.copy(), tested.copy(), subset.copy())\n",
    "        \n",
    "        for i in range(1, len(str)+1):\n",
    "\n",
    "            if str[:i] in tested:\n",
    "                continue\n",
    "            else:\n",
    "                prefix = str[:i]\n",
    "                map_p_s[pattern[0]] = prefix\n",
    "                tested.add(prefix)\n",
    "                subset.append(prefix)\n",
    "                self.findMatch(pattern[1:], str[i:], map_p_s.copy(), tested.copy(), subset.copy())\n",
    "                tested.remove(prefix)\n",
    "                subset.pop()\n",
    "                del map_p_s[pattern[0]]"
   ]
  },
  {
   "cell_type": "code",
   "execution_count": 769,
   "metadata": {
    "collapsed": false,
    "deletable": true,
    "editable": true
   },
   "outputs": [],
   "source": [
    "test = Solution()\n",
    "test.wordPatternMatch(\"d\", \"ef\")"
   ]
  },
  {
   "cell_type": "code",
   "execution_count": 807,
   "metadata": {
    "collapsed": true,
    "deletable": true,
    "editable": true
   },
   "outputs": [],
   "source": [
    "import collections\n",
    "\n",
    "class Stack:\n",
    "    \"\"\"\n",
    "    @param: x: An integer\n",
    "    @return: nothing\n",
    "    \"\"\"\n",
    "    def __init__(self):\n",
    "        \n",
    "        self.q1 = collections.deque([])\n",
    "        self.q2 = collections.deque([])\n",
    "        \n",
    "    def push(self, x):\n",
    "        # write your code here\n",
    "        self.q1.append(x)\n",
    "\n",
    "    \"\"\"\n",
    "    @return: nothing\n",
    "    \"\"\"\n",
    "    def pop(self):\n",
    "        # write your code here\n",
    "        while len(self.q1)>1:\n",
    "            print(self.q1)\n",
    "            self.q2.append(self.q1.popleft())\n",
    "        \n",
    "        result = self.q1.popleft()\n",
    "        tmp = self.q1\n",
    "        self.q1 = self.q2\n",
    "        self.q2 = self.q1\n",
    "        \n",
    "        return result\n",
    "\n",
    "    \"\"\"\n",
    "    @return: An integer\n",
    "    \"\"\"\n",
    "    def top(self):\n",
    "        # write your code here\n",
    "        pop_len = len(self.q1)\n",
    "        for _ in range(pop_len):\n",
    "            self.q2.append(self.q1.popleft())\n",
    "        \n",
    "        result = self.q1.popleft()\n",
    "        self.q2.append(result)\n",
    "        tmp = self.q1\n",
    "        self.q1 = self.q2\n",
    "        self.q2 = self.q1\n",
    "        \n",
    "        return result\n",
    "\n",
    "    \"\"\"\n",
    "    @return: True if the stack is empty\n",
    "    \"\"\"\n",
    "    def isEmpty(self):\n",
    "        # write your code here\n",
    "        return len(self.q1) == 0\n"
   ]
  },
  {
   "cell_type": "code",
   "execution_count": 808,
   "metadata": {
    "collapsed": false,
    "deletable": true,
    "editable": true
   },
   "outputs": [],
   "source": [
    "test = Stack()"
   ]
  },
  {
   "cell_type": "code",
   "execution_count": 810,
   "metadata": {
    "collapsed": false,
    "deletable": true,
    "editable": true
   },
   "outputs": [
    {
     "data": {
      "text/plain": [
       "2"
      ]
     },
     "execution_count": 810,
     "metadata": {},
     "output_type": "execute_result"
    }
   ],
   "source": [
    "test.push(1)\n",
    "test.pop()\n",
    "test.push(2)\n",
    "test.isEmpty()\n",
    "test.top()\n"
   ]
  },
  {
   "cell_type": "code",
   "execution_count": 814,
   "metadata": {
    "collapsed": false,
    "deletable": true,
    "editable": true
   },
   "outputs": [],
   "source": [
    "a = [[] for _ in range(10 * 3)]"
   ]
  },
  {
   "cell_type": "code",
   "execution_count": 819,
   "metadata": {
    "collapsed": false,
    "deletable": true,
    "editable": true
   },
   "outputs": [
    {
     "data": {
      "text/plain": [
       "{'a': None, 'b': None, 'c': None}"
      ]
     },
     "execution_count": 819,
     "metadata": {},
     "output_type": "execute_result"
    }
   ],
   "source": [
    "keys = ['a', 'b', 'c']\n",
    "dict.fromkeys(keys)"
   ]
  },
  {
   "cell_type": "code",
   "execution_count": 828,
   "metadata": {
    "collapsed": false,
    "deletable": true,
    "editable": true
   },
   "outputs": [
    {
     "data": {
      "text/plain": [
       "'aaab'"
      ]
     },
     "execution_count": 828,
     "metadata": {},
     "output_type": "execute_result"
    }
   ],
   "source": [
    "len()''.join(['aa', 'a', 'b'])"
   ]
  },
  {
   "cell_type": "code",
   "execution_count": 845,
   "metadata": {
    "collapsed": false
   },
   "outputs": [],
   "source": [
    "board = [\n",
    "  \"ABCE\",\n",
    "  \"SFCS\",\n",
    "  \"ADEE\"\n",
    "]\n",
    "board_list = [list(string) for string in board]"
   ]
  },
  {
   "cell_type": "code",
   "execution_count": 847,
   "metadata": {
    "collapsed": false
   },
   "outputs": [
    {
     "data": {
      "text/plain": [
       "[['A', 'B', 'C', 'E'], ['S', 'F', 'C', 'S'], ['A', 'D', 'E', 'E']]"
      ]
     },
     "execution_count": 847,
     "metadata": {},
     "output_type": "execute_result"
    }
   ],
   "source": [
    "board_list"
   ]
  },
  {
   "cell_type": "code",
   "execution_count": 849,
   "metadata": {
    "collapsed": false
   },
   "outputs": [
    {
     "name": "stdout",
     "output_type": "stream",
     "text": [
      "Object `index` not found.\n"
     ]
    }
   ],
   "source": [
    "board_list[0].index?"
   ]
  },
  {
   "cell_type": "code",
   "execution_count": null,
   "metadata": {
    "collapsed": true
   },
   "outputs": [],
   "source": [
    "board_list[0].index"
   ]
  },
  {
   "cell_type": "code",
   "execution_count": null,
   "metadata": {
    "collapsed": true
   },
   "outputs": [],
   "source": []
  }
 ],
 "metadata": {
  "kernelspec": {
   "display_name": "Python 3",
   "language": "python",
   "name": "python3"
  },
  "language_info": {
   "codemirror_mode": {
    "name": "ipython",
    "version": 3
   },
   "file_extension": ".py",
   "mimetype": "text/x-python",
   "name": "python",
   "nbconvert_exporter": "python",
   "pygments_lexer": "ipython3",
   "version": "3.5.2"
  }
 },
 "nbformat": 4,
 "nbformat_minor": 2
}
