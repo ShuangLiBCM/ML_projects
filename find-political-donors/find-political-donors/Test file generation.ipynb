{
 "cells": [
  {
   "cell_type": "code",
   "execution_count": 166,
   "metadata": {
    "collapsed": false,
    "deletable": true,
    "editable": true
   },
   "outputs": [],
   "source": [
    "from datetime import date\n",
    "import random\n",
    "\n",
    "# Generate total test data size as: 20*10*5 = 1000\n",
    "# Simulate CMTE_ID\n",
    "correct_reci = 20\n",
    "wrong_reci = 20\n",
    "reci_list = []\n",
    "\n",
    "for i in range(correct_reci):\n",
    "    reci_list.append(''.join(random.choice('0123456789ABCDEFG') for i in range(9)))\n",
    "    \n",
    "for i in range(wrong_reci):\n",
    "    reci_list.append('')\n",
    "\n",
    "# Simulate ZIP\n",
    "correct_zip = 10\n",
    "wrong_zip = 10\n",
    "zip_list = []\n",
    "\n",
    "for i in range(correct_zip):\n",
    "    zip_list.append(''.join(random.choice('0123456789') for i in range(9)))\n",
    "    \n",
    "for i in range(wrong_zip):\n",
    "    if i < wrong_zip//2:\n",
    "        zip_list.append(str(random.randint(1,500)))\n",
    "    else: \n",
    "        zip_list.append(''.join(random.choice('0123456789ABCDEFG') for i in range(5)))\n",
    "\n",
    "# Simulate Trans_DT\n",
    "correct_date = 5\n",
    "wrong_date = 5\n",
    "date_list = []\n",
    "\n",
    "for i in range(correct_date):\n",
    "    m, d, y = true_date_gen()\n",
    "    date_list.append(''.join([m, d, y]))\n",
    "    \n",
    "for i in range(wrong_date):\n",
    "    m, d, y = false_date_gen()\n",
    "    date_list.append(''.join([m, d, y]))\n",
    "\n",
    "# Simulate Other_ID\n",
    "ttl_correct_case = correct_reci * correct_zip * correct_date\n",
    "\n",
    "correct_ID = 4000\n",
    "wrong_ID = 4000\n",
    "ID_list = []\n",
    "    \n",
    "for i in range(correct_ID):\n",
    "    ID_list.append('')\n",
    "for i in range(wrong_ID):\n",
    "    ID_list.append(''.join(random.choice('0123456789ABCDEFG') for i in range(9)))\n"
   ]
  },
  {
   "cell_type": "code",
   "execution_count": 167,
   "metadata": {
    "collapsed": true,
    "deletable": true,
    "editable": true
   },
   "outputs": [],
   "source": [
    "# cd /notebooks/find-political-donors/insight_testsuite/tests/test_1/input/"
   ]
  },
  {
   "cell_type": "code",
   "execution_count": 177,
   "metadata": {
    "collapsed": false
   },
   "outputs": [
    {
     "ename": "NameError",
     "evalue": "name 'num_case' is not defined",
     "output_type": "error",
     "traceback": [
      "\u001b[0;31m---------------------------------------------------------------------------\u001b[0m",
      "\u001b[0;31mNameError\u001b[0m                                 Traceback (most recent call last)",
      "\u001b[0;32m<ipython-input-177-7462b8fc2fdc>\u001b[0m in \u001b[0;36m<module>\u001b[0;34m()\u001b[0m\n\u001b[0;32m----> 1\u001b[0;31m \u001b[0mrandom\u001b[0m\u001b[0;34m.\u001b[0m\u001b[0mrandint\u001b[0m\u001b[0;34m(\u001b[0m\u001b[0;36m1\u001b[0m\u001b[0;34m,\u001b[0m\u001b[0mnum_case\u001b[0m\u001b[0;34m)\u001b[0m\u001b[0;34m\u001b[0m\u001b[0m\n\u001b[0m",
      "\u001b[0;31mNameError\u001b[0m: name 'num_case' is not defined"
     ]
    }
   ],
   "source": [
    "random.randint(1,num_case)"
   ]
  },
  {
   "cell_type": "code",
   "execution_count": 168,
   "metadata": {
    "collapsed": false,
    "deletable": true,
    "editable": true
   },
   "outputs": [],
   "source": [
    "text_file = open('itcont.txt')\n",
    "itcont_keep = text_file.read().split('\\n')[0]"
   ]
  },
  {
   "cell_type": "code",
   "execution_count": 175,
   "metadata": {
    "collapsed": false,
    "deletable": true,
    "editable": true
   },
   "outputs": [],
   "source": [
    "test_data = []\n",
    "count = 1\n",
    "for i in range(len(reci_list)):\n",
    "    for j in range(len(zip_list)):\n",
    "        for k in range(len(date_list)):\n",
    "            itcont_samp = itcont_keep.split('|')\n",
    "            itcont_samp[0] = reci_list[i]\n",
    "            itcont_samp[10] = zip_list[j]\n",
    "            itcont_samp[13] = date_list[k]\n",
    "            itcont_samp[15] = ID_list[count-1]\n",
    "            itcont_samp[14] = str(random.randint(0,100))\n",
    "            count = count + 1\n",
    "            test_data.append('|'.join(itcont_samp))\n",
    "            \n",
    "test_data = '\\n'.join(test_data)"
   ]
  },
  {
   "cell_type": "code",
   "execution_count": 176,
   "metadata": {
    "collapsed": false,
    "deletable": true,
    "editable": true
   },
   "outputs": [],
   "source": [
    "with open(\"Test_File.txt\", \"w\") as test_file:\n",
    "    test_file.write(test_data)"
   ]
  },
  {
   "cell_type": "code",
   "execution_count": 123,
   "metadata": {
    "collapsed": false,
    "deletable": true,
    "editable": true
   },
   "outputs": [],
   "source": [
    "# Provide several solutions based on potential complication in the data\n",
    "# Location based: Given the information that the incoming data will always follow the FEC format, we will used | splitter and location\n",
    "# To prepare the data\n",
    "def info_extract(FEC_list):\n",
    "    \"\"\"\n",
    "    input: list of strings, representing every single enter from the input file,\n",
    "    output: length 5 dict\n",
    "    \"\"\"\n",
    "    # Check if length of the list is correct:\n",
    "    if len(FEC_list)<21:\n",
    "        return\n",
    "    \n",
    "    str_comb = FEC_list[10]+FEC_list[13]\n",
    "    if (len(FEC_list[15])==0)&(len(FEC_list[0])>0)&(len(FEC_list[13])>0)&(len(FEC_list[14])>0):\n",
    "        key_info = {}\n",
    "        key_info['CMTE_ID'] = FEC_list[0]\n",
    "        key_info['ZIP_CODE'] = FEC_list[10][:5]\n",
    "        key_info['TRANSACTION_DT'] = FEC_list[13]\n",
    "        key_info['TRANSACTION_AMT'] = FEC_list[14]\n",
    "        key_info['OTHER_ID'] = FEC_list[15]\n",
    "        return key_info\n",
    "    else:\n",
    "        return"
   ]
  },
  {
   "cell_type": "code",
   "execution_count": 116,
   "metadata": {
    "collapsed": false,
    "deletable": true,
    "editable": true
   },
   "outputs": [
    {
     "ename": "NameError",
     "evalue": "name 'itcont' is not defined",
     "output_type": "error",
     "traceback": [
      "\u001b[0;31m---------------------------------------------------------------------------\u001b[0m",
      "\u001b[0;31mNameError\u001b[0m                                 Traceback (most recent call last)",
      "\u001b[0;32m<ipython-input-116-94c177f4b83c>\u001b[0m in \u001b[0;36m<module>\u001b[0;34m()\u001b[0m\n\u001b[1;32m      3\u001b[0m \u001b[0;32mwhile\u001b[0m \u001b[0;34m(\u001b[0m\u001b[0mi\u001b[0m\u001b[0;34m+\u001b[0m\u001b[0;36m1\u001b[0m\u001b[0;34m)\u001b[0m\u001b[0;34m*\u001b[0m\u001b[0;36m21\u001b[0m \u001b[0;34m<\u001b[0m \u001b[0mlen\u001b[0m\u001b[0;34m(\u001b[0m\u001b[0mtest_data\u001b[0m\u001b[0;34m)\u001b[0m\u001b[0;34m+\u001b[0m\u001b[0;36m1\u001b[0m\u001b[0;34m:\u001b[0m\u001b[0;34m\u001b[0m\u001b[0m\n\u001b[1;32m      4\u001b[0m     \u001b[0;31m#print(itcont[i*21: (i+1)*21])\u001b[0m\u001b[0;34m\u001b[0m\u001b[0;34m\u001b[0m\u001b[0m\n\u001b[0;32m----> 5\u001b[0;31m     \u001b[0mprint\u001b[0m\u001b[0;34m(\u001b[0m\u001b[0minfo_extract\u001b[0m\u001b[0;34m(\u001b[0m\u001b[0mitcont\u001b[0m\u001b[0;34m[\u001b[0m\u001b[0mi\u001b[0m\u001b[0;34m*\u001b[0m\u001b[0;36m21\u001b[0m\u001b[0;34m:\u001b[0m \u001b[0;34m(\u001b[0m\u001b[0mi\u001b[0m\u001b[0;34m+\u001b[0m\u001b[0;36m1\u001b[0m\u001b[0;34m)\u001b[0m\u001b[0;34m*\u001b[0m\u001b[0;36m21\u001b[0m\u001b[0;34m]\u001b[0m\u001b[0;34m)\u001b[0m\u001b[0;34m)\u001b[0m\u001b[0;34m\u001b[0m\u001b[0m\n\u001b[0m\u001b[1;32m      6\u001b[0m     \u001b[0mi\u001b[0m\u001b[0;34m+=\u001b[0m\u001b[0;36m1\u001b[0m\u001b[0;34m\u001b[0m\u001b[0m\n",
      "\u001b[0;31mNameError\u001b[0m: name 'itcont' is not defined"
     ]
    }
   ],
   "source": [
    "# Visualize the current splitting results\n",
    "i=0\n",
    "while (i+1)*21 < len(test_data)+1:\n",
    "    #print(itcont[i*21: (i+1)*21])\n",
    "    print(info_extract(test_data[i*21: (i+1)*21]))\n",
    "    i+=1"
   ]
  },
  {
   "cell_type": "code",
   "execution_count": 69,
   "metadata": {
    "collapsed": false,
    "deletable": true,
    "editable": true
   },
   "outputs": [
    {
     "ename": "IndexError",
     "evalue": "list index out of range",
     "output_type": "error",
     "traceback": [
      "\u001b[0;31m---------------------------------------------------------------------------\u001b[0m",
      "\u001b[0;31mIndexError\u001b[0m                                Traceback (most recent call last)",
      "\u001b[0;32m<ipython-input-69-b106d9e436bf>\u001b[0m in \u001b[0;36m<module>\u001b[0;34m()\u001b[0m\n\u001b[0;32m----> 1\u001b[0;31m \u001b[0mdate_list\u001b[0m\u001b[0;34m[\u001b[0m\u001b[0mi\u001b[0m\u001b[0;34m]\u001b[0m\u001b[0;34m\u001b[0m\u001b[0m\n\u001b[0m",
      "\u001b[0;31mIndexError\u001b[0m: list index out of range"
     ]
    }
   ],
   "source": [
    "date_list[i]"
   ]
  },
  {
   "cell_type": "code",
   "execution_count": 61,
   "metadata": {
    "collapsed": false,
    "deletable": true,
    "editable": true
   },
   "outputs": [
    {
     "data": {
      "text/plain": [
       "['C00629618',\n",
       " 'N',\n",
       " 'TER',\n",
       " 'P',\n",
       " '201701230300133512',\n",
       " '15C',\n",
       " 'IND',\n",
       " 'PEREZ, JOHN A',\n",
       " 'LOS ANGELES',\n",
       " 'CA',\n",
       " '90017',\n",
       " 'PRINCIPAL',\n",
       " 'DOUBLE NICKEL ADVISORS',\n",
       " '01032017',\n",
       " '40',\n",
       " 'H6CA34245',\n",
       " 'SA01251735122',\n",
       " '1141239',\n",
       " '',\n",
       " '',\n",
       " '2012520171368850783']"
      ]
     },
     "execution_count": 61,
     "metadata": {},
     "output_type": "execute_result"
    }
   ],
   "source": [
    "itcont_list.split('|')"
   ]
  },
  {
   "cell_type": "code",
   "execution_count": 21,
   "metadata": {
    "collapsed": true,
    "deletable": true,
    "editable": true
   },
   "outputs": [],
   "source": [
    "random_day = date.fromordinal(random.randint(start_date, end_date))"
   ]
  },
  {
   "cell_type": "code",
   "execution_count": 23,
   "metadata": {
    "collapsed": false,
    "deletable": true,
    "editable": true
   },
   "outputs": [
    {
     "data": {
      "text/plain": [
       "2017"
      ]
     },
     "execution_count": 23,
     "metadata": {},
     "output_type": "execute_result"
    }
   ],
   "source": [
    "random_day.year"
   ]
  },
  {
   "cell_type": "code",
   "execution_count": 27,
   "metadata": {
    "collapsed": false,
    "deletable": true,
    "editable": true
   },
   "outputs": [
    {
     "ename": "TypeError",
     "evalue": "'module' object is not callable",
     "output_type": "error",
     "traceback": [
      "\u001b[0;31m---------------------------------------------------------------------------\u001b[0m",
      "\u001b[0;31mTypeError\u001b[0m                                 Traceback (most recent call last)",
      "\u001b[0;32m<ipython-input-27-1f8a42ab0e97>\u001b[0m in \u001b[0;36m<module>\u001b[0;34m()\u001b[0m\n\u001b[0;32m----> 1\u001b[0;31m \u001b[0mrandom\u001b[0m\u001b[0;34m(\u001b[0m\u001b[0;34m)\u001b[0m\u001b[0;34m\u001b[0m\u001b[0m\n\u001b[0m",
      "\u001b[0;31mTypeError\u001b[0m: 'module' object is not callable"
     ]
    }
   ],
   "source": []
  },
  {
   "cell_type": "code",
   "execution_count": 28,
   "metadata": {
    "collapsed": false,
    "deletable": true,
    "editable": true
   },
   "outputs": [],
   "source": [
    "def true_date_gen():\n",
    "    start_date = date.today().replace(day=1, month=1, year=1900).toordinal()\n",
    "    end_date = date.today().toordinal()\n",
    "    random_day = date.fromordinal(random.randint(start_date, end_date))\n",
    "    \n",
    "    return date_to_str(random_day.month), date_to_str(random_day.day), date_to_str(random_day.year)\n",
    "\n",
    "def false_date_gen():\n",
    "    month = random.randint(13,30)\n",
    "    day = random.randint(31,200)\n",
    "    year = random.randint(100, 3000)\n",
    "    \n",
    "    if month < 15:\n",
    "        month = 0\n",
    "    \n",
    "    return date_to_str(month), date_to_str(day), date_to_str(year)\n",
    "\n",
    "def date_to_str(num_info):\n",
    "    if num_info < 10:\n",
    "        return '0'+str(num_info)\n",
    "    else:\n",
    "        return str(num_info)"
   ]
  },
  {
   "cell_type": "code",
   "execution_count": 9,
   "metadata": {
    "collapsed": false,
    "deletable": true,
    "editable": true
   },
   "outputs": [
    {
     "data": {
      "text/plain": [
       "12"
      ]
     },
     "execution_count": 9,
     "metadata": {},
     "output_type": "execute_result"
    }
   ],
   "source": [
    "random_day.day"
   ]
  },
  {
   "cell_type": "code",
   "execution_count": null,
   "metadata": {
    "collapsed": true,
    "deletable": true,
    "editable": true
   },
   "outputs": [],
   "source": []
  }
 ],
 "metadata": {
  "kernelspec": {
   "display_name": "Python 3",
   "language": "python",
   "name": "python3"
  },
  "language_info": {
   "codemirror_mode": {
    "name": "ipython",
    "version": 3
   },
   "file_extension": ".py",
   "mimetype": "text/x-python",
   "name": "python",
   "nbconvert_exporter": "python",
   "pygments_lexer": "ipython3",
   "version": "3.5.2"
  }
 },
 "nbformat": 4,
 "nbformat_minor": 2
}
