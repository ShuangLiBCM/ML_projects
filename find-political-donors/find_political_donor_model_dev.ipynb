{
 "cells": [
  {
   "cell_type": "code",
   "execution_count": 1,
   "metadata": {
    "collapsed": true
   },
   "outputs": [],
   "source": [
    "import numpy as np"
   ]
  },
  {
   "cell_type": "code",
   "execution_count": 2,
   "metadata": {
    "collapsed": false,
    "deletable": true,
    "editable": true
   },
   "outputs": [
    {
     "name": "stdout",
     "output_type": "stream",
     "text": [
      "/notebooks/find-political-donors_beta/insight_testsuite/tests/test_1/input\n"
     ]
    }
   ],
   "source": [
    "cd insight_testsuite/tests/test_1/input/"
   ]
  },
  {
   "cell_type": "code",
   "execution_count": 3,
   "metadata": {
    "collapsed": false,
    "deletable": true,
    "editable": true
   },
   "outputs": [],
   "source": [
    "text_file = open('itcont.txt')\n",
    "itcont_list = text_file.read().split('\\n')"
   ]
  },
  {
   "cell_type": "code",
   "execution_count": 4,
   "metadata": {
    "collapsed": false
   },
   "outputs": [
    {
     "data": {
      "text/plain": [
       "8"
      ]
     },
     "execution_count": 4,
     "metadata": {},
     "output_type": "execute_result"
    }
   ],
   "source": [
    "len(itcont_list)"
   ]
  },
  {
   "cell_type": "code",
   "execution_count": 5,
   "metadata": {
    "collapsed": false
   },
   "outputs": [
    {
     "data": {
      "text/plain": [
       "['C00629618|N|TER|P|201701230300133512|15C|IND|PEREZ, JOHN A|LOS ANGELES|CA|90017|PRINCIPAL|DOUBLE NICKEL ADVISORS|01032017|40|H6CA34245|SA01251735122|1141239|||2012520171368850783',\n",
       " 'C00177436|N|M2|P|201702039042410894|15|IND|DEEHAN, WILLIAM N|ALPHARETTA|GA|300047357|UNUM|SVP, SALES, CL|01312017|384||PR2283873845050|1147350||P/R DEDUCTION ($192.00 BI-WEEKLY)|4020820171370029337',\n",
       " 'C00384818|N|M2|P|201702039042412112|15|IND|ABBOTT, JOSEPH|WOONSOCKET|RI|028956146|CVS HEALTH|VP, RETAIL PHARMACY OPS|01122017|250||2017020211435-887|1147467|||4020820171370030285',\n",
       " 'C00177436|N|M2|P|201702039042410893|15|IND|SABOURIN, JAMES|LOOKOUT MOUNTAIN|GA|307502818|UNUM|SVP, CORPORATE COMMUNICATIONS|01312017|230||PR1890575345050|1147350||P/R DEDUCTION ($115.00 BI-WEEKLY)|4020820171370029335',\n",
       " 'C00177436|N|M2|P|201702039042410895|15|IND|JEROME, CHRISTOPHER|FALMOUTH|ME|041051896|UNUM|EVP, GLOBAL SERVICES|01312017|384||PR2283905245050|1147350||P/R DEDUCTION ($192.00 BI-WEEKLY)|4020820171370029342',\n",
       " 'C00384818|N|M2|P|201702039042412112|15|IND|BAKER, SCOTT|WOONSOCKET|RI|028956146|CVS HEALTH|EVP, HEAD OF RETAIL OPERATIONS|01122017|333||2017020211435-910|1147467|||4020820171370030287',\n",
       " 'C00177436|N|M2|P|201702039042410894|15|IND|FOLEY, JOSEPH|FALMOUTH|ME|041051935|UNUM|SVP, CORP MKTG & PUBLIC RELAT.|01312017|384||PR2283904845050|1147350||P/R DEDUCTION ($192.00 BI-WEEKLY)|4020820171370029339',\n",
       " '']"
      ]
     },
     "execution_count": 5,
     "metadata": {},
     "output_type": "execute_result"
    }
   ],
   "source": [
    "itcont_list"
   ]
  },
  {
   "cell_type": "code",
   "execution_count": 6,
   "metadata": {
    "collapsed": true
   },
   "outputs": [],
   "source": [
    "# Provide several solutions based on potential complication in the data\n",
    "# Location based: Given the information that the incoming data will always follow the FEC format, we will used | splitter and location\n",
    "# To prepare the data\n",
    "def info_extract(FEC_list):\n",
    "    \"\"\"\n",
    "    Read items delimited by '|' for each entry and keep only the core info\n",
    "    --------------\n",
    "    input: \n",
    "    FEC_list: list of strings, representing one single entry from the input file,\n",
    "    output: \n",
    "    key_info: length 5 dict \n",
    "    or empty\n",
    "    \"\"\"\n",
    "    # Check if length of the list is correct:\n",
    "    if len(FEC_list) < 21:\n",
    "        return\n",
    "\n",
    "    # Check validity of Other_ID, CMTE_ID, TRANSACTION_DT and TRANSACTION_AMT\n",
    "    if (len(FEC_list[15]) == 0) & (len(FEC_list[0]) > 0) & (len(FEC_list[13]) > 0) & (len(FEC_list[14]) > 0):\n",
    "        key_info = {}\n",
    "        key_info['CMTE_ID'] = FEC_list[0]\n",
    "        key_info['ZIP_CODE'] = FEC_list[10][:5]\n",
    "        key_info['TRANSACTION_DT'] = FEC_list[13]\n",
    "        key_info['TRANSACTION_AMT'] = FEC_list[14]\n",
    "        key_info['OTHER_ID'] = FEC_list[15]\n",
    "        return key_info\n",
    "    else:\n",
    "        return"
   ]
  },
  {
   "cell_type": "code",
   "execution_count": 10,
   "metadata": {
    "collapsed": false,
    "deletable": true,
    "editable": true,
    "scrolled": false
   },
   "outputs": [
    {
     "name": "stdout",
     "output_type": "stream",
     "text": [
      "None\n",
      "{'OTHER_ID': '', 'TRANSACTION_AMT': '384', 'ZIP_CODE': '30004', 'CMTE_ID': 'C00177436', 'TRANSACTION_DT': '01312017'}\n",
      "{'OTHER_ID': '', 'TRANSACTION_AMT': '250', 'ZIP_CODE': '02895', 'CMTE_ID': 'C00384818', 'TRANSACTION_DT': '01122017'}\n",
      "{'OTHER_ID': '', 'TRANSACTION_AMT': '230', 'ZIP_CODE': '30750', 'CMTE_ID': 'C00177436', 'TRANSACTION_DT': '01312017'}\n",
      "{'OTHER_ID': '', 'TRANSACTION_AMT': '384', 'ZIP_CODE': '04105', 'CMTE_ID': 'C00177436', 'TRANSACTION_DT': '01312017'}\n",
      "{'OTHER_ID': '', 'TRANSACTION_AMT': '333', 'ZIP_CODE': '02895', 'CMTE_ID': 'C00384818', 'TRANSACTION_DT': '01122017'}\n",
      "{'OTHER_ID': '', 'TRANSACTION_AMT': '384', 'ZIP_CODE': '04105', 'CMTE_ID': 'C00177436', 'TRANSACTION_DT': '01312017'}\n"
     ]
    }
   ],
   "source": [
    "# Visualize the current splitting results\n",
    "itcont = '|'.join(itcont_list).split('|')\n",
    "itcont = itcont[:-1]    # Remove the space at the end, the final length of list should be n * 21\n",
    "i=0\n",
    "while (i+1)*21 < len(itcont)+1:\n",
    "    #print(itcont[i*21: (i+1)*21])\n",
    "    print(info_extract(itcont[i*21: (i+1)*21]))\n",
    "    i+=1"
   ]
  },
  {
   "cell_type": "code",
   "execution_count": 8,
   "metadata": {
    "collapsed": false,
    "deletable": true,
    "editable": true
   },
   "outputs": [],
   "source": [
    "def median_zip_old(itcont_list):\n",
    "    \"\"\"\n",
    "    input:\n",
    "        itcont_list: list, donation information entries\n",
    "    output:\n",
    "        output_by_zip: list of strings: 'recipient|zip|running_median|donation_number|total_donation'\n",
    "    \"\"\"\n",
    "    input_len = len(itcont_list)\n",
    "    dict_zip = {}\n",
    "    output_by_zip = []\n",
    "\n",
    "    for i in range(input_len):  # Perform serial processing for each entry\n",
    "        itcont = itcont_list[i].split('|')\n",
    "        core_info = info_extract(itcont)\n",
    "        if core_info is None:   # Check if the entry contains core information\n",
    "            continue\n",
    "\n",
    "        # Check if ZIP and tranaction amount is valid\n",
    "        try:\n",
    "            len_check = core_info['ZIP_CODE'][4]  # check if 'ZIP_CODE' has at least 5 characters\n",
    "            zip_code = int(core_info['ZIP_CODE'])  # check if 'ZIP_CODE' contains only digit\n",
    "            trans_amt = int(core_info['TRANSACTION_AMT'])  # check if 'TRANSACTION_AMT' contains only digit\n",
    "        except:\n",
    "            continue\n",
    "\n",
    "        # Create one dictionary for each recipient and zip\n",
    "        key = core_info['CMTE_ID'] + core_info['ZIP_CODE']\n",
    "        # Update the dictionary with new transaction amount\n",
    "        if key not in dict_zip:       # First entry, initiate the list\n",
    "            list_zip = []\n",
    "        else:\n",
    "            list_zip = dict_zip[key]\n",
    "\n",
    "        # Obtain the running median given the current information and new transaction_amount\n",
    "        print(\"trans_amt={a}, list_zip={b}\".format(a=trans_amt, b=list_zip))"
   ]
  },
  {
   "cell_type": "code",
   "execution_count": 65,
   "metadata": {
    "collapsed": false
   },
   "outputs": [
    {
     "name": "stdout",
     "output_type": "stream",
     "text": [
      "trans_amt=384, list_zip=[]\n",
      "trans_amt=250, list_zip=[]\n",
      "trans_amt=230, list_zip=[]\n",
      "trans_amt=384, list_zip=[]\n",
      "trans_amt=333, list_zip=[]\n",
      "trans_amt=384, list_zip=[]\n"
     ]
    }
   ],
   "source": [
    "# Validate the information of key entry\n",
    "median_zip_old(itcont_list)"
   ]
  },
  {
   "cell_type": "code",
   "execution_count": null,
   "metadata": {
    "collapsed": true
   },
   "outputs": [],
   "source": [
    "def pop_in_arr_below(count_arr_below, value):\n",
    "    \"\"\"\n",
    "    input:\n",
    "        count_arr_below: list of integers, old below median heap\n",
    "        value: int, value to be popped into the below median heap\n",
    "    output:\n",
    "        count_arr_below: list of integers, new below median heap\n",
    "    \"\"\"\n",
    "    if value <= len(count_arr_below) - 1:\n",
    "        count_arr_below[value] += 1\n",
    "    else:\n",
    "        count_arr_below_max = len(count_arr_below) - 1\n",
    "        count_arr_below_new = [0] * (value + 1)\n",
    "        count_arr_below_new[:count_arr_below_max + 1] = count_arr_below\n",
    "        count_arr_below = count_arr_below_new\n",
    "        count_arr_below[len(count_arr_below) - 1] += 1\n",
    "\n",
    "    return count_arr_below"
   ]
  },
  {
   "cell_type": "code",
   "execution_count": null,
   "metadata": {
    "collapsed": true
   },
   "outputs": [],
   "source": [
    "# Test pop in array below\n",
    "value = np.array([4, 3, 1, 0])\n",
    "for i in range(len(value)):\n",
    "    count_arr_ori = np.array([1,2,3])\n",
    "    count_arr_below = pop_in_arr_below(count_arr_ori, value[i])\n",
    "    print('count_arr_below:{a}'.format(a=count_arr_below))"
   ]
  },
  {
   "cell_type": "code",
   "execution_count": 31,
   "metadata": {
    "collapsed": true
   },
   "outputs": [],
   "source": [
    "def pop_in_arr_above(count_arr_above, count_arr_above_min, value):\n",
    "    \"\"\"\n",
    "    input:\n",
    "        count_arr_above: list of integers, old above median heap\n",
    "        count_arr_above_min: int, the old value represented by location [0] of the above median heap\n",
    "        value: int, value to be popped into the below median heap\n",
    "    output:\n",
    "        count_arr_above: list of integers, new above median heap\n",
    "        count_arr_above_min: int, the new value represented by location [0] of the above median heap\n",
    "    \"\"\"\n",
    "    if count_arr_above_min <= value < count_arr_above_min + len(count_arr_above):\n",
    "        min_diff = value - count_arr_above_min\n",
    "        count_arr_above[min_diff] += 1\n",
    "    elif value >= count_arr_above_min + len(count_arr_above):\n",
    "        min_diff = value - (count_arr_above_min + len(count_arr_above) - 1)\n",
    "        count_arr_above_new = [0] * (len(count_arr_above) + min_diff)\n",
    "        count_arr_above_new[:len(count_arr_above)] = count_arr_above\n",
    "        count_arr_above_new[len(count_arr_above_new) - 1] += 1\n",
    "        count_arr_above = count_arr_above_new\n",
    "    else:\n",
    "        min_diff = count_arr_above_min - value\n",
    "        count_arr_above_new = [0] * (min_diff + len(count_arr_above))\n",
    "        count_arr_above_new[count_arr_above_min - value:] = count_arr_above\n",
    "        count_arr_above = count_arr_above_new\n",
    "        count_arr_above[0] += 1\n",
    "        count_arr_above_min = value\n",
    "    return count_arr_above, count_arr_above_min"
   ]
  },
  {
   "cell_type": "code",
   "execution_count": 34,
   "metadata": {
    "collapsed": false
   },
   "outputs": [
    {
     "name": "stdout",
     "output_type": "stream",
     "text": [
      "count_arr_above:[1, 1, 2, 3], count_arr_above_min:4\n",
      "count_arr_above:[2 2 3], count_arr_above_min:5\n",
      "count_arr_above:[1 3 3], count_arr_above_min:5\n",
      "count_arr_above:[1, 2, 3, 1], count_arr_above_min:5\n"
     ]
    }
   ],
   "source": [
    "# Test pop in array above\n",
    "value = np.array([4,5,6,8])\n",
    "for i in range(len(value)):\n",
    "    count_arr_ori = np.array([1,2,3])\n",
    "    count_arr_above_min_ori = 5\n",
    "    count_arr_above, count_arr_above_min = pop_in_arr_above(count_arr_ori, count_arr_above_min_ori, value[i])\n",
    "    print('count_arr_above:{a}, count_arr_above_min:{b}'.format(a=count_arr_above, b=count_arr_above_min))"
   ]
  },
  {
   "cell_type": "code",
   "execution_count": 43,
   "metadata": {
    "collapsed": true
   },
   "outputs": [],
   "source": [
    "def shrink_count_arr_below(count_arr_below):\n",
    "    \"\"\"\n",
    "    input:\n",
    "        count_arr_below: list of integers, old below median heap\n",
    "    output:\n",
    "        count_arr_below: list of integers, shrinked below median heap\n",
    "    \"\"\"\n",
    "    while count_arr_below[len(count_arr_below) - 1] == 0:\n",
    "        count_arr_below = count_arr_below[:len(count_arr_below) - 1]\n",
    "    return count_arr_below"
   ]
  },
  {
   "cell_type": "code",
   "execution_count": 44,
   "metadata": {
    "collapsed": false
   },
   "outputs": [
    {
     "name": "stdout",
     "output_type": "stream",
     "text": [
      "count_arr_below:[0 2 4 5 0 6]\n"
     ]
    }
   ],
   "source": [
    "# Test shrink_count_arr_below\n",
    "count_arr_below = np.array([0,2,4,5,0,6,0,0])\n",
    "print('count_arr_below:{a}'.format(a=shrink_count_arr_below(count_arr_below)))"
   ]
  },
  {
   "cell_type": "code",
   "execution_count": 45,
   "metadata": {
    "collapsed": true
   },
   "outputs": [],
   "source": [
    "def shrink_count_arr_above(count_arr_above, count_arr_above_min):\n",
    "    \"\"\"\n",
    "    input:\n",
    "        count_arr_above: list of integers, old above median heap\n",
    "        count_arr_above_min:  int, the old value represented by location [0] of the above median heap\n",
    "    output:\n",
    "        count_arr_above: list of integers, shrinked above median heap\n",
    "        count_arr_above_min:  int, the old value represented by location [0] of the above median heap\n",
    "    \"\"\"\n",
    "    while count_arr_above[0] == 0:\n",
    "        count_arr_above = count_arr_above[1:len(count_arr_above)]\n",
    "        count_arr_above_min += 1\n",
    "    return count_arr_above, count_arr_above_min"
   ]
  },
  {
   "cell_type": "code",
   "execution_count": 46,
   "metadata": {
    "collapsed": false
   },
   "outputs": [
    {
     "name": "stdout",
     "output_type": "stream",
     "text": [
      "count_arr_above:[1 3 0 1], count_arr_above_min:5\n"
     ]
    }
   ],
   "source": [
    "# Test shrink_count_arr_above\n",
    "count_arr_above = np.array([0,0,1,3,0,1])\n",
    "count_arr_above_min = 3\n",
    "count_arr_above, count_arr_above_min = shrink_count_arr_above(count_arr_above, count_arr_above_min)\n",
    "print('count_arr_above:{a}, count_arr_above_min:{b}'.format(a=count_arr_above, b=count_arr_above_min))"
   ]
  },
  {
   "cell_type": "code",
   "execution_count": 47,
   "metadata": {
    "collapsed": true
   },
   "outputs": [],
   "source": [
    "def update_count_arr_below(trans_num, count_arr_below, run_median, trans_amt):\n",
    "    \"\"\"\n",
    "    input:\n",
    "        trans_num: int, current transaction number for the recipient-zip combination\n",
    "        count_arr_below: list of integers, old below median heap\n",
    "        run_median: int, old running median\n",
    "        trans_amt\n",
    "    output:\n",
    "        count_arr_below: list of integers, new below median heap\n",
    "        run_median: int, new running median\n",
    "    \"\"\"\n",
    "    if trans_num == 2:\n",
    "        count_arr_below_max = min(run_median, trans_amt)\n",
    "        count_arr_below = [0] * (count_arr_below_max + 1)  # Given that round is always up,put the small array first\n",
    "        count_arr_below[count_arr_below_max] += 1\n",
    "        run_median = 0  # Not contributing number to be the new median\n",
    "    elif trans_num % 2 == 1:\n",
    "        if trans_amt > len(count_arr_below) - 1:\n",
    "            run_median = 0\n",
    "        elif trans_amt <= len(count_arr_below) - 1:\n",
    "            run_median = len(count_arr_below) - 1  # Pop-out max value in count_arr_below as the median\n",
    "            count_arr_below[trans_amt] += 1\n",
    "            count_arr_below[len(count_arr_below) - 1] -= 1\n",
    "            if count_arr_below[len(count_arr_below) - 1] == 0:\n",
    "                count_arr_below = shrink_count_arr_below(count_arr_below)\n",
    "    elif trans_num % 2 == 0:\n",
    "        if trans_amt <= run_median:  # pop in trans_amt into count_arr_below, run_median will be in count_arr_above\n",
    "            count_arr_below = pop_in_arr_below(count_arr_below, trans_amt)\n",
    "        else:\n",
    "            count_arr_below = pop_in_arr_below(count_arr_below, run_median)\n",
    "        run_median = 0\n",
    "\n",
    "    return count_arr_below, run_median"
   ]
  },
  {
   "cell_type": "code",
   "execution_count": 50,
   "metadata": {
    "collapsed": false
   },
   "outputs": [
    {
     "name": "stdout",
     "output_type": "stream",
     "text": [
      "count_arr_below:[0, 0, 1], run_median_above:0\n",
      "count_arr_below:[0, 0, 1], run_median_above:2\n",
      "count_arr_below:[0, 0, 2], run_median_above:0\n"
     ]
    }
   ],
   "source": [
    "# Test update_count_arr_below\n",
    "test_list = [[2, [], 4, 2], [3, [0,0,1], 4, 2],  [4, [0,0,1], 4, 2]]\n",
    "for i in range(len(test_list)):\n",
    "    trans_num, count_arr_below, run_median, trans_amt = test_list[i]\n",
    "    count_arr_below, run_median = update_count_arr_below(trans_num, count_arr_below, run_median, trans_amt)\n",
    "    print('count_arr_below:{a}, run_median_below:{b}'.format(a=count_arr_below, b=run_median))"
   ]
  },
  {
   "cell_type": "code",
   "execution_count": 67,
   "metadata": {
    "collapsed": true
   },
   "outputs": [],
   "source": [
    "def update_count_arr_above(trans_num, count_arr_above, count_arr_above_min, run_median, trans_amt):\n",
    "    \"\"\"\n",
    "    input:\n",
    "        trans_num: int, current transaction number for the recipient-zip combination\n",
    "        count_arr_above: list of integers, old above median heap\n",
    "        count_arr_above_min: int, the old value represented by location [0] of the above median heap\n",
    "        run_median: int, old running median\n",
    "        trans_amt: int, transaction amount from new coming entry\n",
    "    output:\n",
    "        count_arr_above: list of integers, new above median heap\n",
    "        count_arr_above_min: int, the new value represented by location [0] of the above median heap\n",
    "        run_median: int, new running median\n",
    "    \"\"\"\n",
    "    if trans_num == 2:\n",
    "        count_arr_above_min = max(run_median, trans_amt)\n",
    "        count_arr_above = [0]\n",
    "        count_arr_above[0] += 1\n",
    "        run_median = 0  # Not contributing number to be the new median\n",
    "    elif trans_num % 2 == 1:\n",
    "        if trans_amt < count_arr_above_min:\n",
    "            run_median = 0\n",
    "        elif trans_amt >= count_arr_above_min:\n",
    "            run_median = count_arr_above_min  # Pop-out min value in count_arr_above as the median\n",
    "            count_arr_above, count_arr_above_min = pop_in_arr_above(count_arr_above, count_arr_above_min, trans_amt)\n",
    "            count_arr_above[0] -= 1\n",
    "            if count_arr_above[0] == 0:\n",
    "                count_arr_above, count_arr_above_min = shrink_count_arr_above(count_arr_above, count_arr_above_min)\n",
    "    elif trans_num % 2 == 0:\n",
    "        if trans_amt <= run_median:  # Pop in run_median in count_arr_above\n",
    "            count_arr_above, count_arr_above_min = pop_in_arr_above(count_arr_above, count_arr_above_min, run_median)\n",
    "        else:\n",
    "            count_arr_above, count_arr_above_min = pop_in_arr_above(count_arr_above, count_arr_above_min, trans_amt)\n",
    "        run_median = 0\n",
    "    return count_arr_above, count_arr_above_min, run_median"
   ]
  },
  {
   "cell_type": "code",
   "execution_count": 68,
   "metadata": {
    "collapsed": false
   },
   "outputs": [
    {
     "name": "stdout",
     "output_type": "stream",
     "text": [
      "count_arr_above:[1], count_arr_above_min:6, run_median_above:0\n",
      "count_arr_above:[1], count_arr_above_min:6, run_median_above:5\n",
      "count_arr_above:[1, 0, 1, 1], count_arr_above_min:4, run_median_above:0\n"
     ]
    }
   ],
   "source": [
    "# Test update_count_arr_below\n",
    "test_list = [[2, [], [], 4, 6], [3, [1], 5, 4, 6],  [4, [1,0,0,1], 4, 3, 6]]\n",
    "for i in range(len(test_list)):\n",
    "    trans_num, count_arr_above, count_arr_above_min, run_median, trans_amt = test_list[i]\n",
    "    count_arr_above, count_arr_above_min, run_median = update_count_arr_above(trans_num, count_arr_above, count_arr_above_min, run_median, trans_amt)\n",
    "    print('count_arr_above:{a}, count_arr_above_min:{b}, run_median_above:{c}'.format(a=count_arr_above, b=count_arr_above_min,c=run_median))"
   ]
  },
  {
   "cell_type": "code",
   "execution_count": 69,
   "metadata": {
    "collapsed": true
   },
   "outputs": [],
   "source": [
    "def running_median(trans_amt, list_zip=[]):\n",
    "    \"\"\"\n",
    "    input:\n",
    "        trans_amt: int, most recent transaction_amt entry\n",
    "        list_zip: list that contains old heap information, run_median, transaction number, total amount\n",
    "    output:\n",
    "        list_zip: list that contains new heap information, run_median, transaction number, total amount\n",
    "    \"\"\"\n",
    "    if len(list_zip) is 0:\n",
    "        trans_num = 1\n",
    "        count_arr_below = []  # Store heap as counting sort array for below median\n",
    "        count_arr_above = []  # Store heap as counting sort array for above median\n",
    "        count_arr_above_min = 0  # For the above heap, number that represent lowest entry\n",
    "        run_median = trans_amt\n",
    "        ttl_amt = trans_amt\n",
    "    else:\n",
    "        # Retrieve information from dictionary\n",
    "        count_arr_below = list_zip[0]\n",
    "        count_arr_above = list_zip[1]\n",
    "        count_arr_above_min = list_zip[2]\n",
    "        run_median = list_zip[3]\n",
    "        trans_num = list_zip[4]\n",
    "        ttl_amt = list_zip[5]\n",
    "\n",
    "        # Update trans_num and ttl_amt\n",
    "        trans_num = trans_num + 1\n",
    "        ttl_amt = ttl_amt + trans_amt\n",
    "\n",
    "        # Update count_arr_below, count_arr_above, count_arr_above_min\n",
    "        count_arr_below, run_median_below = update_count_arr_below(trans_num, count_arr_below, run_median, trans_amt)\n",
    "        count_arr_above, count_arr_above_min, run_median_above = update_count_arr_above(trans_num, count_arr_above,\n",
    "                                                                                        count_arr_above_min, run_median,\n",
    "                                                                                        trans_amt)\n",
    "        count_arr_below_max = len(count_arr_below) - 1\n",
    "\n",
    "        # Calculate run median\n",
    "        if run_median_below + run_median_above == 0:\n",
    "            if trans_num % 2 == 0:\n",
    "                run_median = round_half((count_arr_below_max + count_arr_above_min) / 2)\n",
    "            else:\n",
    "                run_median = trans_amt\n",
    "        elif run_median_below != 0:\n",
    "            run_median = run_median_below\n",
    "        else:\n",
    "            run_median = run_median_above\n",
    "\n",
    "    list_zip = [count_arr_below, count_arr_above, count_arr_above_min, run_median, trans_num, ttl_amt]\n",
    "    return list_zip\n",
    "\n",
    "# Dependency function\n",
    "def round_half(x):\n",
    "    \"\"\"\n",
    "    input:\n",
    "        x: float\n",
    "    output: int\n",
    "    \"\"\"\n",
    "    if x - int(x) < 0.5:\n",
    "        return int(x)\n",
    "    else:\n",
    "        return int(x) + 1"
   ]
  },
  {
   "cell_type": "code",
   "execution_count": 70,
   "metadata": {
    "collapsed": true
   },
   "outputs": [],
   "source": [
    "def median_zip(itcont_list):\n",
    "    \"\"\"\n",
    "    input:\n",
    "        itcont_list: list, donation information entries\n",
    "    output:\n",
    "        output_by_zip: list of strings: 'recipient|zip|running_median|donation_number|total_donation'\n",
    "    \"\"\"\n",
    "    input_len = len(itcont_list)\n",
    "    dict_zip = {}\n",
    "    output_by_zip = []\n",
    "\n",
    "    for i in range(input_len):  # Perform serial processing for each entry\n",
    "        itcont = itcont_list[i].split('|')\n",
    "        core_info = info_extract(itcont)\n",
    "        if core_info is None:   # Check if the entry contains core information\n",
    "            continue\n",
    "\n",
    "        # Check if ZIP and tranaction amount is valid\n",
    "        try:\n",
    "            len_check = core_info['ZIP_CODE'][4]  # check if 'ZIP_CODE' has at least 5 characters\n",
    "            zip_code = int(core_info['ZIP_CODE'])  # check if 'ZIP_CODE' contains only digit\n",
    "            trans_amt = int(core_info['TRANSACTION_AMT'])  # check if 'TRANSACTION_AMT' contains only digit\n",
    "        except:\n",
    "            continue\n",
    "\n",
    "        # Create one dictionary for each recipient and zip\n",
    "        key = core_info['CMTE_ID'] + core_info['ZIP_CODE']\n",
    "        # Update the dictionary with new transaction amount\n",
    "        if key not in dict_zip:       # First entry, initiate the list\n",
    "            list_zip = []\n",
    "        else:\n",
    "            list_zip = dict_zip[key]\n",
    "\n",
    "        # Obtain the running median given the current information and new transaction_amount\n",
    "        dict_zip[key] = running_median(trans_amt, list_zip)\n",
    "        run_median, trans_num, ttl_amt = dict_zip[key][3:6]\n",
    "\n",
    "        output_by_zip.append(\n",
    "            '|'.join([core_info['CMTE_ID'], core_info['ZIP_CODE'], str(run_median), str(trans_num), str(ttl_amt)]))\n",
    "    return output_by_zip"
   ]
  },
  {
   "cell_type": "code",
   "execution_count": 72,
   "metadata": {
    "collapsed": false
   },
   "outputs": [
    {
     "data": {
      "text/plain": [
       "['C00177436|30004|384|1|384',\n",
       " 'C00384818|02895|250|1|250',\n",
       " 'C00177436|30750|230|1|230',\n",
       " 'C00177436|04105|384|1|384',\n",
       " 'C00384818|02895|292|2|583',\n",
       " 'C00177436|04105|384|2|768']"
      ]
     },
     "execution_count": 72,
     "metadata": {},
     "output_type": "execute_result"
    }
   ],
   "source": [
    "output = median_zip(itcont_list)\n",
    "output"
   ]
  },
  {
   "cell_type": "code",
   "execution_count": 73,
   "metadata": {
    "collapsed": true,
    "deletable": true,
    "editable": true
   },
   "outputs": [],
   "source": [
    "def date_format(date_str, amt_str):\n",
    "    \"\"\"\n",
    "    input:\n",
    "        date_str: string\n",
    "        amt_str: string\n",
    "    output:\n",
    "        True/False\n",
    "    \"\"\"\n",
    "    try:\n",
    "        month = int(date_str[:2])\n",
    "        date = int(date_str[2:4])\n",
    "        yr = int(date_str[-4:])\n",
    "        amt = int(amt_str)\n",
    "\n",
    "        if (0 < month < 13) & (0 < date < 32) & (1000 < yr < 2018):\n",
    "            return True\n",
    "        else:\n",
    "            return False\n",
    "    except:\n",
    "        return False"
   ]
  },
  {
   "cell_type": "code",
   "execution_count": 74,
   "metadata": {
    "collapsed": false,
    "deletable": true,
    "editable": true
   },
   "outputs": [],
   "source": [
    "# Define the function to calculate the median by recipient and date\n",
    "# Find unique combination of CMTE_ID and date\n",
    "\n",
    "# Combine all the strings\n",
    "def median_date(itcont_list):\n",
    "    \"\"\"\n",
    "    Calculate median and total amount of donation based on recipient-date info\n",
    "    --------------\n",
    "     input:\n",
    "        itcont_list: list, donation information entries\n",
    "    output:\n",
    "        output_by_zip: list of strings: 'recipient|date|median|donation_number|total_donation'\n",
    "    \"\"\"\n",
    "    # Batch processing with all the entries\n",
    "    itcont = '|'.join(itcont_list).split('|')\n",
    "\n",
    "    # Obtain the length with valid data info\n",
    "    num_entry = int(len(itcont) / 21)\n",
    "\n",
    "    # Find the entries with Other_Id as [] and TRANS_AMT, TRANS_DT of correct format:\n",
    "    key_id = [i for i in range(num_entry) if\n",
    "              (itcont[i * 21 + 15] == '') & (date_format(itcont[i * 21 + 13], itcont[i * 21 + 14])) & (\n",
    "              len(itcont[i * 21]) > 0)]\n",
    "\n",
    "    # Generate combination keys with CMTE_ID and TRANS_DT\n",
    "    keys = [itcont[i * 21] + itcont[i * 21 + 13] for i in key_id]\n",
    "    unique_key = list(set(keys))\n",
    "    # Sort the key to prepare for output order\n",
    "    unique_key.sort()\n",
    "    output_by_date = []\n",
    "\n",
    "    for j in range(len(unique_key)):\n",
    "        # Find all the entries that correspond to the same recipient-date key\n",
    "        indices = [key_id[i] for i, x in enumerate(keys) if x == unique_key[j]]\n",
    "        trans_num = len(indices)\n",
    "        trans_amt = [int(itcont[i * 21 + 14]) for i in indices]\n",
    "        ttl_trans = sum(trans_amt)\n",
    "        if len(trans_amt) == 1:\n",
    "            median_trans = round(trans_amt[0])\n",
    "        elif len(trans_amt) == 2:\n",
    "            median_trans = round(ttl_trans / 2)\n",
    "        elif len(trans_amt) % 2 == 0:\n",
    "            trans_amt.sort()\n",
    "            mid_idx = int(len(trans_amt) / 2 - 1)\n",
    "            median_trans = round(sum(trans_amt[mid_idx:mid_idx + 2]) / 2)\n",
    "        else:\n",
    "            trans_amt.sort()\n",
    "            mid_idx = int(len(trans_amt) / 2)\n",
    "            median_trans = round(trans_amt[mid_idx])\n",
    "        len_key = len(unique_key[j])\n",
    "\n",
    "        output_by_date.append('|'.join(\n",
    "            [unique_key[j][:len_key - 8], unique_key[j][len_key - 8:], str(median_trans), str(trans_num),\n",
    "             str(ttl_trans)]))\n",
    "\n",
    "    return output_by_date"
   ]
  },
  {
   "cell_type": "code",
   "execution_count": 75,
   "metadata": {
    "collapsed": false,
    "deletable": true,
    "editable": true
   },
   "outputs": [
    {
     "data": {
      "text/plain": [
       "['C00177436|01312017|384|4|1382', 'C00384818|01122017|292|2|583']"
      ]
     },
     "execution_count": 75,
     "metadata": {},
     "output_type": "execute_result"
    }
   ],
   "source": [
    "output_by_date = median_date(itcont_list)\n",
    "output_by_date"
   ]
  }
 ],
 "metadata": {
  "kernelspec": {
   "display_name": "Python 3",
   "language": "python",
   "name": "python3"
  },
  "language_info": {
   "codemirror_mode": {
    "name": "ipython",
    "version": 3
   },
   "file_extension": ".py",
   "mimetype": "text/x-python",
   "name": "python",
   "nbconvert_exporter": "python",
   "pygments_lexer": "ipython3",
   "version": "3.5.2"
  }
 },
 "nbformat": 4,
 "nbformat_minor": 2
}
