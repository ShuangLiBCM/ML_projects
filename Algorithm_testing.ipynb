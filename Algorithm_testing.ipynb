{
 "cells": [
  {
   "cell_type": "code",
   "execution_count": 23,
   "metadata": {
    "collapsed": true,
    "deletable": true,
    "editable": true
   },
   "outputs": [],
   "source": [
    "class Solution:\n",
    "    \"\"\"\n",
    "    @param nums: An integer array\n",
    "    @return: nothing\n",
    "    \"\"\"\n",
    "    def recoverRotatedSortedArray(self, nums):\n",
    "        # write your code here\n",
    "        \n",
    "        if (nums is None) or (len(nums) == 0):\n",
    "            return -1\n",
    "            \n",
    "        # Find the seperation point\n",
    "        rotation_len = findRotationLen(nums)\n",
    "        print(rotation_len)\n",
    "        \n",
    "        reverseStr(nums, 0, rotation_len)\n",
    "        reverseStr(nums, rotation_len, len(nums))\n",
    "        reverseStr(nums, 0, len(nums))\n",
    "        \n",
    "        return nums\n",
    "        \n",
    "def findRotationLen(nums):\n",
    "    \n",
    "    start = 0\n",
    "    end = len(nums) - 1\n",
    "    \n",
    "    while (start + 1 < end):\n",
    "        \n",
    "        mid = int(start + (end - start) / 2)\n",
    "        \n",
    "        if nums[mid] <= nums[len(nums) - 1]:\n",
    "            end = mid\n",
    "        else:\n",
    "            start = mid\n",
    "            \n",
    "    if nums[start] <= nums[end]:\n",
    "        return start\n",
    "    else:\n",
    "        return end\n",
    "        \n",
    "def reverseStr(nums, start, end):\n",
    "    \n",
    "    if (end - start) % 2 == 1:\n",
    "        length = int((end - start - 1)/2)\n",
    "    else:\n",
    "        length = int((end - start)/2)\n",
    "    \n",
    "    for i in range(length):\n",
    "        tmp1 = nums[start + i]\n",
    "        tmp2 = nums[end -i -1]\n",
    "        nums[start + i] = tmp2\n",
    "        nums[end - i - 1] = tmp1"
   ]
  },
  {
   "cell_type": "code",
   "execution_count": 24,
   "metadata": {
    "collapsed": true,
    "deletable": true,
    "editable": true
   },
   "outputs": [],
   "source": [
    "test = Solution()"
   ]
  },
  {
   "cell_type": "code",
   "execution_count": 25,
   "metadata": {
    "collapsed": false,
    "deletable": true,
    "editable": true
   },
   "outputs": [
    {
     "name": "stdout",
     "output_type": "stream",
     "text": [
      "0\n"
     ]
    },
    {
     "data": {
      "text/plain": [
       "[1, 1, 1, 1, 1, 1, 1, 1, 1, -1, 1, 1, 1, 1, 1, 1, 1, 1, 1, 1, 1]"
      ]
     },
     "execution_count": 25,
     "metadata": {},
     "output_type": "execute_result"
    }
   ],
   "source": [
    "nums = [1, 1, 1, 1, 1, 1, 1, 1, 1, -1, 1, 1, 1, 1, 1, 1, 1, 1, 1, 1, 1]\n",
    "test.recoverRotatedSortedArray(nums)"
   ]
  },
  {
   "cell_type": "code",
   "execution_count": 86,
   "metadata": {
    "collapsed": true,
    "deletable": true,
    "editable": true
   },
   "outputs": [],
   "source": [
    "class Solution:\n",
    "    \"\"\"\n",
    "    @param str: An array of char\n",
    "    @param offset: An integer\n",
    "    @return: nothing\n",
    "    \"\"\"\n",
    "    def rotateString(self, string, offset):\n",
    "        # write your code here\n",
    "        \n",
    "        if (string is None) | (len(string) == 0) | (offset is None):\n",
    "            return \"\"\n",
    "        \n",
    "        list_str = list(string)\n",
    "        \n",
    "        reverseStr(list_str, 0, offset+1)\n",
    "        reverseStr(list_str, offset+1, len(list_str))\n",
    "        reverseStr(list_str, 0, len(list_str))\n",
    "        \n",
    "        string = ''.join(list_str)\n",
    "        \n",
    "        return string\n",
    "        \n",
    "\n",
    "def reverseStr(string, start, end):\n",
    "        \n",
    "    if (end - start) % 2 == 1:\n",
    "        length = int((end - start -1)/2)\n",
    "    else:\n",
    "        length = int((end - start)/2)\n",
    "        \n",
    "    for i in range(length):\n",
    "        tmp = string[start + i]\n",
    "        string[start + i] = string[end - i -1]\n",
    "        string[end - i -1] = tmp"
   ]
  },
  {
   "cell_type": "code",
   "execution_count": 87,
   "metadata": {
    "collapsed": true,
    "deletable": true,
    "editable": true
   },
   "outputs": [],
   "source": [
    "test = Solution()"
   ]
  },
  {
   "cell_type": "code",
   "execution_count": 88,
   "metadata": {
    "collapsed": false,
    "deletable": true,
    "editable": true
   },
   "outputs": [
    {
     "data": {
      "text/plain": [
       "'efgabcd'"
      ]
     },
     "execution_count": 88,
     "metadata": {},
     "output_type": "execute_result"
    }
   ],
   "source": [
    "a = \"abcdefg\"\n",
    "test.rotateString(a, 3)"
   ]
  },
  {
   "cell_type": "code",
   "execution_count": 89,
   "metadata": {
    "collapsed": true,
    "deletable": true,
    "editable": true
   },
   "outputs": [],
   "source": [
    "a = [\n",
    "    [1, 3, 5, 7],\n",
    "    [10, 11, 16, 20],\n",
    "    [23, 30, 34, 50]\n",
    "]"
   ]
  },
  {
   "cell_type": "code",
   "execution_count": 92,
   "metadata": {
    "collapsed": false,
    "deletable": true,
    "editable": true
   },
   "outputs": [
    {
     "data": {
      "text/plain": [
       "4"
      ]
     },
     "execution_count": 92,
     "metadata": {},
     "output_type": "execute_result"
    }
   ],
   "source": [
    "len(a[0])"
   ]
  },
  {
   "cell_type": "code",
   "execution_count": 93,
   "metadata": {
    "collapsed": true,
    "deletable": true,
    "editable": true
   },
   "outputs": [],
   "source": [
    "a = [[5]]"
   ]
  },
  {
   "cell_type": "code",
   "execution_count": 94,
   "metadata": {
    "collapsed": false,
    "deletable": true,
    "editable": true
   },
   "outputs": [
    {
     "data": {
      "text/plain": [
       "1"
      ]
     },
     "execution_count": 94,
     "metadata": {},
     "output_type": "execute_result"
    }
   ],
   "source": [
    "len(a)"
   ]
  },
  {
   "cell_type": "code",
   "execution_count": 95,
   "metadata": {
    "collapsed": true,
    "deletable": true,
    "editable": true
   },
   "outputs": [],
   "source": [
    "class Solution:\n",
    "    \"\"\"\n",
    "    @param matrix: matrix, a list of lists of integers\n",
    "    @param target: An integer\n",
    "    @return: a boolean, indicate whether matrix contains target\n",
    "    \"\"\"\n",
    "    def searchMatrix(self, matrix, target):\n",
    "        # write your code here\n",
    "    \n",
    "        if (matrix is None) | (len(matrix) == 0) | (target is None):\n",
    "            return False\n",
    "        \n",
    "        list_mt = []\n",
    "        for i in range(len(matrix)):    \n",
    "            list_mt.append(matrix[i])\n",
    "            \n",
    "        start = 0\n",
    "        end = len(list_mt) - 1\n",
    "        \n",
    "        while start + 1 < end:\n",
    "            \n",
    "            mid = int(start + (end - start)/2)\n",
    "            \n",
    "            if list_mt[mid] == target:\n",
    "                return True\n",
    "            elif list_mt[mid] > target:\n",
    "                end = mid\n",
    "            else:\n",
    "                start = mid\n",
    "                \n",
    "        if (list_mt[start] == target) | (list_mt[end] == target):\n",
    "            return True\n",
    "        else:\n",
    "            return False\n",
    "                "
   ]
  },
  {
   "cell_type": "code",
   "execution_count": 96,
   "metadata": {
    "collapsed": true,
    "deletable": true,
    "editable": true
   },
   "outputs": [],
   "source": [
    "test = Solution()"
   ]
  },
  {
   "cell_type": "code",
   "execution_count": 97,
   "metadata": {
    "collapsed": false,
    "deletable": true,
    "editable": true
   },
   "outputs": [
    {
     "ename": "TypeError",
     "evalue": "unorderable types: list() > int()",
     "output_type": "error",
     "traceback": [
      "\u001b[0;31m---------------------------------------------------------------------------\u001b[0m",
      "\u001b[0;31mTypeError\u001b[0m                                 Traceback (most recent call last)",
      "\u001b[0;32m<ipython-input-97-c43950165561>\u001b[0m in \u001b[0;36m<module>\u001b[0;34m()\u001b[0m\n\u001b[1;32m      1\u001b[0m \u001b[0ma\u001b[0m \u001b[0;34m=\u001b[0m \u001b[0;34m[\u001b[0m\u001b[0;34m[\u001b[0m\u001b[0;36m1\u001b[0m\u001b[0;34m,\u001b[0m\u001b[0;36m3\u001b[0m\u001b[0;34m,\u001b[0m\u001b[0;36m5\u001b[0m\u001b[0;34m,\u001b[0m\u001b[0;36m7\u001b[0m\u001b[0;34m]\u001b[0m\u001b[0;34m,\u001b[0m\u001b[0;34m[\u001b[0m\u001b[0;36m10\u001b[0m\u001b[0;34m,\u001b[0m\u001b[0;36m11\u001b[0m\u001b[0;34m,\u001b[0m\u001b[0;36m16\u001b[0m\u001b[0;34m,\u001b[0m\u001b[0;36m20\u001b[0m\u001b[0;34m]\u001b[0m\u001b[0;34m,\u001b[0m\u001b[0;34m[\u001b[0m\u001b[0;36m23\u001b[0m\u001b[0;34m,\u001b[0m\u001b[0;36m30\u001b[0m\u001b[0;34m,\u001b[0m\u001b[0;36m34\u001b[0m\u001b[0;34m,\u001b[0m\u001b[0;36m50\u001b[0m\u001b[0;34m]\u001b[0m\u001b[0;34m]\u001b[0m\u001b[0;34m\u001b[0m\u001b[0m\n\u001b[0;32m----> 2\u001b[0;31m \u001b[0mtest\u001b[0m\u001b[0;34m.\u001b[0m\u001b[0msearchMatrix\u001b[0m\u001b[0;34m(\u001b[0m\u001b[0ma\u001b[0m\u001b[0;34m,\u001b[0m \u001b[0;36m7\u001b[0m\u001b[0;34m)\u001b[0m\u001b[0;34m\u001b[0m\u001b[0m\n\u001b[0m",
      "\u001b[0;32m<ipython-input-95-14e3c2299f27>\u001b[0m in \u001b[0;36msearchMatrix\u001b[0;34m(self, matrix, target)\u001b[0m\n\u001b[1;32m     24\u001b[0m             \u001b[0;32mif\u001b[0m \u001b[0mlist_mt\u001b[0m\u001b[0;34m[\u001b[0m\u001b[0mmid\u001b[0m\u001b[0;34m]\u001b[0m \u001b[0;34m==\u001b[0m \u001b[0mtarget\u001b[0m\u001b[0;34m:\u001b[0m\u001b[0;34m\u001b[0m\u001b[0m\n\u001b[1;32m     25\u001b[0m                 \u001b[0;32mreturn\u001b[0m \u001b[0;32mTrue\u001b[0m\u001b[0;34m\u001b[0m\u001b[0m\n\u001b[0;32m---> 26\u001b[0;31m             \u001b[0;32melif\u001b[0m \u001b[0mlist_mt\u001b[0m\u001b[0;34m[\u001b[0m\u001b[0mmid\u001b[0m\u001b[0;34m]\u001b[0m \u001b[0;34m>\u001b[0m \u001b[0mtarget\u001b[0m\u001b[0;34m:\u001b[0m\u001b[0;34m\u001b[0m\u001b[0m\n\u001b[0m\u001b[1;32m     27\u001b[0m                 \u001b[0mend\u001b[0m \u001b[0;34m=\u001b[0m \u001b[0mmid\u001b[0m\u001b[0;34m\u001b[0m\u001b[0m\n\u001b[1;32m     28\u001b[0m             \u001b[0;32melse\u001b[0m\u001b[0;34m:\u001b[0m\u001b[0;34m\u001b[0m\u001b[0m\n",
      "\u001b[0;31mTypeError\u001b[0m: unorderable types: list() > int()"
     ]
    }
   ],
   "source": [
    "a = [[1,3,5,7],[10,11,16,20],[23,30,34,50]]\n",
    "test.searchMatrix(a, 7)"
   ]
  },
  {
   "cell_type": "code",
   "execution_count": 98,
   "metadata": {
    "collapsed": false,
    "deletable": true,
    "editable": true
   },
   "outputs": [
    {
     "name": "stdout",
     "output_type": "stream",
     "text": [
      "> \u001b[0;32m<ipython-input-95-14e3c2299f27>\u001b[0m(26)\u001b[0;36msearchMatrix\u001b[0;34m()\u001b[0m\n",
      "\u001b[0;32m     24 \u001b[0;31m            \u001b[0;32mif\u001b[0m \u001b[0mlist_mt\u001b[0m\u001b[0;34m[\u001b[0m\u001b[0mmid\u001b[0m\u001b[0;34m]\u001b[0m \u001b[0;34m==\u001b[0m \u001b[0mtarget\u001b[0m\u001b[0;34m:\u001b[0m\u001b[0;34m\u001b[0m\u001b[0m\n",
      "\u001b[0m\u001b[0;32m     25 \u001b[0;31m                \u001b[0;32mreturn\u001b[0m \u001b[0;32mTrue\u001b[0m\u001b[0;34m\u001b[0m\u001b[0m\n",
      "\u001b[0m\u001b[0;32m---> 26 \u001b[0;31m            \u001b[0;32melif\u001b[0m \u001b[0mlist_mt\u001b[0m\u001b[0;34m[\u001b[0m\u001b[0mmid\u001b[0m\u001b[0;34m]\u001b[0m \u001b[0;34m>\u001b[0m \u001b[0mtarget\u001b[0m\u001b[0;34m:\u001b[0m\u001b[0;34m\u001b[0m\u001b[0m\n",
      "\u001b[0m\u001b[0;32m     27 \u001b[0;31m                \u001b[0mend\u001b[0m \u001b[0;34m=\u001b[0m \u001b[0mmid\u001b[0m\u001b[0;34m\u001b[0m\u001b[0m\n",
      "\u001b[0m\u001b[0;32m     28 \u001b[0;31m            \u001b[0;32melse\u001b[0m\u001b[0;34m:\u001b[0m\u001b[0;34m\u001b[0m\u001b[0m\n",
      "\u001b[0m\n",
      "ipdb> list_mt\n",
      "[[1, 3, 5, 7], [10, 11, 16, 20], [23, 30, 34, 50]]\n",
      "ipdb> len(matrix)\n",
      "3\n",
      "ipdb> list_mt[0]\n",
      "[1, 3, 5, 7]\n",
      "ipdb> list_mt[0][:]\n",
      "[1, 3, 5, 7]\n",
      "ipdb> [].append(list_mt[0])\n",
      "ipdb> exit\n"
     ]
    }
   ],
   "source": [
    "% debug"
   ]
  },
  {
   "cell_type": "code",
   "execution_count": 112,
   "metadata": {
    "collapsed": true,
    "deletable": true,
    "editable": true
   },
   "outputs": [],
   "source": [
    "a = [[1, 3, 5, 7], [10, 11, 16, 20], [23, 30, 34, 50]]"
   ]
  },
  {
   "cell_type": "code",
   "execution_count": 113,
   "metadata": {
    "collapsed": true,
    "deletable": true,
    "editable": true
   },
   "outputs": [],
   "source": [
    "list_a = []"
   ]
  },
  {
   "cell_type": "code",
   "execution_count": 116,
   "metadata": {
    "collapsed": false,
    "deletable": true,
    "editable": true
   },
   "outputs": [
    {
     "data": {
      "text/plain": [
       "[1, 3, 5, 7, 10, 11, 16, 20]"
      ]
     },
     "execution_count": 116,
     "metadata": {},
     "output_type": "execute_result"
    }
   ],
   "source": [
    "list_a + a[0] + a[1]"
   ]
  },
  {
   "cell_type": "code",
   "execution_count": 104,
   "metadata": {
    "collapsed": false,
    "deletable": true,
    "editable": true
   },
   "outputs": [
    {
     "data": {
      "text/plain": [
       "[[1, 3, 5, 7], 1]"
      ]
     },
     "execution_count": 104,
     "metadata": {},
     "output_type": "execute_result"
    }
   ],
   "source": [
    "list_a"
   ]
  },
  {
   "cell_type": "code",
   "execution_count": 120,
   "metadata": {
    "collapsed": false,
    "deletable": true,
    "editable": true
   },
   "outputs": [],
   "source": [
    "class Solution:\n",
    "    \"\"\"\n",
    "    @param matrix: A list of lists of integers\n",
    "    @param target: An integer you want to search in matrix\n",
    "    @return: An integer indicate the total occurrence of target in the given matrix\n",
    "    \"\"\"\n",
    "    def searchMatrix(self, matrix, target):\n",
    "        # write your code here\n",
    "        \n",
    "        if (matrix is None) | (len(matrix) == 0) | (target is None):\n",
    "            return 0\n",
    "        \n",
    "        row = 0\n",
    "        col = len(matrix[0])-1\n",
    "        \n",
    "        count = 0\n",
    "        \n",
    "        while (row < len(matrix)) & (col >= 0):\n",
    "            print(matrix[row][col])\n",
    "            if matrix[row][col] == target:\n",
    "                count += 1\n",
    "                col -= 1\n",
    "            elif matrix[row][col] < target:\n",
    "                row += 1\n",
    "            elif matrix[row][col] > target:\n",
    "                col -= 1\n",
    "        \n",
    "        return count"
   ]
  },
  {
   "cell_type": "code",
   "execution_count": 121,
   "metadata": {
    "collapsed": true,
    "deletable": true,
    "editable": true
   },
   "outputs": [],
   "source": [
    "test = Solution()"
   ]
  },
  {
   "cell_type": "code",
   "execution_count": 122,
   "metadata": {
    "collapsed": false,
    "deletable": true,
    "editable": true
   },
   "outputs": [
    {
     "name": "stdout",
     "output_type": "stream",
     "text": [
      "4\n"
     ]
    },
    {
     "data": {
      "text/plain": [
       "0"
      ]
     },
     "execution_count": 122,
     "metadata": {},
     "output_type": "execute_result"
    }
   ],
   "source": [
    "a = [[3,4]]\n",
    "test.searchMatrix(a, 3)"
   ]
  },
  {
   "cell_type": "code",
   "execution_count": 134,
   "metadata": {
    "collapsed": true,
    "deletable": true,
    "editable": true
   },
   "outputs": [],
   "source": [
    "class TwoSum:\n",
    "    \"\"\"\n",
    "    @param: number: An integer\n",
    "    @return: nothing\n",
    "    \"\"\"\n",
    "    self.track_list = []\n",
    "    \n",
    "    def add(self, number):\n",
    "        # write your code here\n",
    "        \n",
    "        if type(number) is int:\n",
    "            self.track_list.append(number)\n",
    "\n",
    "    \"\"\"\n",
    "    @param: value: An integer\n",
    "    @return: Find if there exists any pair of numbers which sum is equal to the value.\n",
    "    \"\"\"\n",
    "    def find(self, value):\n",
    "        # write your code here\n",
    "        \n",
    "        if (self.track_list is None) | (len(self.track_list) == 0) | (value is None):\n",
    "            return False\n",
    "        \n",
    "        left_pt = 0\n",
    "        right_pt = len(self.track_list) - 1\n",
    "        print(len(self.track_list))\n",
    "        while (left_pt < right_pt):\n",
    "            sum_tmp = self.track_list[left_pt] + self.track_list[right_pt]\n",
    "            print(sum_tmp)\n",
    "            if sum_tmp == value:\n",
    "                return True\n",
    "            elif sum_tmp < value:\n",
    "                left_pt += 1\n",
    "            else:\n",
    "                right_pt -= 1\n",
    "        \n",
    "        return False"
   ]
  },
  {
   "cell_type": "code",
   "execution_count": 135,
   "metadata": {
    "collapsed": true,
    "deletable": true,
    "editable": true
   },
   "outputs": [],
   "source": [
    "test = TwoSum()"
   ]
  },
  {
   "cell_type": "code",
   "execution_count": 136,
   "metadata": {
    "collapsed": false,
    "deletable": true,
    "editable": true
   },
   "outputs": [
    {
     "name": "stdout",
     "output_type": "stream",
     "text": [
      "1\n"
     ]
    },
    {
     "data": {
      "text/plain": [
       "False"
      ]
     },
     "execution_count": 136,
     "metadata": {},
     "output_type": "execute_result"
    }
   ],
   "source": [
    "test.add(1)\n",
    "test.add(3)\n",
    "test.add(5)\n",
    "test.find(4)"
   ]
  },
  {
   "cell_type": "code",
   "execution_count": 139,
   "metadata": {
    "collapsed": false,
    "deletable": true,
    "editable": true
   },
   "outputs": [
    {
     "name": "stdout",
     "output_type": "stream",
     "text": [
      "yes\n"
     ]
    }
   ],
   "source": [
    "a = 0\n",
    "if ~a:\n",
    "    print('yes')"
   ]
  },
  {
   "cell_type": "code",
   "execution_count": 149,
   "metadata": {
    "collapsed": true,
    "deletable": true,
    "editable": true
   },
   "outputs": [],
   "source": [
    "class Solution:\n",
    "    \"\"\"\n",
    "    @param s: a string\n",
    "    @return: nothing\n",
    "    \"\"\"\n",
    "    def validPalindrome(self, s):\n",
    "        # Write your code here\n",
    "        \n",
    "        if s is None:\n",
    "            return False\n",
    "        elif len(s) <= 1:\n",
    "            return True\n",
    "            \n",
    "        left = 0\n",
    "        right = len(s) - 1\n",
    "        \n",
    "        flag = 0\n",
    "        while (left < right):\n",
    "            \n",
    "            if s[left] != s[right]:\n",
    "                if (flag ==0) & (not self.validPalindrome(s[left:right-1])) & (not self.validPalindrome(s[left+1:right])):\n",
    "                    return False\n",
    "                else:\n",
    "                    flag = 1\n",
    "                    left += 1\n",
    "                    right -= 1\n",
    "            else:\n",
    "                left += 1\n",
    "                right -= 1\n",
    "        \n",
    "        return True"
   ]
  },
  {
   "cell_type": "code",
   "execution_count": 150,
   "metadata": {
    "collapsed": true,
    "deletable": true,
    "editable": true
   },
   "outputs": [],
   "source": [
    "test = Solution()"
   ]
  },
  {
   "cell_type": "code",
   "execution_count": 151,
   "metadata": {
    "collapsed": false,
    "deletable": true,
    "editable": true
   },
   "outputs": [
    {
     "data": {
      "text/plain": [
       "True"
      ]
     },
     "execution_count": 151,
     "metadata": {},
     "output_type": "execute_result"
    }
   ],
   "source": [
    "a = \"abca\"\n",
    "test.validPalindrome(a)"
   ]
  },
  {
   "cell_type": "code",
   "execution_count": 123,
   "metadata": {
    "collapsed": false,
    "deletable": true,
    "editable": true
   },
   "outputs": [],
   "source": [
    "class Solution:\n",
    "    \"\"\"\n",
    "    @param A: an integer array\n",
    "    @return: nothing\n",
    "    \"\"\"\n",
    "    def sortIntegers2(self, A):\n",
    "        # write your code here\n",
    "        \n",
    "        if (A is None) | (len(A) == 0):\n",
    "            return\n",
    "        \n",
    "        self.partition(A, 0, len(A)-1)\n",
    "        \n",
    "    \n",
    "    def partition(self, A, start, end):\n",
    "        \n",
    "\n",
    "        if start >= end:\n",
    "            return\n",
    "        \n",
    "        left = start\n",
    "        right = end\n",
    "        \n",
    "        pivot = A[int((left + right)/2)]\n",
    "        \n",
    "        while (left <= right):\n",
    "            \n",
    "            #print(left, right, pivot)\n",
    "            #print(A)\n",
    "            \n",
    "            while (left <= right) & (A[left] < pivot):\n",
    "                left += 1\n",
    "                \n",
    "            while (left <= right) & (A[right] > pivot):\n",
    "                right -= 1\n",
    "                \n",
    "            if left <= right:\n",
    "                tmp = A[left]\n",
    "                A[left] = A[right]\n",
    "                A[right] = tmp\n",
    "                left += 1\n",
    "                right -= 1\n",
    "        \n",
    "        self.partition(A, start, right)\n",
    "        self.partition(A, left, end)"
   ]
  },
  {
   "cell_type": "code",
   "execution_count": 124,
   "metadata": {
    "collapsed": true,
    "deletable": true,
    "editable": true
   },
   "outputs": [],
   "source": [
    "test = Solution()"
   ]
  },
  {
   "cell_type": "code",
   "execution_count": 125,
   "metadata": {
    "collapsed": false,
    "deletable": true,
    "editable": true
   },
   "outputs": [
    {
     "data": {
      "text/plain": [
       "[-10, -2, 0, 0, 19]"
      ]
     },
     "execution_count": 125,
     "metadata": {},
     "output_type": "execute_result"
    }
   ],
   "source": [
    "A = [19, -10, -2, 0, 0]\n",
    "test.sortIntegers2(A)\n",
    "A"
   ]
  },
  {
   "cell_type": "code",
   "execution_count": 231,
   "metadata": {
    "collapsed": true,
    "deletable": true,
    "editable": true
   },
   "outputs": [],
   "source": [
    "class Solution:\n",
    "    \"\"\"\n",
    "    @param A: an integer array\n",
    "    @return: nothing\n",
    "    \"\"\"\n",
    "    def sortIntegers(self, A):\n",
    "        # write your code here\n",
    "        \n",
    "        if (A is None) | (len(A) == 0):\n",
    "            return\n",
    "        \n",
    "        i = 0\n",
    "        while i <= (len(A)-1):\n",
    "            \n",
    "            index = 0\n",
    "            \n",
    "            while (index < i):\n",
    "                if (A[i] >= A[index]):\n",
    "                    index += 1\n",
    "                else:\n",
    "                    break\n",
    "                    \n",
    "            tmp = A[i]\n",
    "            A.remove(A[i])\n",
    "            if index <= i:\n",
    "                i += 1\n",
    "            A.insert(index, tmp)"
   ]
  },
  {
   "cell_type": "code",
   "execution_count": 232,
   "metadata": {
    "collapsed": true,
    "deletable": true,
    "editable": true
   },
   "outputs": [],
   "source": [
    "test = Solution()"
   ]
  },
  {
   "cell_type": "code",
   "execution_count": 233,
   "metadata": {
    "collapsed": false,
    "deletable": true,
    "editable": true
   },
   "outputs": [
    {
     "name": "stdout",
     "output_type": "stream",
     "text": [
      "[5, 3, 4, 2] 0 0\n",
      "[5, 3, 4, 2] 1 0\n",
      "[3, 5, 4, 2] 2 1\n",
      "[3, 4, 5, 2] 3 0\n"
     ]
    }
   ],
   "source": [
    "A = [5,3,4,2]\n",
    "test.sortIntegers(A)"
   ]
  },
  {
   "cell_type": "code",
   "execution_count": 234,
   "metadata": {
    "collapsed": false,
    "deletable": true,
    "editable": true
   },
   "outputs": [
    {
     "data": {
      "text/plain": [
       "[2, 3, 4, 5]"
      ]
     },
     "execution_count": 234,
     "metadata": {},
     "output_type": "execute_result"
    }
   ],
   "source": [
    "A"
   ]
  },
  {
   "cell_type": "code",
   "execution_count": 356,
   "metadata": {
    "collapsed": false,
    "deletable": true,
    "editable": true
   },
   "outputs": [],
   "source": [
    "class Solution:\n",
    "    \"\"\"\n",
    "    @param: A: sorted integer array A which has m elements, but size of A is m+n\n",
    "    @param: m: An integer\n",
    "    @param: B: sorted integer array B which has n elements\n",
    "    @param: n: An integer\n",
    "    @return: nothing\n",
    "    \"\"\"\n",
    "    def mergeSortedArray(self, A, m, B, n):\n",
    "        # write your code here\n",
    "        \n",
    "        if (A is None) | (len(A) == 0):\n",
    "            return B\n",
    "        elif (B is None) | (len(B) == 0):\n",
    "            return A\n",
    "        \n",
    "        index_a = 0\n",
    "        index_b = 0\n",
    "        \n",
    "        while (index_a <= m - 1) & (index_b <= n - 1):\n",
    "                \n",
    "            if A[index_a] <= B[index_b]:\n",
    "                index_a += 1\n",
    "            else:\n",
    "                A.insert(index_a, B[index_b])\n",
    "                index_b += 1\n",
    "                index_a += 1\n",
    "                m += 1\n",
    "                A.remove(A[-1])\n",
    "        \n",
    "        while (index_a < m):\n",
    "            if A[index_a] is None:\n",
    "                A.remove(A[index_a])\n",
    "            index_a += 1\n",
    "            \n",
    "        while (index_b < n):\n",
    "            if B[index_b] > A[index_a-1]:\n",
    "                A.append(B[index_b])\n",
    "                index_b += 1\n",
    "                index_a -= 1"
   ]
  },
  {
   "cell_type": "code",
   "execution_count": 367,
   "metadata": {
    "collapsed": true,
    "deletable": true,
    "editable": true
   },
   "outputs": [],
   "source": [
    "class Solution:\n",
    "    \"\"\"\n",
    "    @param: A: sorted integer array A which has m elements, but size of A is m+n\n",
    "    @param: m: An integer\n",
    "    @param: B: sorted integer array B which has n elements\n",
    "    @param: n: An integer\n",
    "    @return: nothing\n",
    "    \"\"\"\n",
    "    def mergeSortedArray(self, A, m, B, n):\n",
    "        # write your code here\n",
    "        \n",
    "        if (A is None) | (len(A) == 0):\n",
    "            return B\n",
    "        elif (B is None) | (len(B) == 0):\n",
    "            return A\n",
    "        \n",
    "        for i in range(len(B)):\n",
    "            A[m+i] = B[i]\n",
    "            \n",
    "        temp = []\n",
    "        \n",
    "        leftIndex = 0\n",
    "        rightIndex = m\n",
    "        \n",
    "        while (leftIndex < m) & (rightIndex < m + n):\n",
    "            if A[leftIndex] <= A[rightIndex]:\n",
    "                temp.append(A[leftIndex])\n",
    "                leftIndex += 1\n",
    "            else:\n",
    "                temp.append(A[rightIndex])\n",
    "                rightIndex += 1\n",
    "                \n",
    "        while (leftIndex < m):\n",
    "            if (A[leftIndex] is not None):\n",
    "                temp.append(A[leftIndex])\n",
    "                leftIndex += 1\n",
    "        \n",
    "        while (rightIndex < m + n):\n",
    "            if (A[rightIndex] is not None):\n",
    "                temp.append(A[rightIndex])\n",
    "                rightIndex += 1\n",
    "            \n",
    "        A = [temp[i] for i in range(len(temp))] "
   ]
  },
  {
   "cell_type": "code",
   "execution_count": 368,
   "metadata": {
    "collapsed": true,
    "deletable": true,
    "editable": true
   },
   "outputs": [],
   "source": [
    "test = Solution()"
   ]
  },
  {
   "cell_type": "code",
   "execution_count": 369,
   "metadata": {
    "collapsed": false,
    "deletable": true,
    "editable": true
   },
   "outputs": [
    {
     "ename": "IndexError",
     "evalue": "list assignment index out of range",
     "output_type": "error",
     "traceback": [
      "\u001b[0;31m---------------------------------------------------------------------------\u001b[0m",
      "\u001b[0;31mIndexError\u001b[0m                                Traceback (most recent call last)",
      "\u001b[0;32m<ipython-input-369-7e410d1f74d5>\u001b[0m in \u001b[0;36m<module>\u001b[0;34m()\u001b[0m\n\u001b[1;32m      4\u001b[0m \u001b[0mn\u001b[0m \u001b[0;34m=\u001b[0m \u001b[0;36m2\u001b[0m\u001b[0;34m\u001b[0m\u001b[0m\n\u001b[1;32m      5\u001b[0m \u001b[0;34m\u001b[0m\u001b[0m\n\u001b[0;32m----> 6\u001b[0;31m \u001b[0mtest\u001b[0m\u001b[0;34m.\u001b[0m\u001b[0mmergeSortedArray\u001b[0m\u001b[0;34m(\u001b[0m\u001b[0mA\u001b[0m\u001b[0;34m,\u001b[0m \u001b[0mm\u001b[0m\u001b[0;34m,\u001b[0m \u001b[0mB\u001b[0m\u001b[0;34m,\u001b[0m \u001b[0mn\u001b[0m\u001b[0;34m)\u001b[0m\u001b[0;34m\u001b[0m\u001b[0m\n\u001b[0m\u001b[1;32m      7\u001b[0m \u001b[0mA\u001b[0m\u001b[0;34m\u001b[0m\u001b[0m\n",
      "\u001b[0;32m<ipython-input-367-f1eee8147ba4>\u001b[0m in \u001b[0;36mmergeSortedArray\u001b[0;34m(self, A, m, B, n)\u001b[0m\n\u001b[1;32m     16\u001b[0m \u001b[0;34m\u001b[0m\u001b[0m\n\u001b[1;32m     17\u001b[0m         \u001b[0;32mfor\u001b[0m \u001b[0mi\u001b[0m \u001b[0;32min\u001b[0m \u001b[0mrange\u001b[0m\u001b[0;34m(\u001b[0m\u001b[0mlen\u001b[0m\u001b[0;34m(\u001b[0m\u001b[0mB\u001b[0m\u001b[0;34m)\u001b[0m\u001b[0;34m)\u001b[0m\u001b[0;34m:\u001b[0m\u001b[0;34m\u001b[0m\u001b[0m\n\u001b[0;32m---> 18\u001b[0;31m             \u001b[0mA\u001b[0m\u001b[0;34m[\u001b[0m\u001b[0mm\u001b[0m\u001b[0;34m+\u001b[0m\u001b[0mi\u001b[0m\u001b[0;34m]\u001b[0m \u001b[0;34m=\u001b[0m \u001b[0mB\u001b[0m\u001b[0;34m[\u001b[0m\u001b[0mi\u001b[0m\u001b[0;34m]\u001b[0m\u001b[0;34m\u001b[0m\u001b[0m\n\u001b[0m\u001b[1;32m     19\u001b[0m \u001b[0;34m\u001b[0m\u001b[0m\n\u001b[1;32m     20\u001b[0m         \u001b[0mtemp\u001b[0m \u001b[0;34m=\u001b[0m \u001b[0;34m[\u001b[0m\u001b[0;34m]\u001b[0m\u001b[0;34m\u001b[0m\u001b[0m\n",
      "\u001b[0;31mIndexError\u001b[0m: list assignment index out of range"
     ]
    }
   ],
   "source": [
    "A = [1,3,4,6]\n",
    "B = [2,5]\n",
    "m = 4\n",
    "n = 2\n",
    "\n",
    "test.mergeSortedArray(A, m, B, n)\n",
    "A"
   ]
  },
  {
   "cell_type": "code",
   "execution_count": null,
   "metadata": {
    "collapsed": true,
    "deletable": true,
    "editable": true
   },
   "outputs": [],
   "source": [
    "# Sort integers with Quick Sort\n",
    "\n",
    "class Solution:\n",
    "    \"\"\"\n",
    "    @param A: an integer array\n",
    "    @return: nothing\n",
    "    \"\"\"\n",
    "    def sortIntegers2(self, A):\n",
    "        # write your code here\n",
    "        \n",
    "        if (A is None) | (len(A) == 0):\n",
    "            return\n",
    "        \n",
    "        self.partition(A, 0, len(A)-1)\n",
    "        \n",
    "    \n",
    "    def partition(self, A, start, end):\n",
    "        \n",
    "        if start >= end:\n",
    "            return\n",
    "        \n",
    "        left = start\n",
    "        right = end\n",
    "        \n",
    "        pivot = A[int((left + right)/2)]\n",
    "        \n",
    "        while (left <= right):\n",
    "            \n",
    "            while (left <= right) & (A[left] < pivot):\n",
    "                left += 1\n",
    "                \n",
    "            while (left <= right) & (A[right] > pivot):\n",
    "                right -= 1\n",
    "                \n",
    "            if left <= right:\n",
    "                tmp = A[left]\n",
    "                A[left] = A[right]\n",
    "                A[right] = tmp\n",
    "                left += 1\n",
    "                right -= 1\n",
    "                \n",
    "        self.partition(A, start, right)\n",
    "        self.partition(A, left, end)"
   ]
  },
  {
   "cell_type": "code",
   "execution_count": null,
   "metadata": {
    "collapsed": true,
    "deletable": true,
    "editable": true
   },
   "outputs": [],
   "source": [
    "Given an integer array, sort it in ascending order. Use quick sort, merge sort, heap sort or any O(nlogn) algorithm.\n",
    "\n",
    "Have you met this question in a real interview? Yes\n",
    "Example\n",
    "Given [3, 2, 1, 4, 5], return [1, 2, 3, 4, 5]"
   ]
  },
  {
   "cell_type": "code",
   "execution_count": 478,
   "metadata": {
    "collapsed": true,
    "deletable": true,
    "editable": true
   },
   "outputs": [],
   "source": [
    "# ==================== Quick sort ===========================\n",
    "\n",
    "# class Solution:\n",
    "#     \"\"\"\n",
    "#     @param A: an integer array\n",
    "#     @return: nothing\n",
    "#     \"\"\"\n",
    "#     def sortIntegers2(self, A):\n",
    "#         # write your code here\n",
    "        \n",
    "#         if (A is None) | (len(A)==0):\n",
    "#             return\n",
    "        \n",
    "#         self.partition(A, 0, len(A)-1)\n",
    "    \n",
    "#     def partition(self, A, start, end):\n",
    "        \n",
    "#         if start >= end:\n",
    "#             return\n",
    "        \n",
    "#         left = start\n",
    "#         right = end\n",
    "        \n",
    "#         pivot = A[int((left + right)/2)]\n",
    "        \n",
    "#         while (left <= right):\n",
    "            \n",
    "#             while (left <= right) & (A[left] < pivot):\n",
    "#                 left += 1\n",
    "#             while (left <= right) & (A[right] > pivot):\n",
    "#                 right -= 1\n",
    "            \n",
    "#             if (left <= right):\n",
    "#                 temp= A[left]\n",
    "#                 A[left] = A[right]\n",
    "#                 A[right] = temp\n",
    "#                 left += 1\n",
    "#                 right -= 1\n",
    "                \n",
    "#         self.partition(A, start, right)\n",
    "#         self.partition(A, left, end)\n",
    "\n",
    "# ==================== Merge sort ===========================\n",
    "class Solution:\n",
    "    \"\"\"\n",
    "    @param A: an integer array\n",
    "    @return: nothing\n",
    "    \"\"\"\n",
    "    def sortIntegers2(self, A):\n",
    "        # write your code here\n",
    "        \n",
    "        if (A is None) or (len(A) == 0):\n",
    "            return\n",
    "        \n",
    "        temp = list(range(len(A)))\n",
    "        self.mergeSort(A, 0, len(A)-1, temp)\n",
    "        \n",
    "    \n",
    "    def mergeSort(self, A, start, end, temp):\n",
    "        \n",
    "        if start >= end:\n",
    "            return\n",
    "        \n",
    "        mid = int((start + end)/2)\n",
    "        \n",
    "        self.mergeSort(A, start, mid, temp)\n",
    "        self.mergeSort(A, mid+1, end, temp)\n",
    "        self.merge(A, start, end, temp)\n",
    "        \n",
    "    def merge(self, A, start, end, temp):\n",
    "        \n",
    "        mid = int((start + end)/2)\n",
    "        index = start\n",
    "        leftStart = start\n",
    "        rightStart = mid + 1\n",
    "        \n",
    "        while (leftStart <= mid) & (rightStart <= end):\n",
    "            if A[leftStart] <= A[rightStart]:\n",
    "                temp[index] = A[leftStart]\n",
    "                index += 1\n",
    "                leftStart += 1\n",
    "            else:\n",
    "                temp[index] = A[rightStart]\n",
    "                index += 1\n",
    "                rightStart += 1\n",
    "                \n",
    "        while leftStart <= mid:\n",
    "            temp[index] = A[leftStart]\n",
    "            index += 1\n",
    "            leftStart += 1\n",
    "        \n",
    "        while rightStart <= end:\n",
    "            temp[index] = A[rightStart]\n",
    "            index += 1\n",
    "            rightStart += 1\n",
    "            \n",
    "        for i in range(start, end+1):\n",
    "            A[i] = temp[i]"
   ]
  },
  {
   "cell_type": "code",
   "execution_count": 479,
   "metadata": {
    "collapsed": true,
    "deletable": true,
    "editable": true
   },
   "outputs": [],
   "source": [
    "test = Solution()"
   ]
  },
  {
   "cell_type": "code",
   "execution_count": 481,
   "metadata": {
    "collapsed": false,
    "deletable": true,
    "editable": true
   },
   "outputs": [
    {
     "data": {
      "text/plain": [
       "[1, 2, 3, 4, 5]"
      ]
     },
     "execution_count": 481,
     "metadata": {},
     "output_type": "execute_result"
    }
   ],
   "source": [
    "A = [3,2,1,4,5]\n",
    "test.sortIntegers2(A)\n",
    "A"
   ]
  },
  {
   "cell_type": "markdown",
   "metadata": {
    "deletable": true,
    "editable": true
   },
   "source": [
    "Given an array with n objects colored red, white or blue, sort them so that objects of the same color are adjacent, with the colors in the order red, white and blue.\n",
    "\n",
    "Here, we will use the integers 0, 1, and 2 to represent the color red, white, and blue respectively.\n",
    "\n",
    " Notice\n",
    "\n",
    "You are not suppose to use the library's sort function for this problem. \n",
    "You should do it in-place (sort numbers in the original array).\n",
    "\n",
    "Have you met this question in a real interview? Yes\n",
    "Example\n",
    "Given [1, 0, 1, 2], sort it in-place to [0, 1, 1, 2]"
   ]
  },
  {
   "cell_type": "code",
   "execution_count": 524,
   "metadata": {
    "collapsed": true,
    "deletable": true,
    "editable": true
   },
   "outputs": [],
   "source": [
    "class Solution:\n",
    "    \"\"\"\n",
    "    @param nums: A list of integer which is 0, 1 or 2 \n",
    "    @return: nothing\n",
    "    \"\"\"\n",
    "    def sortColors(self, nums):\n",
    "        # write your code here\n",
    "        \n",
    "        if (nums is None) | (len(nums) == 0):\n",
    "            return\n",
    "        \n",
    "        start = 0\n",
    "        end = len(nums) - 1\n",
    "        \n",
    "        pivot = 1\n",
    "        \n",
    "        self.partition(nums, start, end, pivot)\n",
    "        \n",
    "        start = 0\n",
    "        end = len(nums) - 1\n",
    "        \n",
    "        pivot = 2\n",
    "        \n",
    "        self.partition(nums, start, end, pivot)\n",
    "                \n",
    "    def partition(self, nums, start, end, pivot):\n",
    "        \n",
    "        while (start <= end):\n",
    "            \n",
    "            \n",
    "            while (start <= end) & (nums[start] < pivot):\n",
    "                start += 1\n",
    "            while (start <= end) & (nums[end] >= pivot):\n",
    "                end -= 1\n",
    "            \n",
    "            if (start <= end):\n",
    "                temp = nums[end]\n",
    "                nums[end] = nums[start]\n",
    "                nums[start] = temp\n",
    "                start += 1\n",
    "                end -= 1"
   ]
  },
  {
   "cell_type": "code",
   "execution_count": 525,
   "metadata": {
    "collapsed": true,
    "deletable": true,
    "editable": true
   },
   "outputs": [],
   "source": [
    "test = Solution()"
   ]
  },
  {
   "cell_type": "code",
   "execution_count": 526,
   "metadata": {
    "collapsed": false,
    "deletable": true,
    "editable": true
   },
   "outputs": [
    {
     "data": {
      "text/plain": [
       "[0, 0, 1, 2, 2, 2]"
      ]
     },
     "execution_count": 526,
     "metadata": {},
     "output_type": "execute_result"
    }
   ],
   "source": [
    "a = [2,0,0,1,2,2]\n",
    "test.sortColors(a)\n",
    "a"
   ]
  },
  {
   "cell_type": "code",
   "execution_count": 538,
   "metadata": {
    "collapsed": true,
    "deletable": true,
    "editable": true
   },
   "outputs": [],
   "source": [
    "class Solution:\n",
    "    \"\"\"\n",
    "    @param nums: A list of integer which is 0, 1 or 2 \n",
    "    @return: nothing\n",
    "    \"\"\"\n",
    "    def sortColors(self, nums):\n",
    "        # write your code here\n",
    "        \n",
    "        if (nums is None) | (len(nums) == 0):\n",
    "            return\n",
    "        \n",
    "        pl = 0\n",
    "        pr = len(nums) - 1\n",
    "        index = 0\n",
    "        \n",
    "        while index <= pr:\n",
    "            \n",
    "            if nums[index] == 0:\n",
    "                self.swap(nums, index, pl)\n",
    "                pl += 1\n",
    "                index += 1\n",
    "            elif nums[index] == 1:\n",
    "                index += 1\n",
    "            else:\n",
    "                self.swap(nums, index, pr)\n",
    "                pr -= 1\n",
    "                \n",
    "    def swap(self, nums, index1, index2):\n",
    "        tmp = nums[index1]\n",
    "        nums[index1] = nums[index2]\n",
    "        nums[index2] = tmp"
   ]
  },
  {
   "cell_type": "code",
   "execution_count": 539,
   "metadata": {
    "collapsed": true,
    "deletable": true,
    "editable": true
   },
   "outputs": [],
   "source": [
    "test = Solution()"
   ]
  },
  {
   "cell_type": "code",
   "execution_count": 540,
   "metadata": {
    "collapsed": false,
    "deletable": true,
    "editable": true
   },
   "outputs": [
    {
     "data": {
      "text/plain": [
       "[0, 0, 0, 1, 2, 2, 2]"
      ]
     },
     "execution_count": 540,
     "metadata": {},
     "output_type": "execute_result"
    }
   ],
   "source": [
    "a = [2,0,0,1,2,0,2]\n",
    "test.sortColors(a)\n",
    "a"
   ]
  },
  {
   "cell_type": "code",
   "execution_count": 690,
   "metadata": {
    "collapsed": false,
    "deletable": true,
    "editable": true
   },
   "outputs": [],
   "source": [
    "class Solution:\n",
    "    \"\"\"\n",
    "    @param k: An integer\n",
    "    @param nums: An integer array\n",
    "    @return: kth smallest element\n",
    "    \"\"\"\n",
    "    def kthSmallest(self, k, nums):\n",
    "        # write your code here\n",
    "        \n",
    "        if (nums is None) or (len(nums) == 0):\n",
    "            return -1\n",
    "            \n",
    "        start = 0\n",
    "        end = len(nums) - 1\n",
    "        \n",
    "        self.quickSelect(nums, start, end, k)\n",
    "        \n",
    "    def quickSelect(self, nums, start, end, k):\n",
    "        \n",
    "        if start == end:\n",
    "            return nums[start]\n",
    "            \n",
    "        left = start\n",
    "        right = end\n",
    "        pivot = nums[int((left + right)/2)]\n",
    "        \n",
    "        while (left <= right):\n",
    "            \n",
    "            while (left <= right) and (nums[left] < pivot):\n",
    "                left += 1\n",
    "            while (left <= right) and (nums[right] > pivot):\n",
    "                right -= 1\n",
    "                \n",
    "            if (left <= right):\n",
    "                tmp = nums[left]\n",
    "                nums[left] = nums[right]\n",
    "                nums[right] = tmp\n",
    "                left += 1\n",
    "                right -= 1\n",
    "            \n",
    "        if (start<= k-1 <= right):\n",
    "            return self.quickSelect(nums, start, right, k)\n",
    "        if (left <= k-1 <= end):\n",
    "            return self.quickSelect(nums, left, end, k)\n",
    "            \n",
    "        return nums[right + 1]"
   ]
  },
  {
   "cell_type": "code",
   "execution_count": 691,
   "metadata": {
    "collapsed": true,
    "deletable": true,
    "editable": true
   },
   "outputs": [],
   "source": [
    "test = Solution()"
   ]
  },
  {
   "cell_type": "code",
   "execution_count": 692,
   "metadata": {
    "collapsed": false,
    "deletable": true,
    "editable": true,
    "scrolled": false
   },
   "outputs": [],
   "source": [
    "k = 3\n",
    "a= [3,4,1,2,5]\n",
    "test.kthSmallest(k, a)"
   ]
  },
  {
   "cell_type": "code",
   "execution_count": null,
   "metadata": {
    "collapsed": true,
    "deletable": true,
    "editable": true
   },
   "outputs": [],
   "source": [
    "if (nums is None) | (len(nums) == 0):\n",
    "            return 0\n",
    "        \n",
    "nums.sort()\n",
    "\n",
    "pt_slow = 0\n",
    "pt_fast = 1\n",
    "\n",
    "count = 1\n",
    "\n",
    "while (pt_fast < len(nums)):\n",
    "\n",
    "    if nums[pt_fast] != nums[pt_slow]:\n",
    "        count += 1\n",
    "\n",
    "        nums[pt_slow + 1] = nums[pt_fast]\n",
    "        pt_slow = pt_fast\n",
    "        pt_fast += 1\n",
    "\n",
    "    else:\n",
    "        pt_fast += 1\n",
    "\n",
    "return count"
   ]
  },
  {
   "cell_type": "code",
   "execution_count": 31,
   "metadata": {
    "collapsed": true,
    "deletable": true,
    "editable": true
   },
   "outputs": [],
   "source": [
    "class Solution:\n",
    "    \"\"\"\n",
    "    @param nums: The integer array you should partition\n",
    "    @param k: An integer\n",
    "    @return: The index after partition\n",
    "    \"\"\"\n",
    "    def partitionArray(self, nums, k):\n",
    "        # write your code here\n",
    "        \n",
    "        if (nums is None) or (len(nums) == 0):\n",
    "            return 0\n",
    "        \n",
    "        start = 0\n",
    "        end = len(nums) - 1\n",
    "        pivot = k\n",
    "        \n",
    "        while (start <= end):\n",
    "            \n",
    "            while (start <= end) and (nums[start] < pivot):\n",
    "                start += 1\n",
    "                \n",
    "            while (start <= end) and (nums[end] >= pivot):\n",
    "                end -= 1\n",
    "                \n",
    "            if (start <= end):\n",
    "                tmp = nums[start]\n",
    "                nums[start] = nums[end]\n",
    "                nums[end] = tmp\n",
    "                start += 1\n",
    "                end -= 1\n",
    "            \n",
    "        return start"
   ]
  },
  {
   "cell_type": "code",
   "execution_count": 32,
   "metadata": {
    "collapsed": true,
    "deletable": true,
    "editable": true
   },
   "outputs": [],
   "source": [
    "test= Solution()"
   ]
  },
  {
   "cell_type": "code",
   "execution_count": 33,
   "metadata": {
    "collapsed": false,
    "deletable": true,
    "editable": true
   },
   "outputs": [
    {
     "data": {
      "text/plain": [
       "3"
      ]
     },
     "execution_count": 33,
     "metadata": {},
     "output_type": "execute_result"
    }
   ],
   "source": [
    "a = [1,2,3,4,5,6,7]\n",
    "k = 4\n",
    "test.partitionArray(a, k)"
   ]
  },
  {
   "cell_type": "code",
   "execution_count": 68,
   "metadata": {
    "collapsed": true,
    "deletable": true,
    "editable": true
   },
   "outputs": [],
   "source": [
    "class Solution:\n",
    "    \"\"\"\n",
    "    @param nums: an array of Integer\n",
    "    @param target: target = nums[index1] + nums[index2]\n",
    "    @return: [index1 + 1, index2 + 1] (index1 < index2)\n",
    "    \"\"\"\n",
    "    def twoSum(self, nums, target):\n",
    "        # write your code here\n",
    "        \n",
    "        if (nums is None) or (len(nums) == 0):\n",
    "            return []\n",
    "            \n",
    "        pt= 0\n",
    "        \n",
    "        while (pt < len(nums)):\n",
    "            \n",
    "            if (target - nums[pt] < nums[pt]):\n",
    "                return\n",
    "            \n",
    "            loc = self.findTarget(nums[pt+1:], target - nums[pt])\n",
    "\n",
    "            if loc:\n",
    "                return [pt + 1, loc + 1]\n",
    "            else:\n",
    "                pt += 1\n",
    "        \n",
    "        return []\n",
    "    \n",
    "    def findTarget(self, array, target):\n",
    "        \n",
    "        start = 0\n",
    "        end = len(array) - 1\n",
    "        \n",
    "        print(array, target)\n",
    "\n",
    "        while (start + 1 < end):\n",
    "            \n",
    "            mid = int((start + end)/2)\n",
    "            \n",
    "            if (array[mid] > target):\n",
    "                end = mid\n",
    "            else:\n",
    "                start = mid\n",
    "        \n",
    "        if (array[start] == target):\n",
    "            return start\n",
    "        elif (array[end] == target):\n",
    "            return end\n",
    "        else:\n",
    "            return False"
   ]
  },
  {
   "cell_type": "code",
   "execution_count": 69,
   "metadata": {
    "collapsed": true,
    "deletable": true,
    "editable": true
   },
   "outputs": [],
   "source": [
    "test = Solution()"
   ]
  },
  {
   "cell_type": "code",
   "execution_count": 70,
   "metadata": {
    "collapsed": false,
    "deletable": true,
    "editable": true
   },
   "outputs": [
    {
     "name": "stdout",
     "output_type": "stream",
     "text": [
      "[0, 1] 2\n",
      "[1] 1\n"
     ]
    }
   ],
   "source": [
    "nums = [-1,0,1]\n",
    "target = 1\n",
    "test.twoSum(nums, target)"
   ]
  },
  {
   "cell_type": "code",
   "execution_count": 93,
   "metadata": {
    "collapsed": true,
    "deletable": true,
    "editable": true
   },
   "outputs": [],
   "source": [
    "class Solution:\n",
    "    \"\"\"\n",
    "    @param numbers: Give an array numbers of n integer\n",
    "    @return: Find all unique triplets in the array which gives the sum of zero.\n",
    "    \"\"\"\n",
    "    def threeSum(self, numbers):\n",
    "        # write your code here\n",
    "        \n",
    "        if (numbers is None) or (len(numbers) == 0):\n",
    "            return []\n",
    "            \n",
    "        numbers.sort()\n",
    "        \n",
    "        results = []\n",
    "\n",
    "        for pt1 in range(len(numbers) - 2):\n",
    "            \n",
    "            target = -1 * numbers[pt1]\n",
    "            \n",
    "            num2 = self.twoSum(numbers[pt1+1:], target)\n",
    "\n",
    "            if num2 != []:\n",
    "                for i in range(len(num2)):\n",
    "                    results.append([numbers[pt1], num2[i][0], num2[i][1]])\n",
    "                    \n",
    "        return results\n",
    "        \n",
    "    def twoSum(self, array, target):\n",
    "        \n",
    "        results = []\n",
    "        left = 0\n",
    "        right = len(array) - 1\n",
    "        \n",
    "        while (left < right):\n",
    "            \n",
    "            if array[left] + array[right] < target:\n",
    "                left += 1\n",
    "            elif array[left] + array[right] > target:\n",
    "                right -= 1\n",
    "            else:\n",
    "                results.append([array[left], array[right]])\n",
    "                left += 1\n",
    "                right -= 1\n",
    "        \n",
    "        return results"
   ]
  },
  {
   "cell_type": "code",
   "execution_count": 94,
   "metadata": {
    "collapsed": true,
    "deletable": true,
    "editable": true
   },
   "outputs": [],
   "source": [
    "test = Solution()"
   ]
  },
  {
   "cell_type": "code",
   "execution_count": 95,
   "metadata": {
    "collapsed": false,
    "deletable": true,
    "editable": true
   },
   "outputs": [
    {
     "data": {
      "text/plain": [
       "[[-1, 0, 1]]"
      ]
     },
     "execution_count": 95,
     "metadata": {},
     "output_type": "execute_result"
    }
   ],
   "source": [
    "a = [1,-1,0]\n",
    "test.threeSum(a)"
   ]
  },
  {
   "cell_type": "code",
   "execution_count": 189,
   "metadata": {
    "collapsed": false,
    "deletable": true,
    "editable": true
   },
   "outputs": [],
   "source": [
    "class Solution:\n",
    "    \"\"\"\n",
    "    @param colors: A list of integer\n",
    "    @param k: An integer\n",
    "    @return: nothing\n",
    "    \"\"\"\n",
    "    def sortColors2(self, colors, k):\n",
    "        # write your code here\n",
    "        \n",
    "        if (colors is None) or (len(colors) == 0):\n",
    "            return []\n",
    "            \n",
    "        pt_s = 0\n",
    "\n",
    "        for i in range(k-1):\n",
    "            pt_f = pt_s + 1\n",
    "            while (pt_f < len(colors)):\n",
    "\n",
    "                while (pt_s< len(colors)) & (colors[pt_s] == i+1):\n",
    "                    pt_s += 1\n",
    "                    \n",
    "                pt_f = pt_s + 1\n",
    "\n",
    "                while (pt_f + 1 < len(colors)) & (colors[pt_f] != i+1):\n",
    "                    pt_f += 1\n",
    "\n",
    "                if colors[pt_f] == i+1:\n",
    "                    self.swap(colors, pt_s, pt_f)\n",
    "                    pt_s += 1\n",
    "                    pt_f += 1\n",
    "                else:\n",
    "                    pt_f += 1\n",
    "                \n",
    "        return colors\n",
    "        \n",
    "    def swap(self, colors, pt_s, pt_f):\n",
    "        \n",
    "        tmp = colors[pt_s]\n",
    "        colors[pt_s] = colors[pt_f]\n",
    "        colors[pt_f] = tmp"
   ]
  },
  {
   "cell_type": "code",
   "execution_count": 190,
   "metadata": {
    "collapsed": true,
    "deletable": true,
    "editable": true
   },
   "outputs": [],
   "source": [
    "test = Solution()"
   ]
  },
  {
   "cell_type": "code",
   "execution_count": 191,
   "metadata": {
    "collapsed": false,
    "deletable": true,
    "editable": true
   },
   "outputs": [
    {
     "name": "stdout",
     "output_type": "stream",
     "text": [
      "[1, 2, 2, 3, 4] 1\n",
      "[1, 2, 2, 3, 4] 3\n",
      "[1, 2, 2, 3, 4] 3\n"
     ]
    },
    {
     "data": {
      "text/plain": [
       "[1, 2, 2, 3, 4]"
      ]
     },
     "execution_count": 191,
     "metadata": {},
     "output_type": "execute_result"
    }
   ],
   "source": [
    "a = [3,2,2,1,4]\n",
    "test.sortColors2(a, 4)"
   ]
  },
  {
   "cell_type": "code",
   "execution_count": 206,
   "metadata": {
    "collapsed": true,
    "deletable": true,
    "editable": true
   },
   "outputs": [],
   "source": [
    "class Solution:\n",
    "    \"\"\"\n",
    "    @param colors: A list of integer\n",
    "    @param k: An integer\n",
    "    @return: nothing\n",
    "    \"\"\"\n",
    "    def sortColors2(self, colors):\n",
    "        # write your code here\n",
    "        \n",
    "        if (colors is None) or (len(colors) == 0):\n",
    "            return []\n",
    "            \n",
    "        return self.quickSort(colors, 0, len(colors) - 1)\n",
    "        \n",
    "    def quickSort(self, colors, start, end):\n",
    "        \n",
    "        if start >= end:\n",
    "            return\n",
    "        \n",
    "        left = start\n",
    "        right = end\n",
    "        pivot = colors[int((left + right)/2)]\n",
    "        \n",
    "        while (left <= right):\n",
    "            \n",
    "            while (left <= right) & (colors[left] < pivot):\n",
    "                left += 1\n",
    "                \n",
    "            while (left <= right) & (colors[right] > pivot):\n",
    "                right -= 1\n",
    "                \n",
    "            if (left <= right):\n",
    "                tmp = colors[left]\n",
    "                colors[left] = colors[right]\n",
    "                colors[right] = tmp\n",
    "                left += 1\n",
    "                right -= 1\n",
    "                \n",
    "        self.quickSort(colors, start, right)\n",
    "        self.quickSort(colors, left, end)"
   ]
  },
  {
   "cell_type": "code",
   "execution_count": 239,
   "metadata": {
    "collapsed": false,
    "deletable": true,
    "editable": true
   },
   "outputs": [],
   "source": [
    "class Solution:\n",
    "    \"\"\"\n",
    "    @param colors: A list of integer\n",
    "    @param k: An integer\n",
    "    @return: nothing\n",
    "    \"\"\"\n",
    "    def sortColors2(self, colors, k):\n",
    "        # write your code here\n",
    "        \n",
    "        if (colors is None) or (len(colors) == 0):\n",
    "            return\n",
    "            \n",
    "        start = 0\n",
    "        end = len(colors) - 1\n",
    "        output = list(range(len(colors)))\n",
    "        \n",
    "        self.mergeSort(colors, start, end, output)\n",
    "\n",
    "    def mergeSort(self, colors, start, end, output):\n",
    "        \n",
    "        if start >= end:\n",
    "            return\n",
    "        \n",
    "        mid = int((start + end)/2)\n",
    "        \n",
    "        self.mergeSort(colors, start, mid, output)\n",
    "        self.mergeSort(colors, mid + 1, end, output)\n",
    "        self.merge(colors, start, end, output)\n",
    "        \n",
    "    def merge(self, colors, start, end, output):\n",
    "        print(colors)\n",
    "        index = start\n",
    "        mid = int((start + end)/2)\n",
    "        leftStart = start\n",
    "        rightStart = mid + 1\n",
    "        \n",
    "        while (leftStart <= mid) & (rightStart <= end):\n",
    "            \n",
    "            if (colors[leftStart] <= colors[rightStart]):\n",
    "                output[index] = colors[leftStart]\n",
    "                index += 1\n",
    "                leftStart += 1\n",
    "            else:\n",
    "                output[index] = colors[rightStart]\n",
    "                rightStart += 1\n",
    "                index += 1\n",
    "                \n",
    "        while (leftStart <= mid):\n",
    "            output[index] = colors[leftStart]\n",
    "            index += 1\n",
    "            leftStart += 1\n",
    "        \n",
    "        while (rightStart <= end):\n",
    "            output[index] = colors[rightStart]\n",
    "            index += 1\n",
    "            rightStart += 1\n",
    "        \n",
    "        for i in range(start, end + 1):\n",
    "            colors[i] = output[i]"
   ]
  },
  {
   "cell_type": "code",
   "execution_count": 240,
   "metadata": {
    "collapsed": true,
    "deletable": true,
    "editable": true
   },
   "outputs": [],
   "source": [
    "test = Solution()"
   ]
  },
  {
   "cell_type": "code",
   "execution_count": 241,
   "metadata": {
    "collapsed": false,
    "deletable": true,
    "editable": true
   },
   "outputs": [
    {
     "name": "stdout",
     "output_type": "stream",
     "text": [
      "[3, 2, 2, 1, 4]\n",
      "[2, 3, 2, 1, 4]\n",
      "[2, 3, 2, 1, 4]\n",
      "[2, 2, 3, 1, 4]\n",
      "[2, 2, 3, 1, 4]\n",
      "[2, 2, 3, 1, 4]\n",
      "[2, 2, 3, 1, 4]\n",
      "[1, 2, 2, 3, 4]\n"
     ]
    }
   ],
   "source": [
    "a = [3,2,2,1,4]\n",
    "test.sortColors2(a, 4)"
   ]
  },
  {
   "cell_type": "code",
   "execution_count": 248,
   "metadata": {
    "collapsed": false,
    "deletable": true,
    "editable": true
   },
   "outputs": [],
   "source": [
    "\"\"\"\n",
    "Definition of ListNode\n",
    "class ListNode(object):\n",
    "\n",
    "    def __init__(self, val, next=None):\n",
    "        self.val = val\n",
    "        self.next = next\n",
    "\"\"\"\n",
    "\n",
    "class Solution:\n",
    "    \"\"\"\n",
    "    @param: head: the head of linked list.\n",
    "    @return: a middle node of the linked list\n",
    "    \"\"\"\n",
    "    def middleNode(self, head):\n",
    "        # write your code here\n",
    "        \n",
    "        if (head is None):\n",
    "            return \n",
    "        \n",
    "        pt_slow = head\n",
    "        pt_fast = head.next\n",
    "        \n",
    "        while (pt_fast != None) & (pt_fast.next != None):\n",
    "            print(pt_fast.next)\n",
    "            pt_slow = pt_slow.next\n",
    "            pt_fast = pt_fast.next.next\n",
    "            \n",
    "        return pt_slow"
   ]
  },
  {
   "cell_type": "code",
   "execution_count": 250,
   "metadata": {
    "collapsed": true,
    "deletable": true,
    "editable": true
   },
   "outputs": [],
   "source": [
    "test = Solution()"
   ]
  },
  {
   "cell_type": "code",
   "execution_count": 251,
   "metadata": {
    "collapsed": false,
    "deletable": true,
    "editable": true
   },
   "outputs": [
    {
     "ename": "SyntaxError",
     "evalue": "invalid syntax (<ipython-input-251-6d7571f88834>, line 1)",
     "output_type": "error",
     "traceback": [
      "\u001b[0;36m  File \u001b[0;32m\"<ipython-input-251-6d7571f88834>\"\u001b[0;36m, line \u001b[0;32m1\u001b[0m\n\u001b[0;31m    a = 1->2->3->null\u001b[0m\n\u001b[0m          ^\u001b[0m\n\u001b[0;31mSyntaxError\u001b[0m\u001b[0;31m:\u001b[0m invalid syntax\n"
     ]
    }
   ],
   "source": [
    "a = 1->2->3->null\n",
    "test.middleNode(a)"
   ]
  },
  {
   "cell_type": "code",
   "execution_count": null,
   "metadata": {
    "collapsed": true,
    "deletable": true,
    "editable": true
   },
   "outputs": [],
   "source": [
    "root = node\n",
    "        if node is None:\n",
    "            return node\n",
    "            \n",
    "        # use bfs algorithm to traverse the graph and get all nodes.\n",
    "        nodes = self.getNodes(node)\n",
    "        \n",
    "        # copy nodes, store the old->new mapping information in a hash map\n",
    "        mapping = {}\n",
    "        for node in nodes:\n",
    "            mapping[node] = UndirectedGraphNode(node.label)\n",
    "        \n",
    "        # copy neighbors(edges)\n",
    "        for node in nodes:\n",
    "            new_node = mapping[node]\n",
    "            for neighbor in node.neighbors:\n",
    "                new_neighbor = mapping[neighbor]\n",
    "                new_node.neighbors.append(new_neighbor)\n",
    "        \n",
    "        return mapping[root]\n",
    "        \n",
    "    def getNodes(self, node):\n",
    "        q = collections.deque([node])\n",
    "        result = set([node])\n",
    "        while q:\n",
    "            head = q.popleft()\n",
    "            for neighbor in head.neighbors:\n",
    "                if neighbor not in result:\n",
    "                    result.add(neighbor)\n",
    "                    q.append(neighbor)\n",
    "        return result"
   ]
  }
 ],
 "metadata": {
  "kernelspec": {
   "display_name": "Python 3",
   "language": "python",
   "name": "python3"
  },
  "language_info": {
   "codemirror_mode": {
    "name": "ipython",
    "version": 3
   },
   "file_extension": ".py",
   "mimetype": "text/x-python",
   "name": "python",
   "nbconvert_exporter": "python",
   "pygments_lexer": "ipython3",
   "version": "3.5.2"
  }
 },
 "nbformat": 4,
 "nbformat_minor": 2
}
